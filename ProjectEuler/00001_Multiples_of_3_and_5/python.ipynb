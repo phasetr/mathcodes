{
 "cells": [
  {
   "cell_type": "markdown",
   "metadata": {},
   "source": [
    "# Multiples of 3 and 5\n",
    "- [Project Euler](https://projecteuler.net/problem=1)"
   ]
  },
  {
   "cell_type": "markdown",
   "metadata": {},
   "source": [
    "## バージョン確認"
   ]
  },
  {
   "cell_type": "code",
   "execution_count": 1,
   "metadata": {},
   "outputs": [
    {
     "name": "stdout",
     "output_type": "stream",
     "text": [
      "3.8.3 (tags/v3.8.3:6f8c832, May 13 2020, 22:37:02) [MSC v.1924 64 bit (AMD64)]\n"
     ]
    }
   ],
   "source": [
    "import sys\n",
    "print(sys.version)"
   ]
  },
  {
   "cell_type": "markdown",
   "metadata": {},
   "source": [
    "## Problem 1\n",
    "If we list all the natural numbers below 10 that are multiples of 3 or 5, we get 3, 5, 6 and 9. The sum of these multiples is 23.\n",
    "Find the sum of all the multiples of 3 or 5 below 1000.\n",
    "\n",
    "> 1000 未満の 3 と 5 の倍数のすべての和を計算せよ。"
   ]
  },
  {
   "cell_type": "markdown",
   "metadata": {},
   "source": [
    "## 方針またはプログラミング基礎"
   ]
  },
  {
   "cell_type": "markdown",
   "metadata": {},
   "source": [
    "### 方針1\n",
    "まずは1000未満の3の倍数と5の倍数を全部作ってみる。ただ、1000だと結果が見づらいので、`n=30`くらいにして見やすくする。"
   ]
  },
  {
   "cell_type": "code",
   "execution_count": 2,
   "metadata": {},
   "outputs": [],
   "source": [
    "# 本来の値\n",
    "N = 1000\n",
    "# 確認用の数値\n",
    "n = 30"
   ]
  },
  {
   "cell_type": "markdown",
   "metadata": {},
   "source": [
    "#### range(n)\n",
    "これで`n`未満の数をリストアップできる。\n",
    "色々な都合によって`list`をつけて内容が確認できるようにしてある。"
   ]
  },
  {
   "cell_type": "code",
   "execution_count": 3,
   "metadata": {},
   "outputs": [
    {
     "name": "stdout",
     "output_type": "stream",
     "text": [
      "[0, 1, 2, 3, 4, 5, 6, 7, 8, 9, 10, 11, 12, 13, 14, 15, 16, 17, 18, 19, 20, 21, 22, 23, 24, 25, 26, 27, 28, 29]\n"
     ]
    }
   ],
   "source": [
    "print(list(range(n)))"
   ]
  },
  {
   "cell_type": "markdown",
   "metadata": {},
   "source": [
    "これをうまくフィルタリングして3の倍数だけ取ってくるようにしよう。\n",
    "具体的には「3で割って余りが0」の数を取ってくればいい。\n",
    "余りは`%`で計算できる。\n",
    "\n",
    "まずは（プログラミング初心者から見ておそらく）自然な方法、つまり空リストを準備して、それに値を詰めていく形でリストを作ろう。\n",
    "「フィルタリング」という感じでリストを作る方法はあとで説明する。"
   ]
  },
  {
   "cell_type": "code",
   "execution_count": 4,
   "metadata": {
    "scrolled": true
   },
   "outputs": [
    {
     "name": "stdout",
     "output_type": "stream",
     "text": [
      "[0, 3, 6, 9, 12, 15, 18, 21, 24, 27]\n"
     ]
    }
   ],
   "source": [
    "n = 30\n",
    "threes = []\n",
    "for i in range(n):\n",
    "    if i % 3 == 0:\n",
    "        threes.append(i)\n",
    "\n",
    "print(threes)"
   ]
  },
  {
   "cell_type": "markdown",
   "metadata": {},
   "source": [
    "これで確かに`n=30`未満の3の倍数のリストが作れた。\n",
    "同じことを5の倍数に対してやってみよう。"
   ]
  },
  {
   "cell_type": "code",
   "execution_count": 5,
   "metadata": {},
   "outputs": [
    {
     "name": "stdout",
     "output_type": "stream",
     "text": [
      "[0, 5, 10, 15, 20, 25]\n"
     ]
    }
   ],
   "source": [
    "fives = []\n",
    "for i in range(n):\n",
    "    if i % 5 == 0:\n",
    "        fives.append(i)\n",
    "\n",
    "print(fives)"
   ]
  },
  {
   "cell_type": "markdown",
   "metadata": {},
   "source": [
    "このふたつのリストには重複がある。\n",
    "具体的には15の倍数が重複する。\n",
    "何らかの方法でこの重複を処理したい。\n",
    "\n",
    "方法はいくつかある。\n",
    "最終的には効率・速度も考えないといけないが、ここではそこまでは要求しない。\n",
    "\n",
    "一番簡単なのはリストを一気に作る方法か？\n",
    "フィルタリングする`if`の部分を「3で割り切れるか、5で割り切れるか」という形に書き換えればいい。\n",
    "Pythonは`or`があって、これで並べればまさにorで両方取れる。"
   ]
  },
  {
   "cell_type": "code",
   "execution_count": 6,
   "metadata": {},
   "outputs": [
    {
     "name": "stdout",
     "output_type": "stream",
     "text": [
      "[0, 3, 5, 6, 9, 10, 12, 15, 18, 20, 21, 24, 25, 27]\n"
     ]
    }
   ],
   "source": [
    "numbers = []\n",
    "for i in range(n):\n",
    "    if i % 3 == 0 or i % 5 == 0:\n",
    "        numbers.append(i)\n",
    "print(numbers)"
   ]
  },
  {
   "cell_type": "markdown",
   "metadata": {},
   "source": [
    "あとは和を取る。\n",
    "リストの和を取る関数`sum`があるから素直にそれを使えばいい。"
   ]
  },
  {
   "cell_type": "code",
   "execution_count": 7,
   "metadata": {},
   "outputs": [
    {
     "data": {
      "text/plain": [
       "195"
      ]
     },
     "execution_count": 7,
     "metadata": {},
     "output_type": "execute_result"
    }
   ],
   "source": [
    "numbers = []\n",
    "for i in range(n):\n",
    "    if i % 3 == 0 or i % 5 == 0:\n",
    "        numbers.append(i)\n",
    "sum(numbers)"
   ]
  },
  {
   "cell_type": "markdown",
   "metadata": {},
   "source": [
    "`n`を`N`に変えて計算してみよう。"
   ]
  },
  {
   "cell_type": "code",
   "execution_count": 8,
   "metadata": {},
   "outputs": [
    {
     "data": {
      "text/plain": [
       "233168"
      ]
     },
     "execution_count": 8,
     "metadata": {},
     "output_type": "execute_result"
    }
   ],
   "source": [
    "numbers = []\n",
    "for i in range(N):\n",
    "    if i % 3 == 0 or i % 5 == 0:\n",
    "        numbers.append(i)\n",
    "sum(numbers)"
   ]
  },
  {
   "cell_type": "markdown",
   "metadata": {},
   "source": [
    "これで確かに解答が得られた。\n",
    "[解答1](#解答1)として別途まとめておこう。"
   ]
  },
  {
   "cell_type": "markdown",
   "metadata": {},
   "source": [
    "### 方針2\n",
    "引き続き効率やスピード度外視で考えよう。\n",
    "今度はリストではなく集合で作ってみる。\n",
    "\n",
    "まずは3の倍数から。"
   ]
  },
  {
   "cell_type": "code",
   "execution_count": 9,
   "metadata": {},
   "outputs": [
    {
     "name": "stdout",
     "output_type": "stream",
     "text": [
      "{0, 3, 6, 9, 12, 15, 18, 21, 24, 27}\n"
     ]
    }
   ],
   "source": [
    "threes = set()\n",
    "for i in range(n):\n",
    "    if i % 3 == 0:\n",
    "        threes.add(i)\n",
    "print(threes)"
   ]
  },
  {
   "cell_type": "markdown",
   "metadata": {},
   "source": [
    "変わったのは`threes = []`ではなく`set()`とした部分。\n",
    "5の倍数も同じ。"
   ]
  },
  {
   "cell_type": "code",
   "execution_count": 10,
   "metadata": {},
   "outputs": [
    {
     "name": "stdout",
     "output_type": "stream",
     "text": [
      "{0, 5, 10, 15, 20, 25}\n"
     ]
    }
   ],
   "source": [
    "fives = set()\n",
    "for i in range(n):\n",
    "    if i % 5 == 0:\n",
    "        fives.add(i)\n",
    "print(fives)"
   ]
  },
  {
   "cell_type": "markdown",
   "metadata": {},
   "source": [
    "わざと同じ流れにしたが、はじめからリストの時と同じように`if i % 3 ==0 or i % 5 == 0`で作ってもいい。\n",
    "あえて同じ流れにしたのは集合には便利な演算がありそれを紹介するため。\n",
    "このデータ構造は重複があると勝手に重複を一意化してくれる。\n",
    "\n",
    "特に和集合を作る演算があるので、それでリストの時と同じく、必要なすべての数をリストアップした`numbers`を作ってみよう。\n",
    "具体的には関数`union`か`|`演算子で和集合が作れる。"
   ]
  },
  {
   "cell_type": "code",
   "execution_count": 11,
   "metadata": {},
   "outputs": [
    {
     "name": "stdout",
     "output_type": "stream",
     "text": [
      "{0, 3, 5, 6, 9, 10, 12, 15, 18, 20, 21, 24, 25, 27}\n"
     ]
    }
   ],
   "source": [
    "numbers = threes | fives\n",
    "print(numbers)"
   ]
  },
  {
   "cell_type": "code",
   "execution_count": 12,
   "metadata": {},
   "outputs": [
    {
     "data": {
      "text/plain": [
       "195"
      ]
     },
     "execution_count": 12,
     "metadata": {},
     "output_type": "execute_result"
    }
   ],
   "source": [
    "sum(numbers)"
   ]
  },
  {
   "cell_type": "markdown",
   "metadata": {},
   "source": [
    "`n`の時の値は配列版と一致した。\n",
    "`N`に変えれば正しい値が出るだろう。\n",
    "まとめて[解答2](#解答2)にしておこう。"
   ]
  },
  {
   "cell_type": "markdown",
   "metadata": {},
   "source": [
    "## コードの単純化\n",
    "アルゴリズムのレベルで他にもやりようはあるだろう。\n",
    "ただパッと思いつかないので、とりあえずここではいくつかコードを簡素化してみる。\n",
    "いったん全てリストで対応する。"
   ]
  },
  {
   "cell_type": "markdown",
   "metadata": {},
   "source": [
    "### リスト内包表記\n",
    "読みやすいかどうかといった問題もあるが、一般にPythonは`for`で書くよりもリスト内包表記で書く方が速くメモリ効率もいいとされているようなので、リスト内包表記を使ってみよう。\n",
    "\n",
    "まずは比較用にもともとの`for`で作ったリストを準備する。"
   ]
  },
  {
   "cell_type": "code",
   "execution_count": 13,
   "metadata": {},
   "outputs": [
    {
     "name": "stdout",
     "output_type": "stream",
     "text": [
      "[0, 3, 6, 9, 12, 15, 18, 21, 24, 27]\n"
     ]
    }
   ],
   "source": [
    "threes1 = []\n",
    "for i in range(n):\n",
    "    if i % 3 == 0:\n",
    "        threes1.append(i)\n",
    "print(threes1)"
   ]
  },
  {
   "cell_type": "code",
   "execution_count": 14,
   "metadata": {},
   "outputs": [
    {
     "name": "stdout",
     "output_type": "stream",
     "text": [
      "True\n"
     ]
    }
   ],
   "source": [
    "threes2 = [i for i in range (n) if i % 3 == 0]\n",
    "print(threes1 == threes2)"
   ]
  },
  {
   "cell_type": "markdown",
   "metadata": {},
   "source": [
    "`for`で書くと4行だったのが1行になった。\n",
    "慣れていないと読みづらいのは間違いない。\n",
    "あと`for`の中身が長いとそもそも書けたものではない。"
   ]
  },
  {
   "cell_type": "code",
   "execution_count": 15,
   "metadata": {},
   "outputs": [
    {
     "data": {
      "text/plain": [
       "195"
      ]
     },
     "execution_count": 15,
     "metadata": {},
     "output_type": "execute_result"
    }
   ],
   "source": [
    "numbers = [i for i in range(n) if i % 3 == 0 or i % 5 == 0]\n",
    "sum(numbers)"
   ]
  },
  {
   "cell_type": "markdown",
   "metadata": {},
   "source": [
    "本来の答え（リストの和）が欲しいだけならもっと短く書ける。"
   ]
  },
  {
   "cell_type": "code",
   "execution_count": 16,
   "metadata": {},
   "outputs": [
    {
     "data": {
      "text/plain": [
       "195"
      ]
     },
     "execution_count": 16,
     "metadata": {},
     "output_type": "execute_result"
    }
   ],
   "source": [
    "sum([i for i in range(n) if i % 3 == 0 or i % 5 == 0])"
   ]
  },
  {
   "cell_type": "markdown",
   "metadata": {},
   "source": [
    "### 高階関数\n",
    "例えば`filter`を使ってみよう。\n",
    "`filter`は第一引数が関数で、第二引数に「リスト」を取る関数で、第一引数の関数の真偽に応じてリストの要素をふるいにかける（フィルターする）。\n",
    "\n",
    "よくわからなければ具体的に挙動を見るのが早い。\n",
    "例を作って確認しよう。"
   ]
  },
  {
   "cell_type": "code",
   "execution_count": 17,
   "metadata": {},
   "outputs": [
    {
     "name": "stdout",
     "output_type": "stream",
     "text": [
      "[0, 1, 2, 3, 4]\n"
     ]
    }
   ],
   "source": [
    "def lt5(x):\n",
    "    return x < 5\n",
    "\n",
    "below1000 = range(N)\n",
    "lessthan5 = filter(lt5, below1000)\n",
    "print(list(lessthan5))"
   ]
  },
  {
   "cell_type": "markdown",
   "metadata": {},
   "source": [
    "`lt5`は less than 5 の頭文字で、5より小さい数に対して`True`を返す。\n",
    "そして`filter`には`True`を返してほしい関数と対象リストを渡している。\n",
    "\n",
    "長い関数ならともかく、関数本体が短い場合、いちいち関数を定義するのが面倒な場合がある。\n",
    "そういうときはラムダを使うといい。\n",
    "これも例を見た方が早い。"
   ]
  },
  {
   "cell_type": "code",
   "execution_count": 18,
   "metadata": {},
   "outputs": [
    {
     "name": "stdout",
     "output_type": "stream",
     "text": [
      "[0, 1, 2, 3, 4]\n"
     ]
    }
   ],
   "source": [
    "below1000 = range(N)\n",
    "lessthan5 = filter(lambda x: x < 5, below1000)\n",
    "print(list(lessthan5))"
   ]
  },
  {
   "cell_type": "markdown",
   "metadata": {},
   "source": [
    "これを使って解答を作ってみよう。"
   ]
  },
  {
   "cell_type": "code",
   "execution_count": 19,
   "metadata": {},
   "outputs": [
    {
     "data": {
      "text/plain": [
       "233168"
      ]
     },
     "execution_count": 19,
     "metadata": {},
     "output_type": "execute_result"
    }
   ],
   "source": [
    "all = range(N)\n",
    "numbers = filter(lambda x: x % 3 == 0 or x % 5 == 0, all)\n",
    "sum(numbers)"
   ]
  },
  {
   "cell_type": "markdown",
   "metadata": {},
   "source": [
    "このくらいのコードなら、次のようにもっとシンプルにしてもいいだろう。"
   ]
  },
  {
   "cell_type": "code",
   "execution_count": 20,
   "metadata": {},
   "outputs": [
    {
     "data": {
      "text/plain": [
       "233168"
      ]
     },
     "execution_count": 20,
     "metadata": {},
     "output_type": "execute_result"
    }
   ],
   "source": [
    "sum(filter(lambda x: x % 3 == 0 or x % 5 == 0, range(N)))"
   ]
  },
  {
   "cell_type": "markdown",
   "metadata": {},
   "source": [
    "## 解答"
   ]
  },
  {
   "cell_type": "markdown",
   "metadata": {},
   "source": [
    "### 解答1"
   ]
  },
  {
   "cell_type": "code",
   "execution_count": 21,
   "metadata": {},
   "outputs": [
    {
     "data": {
      "text/plain": [
       "233168"
      ]
     },
     "execution_count": 21,
     "metadata": {},
     "output_type": "execute_result"
    }
   ],
   "source": [
    "numbers = []\n",
    "for i in range(N):\n",
    "    if i % 3 == 0 or i % 5 == 0:\n",
    "        numbers.append(i)\n",
    "sum(numbers)"
   ]
  },
  {
   "cell_type": "markdown",
   "metadata": {},
   "source": [
    "### 解答2"
   ]
  },
  {
   "cell_type": "code",
   "execution_count": 22,
   "metadata": {},
   "outputs": [
    {
     "data": {
      "text/plain": [
       "233168"
      ]
     },
     "execution_count": 22,
     "metadata": {},
     "output_type": "execute_result"
    }
   ],
   "source": [
    "threes = set()\n",
    "for i in range(N):\n",
    "    if i % 3 == 0:\n",
    "        threes.add(i)\n",
    "\n",
    "fives = set()\n",
    "for i in range(N):\n",
    "    if i % 5 == 0:\n",
    "        fives.add(i)\n",
    "\n",
    "numbers = threes | fives\n",
    "sum(numbers)"
   ]
  },
  {
   "cell_type": "markdown",
   "metadata": {},
   "source": [
    "### 解答3"
   ]
  },
  {
   "cell_type": "code",
   "execution_count": 23,
   "metadata": {},
   "outputs": [
    {
     "data": {
      "text/plain": [
       "233168"
      ]
     },
     "execution_count": 23,
     "metadata": {},
     "output_type": "execute_result"
    }
   ],
   "source": [
    "sum([i for i in range(N) if i % 3 == 0 or i % 5 == 0])"
   ]
  },
  {
   "cell_type": "markdown",
   "metadata": {},
   "source": [
    "### 解答4"
   ]
  },
  {
   "cell_type": "code",
   "execution_count": 24,
   "metadata": {},
   "outputs": [
    {
     "data": {
      "text/plain": [
       "233168"
      ]
     },
     "execution_count": 24,
     "metadata": {},
     "output_type": "execute_result"
    }
   ],
   "source": [
    "sum(filter(lambda x: x % 3 == 0 or x % 5 == 0, range(N)))"
   ]
  }
 ],
 "metadata": {
  "jupytext": {
   "formats": "ipynb,md"
  },
  "kernelspec": {
   "display_name": "Python 3",
   "language": "python",
   "name": "python3"
  },
  "language_info": {
   "codemirror_mode": {
    "name": "ipython",
    "version": 3
   },
   "file_extension": ".py",
   "mimetype": "text/x-python",
   "name": "python",
   "nbconvert_exporter": "python",
   "pygments_lexer": "ipython3",
   "version": "3.8.3"
  }
 },
 "nbformat": 4,
 "nbformat_minor": 4
}
