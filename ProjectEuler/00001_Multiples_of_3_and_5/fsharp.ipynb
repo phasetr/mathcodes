{
 "cells": [
  {
   "cell_type": "markdown",
   "metadata": {},
   "source": [
    "# Multiples of 3 and 5\n",
    "- [Project Euler](https://projecteuler.net/problem=1)"
   ]
  },
  {
   "cell_type": "markdown",
   "metadata": {},
   "source": [
    "## TODO バージョン情報\n",
    "Juliaの`versioninfo()`のような関数を探している。"
   ]
  },
  {
   "cell_type": "markdown",
   "metadata": {},
   "source": [
    "## Problem 1\n",
    "If we list all the natural numbers below 10 that are multiples of 3 or 5, we get 3, 5, 6 and 9. The sum of these multiples is 23.\n",
    "Find the sum of all the multiples of 3 or 5 below 1000.\n",
    "\n",
    "> 1000 未満の 3 と 5 の倍数のすべての和を計算せよ。"
   ]
  },
  {
   "cell_type": "markdown",
   "metadata": {},
   "source": [
    "## 方針またはプログラミング基礎\n",
    "凝ったことをしていないのでPythonとほとんど同じように考えられる。\n",
    "もちろん構文は大きく変わる。\n",
    "\n",
    "F#をはじめとした、いわゆる関数型言語でははじめから高階関数をバリバリ使う。\n",
    "PythonやJuliaでも既に紹介しているから、ここではその前提で進めよう。\n",
    "ついでにパイプラインもバリバリ使う。\n",
    "（私には）楽しい。\n",
    "\n",
    "### 方針1\n",
    "まずは1000未満の3の倍数と5の倍数を全部作ってみよう。ただ、1000だと結果が見づらいので、`n=30`くらいにして見やすくする。"
   ]
  },
  {
   "cell_type": "code",
   "execution_count": 1,
   "metadata": {},
   "outputs": [],
   "source": [
    "// 本来の値\n",
    "let N = 999"
   ]
  },
  {
   "cell_type": "markdown",
   "metadata": {},
   "source": [
    "まず配列を`[| 1 .. n |]`で作っておき、それに`filter`をかけるのがF#での普通の作り方だろう。\n",
    "\n",
    "`filter`の中であまりを見るとき、PythonやJuliaのように`==`でチェックするのではなく、`= 0`でチェックしているのに注意する。"
   ]
  },
  {
   "cell_type": "code",
   "execution_count": 2,
   "metadata": {},
   "outputs": [
    {
     "name": "stdout",
     "output_type": "stream",
     "text": [
      "[|3; 6; 9; 12; 15; 18; 21; 24; 27; 30|]\n"
     ]
    },
    {
     "data": {
      "text/html": [
       "<null>"
      ]
     },
     "execution_count": 2,
     "metadata": {},
     "output_type": "execute_result"
    }
   ],
   "source": [
    "let n = 30\n",
    "let threes = [| 1 .. n |] |> Array.filter (fun x -> x % 3 = 0)\n",
    "threes |> printfn \"%A\""
   ]
  },
  {
   "cell_type": "code",
   "execution_count": 3,
   "metadata": {},
   "outputs": [
    {
     "name": "stdout",
     "output_type": "stream",
     "text": [
      "[|5; 10; 15; 20; 25; 30|]\n"
     ]
    },
    {
     "data": {
      "text/html": [
       "<null>"
      ]
     },
     "execution_count": 3,
     "metadata": {},
     "output_type": "execute_result"
    }
   ],
   "source": [
    "let fives = [| 1 .. n |] |> Array.filter (fun x -> x % 5 = 0)\n",
    "fives |> printfn \"%A\""
   ]
  },
  {
   "cell_type": "markdown",
   "metadata": {},
   "source": [
    "このふたつのリストには重複がある。\n",
    "具体的には15の倍数が重複する。\n",
    "何らかの方法でこの重複を処理したい。\n",
    "\n",
    "方法はいくつかある。\n",
    "最終的には効率・速度も考えないといけないが、ここではそこまでは要求しない。\n",
    "\n",
    "一番簡単なのはリストを一気に作る方法か？"
   ]
  },
  {
   "cell_type": "code",
   "execution_count": 4,
   "metadata": {},
   "outputs": [
    {
     "name": "stdout",
     "output_type": "stream",
     "text": [
      "[|3; 5; 6; 9; 10; 12; 15; 18; 20; 21; 24; 25; 27; 30|]\n"
     ]
    },
    {
     "data": {
      "text/html": [
       "<null>"
      ]
     },
     "execution_count": 4,
     "metadata": {},
     "output_type": "execute_result"
    }
   ],
   "source": [
    "let numbers = [|1..n|] |> Array.filter (fun x -> x % 3 = 0 || x % 5 = 0)\n",
    "numbers |> printfn \"%A\""
   ]
  },
  {
   "cell_type": "markdown",
   "metadata": {},
   "source": [
    "あとは和を取る。\n",
    "Juliaで`|>`を使ったときと同じように書ける。"
   ]
  },
  {
   "cell_type": "code",
   "execution_count": 5,
   "metadata": {},
   "outputs": [
    {
     "name": "stdout",
     "output_type": "stream",
     "text": [
      "225\n"
     ]
    },
    {
     "data": {
      "text/html": [
       "<null>"
      ]
     },
     "execution_count": 5,
     "metadata": {},
     "output_type": "execute_result"
    }
   ],
   "source": [
    "[| 1 .. n |] \n",
    "|> Array.filter (fun x -> x % 3 = 0 || x % 5 = 0)\n",
    "|> Array.sum\n",
    "|> printfn \"%d\""
   ]
  },
  {
   "cell_type": "markdown",
   "metadata": {},
   "source": [
    "`n`を`N`に変えて計算してみよう。"
   ]
  },
  {
   "cell_type": "code",
   "execution_count": 6,
   "metadata": {},
   "outputs": [
    {
     "name": "stdout",
     "output_type": "stream",
     "text": [
      "233168\n"
     ]
    },
    {
     "data": {
      "text/html": [
       "<null>"
      ]
     },
     "execution_count": 6,
     "metadata": {},
     "output_type": "execute_result"
    }
   ],
   "source": [
    "[| 1 .. N |]\n",
    "|> Array.filter (fun x -> x % 3 = 0 || x % 5 = 0)\n",
    "|> Array.sum\n",
    "|> printfn \"%d\""
   ]
  },
  {
   "cell_type": "markdown",
   "metadata": {},
   "source": [
    "これで確かに解答が得られた。\n",
    "[解答1](#解答1)として別途まとめておこう。"
   ]
  },
  {
   "cell_type": "markdown",
   "metadata": {},
   "source": [
    "## 他の方針\n",
    "F#のコードは既にかなり単純なので、単純化という意味ではあまりやりようがない。\n",
    "ここでは単純化に限らずいくつか参考情報を書いておく。"
   ]
  },
  {
   "cell_type": "markdown",
   "metadata": {},
   "source": [
    "### リスト内包表記\n",
    "Pythonの時と同じような、配列に対する内包表記でフィルタリングする方法が分からない&忘れた。\n",
    "代わりに`seq`版を紹介する。\n",
    "\n",
    "まずは配列の場合の内包表記。"
   ]
  },
  {
   "cell_type": "code",
   "execution_count": 7,
   "metadata": {},
   "outputs": [
    {
     "name": "stdout",
     "output_type": "stream",
     "text": [
      "[|1; 2; 3; 4; 5; 6; 7; 8; 9; 10; 11; 12; 13; 14; 15; 16; 17; 18; 19; 20; 21; 22;\n",
      "  23; 24; 25; 26; 27; 28; 29; 30|]\n"
     ]
    },
    {
     "data": {
      "text/html": [
       "<null>"
      ]
     },
     "execution_count": 7,
     "metadata": {},
     "output_type": "execute_result"
    }
   ],
   "source": [
    "[| for x in 1 .. n -> x |] |> printfn \"%A\""
   ]
  },
  {
   "cell_type": "markdown",
   "metadata": {},
   "source": [
    "### `Seq`の利用\n",
    "F#の`Seq`では遅延評価が使える。\n",
    "場合によっては必要不可欠。\n",
    "よくわからなければ配列と同じだと思っておけばいい。\n",
    "きちんと理解するにはそれなりにいろいろなことを知らなければいけない。\n",
    "\n",
    "`seq`のままだと途中で切れてしまったので`Seq.toArray`を挟んである。"
   ]
  },
  {
   "cell_type": "code",
   "execution_count": 8,
   "metadata": {},
   "outputs": [
    {
     "name": "stdout",
     "output_type": "stream",
     "text": [
      "[|3; 6; 9; 12; 15; 18; 21; 24; 27; 30|]\n"
     ]
    },
    {
     "data": {
      "text/html": [
       "<null>"
      ]
     },
     "execution_count": 8,
     "metadata": {},
     "output_type": "execute_result"
    }
   ],
   "source": [
    "seq {for x in 1..n do if x % 3 = 0 then yield x} |> Seq.toArray |> printfn \"%A\""
   ]
  },
  {
   "cell_type": "markdown",
   "metadata": {},
   "source": [
    "`seq`できちんと計算してみよう。"
   ]
  },
  {
   "cell_type": "code",
   "execution_count": 9,
   "metadata": {},
   "outputs": [
    {
     "name": "stdout",
     "output_type": "stream",
     "text": [
      "233168\n"
     ]
    },
    {
     "data": {
      "text/html": [
       "<null>"
      ]
     },
     "execution_count": 9,
     "metadata": {},
     "output_type": "execute_result"
    }
   ],
   "source": [
    "seq { for x in 1..N do if x % 3 = 0 || x % 5 = 0 then yield x}\n",
    "|> Seq.sum\n",
    "|> printfn \"%d\""
   ]
  },
  {
   "cell_type": "markdown",
   "metadata": {},
   "source": [
    "## 解答"
   ]
  },
  {
   "cell_type": "markdown",
   "metadata": {},
   "source": [
    "### 解答1"
   ]
  },
  {
   "cell_type": "code",
   "execution_count": 10,
   "metadata": {},
   "outputs": [
    {
     "name": "stdout",
     "output_type": "stream",
     "text": [
      "233168\n"
     ]
    },
    {
     "data": {
      "text/html": [
       "<null>"
      ]
     },
     "execution_count": 10,
     "metadata": {},
     "output_type": "execute_result"
    }
   ],
   "source": [
    "[| 1 .. N |]\n",
    "|> Array.filter (fun x -> x % 3 = 0 || x % 5 = 0)\n",
    "|> Array.sum\n",
    "|> printfn \"%d\""
   ]
  },
  {
   "cell_type": "markdown",
   "metadata": {},
   "source": [
    "### 解答2"
   ]
  },
  {
   "cell_type": "code",
   "execution_count": 11,
   "metadata": {},
   "outputs": [
    {
     "name": "stdout",
     "output_type": "stream",
     "text": [
      "233168\n"
     ]
    },
    {
     "data": {
      "text/html": [
       "<null>"
      ]
     },
     "execution_count": 11,
     "metadata": {},
     "output_type": "execute_result"
    }
   ],
   "source": [
    "seq { for x in 1..N do if x % 3 = 0 || x % 5 = 0 then yield x}\n",
    "|> Seq.sum\n",
    "|> printfn \"%d\""
   ]
  }
 ],
 "metadata": {
  "jupytext": {
   "formats": "ipynb,md"
  },
  "kernelspec": {
   "display_name": ".NET (F#)",
   "language": "F#",
   "name": ".net-fsharp"
  },
  "language_info": {
   "file_extension": ".fs",
   "mimetype": "text/x-fsharp",
   "name": "C#",
   "pygments_lexer": "fsharp",
   "version": "4.5"
  }
 },
 "nbformat": 4,
 "nbformat_minor": 4
}
