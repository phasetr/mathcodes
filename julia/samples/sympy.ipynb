{
 "metadata": {
  "language_info": {
   "codemirror_mode": {
    "name": "ipython",
    "version": 3
   },
   "file_extension": ".py",
   "mimetype": "text/x-python",
   "name": "julia",
   "nbconvert_exporter": "python",
   "pygments_lexer": "ipython3",
   "version": 3
  },
  "orig_nbformat": 4,
  "kernelspec": {
   "name": "julia-1.6",
   "display_name": "Julia 1.6.1",
   "language": "julia"
  }
 },
 "nbformat": 4,
 "nbformat_minor": 2,
 "cells": [
  {
   "cell_type": "code",
   "execution_count": 9,
   "metadata": {},
   "outputs": [
    {
     "output_type": "execute_result",
     "data": {
      "text/plain": [
       "(a, b, c, k, p, q, r, s, t, u, v, w, x)"
      ]
     },
     "metadata": {},
     "execution_count": 9
    }
   ],
   "source": [
    "using SymPy\n",
    "using Latexify\n",
    "using LinearAlgebra\n",
    "printlatex(x) = println(latexify(x))\n",
    "a,b,c,k,p,q,r,s,t,u,v,w,x = symbols(\"a,b,c,k,p,q,r,s,t,u,v,w,x\")\t\t       # or  @syms x"
   ]
  },
  {
   "cell_type": "code",
   "execution_count": 3,
   "metadata": {},
   "outputs": [
    {
     "output_type": "execute_result",
     "data": {
      "text/plain": [
       "3×3 Matrix{Sym}:\n",
       " a  0  0\n",
       " 0  b  0\n",
       " 0  0  c"
      ],
      "text/latex": "$\\left[ \\begin{array}{rrr}a&0&0\\\\0&b&0\\\\0&0&c\\end{array}\\right]$\n"
     },
     "metadata": {},
     "execution_count": 3
    }
   ],
   "source": [
    "A = Matrix([\n",
    "    a 0 0\n",
    "    0 b 0\n",
    "    0 0 c\n",
    "])"
   ]
  },
  {
   "cell_type": "code",
   "execution_count": 4,
   "metadata": {},
   "outputs": [
    {
     "output_type": "execute_result",
     "data": {
      "text/plain": [
       "3×3 Matrix{Sym}:\n",
       " p  q  r\n",
       " s  t  u\n",
       " v  w  x"
      ],
      "text/latex": "$\\left[ \\begin{array}{rrr}p&q&r\\\\s&t&u\\\\v&w&x\\end{array}\\right]$\n"
     },
     "metadata": {},
     "execution_count": 4
    }
   ],
   "source": [
    "B = Matrix([\n",
    "    p q r\n",
    "    s t u\n",
    "    v w x\n",
    "])"
   ]
  },
  {
   "cell_type": "code",
   "execution_count": 6,
   "metadata": {},
   "outputs": [
    {
     "output_type": "execute_result",
     "data": {
      "text/plain": [
       "3×3 Matrix{Sym}:\n",
       " a⋅p  a⋅q  a⋅r\n",
       " b⋅s  b⋅t  b⋅u\n",
       " c⋅v  c⋅w  c⋅x"
      ],
      "text/latex": "$\\left[ \\begin{array}{rrr}a p&a q&a r\\\\b s&b t&b u\\\\c v&c w&c x\\end{array}\\right]$\n"
     },
     "metadata": {},
     "execution_count": 6
    }
   ],
   "source": [
    "A*B"
   ]
  },
  {
   "cell_type": "code",
   "execution_count": 7,
   "metadata": {},
   "outputs": [
    {
     "output_type": "execute_result",
     "data": {
      "text/plain": [
       "3×3 Matrix{Sym}:\n",
       " a⋅p  b⋅q  c⋅r\n",
       " a⋅s  b⋅t  c⋅u\n",
       " a⋅v  b⋅w  c⋅x"
      ],
      "text/latex": "$\\left[ \\begin{array}{rrr}a p&b q&c r\\\\a s&b t&c u\\\\a v&b w&c x\\end{array}\\right]$\n"
     },
     "metadata": {},
     "execution_count": 7
    }
   ],
   "source": [
    "B*A"
   ]
  },
  {
   "cell_type": "code",
   "execution_count": 11,
   "metadata": {},
   "outputs": [
    {
     "output_type": "display_data",
     "data": {
      "text/plain": "3×3 Matrix{Sym}:\n k  0  0\n 0  2  0\n 0  0  2",
      "text/latex": "$\\left[ \\begin{array}{rrr}k&0&0\\\\0&2&0\\\\0&0&2\\end{array}\\right]$\n"
     },
     "metadata": {}
    },
    {
     "output_type": "display_data",
     "data": {
      "text/plain": "3×3 Matrix{Sym}:\n p  q  r\n s  t  u\n v  w  x",
      "text/latex": "$\\left[ \\begin{array}{rrr}p&q&r\\\\s&t&u\\\\v&w&x\\end{array}\\right]$\n"
     },
     "metadata": {}
    }
   ],
   "source": [
    "A = Matrix([\n",
    "    k 0 0\n",
    "    0 2 0\n",
    "    0 0 2\n",
    "])\n",
    "B = Matrix([\n",
    "    p q r\n",
    "    s t u\n",
    "    v w x\n",
    "])\n",
    "display(A)\n",
    "display(B)"
   ]
  },
  {
   "cell_type": "code",
   "execution_count": 14,
   "metadata": {},
   "outputs": [
    {
     "output_type": "display_data",
     "data": {
      "text/plain": "3×3 Matrix{Sym}:\n k⋅p  k⋅q  k⋅r\n 2⋅s  2⋅t  2⋅u\n 2⋅v  2⋅w  2⋅x",
      "text/latex": "$\\left[ \\begin{array}{rrr}k p&k q&k r\\\\2 s&2 t&2 u\\\\2 v&2 w&2 x\\end{array}\\right]$\n"
     },
     "metadata": {}
    },
    {
     "output_type": "display_data",
     "data": {
      "text/plain": "3×3 Matrix{Sym}:\n k⋅p  2⋅q  2⋅r\n k⋅s  2⋅t  2⋅u\n k⋅v  2⋅w  2⋅x",
      "text/latex": "$\\left[ \\begin{array}{rrr}k p&2 q&2 r\\\\k s&2 t&2 u\\\\k v&2 w&2 x\\end{array}\\right]$\n"
     },
     "metadata": {}
    },
    {
     "output_type": "display_data",
     "data": {
      "text/plain": "3×3 Matrix{Sym}:\n          0  k⋅q - 2⋅q  k⋅r - 2⋅r\n -k⋅s + 2⋅s          0          0\n -k⋅v + 2⋅v          0          0",
      "text/latex": "$\\left[ \\begin{array}{rrr}0&k q - 2 q&k r - 2 r\\\\- k s + 2 s&0&0\\\\- k v + 2 v&0&0\\end{array}\\right]$\n"
     },
     "metadata": {}
    }
   ],
   "source": [
    "display(A*B)\n",
    "display(B*A)\n",
    "display(A*B - B*A)"
   ]
  },
  {
   "cell_type": "code",
   "execution_count": 15,
   "metadata": {},
   "outputs": [
    {
     "output_type": "display_data",
     "data": {
      "text/plain": "3×3 Matrix{Sym}:\n a  0       0\n 0  b       0\n 0  0  -a - b",
      "text/latex": "$\\left[ \\begin{array}{rrr}a&0&0\\\\0&b&0\\\\0&0&- a - b\\end{array}\\right]$\n"
     },
     "metadata": {}
    },
    {
     "output_type": "display_data",
     "data": {
      "text/plain": "3×3 Matrix{Sym}:\n p  q       r\n s  t       u\n v  w  -p - t",
      "text/latex": "$\\left[ \\begin{array}{rrr}p&q&r\\\\s&t&u\\\\v&w&- p - t\\end{array}\\right]$\n"
     },
     "metadata": {}
    },
    {
     "output_type": "display_data",
     "data": {
      "text/plain": "3×3 Matrix{Sym}:\n        a⋅p         a⋅q                a⋅r\n        b⋅s         b⋅t                b⋅u\n v⋅(-a - b)  w⋅(-a - b)  (-a - b)⋅(-p - t)",
      "text/latex": "$\\left[ \\begin{array}{rrr}a p&a q&a r\\\\b s&b t&b u\\\\v \\left(- a - b\\right)&w \\left(- a - b\\right)&\\left(- a - b\\right) \\left(- p - t\\right)\\end{array}\\right]$\n"
     },
     "metadata": {}
    },
    {
     "output_type": "display_data",
     "data": {
      "text/plain": "3×3 Matrix{Sym}:\n a⋅p  b⋅q         r⋅(-a - b)\n a⋅s  b⋅t         u⋅(-a - b)\n a⋅v  b⋅w  (-a - b)⋅(-p - t)",
      "text/latex": "$\\left[ \\begin{array}{rrr}a p&b q&r \\left(- a - b\\right)\\\\a s&b t&u \\left(- a - b\\right)\\\\a v&b w&\\left(- a - b\\right) \\left(- p - t\\right)\\end{array}\\right]$\n"
     },
     "metadata": {}
    },
    {
     "output_type": "display_data",
     "data": {
      "text/plain": "3×3 Matrix{Sym}:\n                 0          a⋅q - b⋅q  a⋅r - r⋅(-a - b)\n        -a⋅s + b⋅s                  0  b⋅u - u⋅(-a - b)\n -a⋅v + v⋅(-a - b)  -b⋅w + w⋅(-a - b)                 0",
      "text/latex": "$\\left[ \\begin{array}{rrr}0&a q - b q&a r - r \\left(- a - b\\right)\\\\- a s + b s&0&b u - u \\left(- a - b\\right)\\\\- a v + v \\left(- a - b\\right)&- b w + w \\left(- a - b\\right)&0\\end{array}\\right]$\n"
     },
     "metadata": {}
    }
   ],
   "source": [
    "H = Matrix([\n",
    "    a 0 0\n",
    "    0 b 0\n",
    "    0 0 -a-b\n",
    "])\n",
    "X = Matrix([\n",
    "    p q r\n",
    "    s t u\n",
    "    v w -p-t\n",
    "])\n",
    "display(H)\n",
    "display(X)\n",
    "display(H*X)\n",
    "display(X*H)\n",
    "display(H*X-X*H)"
   ]
  },
  {
   "cell_type": "code",
   "execution_count": 5,
   "metadata": {},
   "outputs": [
    {
     "output_type": "display_data",
     "data": {
      "text/plain": "4×4 Matrix{Rational{Int64}}:\n 0//1  0//1  1//1  0//1\n 0//1  0//1  0//1  1//1\n 1//2  0//1  0//1  1//2\n 1//4  1//2  0//1  1//4"
     },
     "metadata": {}
    },
    {
     "output_type": "display_data",
     "data": {
      "text/plain": "4×4 Matrix{Rational{Int64}}:\n 0//1  0//1  0//1  1//1\n 1//2  0//1  0//1  1//2\n 1//4  1//2  0//1  1//4\n 1//8  1//4  1//2  1//8"
     },
     "metadata": {}
    },
    {
     "output_type": "display_data",
     "data": {
      "text/plain": "4×4 Matrix{Rational{Int64}}:\n 1//2   0//1  0//1  1//2\n 1//4   1//2  0//1  1//4\n 1//8   1//4  1//2  1//8\n 1//16  1//8  1//4  9//16"
     },
     "metadata": {}
    },
    {
     "output_type": "display_data",
     "data": {
      "text/plain": "4×4 Matrix{Rational{Int64}}:\n 1//4   1//2   0//1   1//4\n 1//8   1//4   1//2   1//8\n 1//16  1//8   1//4   9//16\n 9//32  1//16  1//8  17//32"
     },
     "metadata": {}
    },
    {
     "output_type": "display_data",
     "data": {
      "text/plain": "4×4 Matrix{Rational{Int64}}:\n  1//8   1//4   1//2    1//8\n  1//16  1//8   1//4    9//16\n  9//32  1//16  1//8   17//32\n 17//64  9//32  1//16  25//64"
     },
     "metadata": {}
    },
    {
     "output_type": "display_data",
     "data": {
      "text/plain": "4×4 Matrix{Rational{Int64}}:\n  1//16    1//8   1//4    9//16\n  9//32    1//16  1//8   17//32\n 17//64    9//32  1//16  25//64\n 25//128  17//64  9//32  33//128"
     },
     "metadata": {}
    }
   ],
   "source": [
    "A = Matrix([\n",
    "    0 2 0 0\n",
    "    0 0 2 0\n",
    "    0 0 0 2\n",
    "    1 0 0 1\n",
    "]) // 2\n",
    "for i in 2:7\n",
    "    display(A^i)\n",
    "end"
   ]
  },
  {
   "cell_type": "code",
   "execution_count": 10,
   "metadata": {},
   "outputs": [
    {
     "output_type": "display_data",
     "data": {
      "text/plain": "4×4 Matrix{Sym}:\n     0      0  a^2      0\n     0      0    0    a^2\n a^2/2      0    0  a^2/2\n a^2/4  a^2/2    0  a^2/4",
      "text/latex": "$\\left[ \\begin{array}{rrrr}0&0&a^{2}&0\\\\0&0&0&a^{2}\\\\\\frac{a^{2}}{2}&0&0&\\frac{a^{2}}{2}\\\\\\frac{a^{2}}{4}&\\frac{a^{2}}{2}&0&\\frac{a^{2}}{4}\\end{array}\\right]$\n"
     },
     "metadata": {}
    },
    {
     "output_type": "display_data",
     "data": {
      "text/plain": "4×4 Matrix{Sym}:\n     0      0      0    a^3\n a^3/2      0      0  a^3/2\n a^3/4  a^3/2      0  a^3/4\n a^3/8  a^3/4  a^3/2  a^3/8",
      "text/latex": "$\\left[ \\begin{array}{rrrr}0&0&0&a^{3}\\\\\\frac{a^{3}}{2}&0&0&\\frac{a^{3}}{2}\\\\\\frac{a^{3}}{4}&\\frac{a^{3}}{2}&0&\\frac{a^{3}}{4}\\\\\\frac{a^{3}}{8}&\\frac{a^{3}}{4}&\\frac{a^{3}}{2}&\\frac{a^{3}}{8}\\end{array}\\right]$\n"
     },
     "metadata": {}
    },
    {
     "output_type": "display_data",
     "data": {
      "text/plain": "4×4 Matrix{Sym}:\n  a^4/2      0      0     a^4/2\n  a^4/4  a^4/2      0     a^4/4\n  a^4/8  a^4/4  a^4/2     a^4/8\n a^4/16  a^4/8  a^4/4  9*a^4/16",
      "text/latex": "$\\left[ \\begin{array}{rrrr}\\frac{a^{4}}{2}&0&0&\\frac{a^{4}}{2}\\\\\\frac{a^{4}}{4}&\\frac{a^{4}}{2}&0&\\frac{a^{4}}{4}\\\\\\frac{a^{4}}{8}&\\frac{a^{4}}{4}&\\frac{a^{4}}{2}&\\frac{a^{4}}{8}\\\\\\frac{a^{4}}{16}&\\frac{a^{4}}{8}&\\frac{a^{4}}{4}&\\frac{9 a^{4}}{16}\\end{array}\\right]$\n"
     },
     "metadata": {}
    },
    {
     "output_type": "display_data",
     "data": {
      "text/plain": "4×4 Matrix{Sym}:\n    a^5/4   a^5/2      0      a^5/4\n    a^5/8   a^5/4  a^5/2      a^5/8\n   a^5/16   a^5/8  a^5/4   9*a^5/16\n 9*a^5/32  a^5/16  a^5/8  17*a^5/32",
      "text/latex": "$\\left[ \\begin{array}{rrrr}\\frac{a^{5}}{4}&\\frac{a^{5}}{2}&0&\\frac{a^{5}}{4}\\\\\\frac{a^{5}}{8}&\\frac{a^{5}}{4}&\\frac{a^{5}}{2}&\\frac{a^{5}}{8}\\\\\\frac{a^{5}}{16}&\\frac{a^{5}}{8}&\\frac{a^{5}}{4}&\\frac{9 a^{5}}{16}\\\\\\frac{9 a^{5}}{32}&\\frac{a^{5}}{16}&\\frac{a^{5}}{8}&\\frac{17 a^{5}}{32}\\end{array}\\right]$\n"
     },
     "metadata": {}
    },
    {
     "output_type": "display_data",
     "data": {
      "text/plain": "4×4 Matrix{Sym}:\n     a^6/8     a^6/4   a^6/2      a^6/8\n    a^6/16     a^6/8   a^6/4   9*a^6/16\n  9*a^6/32    a^6/16   a^6/8  17*a^6/32\n 17*a^6/64  9*a^6/32  a^6/16  25*a^6/64",
      "text/latex": "$\\left[ \\begin{array}{rrrr}\\frac{a^{6}}{8}&\\frac{a^{6}}{4}&\\frac{a^{6}}{2}&\\frac{a^{6}}{8}\\\\\\frac{a^{6}}{16}&\\frac{a^{6}}{8}&\\frac{a^{6}}{4}&\\frac{9 a^{6}}{16}\\\\\\frac{9 a^{6}}{32}&\\frac{a^{6}}{16}&\\frac{a^{6}}{8}&\\frac{17 a^{6}}{32}\\\\\\frac{17 a^{6}}{64}&\\frac{9 a^{6}}{32}&\\frac{a^{6}}{16}&\\frac{25 a^{6}}{64}\\end{array}\\right]$\n"
     },
     "metadata": {}
    },
    {
     "output_type": "display_data",
     "data": {
      "text/plain": "4×4 Matrix{Sym}:\n     a^7/16      a^7/8     a^7/4    9*a^7/16\n   9*a^7/32     a^7/16     a^7/8   17*a^7/32\n  17*a^7/64   9*a^7/32    a^7/16   25*a^7/64\n 25*a^7/128  17*a^7/64  9*a^7/32  33*a^7/128",
      "text/latex": "$\\left[ \\begin{array}{rrrr}\\frac{a^{7}}{16}&\\frac{a^{7}}{8}&\\frac{a^{7}}{4}&\\frac{9 a^{7}}{16}\\\\\\frac{9 a^{7}}{32}&\\frac{a^{7}}{16}&\\frac{a^{7}}{8}&\\frac{17 a^{7}}{32}\\\\\\frac{17 a^{7}}{64}&\\frac{9 a^{7}}{32}&\\frac{a^{7}}{16}&\\frac{25 a^{7}}{64}\\\\\\frac{25 a^{7}}{128}&\\frac{17 a^{7}}{64}&\\frac{9 a^{7}}{32}&\\frac{33 a^{7}}{128}\\end{array}\\right]$\n"
     },
     "metadata": {}
    },
    {
     "output_type": "stream",
     "name": "stdout",
     "text": [
      "\\begin{equation}\n",
      "\\left[\n",
      "\\begin{array}{cccc}\n",
      "0 & 0 & a^2 & 0 \\\\\n",
      "0 & 0 & 0 & a^2 \\\\\n",
      "a^2/2 & 0 & 0 & a^2/2 \\\\\n",
      "a^2/4 & a^2/2 & 0 & a^2/4 \\\\\n",
      "\\end{array}\n",
      "\\right]\n",
      "\\end{equation}\n",
      "\n",
      "\\begin{equation}\n",
      "\\left[\n",
      "\\begin{array}{cccc}\n",
      "0 & 0 & 0 & a^3 \\\\\n",
      "a^3/2 & 0 & 0 & a^3/2 \\\\\n",
      "a^3/4 & a^3/2 & 0 & a^3/4 \\\\\n",
      "a^3/8 & a^3/4 & a^3/2 & a^3/8 \\\\\n",
      "\\end{array}\n",
      "\\right]\n",
      "\\end{equation}\n",
      "\n",
      "\\begin{equation}\n",
      "\\left[\n",
      "\\begin{array}{cccc}\n",
      "a^4/2 & 0 & 0 & a^4/2 \\\\\n",
      "a^4/4 & a^4/2 & 0 & a^4/4 \\\\\n",
      "a^4/8 & a^4/4 & a^4/2 & a^4/8 \\\\\n",
      "a^4/16 & a^4/8 & a^4/4 & 9*a^4/16 \\\\\n",
      "\\end{array}\n",
      "\\right]\n",
      "\\end{equation}\n",
      "\n",
      "\\begin{equation}\n",
      "\\left[\n",
      "\\begin{array}{cccc}\n",
      "a^5/4 & a^5/2 & 0 & a^5/4 \\\\\n",
      "a^5/8 & a^5/4 & a^5/2 & a^5/8 \\\\\n",
      "a^5/16 & a^5/8 & a^5/4 & 9*a^5/16 \\\\\n",
      "9*a^5/32 & a^5/16 & a^5/8 & 17*a^5/32 \\\\\n",
      "\\end{array}\n",
      "\\right]\n",
      "\\end{equation}\n",
      "\n",
      "\\begin{equation}\n",
      "\\left[\n",
      "\\begin{array}{cccc}\n",
      "a^6/8 & a^6/4 & a^6/2 & a^6/8 \\\\\n",
      "a^6/16 & a^6/8 & a^6/4 & 9*a^6/16 \\\\\n",
      "9*a^6/32 & a^6/16 & a^6/8 & 17*a^6/32 \\\\\n",
      "17*a^6/64 & 9*a^6/32 & a^6/16 & 25*a^6/64 \\\\\n",
      "\\end{array}\n",
      "\\right]\n",
      "\\end{equation}\n",
      "\n",
      "\\begin{equation}\n",
      "\\left[\n",
      "\\begin{array}{cccc}\n",
      "a^7/16 & a^7/8 & a^7/4 & 9*a^7/16 \\\\\n",
      "9*a^7/32 & a^7/16 & a^7/8 & 17*a^7/32 \\\\\n",
      "17*a^7/64 & 9*a^7/32 & a^7/16 & 25*a^7/64 \\\\\n",
      "25*a^7/128 & 17*a^7/64 & 9*a^7/32 & 33*a^7/128 \\\\\n",
      "\\end{array}\n",
      "\\right]\n",
      "\\end{equation}\n",
      "\n"
     ]
    }
   ],
   "source": [
    "A = Matrix([\n",
    "    0 2a 0 0\n",
    "    0 0 2a 0\n",
    "    0 0 0 2a\n",
    "    a 0 0 a\n",
    "]) / 2\n",
    "for i in 2:7\n",
    "    display(A^i)\n",
    "end\n",
    "for i in 2:7\n",
    "    printlatex(A^i)\n",
    "end"
   ]
  }
 ]
}