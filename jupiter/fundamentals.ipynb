{
 "cells": [
  {
   "cell_type": "markdown",
   "metadata": {
    "collapsed": true
   },
   "source": [
    "# 前提\n",
    "\n",
    "Mac で動作確認しているので基本的に Mac 前提。\n",
    "もちろん Windows や Linux でも同じようにできるはずではある。"
   ]
  },
  {
   "cell_type": "markdown",
   "metadata": {
    "collapsed": true
   },
   "source": [
    "# Python, Anaconda, IPython のインストール\n",
    "\n",
    "readme.md 参照。\n",
    "とくに[これ](https://github.com/phasetr/mathcodes).\n",
    "\n",
    "# Jupyter 起動\n",
    "\n",
    "ターミナルなりコマンドプロンプトなりを立ち上げる。\n",
    "\n",
    "~~~~\n",
    "$ cd some_directory\n",
    "$ jupyter notebook\n",
    "~~~~\n",
    "\n",
    "ブラウザで Jupyter が立ち上がる。"
   ]
  },
  {
   "cell_type": "markdown",
   "metadata": {},
   "source": [
    "### 入力サンプル\n",
    "\n",
    "Markdown 形式で色々書ける。\n",
    "リンクは[こう](http://phasetr.com)。\n",
    "\n",
    "LaTeX も書ける。\n",
    "\n",
    "\\begin{align}\n",
    " \\int_{\\mathbb{R}^d} f(x) dx.\n",
    "\\end{align}\n",
    "\n",
    "コードにシンタックスハイライトも付けられる。\n",
    "\n",
    "~~~~python\n",
    "print(\"Hello, World!\")\n",
    "~~~~"
   ]
  },
  {
   "cell_type": "markdown",
   "metadata": {},
   "source": [
    "# Notebook の素敵機能\n",
    "\n",
    "## 編集モード\n",
    "\n",
    "- Cell をクリックする。\n",
    "- ダブルクリックすると Markdown モードになる。\n",
    "- `ESC` で抜けられる。\n",
    "\n",
    "## コマンドモード\n",
    "\n",
    "- Cell の外をクリックする。\n",
    "\n",
    "## キーボードショートカット\n",
    "\n",
    "コマンドモードで `h` を押すとヘルプが出るので便利。\n",
    "基本的には vi 的なコマンド体系。\n",
    "\n",
    "### どちらのモードでも使える\n",
    "\n",
    "| キーバインド    | 意味                               |\n",
    "|-----------------|------------------------------------|\n",
    "| `Ctrl + Enter`  | セルを実行                         |\n",
    "| `Shift + Enter` | セルを実行して下のセルを選択       |\n",
    "| `Alt + Enter`   | セルを実行して下に新しいセルを挿入 |\n",
    "| `Ctrl + S`      | notebook を保存                    |\n",
    "\n",
    "### 編集モードで使える\n",
    "\n",
    "| コマンド           | 意味                 |\n",
    "|--------------------|----------------------|\n",
    "| `Esc`              | コマンドモードに移行 |\n",
    "| `Ctrl + Shift + -` | セルを分割           |\n",
    "\n",
    "### コマンドモードで使える\n",
    "\n",
    "| コマンド    | 意味                                         |\n",
    "|-------------|----------------------------------------------|\n",
    "| `h`         | ヘルプ                                       |\n",
    "| `Enter`     | 編集モードに移行                             |\n",
    "| `↑ or k`   | 上のセルに移動                               |\n",
    "| `↓ or j`   | 次のセルに移動                               |\n",
    "| `y / m`     | セルのタイプを変更: y は cell, m は Markdown |\n",
    "| `a / b`     | 今のセルの上/下にセルを追加                  |\n",
    "| `x / c / v` | 今のセルを cut/copy/paste                    |\n",
    "| `dd`        | 今のセルを削除                               |\n",
    "| `z`         | 最後の削除を取り消す (undo)                  |\n",
    "| `Shift + =` | 下のセルとマージ                             |"
   ]
  },
  {
   "cell_type": "markdown",
   "metadata": {},
   "source": [
    "# 以下 Python Introduction"
   ]
  },
  {
   "cell_type": "code",
   "execution_count": 1,
   "metadata": {
    "collapsed": false
   },
   "outputs": [
    {
     "name": "stdout",
     "output_type": "stream",
     "text": [
      "Hello, World!\n"
     ]
    }
   ],
   "source": [
    "# まずは Hello, World! から\n",
    "print(\"Hello, World!\") # Jupyter 上で入力するとわかるが括弧やクオートが自動で両方入る"
   ]
  },
  {
   "cell_type": "code",
   "execution_count": 7,
   "metadata": {
    "collapsed": false
   },
   "outputs": [
    {
     "name": "stdout",
     "output_type": "stream",
     "text": [
      "4\n",
      "2.5\n",
      "1\n",
      "2\n",
      "125\n"
     ]
    }
   ],
   "source": [
    "# 計算もできる\n",
    "\n",
    "# かけ算\n",
    "print(2*2)     # 演算子の前後は空けなくてもいい\n",
    "\n",
    "# 割り算\n",
    "print(5 / 2)   # 演算子の前後は空けてもいい\n",
    "\n",
    "# 切り捨て割り算\n",
    "print(5 // 3)\n",
    "\n",
    "# あまり\n",
    "print(5 % 3)\n",
    "\n",
    "# a の b 乗\n",
    "print(5 ** 3)"
   ]
  },
  {
   "cell_type": "code",
   "execution_count": 9,
   "metadata": {
    "collapsed": false
   },
   "outputs": [
    {
     "name": "stdout",
     "output_type": "stream",
     "text": [
      "Hello \"world\"\n",
      "A list:\n",
      "* item 1\n",
      "* item 2\n",
      "C:\\path\\on\\windows\n",
      "C:\\path\\on\\windows\n"
     ]
    }
   ],
   "source": [
    "# 文字列のエスケープ\n",
    "print(\"Hello \\\"world\\\"\")             #  ダブルクオートでくくると文字列の中のダブルクオートをエスケープする必要あり\n",
    "print(\"A list:\\n* item 1\\n* item 2\") # \\n は改行\n",
    "print(\"C:\\\\path\\\\on\\\\windows\")       # バックスラッシュ自体のエスケープ\n",
    "print(r\"C:\\path\\on\\windows\")         # r\"\" は生リテラル (raw literal)"
   ]
  },
  {
   "cell_type": "markdown",
   "metadata": {},
   "source": [
    "## リスト"
   ]
  },
  {
   "cell_type": "code",
   "execution_count": 8,
   "metadata": {
    "collapsed": false
   },
   "outputs": [
    {
     "name": "stdout",
     "output_type": "stream",
     "text": [
      "[3, 4, 5, 7, 6]\n",
      "5\n",
      "3\n",
      "6\n",
      "[3, 4, 5, 7]\n",
      "[3, 4, 5, 7, 6, 8]\n",
      "\n",
      "range の出力\n",
      "range(0, 10)\n",
      "range(1, 11)\n",
      "range(0, 30, 5)\n",
      "range(0, 10, 3)\n",
      "range(0, -10, -1)\n",
      "range(0, 0)\n",
      "range(1, 0)\n",
      "33\n"
     ]
    }
   ],
   "source": [
    "items = [3, 4, 5, 7, 6]\n",
    "print(items)\n",
    "print(len(items)) # リストの長さ\n",
    "print(items[0])   # リストの要素を取得: 0 始まり\n",
    "print(items[-1])  # マイナスにすると後ろから数えて取得\n",
    "print(items[0:4]) # 複数要素を一気に取得: 第2引数の扱いに注意\n",
    "items.append(8)   # 要素追加：破壊的に追加\n",
    "print(items)\n",
    "\n",
    "print(\"\\nrange の出力\") # Python3 ではリストではなくイテレータで返る\n",
    "print(range(10))\n",
    "print(range(1, 11))\n",
    "print(range(0, 30, 5))\n",
    "print(range(0, 10, 3))\n",
    "print(range(0, -10, -1))\n",
    "print(range(0))\n",
    "print(range(1, 0))\n",
    "\n",
    "# リストを操作する関数\n",
    "print(sum(items))"
   ]
  },
  {
   "cell_type": "markdown",
   "metadata": {},
   "source": [
    "## 他のコンテナ\n",
    "タプル、辞書、集合。"
   ]
  },
  {
   "cell_type": "code",
   "execution_count": 21,
   "metadata": {
    "collapsed": false
   },
   "outputs": [
    {
     "name": "stdout",
     "output_type": "stream",
     "text": [
      "(1, 2, 3)\n",
      "1\n",
      "a: 1\n",
      "dict_keys(['c', 'a', 'b'])\n",
      "dict_values([3, 1, 2])\n",
      "{1, 2, 3}\n"
     ]
    }
   ],
   "source": [
    "mytuple = (1, 2, 3)\n",
    "print(mytuple)\n",
    "print(mytuple[0])\n",
    "\n",
    "# 辞書: キーと値のペア\n",
    "mydict = {'a': 1, 'b': 2, 'c': 3}\n",
    "print('a:', mydict['a'])\n",
    "# キーのリストを取得\n",
    "print(mydict.keys())\n",
    "# 値のリストを取得\n",
    "print(mydict.values())\n",
    "\n",
    "# 集合: 数学の集合と同じで重複は排除\n",
    "myset = set([1, 2, 3, 2, 1])\n",
    "print(myset)"
   ]
  },
  {
   "cell_type": "markdown",
   "metadata": {},
   "source": [
    "## ループ\n",
    "`for` が基本。"
   ]
  },
  {
   "cell_type": "code",
   "execution_count": 11,
   "metadata": {
    "collapsed": false
   },
   "outputs": [
    {
     "name": "stdout",
     "output_type": "stream",
     "text": [
      "5\n",
      "6\n",
      "7\n",
      "8\n",
      "9\n",
      "\n",
      "enumerate の出力\n",
      "0 5\n",
      "1 6\n",
      "2 7\n",
      "3 8\n",
      "4 9\n"
     ]
    }
   ],
   "source": [
    "a = [5,6,7,8,9]\n",
    "\n",
    "# 要素だけ取る\n",
    "for x in a:\n",
    "    print(x)\n",
    "\n",
    "print(\"\\nenumerate の出力\")\n",
    "# キーと値を両方取得\n",
    "for k, v in enumerate(a):\n",
    "    print(k, v)"
   ]
  },
  {
   "cell_type": "markdown",
   "metadata": {},
   "source": [
    "## リスト内包表記"
   ]
  },
  {
   "cell_type": "code",
   "execution_count": 34,
   "metadata": {
    "collapsed": false
   },
   "outputs": [
    {
     "name": "stdout",
     "output_type": "stream",
     "text": [
      "[36, 64]\n"
     ]
    }
   ],
   "source": [
    "a = [5,6,7,8,9]\n",
    "b = [x**2 for x in a if x % 2 == 0] # 偶数だけ取得してさらに 2 乗する\n",
    "print(b)"
   ]
  },
  {
   "cell_type": "markdown",
   "metadata": {},
   "source": [
    "## 条件分岐\n",
    "if, elif, else。\n",
    "elif という特殊な書き方に注意する。"
   ]
  },
  {
   "cell_type": "code",
   "execution_count": 36,
   "metadata": {
    "collapsed": false
   },
   "outputs": [
    {
     "name": "stdout",
     "output_type": "stream",
     "text": [
      "3 で割って余り 1\n",
      "1\n",
      "3 で割って余り 2\n",
      "2\n",
      "3 で割り切れる\n",
      "3\n"
     ]
    }
   ],
   "source": [
    "a = [1,2,3]\n",
    "for x in a:\n",
    "    if x % 3 == 1:\n",
    "        print(\"3 で割って余り 1\")\n",
    "        print(x)\n",
    "    elif x % 3 == 2: # elif という気持ち悪い記法\n",
    "        print(\"3 で割って余り 2\")\n",
    "        print(x)\n",
    "    else:\n",
    "        print(\"3 で割り切れる\")\n",
    "        print(x)"
   ]
  },
  {
   "cell_type": "markdown",
   "metadata": {},
   "source": [
    "## 関数"
   ]
  },
  {
   "cell_type": "code",
   "execution_count": 37,
   "metadata": {
    "collapsed": false
   },
   "outputs": [
    {
     "name": "stdout",
     "output_type": "stream",
     "text": [
      "False\n",
      "True\n",
      "False\n",
      "True\n"
     ]
    }
   ],
   "source": [
    "def is_even(number):\n",
    "    \"\"\"Return whether an integer is even or not.\"\"\" # 3 つのクオートは複数行コメント\n",
    "    return number % 2 == 0\n",
    "\n",
    "print(is_even(1))\n",
    "print(is_even(2))\n",
    "print(is_even(3))\n",
    "print(is_even(4))"
   ]
  },
  {
   "cell_type": "markdown",
   "metadata": {},
   "source": [
    "# 以下 IPython\n",
    "\n",
    "すごいことに Jupyter 上からコマンド実行できる。\n",
    "Unix コマンド前提なので以下のプログラムは素の Windows では実行できないようだ。\n",
    "Windows10 の Ubuntu の bash なり git bash なり msys2 なりを入れておけばおそらく実行可能（未検証）。\n",
    "\n",
    "ターミナルで `ipython` と打てば起動する。\n",
    "\n",
    "~~~~\n",
    "$ ipython\n",
    "~~~~\n",
    "\n",
    "Jupyter 上では以下の通り直接実行できる。"
   ]
  },
  {
   "cell_type": "code",
   "execution_count": 2,
   "metadata": {
    "collapsed": false
   },
   "outputs": [
    {
     "data": {
      "text/plain": [
       "'/Users/phasetr/codes/mathcodes/jupiter'"
      ]
     },
     "execution_count": 2,
     "metadata": {},
     "output_type": "execute_result"
    }
   ],
   "source": [
    "%pwd # 以下の結果は私の環境で実行した場合の結果: 人によって変わる"
   ]
  },
  {
   "cell_type": "code",
   "execution_count": 3,
   "metadata": {
    "collapsed": false
   },
   "outputs": [
    {
     "name": "stdout",
     "output_type": "stream",
     "text": [
      "total 600\r\n",
      "-rw-r--r--  1 phasetr  staff   35589  8 17 22:37 fundamentals.ipynb\r\n",
      "-rw-r--r--  1 phasetr  staff    5987  8 14 20:15 math_simple_calculation.ipynb\r\n",
      "-rw-r--r--  1 phasetr  staff  260296  8 17 22:38 math_simple_graph.ipynb\r\n"
     ]
    }
   ],
   "source": [
    "%ls -l"
   ]
  },
  {
   "cell_type": "markdown",
   "metadata": {},
   "source": [
    "## コマンド実行結果を Python の変数に入れる"
   ]
  },
  {
   "cell_type": "code",
   "execution_count": 10,
   "metadata": {
    "collapsed": false
   },
   "outputs": [
    {
     "name": "stdout",
     "output_type": "stream",
     "text": [
      "['test1', 'test2', 'test3']\n"
     ]
    }
   ],
   "source": [
    "files = !ls -1 -S | grep test # ! をつけるとコマンド実行してくれる\n",
    "print(files)"
   ]
  },
  {
   "cell_type": "code",
   "execution_count": 4,
   "metadata": {
    "collapsed": false
   },
   "outputs": [
    {
     "name": "stdout",
     "output_type": "stream",
     "text": [
      "/Users/phasetr/codes/mathcodes/jupiter/Users/phasetr/codes/mathcodes/jupiter\n"
     ]
    }
   ],
   "source": [
    "# IPython では _ で前回の出力が取れる\n",
    "%pwd\n",
    "print(_*2)"
   ]
  },
  {
   "cell_type": "markdown",
   "metadata": {},
   "source": [
    "## 他の言語の実行\n",
    "純粋な IPython 内では次のコードが実行できる: もちろん Haskell (GHCi) インストール済みの場合。\n",
    "IHaskell や IRuby もある。"
   ]
  },
  {
   "cell_type": "code",
   "execution_count": 13,
   "metadata": {
    "collapsed": false
   },
   "outputs": [
    {
     "name": "stdout",
     "output_type": "stream",
     "text": [
      "GHCi, version 8.0.1: http://www.haskell.org/ghc/  :? for help\n",
      "Prelude> Hello, World\n",
      "Prelude> Leaving GHCi.\n"
     ]
    }
   ],
   "source": [
    "#%%script ghci\n",
    "#putStrLn \"Hello, World\""
   ]
  },
  {
   "cell_type": "markdown",
   "metadata": {},
   "source": [
    "## Jupyter からファイルの読み書きもできる"
   ]
  },
  {
   "cell_type": "code",
   "execution_count": 43,
   "metadata": {
    "collapsed": false
   },
   "outputs": [
    {
     "name": "stdout",
     "output_type": "stream",
     "text": [
      "Overwriting myfile.txt\n"
     ]
    }
   ],
   "source": [
    "%%writefile myfile.txt\n",
    "Hello world!"
   ]
  },
  {
   "cell_type": "code",
   "execution_count": 44,
   "metadata": {
    "collapsed": false
   },
   "outputs": [
    {
     "name": "stdout",
     "output_type": "stream",
     "text": [
      "\u001b[?1h\u001b=\r",
      "Hello world!\r\n",
      "\r",
      "\u001b[K\u001b[?1l\u001b>"
     ]
    }
   ],
   "source": [
    "# 前のセルからの続き\n",
    "!more myfile.txt"
   ]
  },
  {
   "cell_type": "code",
   "execution_count": 48,
   "metadata": {
    "collapsed": false
   },
   "outputs": [
    {
     "name": "stdout",
     "output_type": "stream",
     "text": [
      "rm: myfile.txt: No such file or directory\n",
      "total 32\n",
      "-rw-r--r--@ 1 phasetr  staff  16035  8 13 21:35 fundamentals.ipynb\n",
      "-rw-r--r--@ 1 phasetr  staff      0  8 13 21:09 test1\n",
      "-rw-r--r--@ 1 phasetr  staff      0  8 13 21:09 test2\n",
      "-rw-r--r--@ 1 phasetr  staff      0  8 13 21:09 test3\n"
     ]
    }
   ],
   "source": [
    "# 前のセルからの続き\n",
    "!rm myfile.txt\n",
    "!ls -l"
   ]
  },
  {
   "cell_type": "code",
   "execution_count": 49,
   "metadata": {
    "collapsed": true
   },
   "outputs": [],
   "source": [
    "!head -n5 t # ここで tab を押すと補完候補が出る: Jupyter 上でも出る。"
   ]
  },
  {
   "cell_type": "code",
   "execution_count": 1,
   "metadata": {
    "collapsed": false
   },
   "outputs": [
    {
     "data": {
      "image/jpeg": "[encoded data removed]",
      "text/html": [
       "\n",
       "        <iframe\n",
       "            width=\"400\"\n",
       "            height=\"300\"\n",
       "            src=\"https://www.youtube.com/embed/AyJI5XyMQ9M\"\n",
       "            frameborder=\"0\"\n",
       "            allowfullscreen\n",
       "        ></iframe>\n",
       "        "
      ],
      "text/plain": [
       "<IPython.lib.display.YouTubeVideo at 0x1128c6668>"
      ]
     },
     "execution_count": 1,
     "metadata": {},
     "output_type": "execute_result"
    }
   ],
   "source": [
    "# GUI 系のことだってできてしまう\n",
    "from IPython.display import YouTubeVideo\n",
    "YouTubeVideo('AyJI5XyMQ9M')"
   ]
  },
  {
   "cell_type": "markdown",
   "metadata": {},
   "source": [
    "## インタラクティブなこともできる\n",
    "[グラフ描画](https://github.com/phasetr/mathcodes/blob/master/jupiter/math_simple_graph.ipynb)のところでも紹介している。"
   ]
  },
  {
   "cell_type": "code",
   "execution_count": 55,
   "metadata": {
    "collapsed": false
   },
   "outputs": [
    {
     "name": "stdout",
     "output_type": "stream",
     "text": [
      "The square of 5 is 25.\n"
     ]
    }
   ],
   "source": [
    "from ipywidgets import interact\n",
    "@interact(x=(0, 10))\n",
    "def square(x):\n",
    "    print(\"The square of %d is %d.\" % (x, x**2))"
   ]
  },
  {
   "cell_type": "markdown",
   "metadata": {},
   "source": [
    "## IPython でのファイル読み込み\n",
    "以下のセルは実行すると本当にファイルができるので注意すること。"
   ]
  },
  {
   "cell_type": "code",
   "execution_count": 6,
   "metadata": {
    "collapsed": false
   },
   "outputs": [
    {
     "name": "stdout",
     "output_type": "stream",
     "text": [
      "total 0\r\n",
      "-rw-r--r--  1 phasetr  staff  0  8 14 12:56 test1.org\r\n",
      "-rw-r--r--@ 1 phasetr  staff  0  8 14 12:56 test1.txt\r\n",
      "-rw-r--r--  1 phasetr  staff  0  8 14 12:56 test2.org\r\n",
      "-rw-r--r--@ 1 phasetr  staff  0  8 14 12:56 test2.txt\r\n",
      "-rw-r--r--  1 phasetr  staff  0  8 13 23:16 test3.org\r\n",
      "-rw-r--r--@ 1 phasetr  staff  0  8 14 12:56 test3.txt\r\n"
     ]
    }
   ],
   "source": [
    "# 準備のためにディレクトリ・ファイル作成\n",
    "#!mkdir subdir\n",
    "!cd subdir; touch test1.txt test2.txt test3.txt test1.org test2.org\n",
    "!cd subdir; ls -l"
   ]
  },
  {
   "cell_type": "code",
   "execution_count": 15,
   "metadata": {
    "collapsed": true
   },
   "outputs": [],
   "source": [
    "import networkx\n",
    "# 変数名の後に ? をつけるとヘルプ的なものが出る\n",
    "networkx.Graph?\n",
    "# 他にも %pdef, %pdoc, %psource, %pfile などがある"
   ]
  },
  {
   "cell_type": "code",
   "execution_count": 11,
   "metadata": {
    "collapsed": false
   },
   "outputs": [
    {
     "name": "stdout",
     "output_type": "stream",
     "text": [
      "Overwriting filelist.py\n"
     ]
    }
   ],
   "source": [
    "%%writefile filelist.py\n",
    "# coding: utf-8\n",
    "import sys\n",
    "import os\n",
    "# コマンドライン呼び出しの第 1 引数として検索するディレクトリを指定\n",
    "if len(sys.argv) > 1:\n",
    "    directory = sys.argv[1]\n",
    "\n",
    "# 該当ディレクトリ内の全てのディレクトリをリストアップ\n",
    "files = os.listdir(directory)\n",
    "# 拡張子を切り捨ててファイル名だけ取り出す\n",
    "identifiers = [file.split('.')[0] for file in files]\n",
    "# set で重複を取り除いてソートする\n",
    "names = sorted(set(identifiers))"
   ]
  },
  {
   "cell_type": "code",
   "execution_count": 12,
   "metadata": {
    "collapsed": false
   },
   "outputs": [
    {
     "name": "stdout",
     "output_type": "stream",
     "text": [
      "['test1', 'test2', 'test3']\n"
     ]
    }
   ],
   "source": [
    "# スクリプト実行\n",
    "%run filelist.py subdir\n",
    "print(names)"
   ]
  }
 ],
 "metadata": {
  "anaconda-cloud": {},
  "kernelspec": {
   "display_name": "Python [Root]",
   "language": "python",
   "name": "Python [Root]"
  },
  "language_info": {
   "codemirror_mode": {
    "name": "ipython",
    "version": 3
   },
   "file_extension": ".py",
   "mimetype": "text/x-python",
   "name": "python",
   "nbconvert_exporter": "python",
   "pygments_lexer": "ipython3",
   "version": "3.5.1"
  }
 },
 "nbformat": 4,
 "nbformat_minor": 0
}
