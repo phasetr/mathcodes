{
 "cells": [
  {
   "cell_type": "code",
   "execution_count": 8,
   "metadata": {
    "collapsed": false
   },
   "outputs": [
    {
     "data": {
      "text/plain": [
       "3"
      ]
     },
     "execution_count": 8,
     "metadata": {},
     "output_type": "execute_result"
    }
   ],
   "source": [
    "# 和\n",
    "1 + 2"
   ]
  },
  {
   "cell_type": "code",
   "execution_count": 4,
   "metadata": {
    "collapsed": false
   },
   "outputs": [
    {
     "data": {
      "text/plain": [
       "55"
      ]
     },
     "execution_count": 4,
     "metadata": {},
     "output_type": "execute_result"
    }
   ],
   "source": [
    "# 差\n",
    "100 - 45"
   ]
  },
  {
   "cell_type": "code",
   "execution_count": 6,
   "metadata": {
    "collapsed": false
   },
   "outputs": [
    {
     "data": {
      "text/plain": [
       "5.25"
      ]
     },
     "execution_count": 6,
     "metadata": {},
     "output_type": "execute_result"
    }
   ],
   "source": [
    "# 積\n",
    "3.5 * 1.5"
   ]
  },
  {
   "cell_type": "code",
   "execution_count": 7,
   "metadata": {
    "collapsed": false
   },
   "outputs": [
    {
     "data": {
      "text/plain": [
       "1.5"
      ]
     },
     "execution_count": 7,
     "metadata": {},
     "output_type": "execute_result"
    }
   ],
   "source": [
    "# 商\n",
    "3 / 2"
   ]
  },
  {
   "cell_type": "code",
   "execution_count": 11,
   "metadata": {
    "collapsed": false
   },
   "outputs": [
    {
     "name": "stdout",
     "output_type": "stream",
     "text": [
      "0\n",
      "0\n",
      "1\n"
     ]
    }
   ],
   "source": [
    "# 小数部分は切り捨てる割り算\n",
    "print(1 // 3)\n",
    "print(2 // 3)\n",
    "print(3 // 3)"
   ]
  },
  {
   "cell_type": "code",
   "execution_count": 12,
   "metadata": {
    "collapsed": false
   },
   "outputs": [
    {
     "data": {
      "text/plain": [
       "4"
      ]
     },
     "execution_count": 12,
     "metadata": {},
     "output_type": "execute_result"
    }
   ],
   "source": [
    "# あまりを取る\n",
    "9 % 5"
   ]
  },
  {
   "cell_type": "code",
   "execution_count": 13,
   "metadata": {
    "collapsed": false
   },
   "outputs": [
    {
     "data": {
      "text/plain": [
       "8"
      ]
     },
     "execution_count": 13,
     "metadata": {},
     "output_type": "execute_result"
    }
   ],
   "source": [
    "# べき乗\n",
    "2 ** 3"
   ]
  },
  {
   "cell_type": "code",
   "execution_count": 15,
   "metadata": {
    "collapsed": false
   },
   "outputs": [
    {
     "name": "stdout",
     "output_type": "stream",
     "text": [
      "<class 'int'>\n",
      "<class 'float'>\n",
      "3\n",
      "3.0\n"
     ]
    }
   ],
   "source": [
    "# 型\n",
    "print(type(3))   # 整数\n",
    "print(type(3.5)) # 浮動小数\n",
    "\n",
    "print(int(3.5)) # 整数にする\n",
    "print(float(3)) # 浮動小数にする"
   ]
  },
  {
   "cell_type": "code",
   "execution_count": 18,
   "metadata": {
    "collapsed": false
   },
   "outputs": [
    {
     "name": "stdout",
     "output_type": "stream",
     "text": [
      "3/4\n",
      "3.25\n",
      "13/4\n"
     ]
    }
   ],
   "source": [
    "# 分数\n",
    "from fractions import Fraction # インポートが必要\n",
    "f = Fraction(3, 4)\n",
    "print(f)\n",
    "\n",
    "print(Fraction(3, 4) + 1 + 1.5) # 浮動小数になってしまう\n",
    "print(Fraction(3, 4) + 1 + Fraction(3, 2)) # 分数で計算してくれる"
   ]
  },
  {
   "cell_type": "code",
   "execution_count": 25,
   "metadata": {
    "collapsed": false
   },
   "outputs": [
    {
     "name": "stdout",
     "output_type": "stream",
     "text": [
      "<class 'complex'>\n",
      "(2+3j)\n",
      "(5+6j)\n",
      "(-3+15j)\n",
      "(0.8333333333333334+0.16666666666666666j)\n",
      "2.0\n",
      "3.0\n",
      "(2-3j)\n",
      "3.605551275463989\n"
     ]
    }
   ],
   "source": [
    "# 複素数\n",
    "a = 2 + 3j # 虚数単位には i ではなく j を使う\n",
    "print(type(a))\n",
    "\n",
    "a = complex(2, 3) # Fraction のように書いてもいい\n",
    "print(a)\n",
    "\n",
    "b = 3 + 3j\n",
    "\n",
    "# 複素数として計算してくれる\n",
    "print(a + b)\n",
    "print(a * b)\n",
    "print(a / b)\n",
    "\n",
    "# 実部・虚部を取る\n",
    "print(a.real)\n",
    "print(a.imag)\n",
    "\n",
    "# 共役\n",
    "print(a.conjugate())\n",
    "\n",
    "# 絶対値\n",
    "print(abs(a))"
   ]
  },
  {
   "cell_type": "code",
   "execution_count": 28,
   "metadata": {
    "collapsed": false
   },
   "outputs": [
    {
     "name": "stdout",
     "output_type": "stream",
     "text": [
      "mytest\n"
     ]
    }
   ],
   "source": [
    "# ユーザの入力を受け取る\n",
    "# すごいことに Jupyter 上でもやれる\n",
    "a = input()"
   ]
  },
  {
   "cell_type": "code",
   "execution_count": 30,
   "metadata": {
    "collapsed": false
   },
   "outputs": [
    {
     "name": "stdout",
     "output_type": "stream",
     "text": [
      "1.25456\n",
      "1.25\n",
      "1.25\n",
      "1.00\n"
     ]
    }
   ],
   "source": [
    "# フォーマット: 文字列にもある\n",
    "print('{0}'.format(1.25456)) # そのまま出力\n",
    "print('{0:.2f}'.format(1.25456)) # 小数点以下 2 桁まで\n",
    "print('{0:.2f}'.format(1.25356)) # 3 桁目は四捨五入\n",
    "print('{0:.2f}'.format(1)) # 不足分は 0 詰め"
   ]
  }
 ],
 "metadata": {
  "anaconda-cloud": {},
  "kernelspec": {
   "display_name": "Python [Root]",
   "language": "python",
   "name": "Python [Root]"
  },
  "language_info": {
   "codemirror_mode": {
    "name": "ipython",
    "version": 3
   },
   "file_extension": ".py",
   "mimetype": "text/x-python",
   "name": "python",
   "nbconvert_exporter": "python",
   "pygments_lexer": "ipython3",
   "version": "3.5.1"
  }
 },
 "nbformat": 4,
 "nbformat_minor": 0
}
