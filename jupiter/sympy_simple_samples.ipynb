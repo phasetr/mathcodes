{
 "cells": [
  {
   "cell_type": "markdown",
   "metadata": {},
   "source": [
    "# この notebook を読み進める前に\n",
    "TeX 出力のためには次のコードを読み込ませること。"
   ]
  },
  {
   "cell_type": "code",
   "execution_count": 3,
   "metadata": {
    "collapsed": false
   },
   "outputs": [],
   "source": [
    "from sympy import *\n",
    "from IPython.display import display\n",
    "init_printing(use_unicode=True)\n",
    "\n",
    "# シンボル定義\n",
    "x = Symbol('x')\n",
    "y = Symbol('y')"
   ]
  },
  {
   "cell_type": "markdown",
   "metadata": {},
   "source": [
    "## サンプル"
   ]
  },
  {
   "cell_type": "code",
   "execution_count": 4,
   "metadata": {
    "collapsed": false
   },
   "outputs": [
    {
     "data": {
      "image/png": "[encoded data removed]",
      "text/latex": [
       "$$2 x - 3 y$$"
      ],
      "text/plain": [
       "2⋅x - 3⋅y"
      ]
     },
     "metadata": {},
     "output_type": "display_data"
    },
    {
     "data": {
      "image/png": "[encoded data removed]",
      "text/latex": [
       "$$\\int e^{x} \\cos{\\left (x \\right )}\\, dx = \\frac{e^{x}}{2} \\sin{\\left (x \\right )} + \\frac{e^{x}}{2} \\cos{\\left (x \\right )}$$"
      ],
      "text/plain": [
       "⌠                 x           x       \n",
       "⎮  x             ℯ ⋅sin(x)   ℯ ⋅cos(x)\n",
       "⎮ ℯ ⋅cos(x) dx = ───────── + ─────────\n",
       "⌡                    2           2    "
      ]
     },
     "metadata": {},
     "output_type": "display_data"
    }
   ],
   "source": [
    "# display で出力すると mathjax 連携してくれて素敵\n",
    "display(x + y + x - 4 * y)\n",
    "\n",
    "a = Integral(cos(x)*exp(x), x)\n",
    "display(Eq(a, a.doit()))"
   ]
  },
  {
   "cell_type": "markdown",
   "metadata": {},
   "source": [
    "# 参考サイト\n",
    "何と言ってもまずは公式。\n",
    "\n",
    "- <http://docs.sympy.org>\n",
    "\n",
    "次のサイトは sympy の結果をランダムで色々教えてくれる。\n",
    "適当に眺めるのにすごくいい。\n",
    "\n",
    "- <http://www.sympygamma.com/>"
   ]
  },
  {
   "cell_type": "markdown",
   "metadata": {},
   "source": [
    "# 単純なサンプルその 2"
   ]
  },
  {
   "cell_type": "code",
   "execution_count": 5,
   "metadata": {
    "collapsed": false
   },
   "outputs": [
    {
     "data": {
      "image/png": "[encoded data removed]",
      "text/latex": [
       "$$\\sqrt{3}$$"
      ],
      "text/plain": [
       "√3"
      ]
     },
     "metadata": {},
     "output_type": "display_data"
    },
    {
     "data": {
      "image/png": "[encoded data removed]",
      "text/latex": [
       "$$2 \\sqrt{2}$$"
      ],
      "text/plain": [
       "2⋅√2"
      ]
     },
     "metadata": {},
     "output_type": "display_data"
    },
    {
     "data": {
      "image/png": "[encoded data removed]",
      "text/latex": [
       "$$x + 2 y$$"
      ],
      "text/plain": [
       "x + 2⋅y"
      ]
     },
     "metadata": {},
     "output_type": "display_data"
    },
    {
     "data": {
      "image/png": "[encoded data removed]",
      "text/latex": [
       "$$x + 2 y + 1$$"
      ],
      "text/plain": [
       "x + 2⋅y + 1"
      ]
     },
     "metadata": {},
     "output_type": "display_data"
    },
    {
     "data": {
      "image/png": "[encoded data removed]",
      "text/latex": [
       "$$2 y$$"
      ],
      "text/plain": [
       "2⋅y"
      ]
     },
     "metadata": {},
     "output_type": "display_data"
    },
    {
     "data": {
      "image/png": "[encoded data removed]",
      "text/latex": [
       "$$x \\left(x + 2 y\\right)$$"
      ],
      "text/plain": [
       "x⋅(x + 2⋅y)"
      ]
     },
     "metadata": {},
     "output_type": "display_data"
    },
    {
     "data": {
      "image/png": "[encoded data removed]",
      "text/latex": [
       "$$x^{2} + 2 x y$$"
      ],
      "text/plain": [
       " 2        \n",
       "x  + 2⋅x⋅y"
      ]
     },
     "metadata": {},
     "output_type": "display_data"
    },
    {
     "data": {
      "image/png": "[encoded data removed]",
      "text/latex": [
       "$$x \\left(x + 2 y\\right)$$"
      ],
      "text/plain": [
       "x⋅(x + 2⋅y)"
      ]
     },
     "metadata": {},
     "output_type": "display_data"
    },
    {
     "name": "stdout",
     "output_type": "stream",
     "text": [
      "計算: diff(sin(x)*exp(x), x)\n"
     ]
    },
    {
     "data": {
      "image/png": "[encoded data removed]",
      "text/latex": [
       "$$e^{x} \\sin{\\left (x \\right )} + e^{x} \\cos{\\left (x \\right )}$$"
      ],
      "text/plain": [
       " x           x       \n",
       "ℯ ⋅sin(x) + ℯ ⋅cos(x)"
      ]
     },
     "metadata": {},
     "output_type": "display_data"
    },
    {
     "name": "stdout",
     "output_type": "stream",
     "text": [
      "計算: integrate(exp(x)*sin(x) + exp(x)*cos(x), x)\n"
     ]
    },
    {
     "data": {
      "image/png": "[encoded data removed]",
      "text/latex": [
       "$$e^{x} \\sin{\\left (x \\right )}$$"
      ],
      "text/plain": [
       " x       \n",
       "ℯ ⋅sin(x)"
      ]
     },
     "metadata": {},
     "output_type": "display_data"
    },
    {
     "name": "stdout",
     "output_type": "stream",
     "text": [
      "計算: integrate(sin(x**2), (x, -oo, oo))\n"
     ]
    },
    {
     "data": {
      "image/png": "[encoded data removed]",
      "text/latex": [
       "$$\\frac{\\sqrt{2} \\sqrt{\\pi}}{2}$$"
      ],
      "text/plain": [
       "√2⋅√π\n",
       "─────\n",
       "  2  "
      ]
     },
     "metadata": {},
     "output_type": "display_data"
    },
    {
     "name": "stdout",
     "output_type": "stream",
     "text": [
      "計算: limit(sin(x)/x, x, 0)\n"
     ]
    },
    {
     "data": {
      "image/png": "[encoded data removed]",
      "text/latex": [
       "$$1$$"
      ],
      "text/plain": [
       "1"
      ]
     },
     "metadata": {},
     "output_type": "display_data"
    },
    {
     "name": "stdout",
     "output_type": "stream",
     "text": [
      "計算: solve(x**2 - 2, x)\n"
     ]
    },
    {
     "data": {
      "image/png": "[encoded data removed]",
      "text/latex": [
       "$$\\left [ - \\sqrt{2}, \\quad \\sqrt{2}\\right ]$$"
      ],
      "text/plain": [
       "[-√2, √2]"
      ]
     },
     "metadata": {},
     "output_type": "display_data"
    },
    {
     "name": "stdout",
     "output_type": "stream",
     "text": [
      "微分方程式の解: y\" - y = e ** t\n"
     ]
    },
    {
     "data": {
      "image/png": "[encoded data removed]",
      "text/latex": [
       "$$f{\\left (t \\right )} = C_{2} e^{- t} + \\left(C_{1} + \\frac{t}{2}\\right) e^{t}$$"
      ],
      "text/plain": [
       "           -t   ⎛     t⎞  t\n",
       "f(t) = C₂⋅ℯ   + ⎜C₁ + ─⎟⋅ℯ \n",
       "                ⎝     2⎠   "
      ]
     },
     "metadata": {},
     "output_type": "display_data"
    },
    {
     "name": "stdout",
     "output_type": "stream",
     "text": [
      "行列の固有値: Matrix([[1, 2], [2, 2]]).eigenvals()\n"
     ]
    },
    {
     "data": {
      "image/png": "[encoded data removed]",
      "text/latex": [
       "$$\\left \\{ \\frac{3}{2} + \\frac{\\sqrt{17}}{2} : 1, \\quad - \\frac{\\sqrt{17}}{2} + \\frac{3}{2} : 1\\right \\}$$"
      ],
      "text/plain": [
       "⎧3   √17       √17   3   ⎫\n",
       "⎨─ + ───: 1, - ─── + ─: 1⎬\n",
       "⎩2    2         2    2   ⎭"
      ]
     },
     "metadata": {},
     "output_type": "display_data"
    },
    {
     "name": "stdout",
     "output_type": "stream",
     "text": [
      "ベッセル関数を球ベッセル関数で書く\n",
      "besselj(nu, z).rewrite(jn)\n"
     ]
    },
    {
     "data": {
      "image/png": "[encoded data removed]",
      "text/latex": [
       "$$\\frac{\\sqrt{2} \\sqrt{z}}{\\sqrt{\\pi}} j_{\\nu - \\frac{1}{2}}\\left(z\\right)$$"
      ],
      "text/plain": [
       "√2⋅√z⋅jn(ν - 1/2, z)\n",
       "────────────────────\n",
       "         √π         "
      ]
     },
     "metadata": {},
     "output_type": "display_data"
    },
    {
     "name": "stdout",
     "output_type": "stream",
     "text": [
      "LaTeX にする\n",
      "latex(Integral(cos(x)**2, (x, 0, pi)))\n"
     ]
    },
    {
     "data": {
      "text/plain": [
       "'\\\\int_{0}^{\\\\pi} \\\\cos^{2}{\\\\left (x \\\\right )}\\\\, dx'"
      ]
     },
     "metadata": {},
     "output_type": "display_data"
    }
   ],
   "source": [
    "import sympy\n",
    "display(sympy.sqrt(3))\n",
    "\n",
    "# 勝手に計算やってくれるので素敵\n",
    "display(sympy.sqrt(8))\n",
    "\n",
    "from sympy import symbols\n",
    "x, y = symbols('x y')\n",
    "expr = x + 2*y\n",
    "display(expr)\n",
    "display(expr + 1)\n",
    "display(expr - x)\n",
    "display(x*expr)\n",
    "\n",
    "from sympy import expand, factor\n",
    "expanded_expr = expand(x*expr)\n",
    "display(expanded_expr)\n",
    "display(factor(expanded_expr))\n",
    "\n",
    "from sympy import *\n",
    "x, t, z, nu = symbols('x t z nu')\n",
    "\n",
    "print('計算: diff(sin(x)*exp(x), x)')\n",
    "display(diff(sin(x)*exp(x), x))\n",
    "\n",
    "print('計算: integrate(exp(x)*sin(x) + exp(x)*cos(x), x)')\n",
    "display(integrate(exp(x)*sin(x) + exp(x)*cos(x), x))\n",
    "\n",
    "print('計算: integrate(sin(x**2), (x, -oo, oo))')\n",
    "display(integrate(sin(x**2), (x, -oo, oo)))\n",
    "\n",
    "print('計算: limit(sin(x)/x, x, 0)')\n",
    "display(limit(sin(x)/x, x, 0))\n",
    "\n",
    "print('計算: solve(x**2 - 2, x)')\n",
    "display(solve(x**2 - 2, x))\n",
    "\n",
    "print('微分方程式の解: y\" - y = e ** t')\n",
    "f = Function('f')\n",
    "display(dsolve(Eq(f(t).diff(t, t) - f(t), exp(t)), f(t)))\n",
    "\n",
    "print('行列の固有値: Matrix([[1, 2], [2, 2]]).eigenvals()')\n",
    "display(Matrix([[1, 2], [2, 2]]).eigenvals())\n",
    "\n",
    "print('ベッセル関数を球ベッセル関数で書く')\n",
    "print('besselj(nu, z).rewrite(jn)')\n",
    "display(besselj(nu, z).rewrite(jn))\n",
    "\n",
    "print('LaTeX にする')\n",
    "print('latex(Integral(cos(x)**2, (x, 0, pi)))')\n",
    "display(latex(Integral(cos(x)**2, (x, 0, pi))))"
   ]
  },
  {
   "cell_type": "markdown",
   "metadata": {},
   "source": [
    "# 数値の計算"
   ]
  },
  {
   "cell_type": "code",
   "execution_count": 19,
   "metadata": {
    "collapsed": false
   },
   "outputs": [
    {
     "data": {
      "image/png": "[encoded data removed]",
      "text/latex": [
       "$$\\pi^{2}$$"
      ],
      "text/plain": [
       " 2\n",
       "π "
      ]
     },
     "metadata": {},
     "output_type": "display_data"
    },
    {
     "data": {
      "image/png": "[encoded data removed]",
      "text/latex": [
       "$$3.14159265358979$$"
      ],
      "text/plain": [
       "3.14159265358979"
      ]
     },
     "metadata": {},
     "output_type": "display_data"
    },
    {
     "data": {
      "image/png": "[encoded data removed]",
      "text/latex": [
       "$$5.85987448204884$$"
      ],
      "text/plain": [
       "5.85987448204884"
      ]
     },
     "metadata": {},
     "output_type": "display_data"
    },
    {
     "data": {
      "image/png": "[encoded data removed]",
      "text/latex": [
       "$$1.414213562373095048801688724209698078569671875376948073176679737990732478462107038850387534327641573$$"
      ],
      "text/plain": [
       "1.4142135623730950488016887242096980785696718753769480731766797379907324784621\n",
       "07038850387534327641573"
      ]
     },
     "metadata": {},
     "output_type": "display_data"
    },
    {
     "name": "stdout",
     "output_type": "stream",
     "text": [
      "無限大\n"
     ]
    },
    {
     "data": {
      "image/png": "[encoded data removed]",
      "text/latex": [
       "$$\\infty$$"
      ],
      "text/plain": [
       "∞"
      ]
     },
     "metadata": {},
     "output_type": "display_data"
    },
    {
     "data": {
      "image/png": "[encoded data removed]",
      "text/latex": [
       "$$\\mathrm{True}$$"
      ],
      "text/plain": [
       "True"
      ]
     },
     "metadata": {},
     "output_type": "display_data"
    },
    {
     "data": {
      "image/png": "[encoded data removed]",
      "text/latex": [
       "$$\\infty$$"
      ],
      "text/plain": [
       "∞"
      ]
     },
     "metadata": {},
     "output_type": "display_data"
    }
   ],
   "source": [
    "display(pi**2)\n",
    "display(pi.evalf())\n",
    "display((pi + exp(1)).evalf())\n",
    "\n",
    "print('sqrt(2) を 100 桁まで評価')\n",
    "display(sqrt(2).evalf(100))\n",
    "\n",
    "print('無限大')\n",
    "display(oo)\n",
    "display(oo > 99999)\n",
    "display(oo + 1)"
   ]
  },
  {
   "cell_type": "markdown",
   "metadata": {},
   "source": [
    "# 展開"
   ]
  },
  {
   "cell_type": "code",
   "execution_count": 20,
   "metadata": {
    "collapsed": false
   },
   "outputs": [
    {
     "data": {
      "image/png": "[encoded data removed]",
      "text/latex": [
       "$$\\Re{x} + \\Re{y} + i \\Im{x} + i \\Im{y}$$"
      ],
      "text/plain": [
       "re(x) + re(y) + ⅈ⋅im(x) + ⅈ⋅im(y)"
      ]
     },
     "metadata": {},
     "output_type": "display_data"
    },
    {
     "data": {
      "image/png": "[encoded data removed]",
      "text/latex": [
       "$$\\Re{x} + \\Re{y} + i \\Im{x} + i \\Im{y}$$"
      ],
      "text/plain": [
       "re(x) + re(y) + ⅈ⋅im(x) + ⅈ⋅im(y)"
      ]
     },
     "metadata": {},
     "output_type": "display_data"
    },
    {
     "data": {
      "image/png": "[encoded data removed]",
      "text/latex": [
       "$$- \\sin{\\left (x \\right )} \\sin{\\left (y \\right )} + \\cos{\\left (x \\right )} \\cos{\\left (y \\right )}$$"
      ],
      "text/plain": [
       "-sin(x)⋅sin(y) + cos(x)⋅cos(y)"
      ]
     },
     "metadata": {},
     "output_type": "display_data"
    },
    {
     "data": {
      "image/png": "[encoded data removed]",
      "text/latex": [
       "$$- \\sin{\\left (x \\right )} \\sin{\\left (y \\right )} + \\cos{\\left (x \\right )} \\cos{\\left (y \\right )}$$"
      ],
      "text/plain": [
       "-sin(x)⋅sin(y) + cos(x)⋅cos(y)"
      ]
     },
     "metadata": {},
     "output_type": "display_data"
    }
   ],
   "source": [
    "display(expand(x + y, complex=True))\n",
    "display(I*im(x) + I*im(y) + re(x) + re(y))\n",
    "display(expand(cos(x + y), trig=True))\n",
    "display(cos(x)*cos(y) - sin(x)*sin(y))"
   ]
  },
  {
   "cell_type": "markdown",
   "metadata": {},
   "source": [
    "# 多項式"
   ]
  },
  {
   "cell_type": "code",
   "execution_count": 9,
   "metadata": {
    "collapsed": false
   },
   "outputs": [
    {
     "data": {
      "image/png": "[encoded data removed]",
      "text/latex": [
       "$$\\left(x + y\\right)^{5}$$"
      ],
      "text/plain": [
       "       5\n",
       "(x + y) "
      ]
     },
     "metadata": {},
     "output_type": "display_data"
    },
    {
     "name": "stdout",
     "output_type": "stream",
     "text": [
      "多項式を展開してくれる: (x + y)**5\n"
     ]
    },
    {
     "data": {
      "image/png": "[encoded data removed]",
      "text/latex": [
       "$$x^{5} + 5 x^{4} y + 10 x^{3} y^{2} + 10 x^{2} y^{3} + 5 x y^{4} + y^{5}$$"
      ],
      "text/plain": [
       " 5      4         3  2       2  3        4    5\n",
       "x  + 5⋅x ⋅y + 10⋅x ⋅y  + 10⋅x ⋅y  + 5⋅x⋅y  + y "
      ]
     },
     "metadata": {},
     "output_type": "display_data"
    },
    {
     "name": "stdout",
     "output_type": "stream",
     "text": [
      "式を単純化: (x + x**2)/(x*sin(y)**2 + x*cos(y)**2)\n"
     ]
    },
    {
     "data": {
      "image/png": "[encoded data removed]",
      "text/latex": [
       "$$x + 1$$"
      ],
      "text/plain": [
       "x + 1"
      ]
     },
     "metadata": {},
     "output_type": "display_data"
    },
    {
     "name": "stdout",
     "output_type": "stream",
     "text": [
      "多項式の割り算: div(x**2 - 4 + x, x-2)\n"
     ]
    },
    {
     "data": {
      "image/png": "[encoded data removed]",
      "text/latex": [
       "$$\\left ( x + 3, \\quad 2\\right )$$"
      ],
      "text/plain": [
       "(x + 3, 2)"
      ]
     },
     "metadata": {},
     "output_type": "display_data"
    },
    {
     "name": "stdout",
     "output_type": "stream",
     "text": [
      "最大公約数: gcd(2*x**2 + 6*x, 12*x)\n"
     ]
    },
    {
     "data": {
      "image/png": "[encoded data removed]",
      "text/latex": [
       "$$2 x$$"
      ],
      "text/plain": [
       "2⋅x"
      ]
     },
     "metadata": {},
     "output_type": "display_data"
    },
    {
     "name": "stdout",
     "output_type": "stream",
     "text": [
      "最小公倍数: lcm(2*x**2 + 6*x, 12*x)\n"
     ]
    },
    {
     "data": {
      "image/png": "[encoded data removed]",
      "text/latex": [
       "$$12 x^{2} + 36 x$$"
      ],
      "text/plain": [
       "    2       \n",
       "12⋅x  + 36⋅x"
      ]
     },
     "metadata": {},
     "output_type": "display_data"
    },
    {
     "name": "stdout",
     "output_type": "stream",
     "text": [
      "因数分解: factor(x**4/2 + 5*x**3/12 - x**2/3)\n"
     ]
    },
    {
     "data": {
      "image/png": "[encoded data removed]",
      "text/latex": [
       "$$\\frac{x^{2}}{12} \\left(2 x - 1\\right) \\left(3 x + 4\\right)$$"
      ],
      "text/plain": [
       " 2                    \n",
       "x ⋅(2⋅x - 1)⋅(3⋅x + 4)\n",
       "──────────────────────\n",
       "          12          "
      ]
     },
     "metadata": {},
     "output_type": "display_data"
    },
    {
     "name": "stdout",
     "output_type": "stream",
     "text": [
      "多変数の因数分解: factor(x**2 + 4*x*y + 4*y**2)\n"
     ]
    },
    {
     "data": {
      "image/png": "[encoded data removed]",
      "text/latex": [
       "$$\\left(x + 2 y\\right)^{2}$$"
      ],
      "text/plain": [
       "         2\n",
       "(x + 2⋅y) "
      ]
     },
     "metadata": {},
     "output_type": "display_data"
    },
    {
     "name": "stdout",
     "output_type": "stream",
     "text": [
      "根を求める: solve(x**2 + 4*x*y + 4*y**2)\n"
     ]
    },
    {
     "data": {
      "image/png": "[encoded data removed]",
      "text/latex": [
       "$$\\left [ \\left \\{ x : - 2 y\\right \\}\\right ]$$"
      ],
      "text/plain": [
       "[{x: -2⋅y}]"
      ]
     },
     "metadata": {},
     "output_type": "display_data"
    },
    {
     "name": "stdout",
     "output_type": "stream",
     "text": [
      "根を求める: solve(x**2 + 4*x*y + 4*y**2, y)\n"
     ]
    },
    {
     "data": {
      "image/png": "[encoded data removed]",
      "text/latex": [
       "$$\\left [ - \\frac{x}{2}\\right ]$$"
      ],
      "text/plain": [
       "⎡-x ⎤\n",
       "⎢───⎥\n",
       "⎣ 2 ⎦"
      ]
     },
     "metadata": {},
     "output_type": "display_data"
    },
    {
     "name": "stdout",
     "output_type": "stream",
     "text": [
      "複雑な根を求める: solve(x**2 + 4*x + 181, x)\n"
     ]
    },
    {
     "data": {
      "image/png": "[encoded data removed]",
      "text/latex": [
       "$$\\left [ -2 - \\sqrt{177} i, \\quad -2 + \\sqrt{177} i\\right ]$$"
      ],
      "text/plain": [
       "[-2 - √177⋅ⅈ, -2 + √177⋅ⅈ]"
      ]
     },
     "metadata": {},
     "output_type": "display_data"
    },
    {
     "name": "stdout",
     "output_type": "stream",
     "text": [
      "無理数解: solve(x**3 + 4*x + 181, x)\n"
     ]
    },
    {
     "data": {
      "image/png": "[encoded data removed]",
      "text/latex": [
       "$$\\left [ \\frac{4}{\\left(- \\frac{1}{2} - \\frac{\\sqrt{3} i}{2}\\right) \\sqrt[3]{\\frac{4887}{2} + \\frac{3 \\sqrt{2654409}}{2}}} - \\frac{1}{3} \\left(- \\frac{1}{2} - \\frac{\\sqrt{3} i}{2}\\right) \\sqrt[3]{\\frac{4887}{2} + \\frac{3 \\sqrt{2654409}}{2}}, \\quad - \\frac{1}{3} \\left(- \\frac{1}{2} + \\frac{\\sqrt{3} i}{2}\\right) \\sqrt[3]{\\frac{4887}{2} + \\frac{3 \\sqrt{2654409}}{2}} + \\frac{4}{\\left(- \\frac{1}{2} + \\frac{\\sqrt{3} i}{2}\\right) \\sqrt[3]{\\frac{4887}{2} + \\frac{3 \\sqrt{2654409}}{2}}}, \\quad - \\frac{1}{3} \\sqrt[3]{\\frac{4887}{2} + \\frac{3 \\sqrt{2654409}}{2}} + \\frac{4}{\\sqrt[3]{\\frac{4887}{2} + \\frac{3 \\sqrt{2654409}}{2}}}\\right ]$$"
      ],
      "text/plain": [
       "⎡                                                        ___________________  \n",
       "⎢                                       ⎛  1   √3⋅ⅈ⎞    ╱ 4887   3⋅√2654409   \n",
       "⎢                                       ⎜- ─ - ────⎟⋅3 ╱  ──── + ──────────   \n",
       "⎢                 4                     ⎝  2    2  ⎠ ╲╱    2         2        \n",
       "⎢──────────────────────────────────── - ────────────────────────────────────, \n",
       "⎢                 ___________________                    3                    \n",
       "⎢⎛  1   √3⋅ⅈ⎞    ╱ 4887   3⋅√2654409                                          \n",
       "⎢⎜- ─ - ────⎟⋅3 ╱  ──── + ──────────                                          \n",
       "⎣⎝  2    2  ⎠ ╲╱    2         2                                               \n",
       "\n",
       "                   ___________________                                        \n",
       "  ⎛  1   √3⋅ⅈ⎞    ╱ 4887   3⋅√2654409                                         \n",
       "  ⎜- ─ + ────⎟⋅3 ╱  ──── + ──────────                                         \n",
       "  ⎝  2    2  ⎠ ╲╱    2         2                          4                   \n",
       "- ──────────────────────────────────── + ────────────────────────────────────,\n",
       "                   3                                      ___________________ \n",
       "                                         ⎛  1   √3⋅ⅈ⎞    ╱ 4887   3⋅√2654409  \n",
       "                                         ⎜- ─ + ────⎟⋅3 ╱  ──── + ──────────  \n",
       "                                         ⎝  2    2  ⎠ ╲╱    2         2       \n",
       "\n",
       "       ___________________                          ⎤\n",
       "      ╱ 4887   3⋅√2654409                           ⎥\n",
       "   3 ╱  ──── + ──────────                           ⎥\n",
       "   ╲╱    2         2                    4           ⎥\n",
       " - ─────────────────────── + ───────────────────────⎥\n",
       "              3                  ___________________⎥\n",
       "                                ╱ 4887   3⋅√2654409 ⎥\n",
       "                             3 ╱  ──── + ────────── ⎥\n",
       "                             ╲╱    2         2      ⎦"
      ]
     },
     "metadata": {},
     "output_type": "display_data"
    },
    {
     "name": "stdout",
     "output_type": "stream",
     "text": [
      "多変数多項式を解く: solve_poly_system([y**2 - x**3 + 1, y*x], x, y)\n"
     ]
    },
    {
     "data": {
      "image/png": "[encoded data removed]",
      "text/latex": [
       "$$\\left [ \\left ( 0, \\quad - i\\right ), \\quad \\left ( 0, \\quad i\\right ), \\quad \\left ( 1, \\quad 0\\right ), \\quad \\left ( - \\frac{1}{2} - \\frac{\\sqrt{3} i}{2}, \\quad 0\\right ), \\quad \\left ( - \\frac{1}{2} + \\frac{\\sqrt{3} i}{2}, \\quad 0\\right )\\right ]$$"
      ],
      "text/plain": [
       "⎡                         ⎛  1   √3⋅ⅈ   ⎞  ⎛  1   √3⋅ⅈ   ⎞⎤\n",
       "⎢(0, -ⅈ), (0, ⅈ), (1, 0), ⎜- ─ - ────, 0⎟, ⎜- ─ + ────, 0⎟⎥\n",
       "⎣                         ⎝  2    2     ⎠  ⎝  2    2     ⎠⎦"
      ]
     },
     "metadata": {},
     "output_type": "display_data"
    }
   ],
   "source": [
    "expr = (x + y)**5\n",
    "display(expr)\n",
    "print('多項式を展開してくれる: (x + y)**5')\n",
    "display(expand(expr))\n",
    "\n",
    "a = (x + x**2)/(x*sin(y)**2 + x*cos(y)**2)\n",
    "print('式を単純化: (x + x**2)/(x*sin(y)**2 + x*cos(y)**2)')\n",
    "display(simplify(a))\n",
    "\n",
    "print('多項式の割り算: div(x**2 - 4 + x, x-2)')\n",
    "display(div(x**2 - 4 + x, x-2))\n",
    "print('最大公約数: gcd(2*x**2 + 6*x, 12*x)')\n",
    "display(gcd(2*x**2 + 6*x, 12*x))\n",
    "print('最小公倍数: lcm(2*x**2 + 6*x, 12*x)')\n",
    "display(lcm(2*x**2 + 6*x, 12*x))\n",
    "print('因数分解: factor(x**4/2 + 5*x**3/12 - x**2/3)')\n",
    "display(factor(x**4/2 + 5*x**3/12 - x**2/3))\n",
    "print('多変数の因数分解: factor(x**2 + 4*x*y + 4*y**2)')\n",
    "display(factor(x**2 + 4*x*y + 4*y**2))\n",
    "print('根を求める: solve(x**2 + 4*x*y + 4*y**2)')\n",
    "display(solve(x**2 + 4*x*y + 4*y**2))\n",
    "print('根を求める: solve(x**2 + 4*x*y + 4*y**2, y)')\n",
    "display(solve(x**2 + 4*x*y + 4*y**2, y))\n",
    "print('複雑な根を求める: solve(x**2 + 4*x + 181, x)')\n",
    "display(solve(x**2 + 4*x + 181, x))\n",
    "print('無理数解: solve(x**3 + 4*x + 181, x)')\n",
    "display(solve(x**3 + 4*x + 181, x))\n",
    "print('多変数多項式を解く: solve_poly_system([y**2 - x**3 + 1, y*x], x, y)')\n",
    "display(solve_poly_system([y**2 - x**3 + 1, y*x], x, y))"
   ]
  },
  {
   "cell_type": "markdown",
   "metadata": {},
   "source": [
    "# 関数の評価"
   ]
  },
  {
   "cell_type": "code",
   "execution_count": 7,
   "metadata": {
    "collapsed": false
   },
   "outputs": [
    {
     "data": {
      "image/png": "[encoded data removed]",
      "text/latex": [
       "$$x^{2} + 3 x + 2$$"
      ],
      "text/plain": [
       " 2          \n",
       "x  + 3⋅x + 2"
      ]
     },
     "metadata": {},
     "output_type": "display_data"
    },
    {
     "data": {
      "image/png": "[encoded data removed]",
      "text/latex": [
       "$$6$$"
      ],
      "text/plain": [
       "6"
      ]
     },
     "metadata": {},
     "output_type": "display_data"
    }
   ],
   "source": [
    "f = x**2 + 3*x + 2 \n",
    "display(f)\n",
    "f1 = f.subs([(x, 1)])\n",
    "display(f1)"
   ]
  },
  {
   "cell_type": "markdown",
   "metadata": {},
   "source": [
    "# 方程式をある変数で解く"
   ]
  },
  {
   "cell_type": "code",
   "execution_count": 26,
   "metadata": {
    "collapsed": false
   },
   "outputs": [
    {
     "data": {
      "image/png": "[encoded data removed]",
      "text/latex": [
       "$$\\log{\\left (y \\right )} \\cos{\\left (x \\right )} + \\frac{2}{y}$$"
      ],
      "text/plain": [
       "                2\n",
       "log(y)⋅cos(x) + ─\n",
       "                y"
      ]
     },
     "metadata": {},
     "output_type": "display_data"
    },
    {
     "data": {
      "image/png": "[encoded data removed]",
      "text/latex": [
       "$$\\left [ - \\operatorname{acos}{\\left (- \\frac{2}{y \\log{\\left (y \\right )}} \\right )} + 2 \\pi, \\quad \\operatorname{acos}{\\left (- \\frac{2}{y \\log{\\left (y \\right )}} \\right )}\\right ]$$"
      ],
      "text/plain": [
       "⎡      ⎛  -2    ⎞            ⎛  -2    ⎞⎤\n",
       "⎢- acos⎜────────⎟ + 2⋅π, acos⎜────────⎟⎥\n",
       "⎣      ⎝y⋅log(y)⎠            ⎝y⋅log(y)⎠⎦"
      ]
     },
     "metadata": {},
     "output_type": "display_data"
    },
    {
     "data": {
      "image/png": "[encoded data removed]",
      "text/latex": [
       "$$\\left [ -1, \\quad 1, \\quad - i, \\quad i\\right ]$$"
      ],
      "text/plain": [
       "[-1, 1, -ⅈ, ⅈ]"
      ]
     },
     "metadata": {},
     "output_type": "display_data"
    },
    {
     "data": {
      "image/png": "[encoded data removed]",
      "text/latex": [
       "$$\\left \\{ x : -3, \\quad y : 1\\right \\}$$"
      ],
      "text/plain": [
       "{x: -3, y: 1}"
      ]
     },
     "metadata": {},
     "output_type": "display_data"
    },
    {
     "name": "stdout",
     "output_type": "stream",
     "text": [
      "超越方程式も一部サポート\n"
     ]
    },
    {
     "data": {
      "image/png": "[encoded data removed]",
      "text/latex": [
       "$$\\left [ i \\pi\\right ]$$"
      ],
      "text/plain": [
       "[ⅈ⋅π]"
      ]
     },
     "metadata": {},
     "output_type": "display_data"
    },
    {
     "data": {
      "image/png": "[encoded data removed]",
      "text/latex": [
       "$$\\left(x^{2} - x - 1\\right) \\left(x^{2} + x - 1\\right)$$"
      ],
      "text/plain": [
       "⎛ 2        ⎞ ⎛ 2        ⎞\n",
       "⎝x  - x - 1⎠⋅⎝x  + x - 1⎠"
      ]
     },
     "metadata": {},
     "output_type": "display_data"
    },
    {
     "data": {
      "image/png": "[encoded data removed]",
      "text/latex": [
       "$$\\left(x - 2\\right)^{2} \\left(x + 2\\right)^{2}$$"
      ],
      "text/plain": [
       "       2        2\n",
       "(x - 2) ⋅(x + 2) "
      ]
     },
     "metadata": {},
     "output_type": "display_data"
    }
   ],
   "source": [
    "expr = cos(x) * ln(y) + 2/y\n",
    "display(expr)\n",
    "display(solve(expr, x))\n",
    "display(solve(x**4 - 1, x))\n",
    "display(solve([x + 5*y - 2, -3*x + 6*y - 15], [x, y]))\n",
    "\n",
    "f = x**4 - 3*x**2 + 1\n",
    "display(factor(f))\n",
    "display(factor(f, modulus=5))\n",
    "\n",
    "print('超越方程式も一部サポート') \n",
    "display(solve(exp(x) + 1, x))"
   ]
  },
  {
   "cell_type": "markdown",
   "metadata": {},
   "source": [
    "# 論理式"
   ]
  },
  {
   "cell_type": "code",
   "execution_count": 27,
   "metadata": {
    "collapsed": false
   },
   "outputs": [
    {
     "data": {
      "text/plain": [
       "{y: True, x: True}"
      ]
     },
     "metadata": {},
     "output_type": "display_data"
    },
    {
     "data": {
      "text/plain": [
       "False"
      ]
     },
     "metadata": {},
     "output_type": "display_data"
    }
   ],
   "source": [
    "display(satisfiable(x & y))\n",
    "display(satisfiable(x & ~x))"
   ]
  },
  {
   "cell_type": "markdown",
   "metadata": {},
   "source": [
    "# 連立方程式を解く"
   ]
  },
  {
   "cell_type": "code",
   "execution_count": 22,
   "metadata": {
    "collapsed": false,
    "scrolled": true
   },
   "outputs": [
    {
     "data": {
      "image/png": "[encoded data removed]",
      "text/latex": [
       "$$x y z + 234$$"
      ],
      "text/plain": [
       "x⋅y⋅z + 234"
      ]
     },
     "metadata": {},
     "output_type": "display_data"
    },
    {
     "data": {
      "image/png": "[encoded data removed]",
      "text/latex": [
       "$$x + y + z - 20$$"
      ],
      "text/plain": [
       "x + y + z - 20"
      ]
     },
     "metadata": {},
     "output_type": "display_data"
    },
    {
     "data": {
      "image/png": "[encoded data removed]",
      "text/latex": [
       "$$5 x - y + 2 z - 85$$"
      ],
      "text/plain": [
       "5⋅x - y + 2⋅z - 85"
      ]
     },
     "metadata": {},
     "output_type": "display_data"
    },
    {
     "data": {
      "image/png": "[encoded data removed]",
      "text/latex": [
       "$$\\left [ \\left ( 13, \\quad -2, \\quad 9\\right ), \\quad \\left ( - \\frac{9 \\sqrt{17}}{4} + \\frac{39}{4}, \\quad - \\frac{9 \\sqrt{17}}{4} - \\frac{21}{4}, \\quad \\frac{31}{2} + \\frac{9 \\sqrt{17}}{2}\\right ), \\quad \\left ( \\frac{9 \\sqrt{17}}{4} + \\frac{39}{4}, \\quad - \\frac{21}{4} + \\frac{9 \\sqrt{17}}{4}, \\quad - \\frac{9 \\sqrt{17}}{2} + \\frac{31}{2}\\right )\\right ]$$"
      ],
      "text/plain": [
       "⎡             ⎛  9⋅√17   39    9⋅√17   21  31   9⋅√17⎞  ⎛9⋅√17   39    21   9⋅\n",
       "⎢(13, -2, 9), ⎜- ───── + ──, - ───── - ──, ── + ─────⎟, ⎜───── + ──, - ── + ──\n",
       "⎣             ⎝    4     4       4     4   2      2  ⎠  ⎝  4     4     4      \n",
       "\n",
       "√17    9⋅√17   31⎞⎤\n",
       "───, - ───── + ──⎟⎥\n",
       "4        2     2 ⎠⎦"
      ]
     },
     "execution_count": 22,
     "metadata": {},
     "output_type": "execute_result"
    }
   ],
   "source": [
    "x, y, z = symbols('x y z')\n",
    "eq1 = x * y * z + 234\n",
    "eq2 = x + y + z - 20\n",
    "eq3 = 5 * x - y + 2 * z - 85\n",
    "display(eq1)\n",
    "display(eq2)\n",
    "display(eq3)\n",
    "solve([eq1,eq2,eq3], [x,y,z])"
   ]
  },
  {
   "cell_type": "markdown",
   "metadata": {},
   "source": [
    "# 線型代数"
   ]
  },
  {
   "cell_type": "code",
   "execution_count": 28,
   "metadata": {
    "collapsed": false
   },
   "outputs": [
    {
     "data": {
      "image/png": "[encoded data removed]",
      "text/latex": [
       "$$\\left[\\begin{matrix}1 & 0\\\\0 & 1\\end{matrix}\\right]$$"
      ],
      "text/plain": [
       "⎡1  0⎤\n",
       "⎢    ⎥\n",
       "⎣0  1⎦"
      ]
     },
     "metadata": {},
     "output_type": "display_data"
    },
    {
     "name": "stdout",
     "output_type": "stream",
     "text": [
      "Numpy と違ってシンボルを含む行列が書ける\n"
     ]
    },
    {
     "data": {
      "image/png": "[encoded data removed]",
      "text/latex": [
       "$$\\left[\\begin{matrix}1 & x\\\\y & 1\\end{matrix}\\right]$$"
      ],
      "text/plain": [
       "⎡1  x⎤\n",
       "⎢    ⎥\n",
       "⎣y  1⎦"
      ]
     },
     "metadata": {},
     "output_type": "display_data"
    },
    {
     "data": {
      "image/png": "[encoded data removed]",
      "text/latex": [
       "$$\\left[\\begin{matrix}x y + 1 & 2 x\\\\2 y & x y + 1\\end{matrix}\\right]$$"
      ],
      "text/plain": [
       "⎡x⋅y + 1    2⋅x  ⎤\n",
       "⎢                ⎥\n",
       "⎣  2⋅y    x⋅y + 1⎦"
      ]
     },
     "metadata": {},
     "output_type": "display_data"
    }
   ],
   "source": [
    "from sympy import Matrix\n",
    "display(Matrix([[1,0], [0,1]]))\n",
    "\n",
    "print('Numpy と違ってシンボルを含む行列が書ける')\n",
    "x = Symbol('x')\n",
    "y = Symbol('y')\n",
    "A = Matrix([[1,x], [y,1]])\n",
    "display(A)\n",
    "display(A**2)"
   ]
  },
  {
   "cell_type": "markdown",
   "metadata": {},
   "source": [
    "# 微分積分"
   ]
  },
  {
   "cell_type": "markdown",
   "metadata": {},
   "source": [
    "## 極限"
   ]
  },
  {
   "cell_type": "code",
   "execution_count": 16,
   "metadata": {
    "collapsed": false
   },
   "outputs": [
    {
     "data": {
      "image/png": "[encoded data removed]",
      "text/latex": [
       "$$-\\infty$$"
      ],
      "text/plain": [
       "-∞"
      ]
     },
     "metadata": {},
     "output_type": "display_data"
    },
    {
     "data": {
      "image/png": "[encoded data removed]",
      "text/latex": [
       "$$\\infty$$"
      ],
      "text/plain": [
       "∞"
      ]
     },
     "metadata": {},
     "output_type": "display_data"
    },
    {
     "data": {
      "image/png": "[encoded data removed]",
      "text/latex": [
       "$$1$$"
      ],
      "text/plain": [
       "1"
      ]
     },
     "metadata": {},
     "output_type": "display_data"
    },
    {
     "data": {
      "image/png": "[encoded data removed]",
      "text/latex": [
       "$$0$$"
      ],
      "text/plain": [
       "0"
      ]
     },
     "metadata": {},
     "output_type": "display_data"
    }
   ],
   "source": [
    "display(limit(tan(x), x, pi/2))\n",
    "display(limit(tan(x), x, pi/2, dir=\"-\"))\n",
    "display(limit(sin(x)/x, x, 0))\n",
    "# 無限大は oo で\n",
    "display(limit(sin(x)/x, x, oo))"
   ]
  },
  {
   "cell_type": "markdown",
   "metadata": {},
   "source": [
    "## 微分"
   ]
  },
  {
   "cell_type": "code",
   "execution_count": 9,
   "metadata": {
    "collapsed": false
   },
   "outputs": [
    {
     "name": "stdout",
     "output_type": "stream",
     "text": [
      "微分\n"
     ]
    },
    {
     "data": {
      "image/png": "[encoded data removed]",
      "text/latex": [
       "$$\\frac{x^{2} \\cos{\\left (x \\right )}}{\\tan{\\left (\\cot{\\left (x \\right )} \\right )} + 1} - \\frac{x^{2} \\sin{\\left (x \\right )}}{\\left(\\tan{\\left (\\cot{\\left (x \\right )} \\right )} + 1\\right)^{2}} \\left(\\tan^{2}{\\left (\\cot{\\left (x \\right )} \\right )} + 1\\right) \\left(- \\cot^{2}{\\left (x \\right )} - 1\\right) + \\frac{2 x \\sin{\\left (x \\right )}}{\\tan{\\left (\\cot{\\left (x \\right )} \\right )} + 1}$$"
      ],
      "text/plain": [
       "    2              2 ⎛   2            ⎞ ⎛     2       ⎞                       \n",
       "   x ⋅cos(x)      x ⋅⎝tan (cot(x)) + 1⎠⋅⎝- cot (x) - 1⎠⋅sin(x)      2⋅x⋅sin(x)\n",
       "─────────────── - ──────────────────────────────────────────── + ─────────────\n",
       "tan(cot(x)) + 1                                 2                tan(cot(x)) +\n",
       "                               (tan(cot(x)) + 1)                              \n",
       "\n",
       "  \n",
       "  \n",
       "──\n",
       " 1\n",
       "  "
      ]
     },
     "metadata": {},
     "output_type": "display_data"
    },
    {
     "data": {
      "image/png": "[encoded data removed]",
      "text/latex": [
       "$$x \\left(- \\cot^{2}{\\left (x y \\right )} - 1\\right)$$"
      ],
      "text/plain": [
       "  ⎛     2         ⎞\n",
       "x⋅⎝- cot (x⋅y) - 1⎠"
      ]
     },
     "metadata": {},
     "output_type": "display_data"
    },
    {
     "data": {
      "image/png": "[encoded data removed]",
      "text/latex": [
       "$$2 y{\\left (x \\right )} \\frac{d}{d x} y{\\left (x \\right )} - 5 \\cos{\\left (x \\right )}$$"
      ],
      "text/plain": [
       "       d                  \n",
       "2⋅y(x)⋅──(y(x)) - 5⋅cos(x)\n",
       "       dx                 "
      ]
     },
     "metadata": {},
     "output_type": "display_data"
    },
    {
     "data": {
      "image/png": "[encoded data removed]",
      "text/latex": [
       "$$\\frac{2 x}{y} + 2$$"
      ],
      "text/plain": [
       "2⋅x    \n",
       "─── + 2\n",
       " y     "
      ]
     },
     "metadata": {},
     "output_type": "display_data"
    }
   ],
   "source": [
    "print('微分')\n",
    "display(diff((sin(x) * x**2) / (1 + tan(cot(x)))))\n",
    "display(diff(cot(x*y), y))\n",
    "display(diff(y(x)**2 - 5* sin(x), x))\n",
    "f = x**2 / y + 2 * x - ln(y)\n",
    "display(diff(f,x))"
   ]
  },
  {
   "cell_type": "markdown",
   "metadata": {},
   "source": [
    "### 高階微分"
   ]
  },
  {
   "cell_type": "code",
   "execution_count": 21,
   "metadata": {
    "collapsed": false
   },
   "outputs": [
    {
     "name": "stdout",
     "output_type": "stream",
     "text": [
      "第 3 引数で指定する\n"
     ]
    },
    {
     "data": {
      "image/png": "[encoded data removed]",
      "text/latex": [
       "$$2 \\cos{\\left (2 x \\right )}$$"
      ],
      "text/plain": [
       "2⋅cos(2⋅x)"
      ]
     },
     "metadata": {},
     "output_type": "display_data"
    },
    {
     "data": {
      "image/png": "[encoded data removed]",
      "text/latex": [
       "$$- 4 \\sin{\\left (2 x \\right )}$$"
      ],
      "text/plain": [
       "-4⋅sin(2⋅x)"
      ]
     },
     "metadata": {},
     "output_type": "display_data"
    },
    {
     "data": {
      "image/png": "[encoded data removed]",
      "text/latex": [
       "$$- 8 \\cos{\\left (2 x \\right )}$$"
      ],
      "text/plain": [
       "-8⋅cos(2⋅x)"
      ]
     },
     "metadata": {},
     "output_type": "display_data"
    }
   ],
   "source": [
    "print('第 3 引数で指定する')\n",
    "display(diff(sin(2*x), x, 1))\n",
    "display(diff(sin(2*x), x, 2))\n",
    "display(diff(sin(2*x), x, 3))"
   ]
  },
  {
   "cell_type": "markdown",
   "metadata": {},
   "source": [
    "### 微分方程式"
   ]
  },
  {
   "cell_type": "code",
   "execution_count": 36,
   "metadata": {
    "collapsed": false
   },
   "outputs": [
    {
     "data": {
      "text/plain": [
       "f"
      ]
     },
     "metadata": {},
     "output_type": "display_data"
    },
    {
     "data": {
      "image/png": "[encoded data removed]",
      "text/latex": [
       "$$f{\\left (x \\right )}$$"
      ],
      "text/plain": [
       "f(x)"
      ]
     },
     "metadata": {},
     "output_type": "display_data"
    },
    {
     "data": {
      "image/png": "[encoded data removed]",
      "text/latex": [
       "$$f{\\left (x \\right )} + \\frac{d^{2}}{d x^{2}}  f{\\left (x \\right )}$$"
      ],
      "text/plain": [
       "         2      \n",
       "        d       \n",
       "f(x) + ───(f(x))\n",
       "         2      \n",
       "       dx       "
      ]
     },
     "metadata": {},
     "output_type": "display_data"
    },
    {
     "data": {
      "image/png": "[encoded data removed]",
      "text/latex": [
       "$$f{\\left (x \\right )} = C_{1} e^{- x}$$"
      ],
      "text/plain": [
       "           -x\n",
       "f(x) = C₁⋅ℯ  "
      ]
     },
     "metadata": {},
     "output_type": "display_data"
    },
    {
     "data": {
      "image/png": "[encoded data removed]",
      "text/latex": [
       "$$f{\\left (x \\right )} = C_{1} \\sin{\\left (x \\right )} + C_{2} \\cos{\\left (x \\right )}$$"
      ],
      "text/plain": [
       "f(x) = C₁⋅sin(x) + C₂⋅cos(x)"
      ]
     },
     "metadata": {},
     "output_type": "display_data"
    },
    {
     "data": {
      "image/png": "[encoded data removed]",
      "text/latex": [
       "$$f{\\left (x \\right )} = C_{3} e^{- x} + \\left(C_{1} \\sin{\\left (\\frac{\\sqrt{3} x}{2} \\right )} + C_{2} \\cos{\\left (\\frac{\\sqrt{3} x}{2} \\right )}\\right) \\sqrt{e^{x}}$$"
      ],
      "text/plain": [
       "                                                 ____\n",
       "           -x   ⎛      ⎛√3⋅x⎞         ⎛√3⋅x⎞⎞   ╱  x \n",
       "f(x) = C₃⋅ℯ   + ⎜C₁⋅sin⎜────⎟ + C₂⋅cos⎜────⎟⎟⋅╲╱  ℯ  \n",
       "                ⎝      ⎝ 2  ⎠         ⎝ 2  ⎠⎠        "
      ]
     },
     "metadata": {},
     "output_type": "display_data"
    },
    {
     "data": {
      "image/png": "[encoded data removed]",
      "text/latex": [
       "$$\\left [ f{\\left (x \\right )} = - \\operatorname{asin}{\\left (\\sqrt{\\frac{C_{1}}{\\sin^{2}{\\left (x \\right )} - 1} + 1} \\right )} + \\pi, \\quad f{\\left (x \\right )} = \\operatorname{asin}{\\left (\\sqrt{\\frac{C_{1}}{\\sin^{2}{\\left (x \\right )} - 1} + 1} \\right )} + \\pi, \\quad f{\\left (x \\right )} = - \\operatorname{asin}{\\left (\\sqrt{\\frac{C_{1}}{\\sin^{2}{\\left (x \\right )} - 1} + 1} \\right )}, \\quad f{\\left (x \\right )} = \\operatorname{asin}{\\left (\\sqrt{\\frac{C_{1}}{\\sin^{2}{\\left (x \\right )} - 1} + 1} \\right )}\\right ]$$"
      ],
      "text/plain": [
       "⎡             ⎛     _________________⎞                 ⎛     _________________\n",
       "⎢             ⎜    ╱      C₁         ⎟                 ⎜    ╱      C₁         \n",
       "⎢f(x) = - asin⎜   ╱  ─────────── + 1 ⎟ + π, f(x) = asin⎜   ╱  ─────────── + 1 \n",
       "⎢             ⎜  ╱      2            ⎟                 ⎜  ╱      2            \n",
       "⎣             ⎝╲╱    sin (x) - 1     ⎠                 ⎝╲╱    sin (x) - 1     \n",
       "\n",
       "⎞                  ⎛     _________________⎞             ⎛     ________________\n",
       "⎟                  ⎜    ╱      C₁         ⎟             ⎜    ╱      C₁        \n",
       "⎟ + π, f(x) = -asin⎜   ╱  ─────────── + 1 ⎟, f(x) = asin⎜   ╱  ─────────── + 1\n",
       "⎟                  ⎜  ╱      2            ⎟             ⎜  ╱      2           \n",
       "⎠                  ⎝╲╱    sin (x) - 1     ⎠             ⎝╲╱    sin (x) - 1    \n",
       "\n",
       "_⎞⎤\n",
       " ⎟⎥\n",
       " ⎟⎥\n",
       " ⎟⎥\n",
       " ⎠⎦"
      ]
     },
     "metadata": {},
     "output_type": "display_data"
    },
    {
     "data": {
      "image/png": "[encoded data removed]",
      "text/latex": [
       "$$f{\\left (x \\right )} = - \\frac{C_{1}}{- C_{1} + x}$$"
      ],
      "text/plain": [
       "         -C₁  \n",
       "f(x) = ───────\n",
       "       -C₁ + x"
      ]
     },
     "metadata": {},
     "output_type": "display_data"
    },
    {
     "data": {
      "image/png": "[encoded data removed]",
      "text/latex": [
       "$$f{\\left (x \\right )} = \\frac{1}{x \\left(C_{1} + \\frac{1}{x}\\right)}$$"
      ],
      "text/plain": [
       "           1     \n",
       "f(x) = ──────────\n",
       "         ⎛     1⎞\n",
       "       x⋅⎜C₁ + ─⎟\n",
       "         ⎝     x⎠"
      ]
     },
     "metadata": {},
     "output_type": "display_data"
    }
   ],
   "source": [
    "# 未定義の関数を定義\n",
    "f, g = symbols('f g', cls=Function)\n",
    "display(f)\n",
    "display(f(x))\n",
    "display(f(x).diff(x, x) + f(x))\n",
    "\n",
    "diffeq = f(x).diff(x) + f(x)\n",
    "display(dsolve(diffeq, f(x)))\n",
    "\n",
    "diffeq = f(x).diff(x, x) + f(x)\n",
    "display(dsolve(diffeq, f(x)))\n",
    "\n",
    "diffeq = f(x).diff(x, x, x) + f(x)\n",
    "display(dsolve(diffeq, f(x)))\n",
    "\n",
    "# キーワード引数を使ってヒントを出すこともできる。\n",
    "# 方程式が可分離であることを知っていルナらキーワードとして hint='separable'\n",
    "display(dsolve(sin(x)*cos(f(x)) + cos(x)*sin(f(x))*f(x).diff(x), f(x), hint='separable'))\n",
    "\n",
    "display(dsolve(x * f(x).diff(x) + f(x) - f(x) ** 2))\n",
    "display(dsolve(x * f(x).diff(x) + f(x) - f(x) ** 2, hint='Bernoulli'))"
   ]
  },
  {
   "cell_type": "markdown",
   "metadata": {},
   "source": [
    "## テイラー展開"
   ]
  },
  {
   "cell_type": "code",
   "execution_count": 15,
   "metadata": {
    "collapsed": false
   },
   "outputs": [
    {
     "data": {
      "image/png": "[encoded data removed]",
      "text/latex": [
       "$$x - \\frac{x^{3}}{6} + \\frac{x^{5}}{120} + \\mathcal{O}\\left(x^{6}\\right)$$"
      ],
      "text/plain": [
       "     3     5        \n",
       "    x     x     ⎛ 6⎞\n",
       "x - ── + ─── + O⎝x ⎠\n",
       "    6    120        "
      ]
     },
     "metadata": {},
     "output_type": "display_data"
    },
    {
     "data": {
      "image/png": "[encoded data removed]",
      "text/latex": [
       "$$1 - \\frac{1}{2} \\left(x - \\frac{\\pi}{2}\\right)^{2} + \\frac{1}{24} \\left(x - \\frac{\\pi}{2}\\right)^{4} + \\mathcal{O}\\left(\\left(x - \\frac{\\pi}{2}\\right)^{6}; x\\rightarrow\\frac{\\pi}{2}\\right)$$"
      ],
      "text/plain": [
       "           2          4                     \n",
       "    ⎛    π⎞    ⎛    π⎞                      \n",
       "    ⎜x - ─⎟    ⎜x - ─⎟     ⎛       6       ⎞\n",
       "    ⎝    2⎠    ⎝    2⎠     ⎜⎛    π⎞       π⎟\n",
       "1 - ──────── + ──────── + O⎜⎜x - ─⎟ ; x → ─⎟\n",
       "       2          24       ⎝⎝    2⎠       2⎠"
      ]
     },
     "metadata": {},
     "output_type": "display_data"
    }
   ],
   "source": [
    "display(sin(x).series(x))\n",
    "display(series(sin(x), x, pi/2))"
   ]
  },
  {
   "cell_type": "markdown",
   "metadata": {},
   "source": [
    "## 積分"
   ]
  },
  {
   "cell_type": "code",
   "execution_count": 22,
   "metadata": {
    "collapsed": false
   },
   "outputs": [
    {
     "name": "stdout",
     "output_type": "stream",
     "text": [
      "積分\n",
      "integrate(6*x**5, x)\n"
     ]
    },
    {
     "data": {
      "image/png": "[encoded data removed]",
      "text/latex": [
       "$$x^{6}$$"
      ],
      "text/plain": [
       " 6\n",
       "x "
      ]
     },
     "metadata": {},
     "output_type": "display_data"
    },
    {
     "data": {
      "image/png": "[encoded data removed]",
      "text/latex": [
       "$$- \\cos{\\left (x \\right )}$$"
      ],
      "text/plain": [
       "-cos(x)"
      ]
     },
     "metadata": {},
     "output_type": "display_data"
    },
    {
     "data": {
      "image/png": "[encoded data removed]",
      "text/latex": [
       "$$x \\log{\\left (x \\right )} - x$$"
      ],
      "text/plain": [
       "x⋅log(x) - x"
      ]
     },
     "metadata": {},
     "output_type": "display_data"
    },
    {
     "data": {
      "image/png": "[encoded data removed]",
      "text/latex": [
       "$$x^{2} + \\cosh{\\left (x \\right )}$$"
      ],
      "text/plain": [
       " 2          \n",
       "x  + cosh(x)"
      ]
     },
     "metadata": {},
     "output_type": "display_data"
    },
    {
     "data": {
      "image/png": "[encoded data removed]",
      "text/latex": [
       "$$\\frac{2 x}{y} + \\log{\\left (y \\right )} \\sin{\\left (x \\right )}$$"
      ],
      "text/plain": [
       "2⋅x                \n",
       "─── + log(y)⋅sin(x)\n",
       " y                 "
      ]
     },
     "metadata": {},
     "output_type": "display_data"
    },
    {
     "data": {
      "image/png": "[encoded data removed]",
      "text/latex": [
       "$$- \\frac{1}{2} \\log{\\left (\\sin^{2}{\\left (x \\right )} - 1 \\right )}$$"
      ],
      "text/plain": [
       "    ⎛   2       ⎞ \n",
       "-log⎝sin (x) - 1⎠ \n",
       "──────────────────\n",
       "        2         "
      ]
     },
     "metadata": {},
     "output_type": "display_data"
    },
    {
     "data": {
      "image/png": "[encoded data removed]",
      "text/latex": [
       "$$2 x y + \\frac{y^{2}}{2}$$"
      ],
      "text/plain": [
       "         2\n",
       "        y \n",
       "2⋅x⋅y + ──\n",
       "        2 "
      ]
     },
     "metadata": {},
     "output_type": "display_data"
    },
    {
     "data": {
      "image/png": "[encoded data removed]",
      "text/latex": [
       "$$2 y + 8$$"
      ],
      "text/plain": [
       "2⋅y + 8"
      ]
     },
     "metadata": {},
     "output_type": "display_data"
    },
    {
     "data": {
      "image/png": "[encoded data removed]",
      "text/latex": [
       "$$28$$"
      ],
      "text/plain": [
       "28"
      ]
     },
     "metadata": {},
     "output_type": "display_data"
    },
    {
     "name": "stdout",
     "output_type": "stream",
     "text": [
      "特殊関数もいける\n"
     ]
    },
    {
     "data": {
      "image/png": "[encoded data removed]",
      "text/latex": [
       "$$\\frac{\\sqrt{\\pi}}{4} \\operatorname{erf}^{2}{\\left (x \\right )}$$"
      ],
      "text/plain": [
       "      2   \n",
       "√π⋅erf (x)\n",
       "──────────\n",
       "    4     "
      ]
     },
     "metadata": {},
     "output_type": "display_data"
    },
    {
     "name": "stdout",
     "output_type": "stream",
     "text": [
      "定積分\n"
     ]
    },
    {
     "data": {
      "image/png": "[encoded data removed]",
      "text/latex": [
       "$$0$$"
      ],
      "text/plain": [
       "0"
      ]
     },
     "metadata": {},
     "output_type": "display_data"
    },
    {
     "data": {
      "image/png": "[encoded data removed]",
      "text/latex": [
       "$$1$$"
      ],
      "text/plain": [
       "1"
      ]
     },
     "metadata": {},
     "output_type": "display_data"
    },
    {
     "data": {
      "image/png": "[encoded data removed]",
      "text/latex": [
       "$$2$$"
      ],
      "text/plain": [
       "2"
      ]
     },
     "metadata": {},
     "output_type": "display_data"
    },
    {
     "name": "stdout",
     "output_type": "stream",
     "text": [
      "広義積分\n"
     ]
    },
    {
     "data": {
      "image/png": "[encoded data removed]",
      "text/latex": [
       "$$1$$"
      ],
      "text/plain": [
       "1"
      ]
     },
     "metadata": {},
     "output_type": "display_data"
    },
    {
     "data": {
      "image/png": "[encoded data removed]",
      "text/latex": [
       "$$\\sqrt{\\pi}$$"
      ],
      "text/plain": [
       "√π"
      ]
     },
     "metadata": {},
     "output_type": "display_data"
    },
    {
     "data": {
      "image/png": "[encoded data removed]",
      "text/latex": [
       "$$\\infty + \\frac{i \\pi}{2}$$"
      ],
      "text/plain": [
       "    ⅈ⋅π\n",
       "∞ + ───\n",
       "     2 "
      ]
     },
     "metadata": {},
     "output_type": "display_data"
    },
    {
     "name": "stdout",
     "output_type": "stream",
     "text": [
      "積分の厳密解\n"
     ]
    },
    {
     "data": {
      "image/png": "[encoded data removed]",
      "text/latex": [
       "$$\\frac{\\pi}{2}$$"
      ],
      "text/plain": [
       "π\n",
       "─\n",
       "2"
      ]
     },
     "metadata": {},
     "output_type": "display_data"
    },
    {
     "data": {
      "image/png": "[encoded data removed]",
      "text/latex": [
       "$$\\operatorname{RootSum} {\\left(4 z^{2} + 1, \\left( i \\mapsto i \\log{\\left (2 i + e^{x} \\right )} \\right)\\right)}$$"
      ],
      "text/plain": [
       "       ⎛   2               ⎛       x⎞⎞\n",
       "RootSum⎝4⋅z  + 1, i ↦ i⋅log⎝2⋅i + ℯ ⎠⎠"
      ]
     },
     "metadata": {},
     "output_type": "display_data"
    },
    {
     "data": {
      "image/png": "[encoded data removed]",
      "text/latex": [
       "$$16 x^{8} + 192 x^{7} + 1008 x^{6} + 3024 x^{5} + 5670 x^{4} + 6804 x^{3} + 5103 x^{2} + 2187 x$$"
      ],
      "text/plain": [
       "    8        7         6         5         4         3         2         \n",
       "16⋅x  + 192⋅x  + 1008⋅x  + 3024⋅x  + 5670⋅x  + 6804⋅x  + 5103⋅x  + 2187⋅x"
      ]
     },
     "metadata": {},
     "output_type": "display_data"
    }
   ],
   "source": [
    "print('積分')\n",
    "print('integrate(6*x**5, x)')\n",
    "display(integrate(6*x**5, x))\n",
    "\n",
    "display(integrate(sin(x), x))\n",
    "display(integrate(log(x), x))\n",
    "display(integrate(2*x + sinh(x), x))\n",
    "\n",
    "expr = cos(x) * ln(y) + 2/y\n",
    "display(integrate(expr, x))\n",
    "display(integrate(tan(x)))\n",
    "display(integrate(2*x + y, y))\n",
    "display(integrate(2*x + y, (x, 1, 3)))\n",
    "display(integrate(2*x + y, (x, 1, 3), (y, 2, 4)))\n",
    "\n",
    "print('特殊関数もいける')\n",
    "display(integrate(exp(-x**2)*erf(x), x))\n",
    "\n",
    "print('定積分')\n",
    "display(integrate(x**3, (x, -1, 1)))\n",
    "display(integrate(sin(x), (x, 0, pi/2)))\n",
    "display(integrate(cos(x), (x, -pi/2, pi/2)))\n",
    "\n",
    "print('広義積分')\n",
    "display(integrate(exp(-x), (x, 0, oo)))\n",
    "display(integrate(exp(-x**2), (x, -oo, oo)))\n",
    "display(integrate(tan(x), (x, 0, pi/2)))\n",
    "\n",
    "print('積分の厳密解')\n",
    "display(integrate(1/(x**2 + 1), (x, 0, oo)))\n",
    "display(integrate(exp(x) / (1 + exp(2 * x))))\n",
    "display(integrate((2 * x+3)**7))"
   ]
  }
 ],
 "metadata": {
  "anaconda-cloud": {},
  "kernelspec": {
   "display_name": "Python [Root]",
   "language": "python",
   "name": "Python [Root]"
  },
  "language_info": {
   "codemirror_mode": {
    "name": "ipython",
    "version": 3
   },
   "file_extension": ".py",
   "mimetype": "text/x-python",
   "name": "python",
   "nbconvert_exporter": "python",
   "pygments_lexer": "ipython3",
   "version": "3.5.1"
  }
 },
 "nbformat": 4,
 "nbformat_minor": 0
}
