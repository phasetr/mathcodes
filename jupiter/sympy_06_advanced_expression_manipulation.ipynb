{
 "cells": [
  {
   "cell_type": "markdown",
   "metadata": {},
   "source": [
    "# この notebook を読み進める前に\n",
    "TeX 出力のためには次のコードを読み込ませること."
   ]
  },
  {
   "cell_type": "code",
   "execution_count": 1,
   "metadata": {
    "collapsed": true
   },
   "outputs": [],
   "source": [
    "from sympy import *\n",
    "from IPython.display import display\n",
    "init_printing(use_unicode=True)\n",
    "\n",
    " # シンボル定義\n",
    "a, b, x, y, z, t = symbols('a b x y z t')\n",
    "x0 = symbols('x_0')\n",
    "M, N = symbols('M N')\n",
    "f, g, h = symbols('f g h', cls=Function)"
   ]
  },
  {
   "cell_type": "markdown",
   "metadata": {},
   "source": [
    "# 式の木構造\n",
    "まず Sympy で式がどのように表示されるのかを理解する必要がある.\n",
    "数学の式は木として表現される.\n",
    "式 $x^2 + xy$ を見てみよう: つまり `x ** 2 + x * y`.\n",
    "この式は `srepr` を使うと内部的にどう表現されているかわかる."
   ]
  },
  {
   "cell_type": "code",
   "execution_count": 18,
   "metadata": {
    "collapsed": false
   },
   "outputs": [
    {
     "data": {
      "text/plain": [
       "\"Add(Pow(Symbol('x'), Integer(2)), Mul(Symbol('x'), Symbol('y')))\""
      ]
     },
     "metadata": {},
     "output_type": "display_data"
    }
   ],
   "source": [
    "from sympy import *\n",
    "x, y, z = symbols('x y z')\n",
    "expr = x**2 + x*y\n",
    "display(srepr(expr))"
   ]
  },
  {
   "cell_type": "markdown",
   "metadata": {},
   "source": [
    "これを実際に木で表示すると見やすくなる (が省略する).\n",
    "Graphviz と Sympy の `dotprint()` を使うとダイアグラムが簡単に描けるようだ.\n",
    "あとで試したい.\n",
    "ちなみに `dotprint()` は[ここ](http://docs.sympy.org/latest/modules/printing.html#sympy.printing.dot.dotprint)参照.\n",
    "\n",
    "まず木の葉を見てみる.\n",
    "シンボルはクラス `Symbol` のインスタンスだ.\n",
    "シンボル定義は次のどちらでもいい."
   ]
  },
  {
   "cell_type": "code",
   "execution_count": 5,
   "metadata": {
    "collapsed": true
   },
   "outputs": [],
   "source": [
    "x = symbols('x')\n",
    "x = Symbol('x')"
   ]
  },
  {
   "cell_type": "markdown",
   "metadata": {},
   "source": [
    "この notebook の最初の定義式のように,\n",
    "複数のシンボルを一気に定義できるので実際のコーディングで使うときはもちろん前者の方が楽.\n",
    "\n",
    "式の中の数 2 は `Integer(2)` だ.\n",
    "`Integer` は Sympy での整数に対するクラスで,\n",
    "Python 標準の int 型ではなく Sympy の中で協調してうまく動く Sympy の型だ.\n",
    "\n",
    "`x**2` は `Pow` オブジェクトを作る."
   ]
  },
  {
   "cell_type": "code",
   "execution_count": 17,
   "metadata": {
    "collapsed": false
   },
   "outputs": [
    {
     "data": {
      "text/plain": [
       "\"Pow(Symbol('x'), Integer(2))\""
      ]
     },
     "metadata": {},
     "output_type": "display_data"
    }
   ],
   "source": [
    "display(srepr(x**2))"
   ]
  },
  {
   "cell_type": "markdown",
   "metadata": {},
   "source": [
    "同じオブジェクトは `Pow(x, 2)` でも作れる."
   ]
  },
  {
   "cell_type": "code",
   "execution_count": 16,
   "metadata": {
    "collapsed": false
   },
   "outputs": [
    {
     "data": {
      "image/png": "[encoded data removed]",
      "text/latex": [
       "$$x^{2}$$"
      ],
      "text/plain": [
       " 2\n",
       "x "
      ]
     },
     "metadata": {},
     "output_type": "display_data"
    },
    {
     "data": {
      "text/plain": [
       "\"Pow(Symbol('x'), Integer(2))\""
      ]
     },
     "metadata": {},
     "output_type": "display_data"
    }
   ],
   "source": [
    "display(Pow(x, 2))\n",
    "display(srepr(Pow(x, 2)))"
   ]
  },
  {
   "cell_type": "markdown",
   "metadata": {},
   "source": [
    "## 注意\n",
    "Python の整数 2 を使っていたとしても,\n",
    "何らかの形で Sympy と絡ませるとき Sympy のオブジェクトでなくても Sympy のオブジェクトに変換されるようになっている.\n",
    "これには `sympify()` メソッドが使われている."
   ]
  },
  {
   "cell_type": "code",
   "execution_count": 9,
   "metadata": {
    "collapsed": false
   },
   "outputs": [
    {
     "name": "stdout",
     "output_type": "stream",
     "text": [
      "<class 'int'>\n",
      "<class 'sympy.core.numbers.Integer'>\n"
     ]
    }
   ],
   "source": [
    "print(type(2))\n",
    "print(type(sympify(2)))"
   ]
  },
  {
   "cell_type": "markdown",
   "metadata": {},
   "source": [
    "`x*y` がどう表現されるか見てみる.\n",
    "想像通り $x$ と $y$ の積になる.\n",
    "積に対する Sympy のクラスは `Mul` だ.\n",
    "同じオブジェクトを `Mul(x, y)` でも作れる."
   ]
  },
  {
   "cell_type": "code",
   "execution_count": 11,
   "metadata": {
    "collapsed": false
   },
   "outputs": [
    {
     "data": {
      "text/plain": [
       "\"Mul(Symbol('x'), Symbol('y'))\""
      ]
     },
     "metadata": {},
     "output_type": "display_data"
    },
    {
     "data": {
      "image/png": "[encoded data removed]",
      "text/latex": [
       "$$x y$$"
      ],
      "text/plain": [
       "x⋅y"
      ]
     },
     "metadata": {},
     "output_type": "display_data"
    }
   ],
   "source": [
    "display(srepr(x*y))\n",
    "display(Mul(x, y))"
   ]
  },
  {
   "cell_type": "markdown",
   "metadata": {},
   "source": [
    "ようやく最終的な式 `x ** 2 + x * y` に辿りついた.\n",
    "これは 2 つのオブジェクト `Pow(x, 2)` と `Mul(x, y)` の和だ.\n",
    "Sympy で和に対応するクラスは `Add` でもちろん `Add(Pow(x, 2), Mul(x, y))` で作れる."
   ]
  },
  {
   "cell_type": "code",
   "execution_count": 13,
   "metadata": {
    "collapsed": false
   },
   "outputs": [
    {
     "data": {
      "image/png": "[encoded data removed]",
      "text/latex": [
       "$$x^{2} + x y$$"
      ],
      "text/plain": [
       " 2      \n",
       "x  + x⋅y"
      ]
     },
     "metadata": {},
     "output_type": "display_data"
    },
    {
     "data": {
      "image/png": "[encoded data removed]",
      "text/latex": [
       "$$x^{2} + x y$$"
      ],
      "text/plain": [
       " 2      \n",
       "x  + x⋅y"
      ]
     },
     "metadata": {},
     "output_type": "display_data"
    }
   ],
   "source": [
    "display(Add(Pow(x, 2), Mul(x, y)))\n",
    "display(x**2 + x*y)"
   ]
  },
  {
   "cell_type": "markdown",
   "metadata": {},
   "source": [
    "もっと大きい木ができる例を出しておく."
   ]
  },
  {
   "cell_type": "code",
   "execution_count": 15,
   "metadata": {
    "collapsed": false
   },
   "outputs": [
    {
     "data": {
      "text/plain": [
       "\"Add(Mul(Integer(-1), Pow(Symbol('x'), Integer(2))), Mul(Rational(1, 2), sin(Mul(Symbol('x'), Symbol('y')))), Pow(Symbol('y'), Integer(-1)))\""
      ]
     },
     "metadata": {},
     "output_type": "display_data"
    }
   ],
   "source": [
    "expr = sin(x*y)/2 - x**2 + 1/y\n",
    "display(srepr(expr))"
   ]
  },
  {
   "cell_type": "markdown",
   "metadata": {},
   "source": [
    "これについてもいくつか追加の説明をしておく.\n",
    "Sympy には差に関するクラスはない.\n",
    "`x - y` は `x + -y`, さらに正確には `x + -1*y` で表現する: `Add(x, Mul(-1, y))`."
   ]
  },
  {
   "cell_type": "code",
   "execution_count": 20,
   "metadata": {
    "collapsed": false
   },
   "outputs": [
    {
     "data": {
      "text/plain": [
       "\"Add(Symbol('x'), Mul(Integer(-1), Symbol('y')))\""
      ]
     },
     "metadata": {},
     "output_type": "display_data"
    }
   ],
   "source": [
    "expr = x - y\n",
    "display(srepr(x - y))"
   ]
  },
  {
   "cell_type": "markdown",
   "metadata": {},
   "source": [
    "`1/y` を見てみよう.\n",
    "差と同じく商にも対応する `Div(1,y)` はない.\n",
    "実際には `Pow(y, -1)` と `Pow()` で表現する."
   ]
  },
  {
   "cell_type": "code",
   "execution_count": 21,
   "metadata": {
    "collapsed": false
   },
   "outputs": [
    {
     "data": {
      "text/plain": [
       "\"Mul(Symbol('x'), Pow(Symbol('y'), Integer(-1)))\""
      ]
     },
     "metadata": {},
     "output_type": "display_data"
    }
   ],
   "source": [
    "expr = x/y\n",
    "display(srepr(expr))"
   ]
  },
  {
   "cell_type": "markdown",
   "metadata": {},
   "source": [
    "`x/y` は `x * y ** -1` と表現する: つまり `Mul(x, Pow(y, -1))`."
   ]
  },
  {
   "cell_type": "markdown",
   "metadata": {},
   "source": [
    "`sin(x*y)/2` を見てみる.\n",
    "`Mul(sin(x*y), Pow(Integer(2), -1))` になると思うかもしれない.\n",
    "しかし実際には `Mul(Rational(1, 2), sin(x*y))` になる.\n",
    "有理数は積の中では常に 1 つの項にまとめられる.\n",
    "だから `2` で割ることは `1/2` をかけると表現される."
   ]
  },
  {
   "cell_type": "markdown",
   "metadata": {},
   "source": [
    "最後に 1 つ.\n",
    "式に出てくる順序と `srepr` や木のグラフで出てくる順番は違う."
   ]
  },
  {
   "cell_type": "code",
   "execution_count": 24,
   "metadata": {
    "collapsed": false
   },
   "outputs": [
    {
     "name": "stdout",
     "output_type": "stream",
     "text": [
      "1 + x の出力結果\n"
     ]
    },
    {
     "data": {
      "image/png": "[encoded data removed]",
      "text/latex": [
       "$$x + 1$$"
      ],
      "text/plain": [
       "x + 1"
      ]
     },
     "metadata": {},
     "output_type": "display_data"
    }
   ],
   "source": [
    "print('1 + x の出力結果')\n",
    "display(1 + x)"
   ]
  },
  {
   "cell_type": "markdown",
   "metadata": {},
   "source": [
    "Sympy では `Add` や `Mul` のように可換な演算の引数は適切な順序で保存されていて,\n",
    "入力された順序とは独立になっている."
   ]
  },
  {
   "cell_type": "markdown",
   "metadata": {},
   "source": [
    "### 注意\n",
    "行列のような非可換な積を考えているなら入力の順番は保存される.\n",
    "非可換なシンボルも導入できる: `Symbol('A', commutative=False)`."
   ]
  },
  {
   "cell_type": "markdown",
   "metadata": {},
   "source": [
    "## まとめ\n",
    "Sympy の式の木を考えるときに覚えておくべきことは次のようにまとまる:\n",
    "式の内的な表現と出力法は一致している必要はない.\n",
    "同じことは入力形にもあてはまる.\n",
    "ある式操作アルゴリズムで期待通りの結果にならないとき,\n",
    "それはオブジェクトの内部表現形式と自分の想像が食い違っているときだ."
   ]
  },
  {
   "cell_type": "markdown",
   "metadata": {},
   "source": [
    "# 式の表現を通じた再帰"
   ]
  },
  {
   "cell_type": "markdown",
   "metadata": {},
   "source": [
    "Sympy の全てのオブジェクトは 2 つの重要な attribute がある: `func` と `args`.\n",
    "## `func`\n",
    "「`func` はオブジェクトの head だ」という英語の解説を読んだ: この head はどう訳すといいのだろうか.\n",
    "とりあえずそういうものらしい.\n",
    "例としては `(x*y).func` は `Mul`.\n",
    "ふつうはオブジェクトのクラスと同じ."
   ]
  },
  {
   "cell_type": "code",
   "execution_count": 2,
   "metadata": {
    "collapsed": false
   },
   "outputs": [
    {
     "name": "stdout",
     "output_type": "stream",
     "text": [
      "<class 'sympy.core.mul.Mul'>\n"
     ]
    }
   ],
   "source": [
    "print((x*y).func)"
   ]
  },
  {
   "cell_type": "markdown",
   "metadata": {},
   "source": [
    "`func` についての注意を 2 つ.\n",
    "1 つはオブジェクトのクラスはそれを作るために使ったオブジェクトのクラスと一致する必要がないこと.\n",
    "例を見るのが早い."
   ]
  },
  {
   "cell_type": "code",
   "execution_count": 5,
   "metadata": {
    "collapsed": false
   },
   "outputs": [
    {
     "name": "stdout",
     "output_type": "stream",
     "text": [
      "2*x\n",
      "<class 'sympy.core.mul.Mul'>\n"
     ]
    }
   ],
   "source": [
    "expr = Add(x, x)\n",
    "print(expr)\n",
    "print(expr.func)"
   ]
  },
  {
   "cell_type": "markdown",
   "metadata": {},
   "source": [
    "上で見た通り `expr` が `2*x` なので `Add` ではない.\n",
    "`Add(x, x)` が `Mul(2, x) に変換されているから.\n",
    "Sympy のクラスは `__new__` クラスコンストラクタをよく使っていて,\n",
    "これは __init__ と違ってコンストラクタから返されるクラスが違ってもいい."
   ]
  },
  {
   "cell_type": "markdown",
   "metadata": {},
   "source": [
    "もう 1 つは効率の観点からの特例がある.\n",
    "例えば疎行列ではバカスカ出てくるし, `One` や `Zero` はシングルトンとして扱っている.\n",
    "シングルトンなら `is` で素早く比較もできる."
   ]
  },
  {
   "cell_type": "code",
   "execution_count": 6,
   "metadata": {
    "collapsed": false
   },
   "outputs": [
    {
     "name": "stdout",
     "output_type": "stream",
     "text": [
      "<class 'sympy.core.numbers.Integer'>\n",
      "<class 'sympy.core.numbers.Zero'>\n",
      "<class 'sympy.core.numbers.NegativeOne'>\n"
     ]
    }
   ],
   "source": [
    "print(Integer(2).func)\n",
    "print(Integer(0).func)\n",
    "print(Integer(-1).func)"
   ]
  },
  {
   "cell_type": "markdown",
   "metadata": {},
   "source": [
    "## args\n",
    "`args` はオブジェクトのトップレベルの引数だ.\n",
    "`(x*y).args` は `(x, y)` になると思うだろう.\n",
    "複雑な式になると少し変わってくる."
   ]
  },
  {
   "cell_type": "code",
   "execution_count": 7,
   "metadata": {
    "collapsed": false
   },
   "outputs": [
    {
     "name": "stdout",
     "output_type": "stream",
     "text": [
      "(x, y)\n",
      "<class 'sympy.core.mul.Mul'>\n",
      "(3, x, y**2)\n"
     ]
    }
   ],
   "source": [
    "print((x*y).args)\n",
    "\n",
    "expr = 3*y**2*x\n",
    "print(expr.func)\n",
    "print(expr.args)"
   ]
  },
  {
   "cell_type": "markdown",
   "metadata": {},
   "source": [
    "`expr == Mul(3, y**2, x)` になることがわかる.\n",
    "実際には `func` と `args` から `expr` は完全に再構成されうることがわかる.\n",
    "これも具体的に見た方が早い."
   ]
  },
  {
   "cell_type": "code",
   "execution_count": 9,
   "metadata": {
    "collapsed": false
   },
   "outputs": [
    {
     "name": "stdout",
     "output_type": "stream",
     "text": [
      "3*x*y**2\n",
      "True\n"
     ]
    }
   ],
   "source": [
    "expr = 3*y**2*x\n",
    "print(expr.func(*expr.args))\n",
    "print(expr == expr.func(*expr.args))"
   ]
  },
  {
   "cell_type": "markdown",
   "metadata": {},
   "source": [
    "`Mul` では `Rational` の係数が必ず引数の最初にくる.\n",
    "しかしそれ以外の全ては特殊なパターンはない.\n",
    "もちろん適切な順序はある."
   ]
  },
  {
   "cell_type": "code",
   "execution_count": 11,
   "metadata": {
    "collapsed": false
   },
   "outputs": [
    {
     "name": "stdout",
     "output_type": "stream",
     "text": [
      "(3, x, y**2)\n"
     ]
    }
   ],
   "source": [
    "expr = y**2*3*x\n",
    "print(expr.args)"
   ]
  },
  {
   "cell_type": "markdown",
   "metadata": {},
   "source": [
    "`Mul` の引数はソートされていて同じ `Mul` からは同じ `args` ができる.\n",
    "しかしこのソートはソートを一意かつ効率的にするものの数学的な意義を持たないある基準に基づいている.\n",
    "いまの `expr` の `srepr` 形式は `Mul(3, x, Pow(y, 2))` だ."
   ]
  },
  {
   "cell_type": "code",
   "execution_count": 12,
   "metadata": {
    "collapsed": false
   },
   "outputs": [
    {
     "name": "stdout",
     "output_type": "stream",
     "text": [
      "Mul(Integer(3), Symbol('x'), Pow(Symbol('y'), Integer(2)))\n"
     ]
    }
   ],
   "source": [
    "expr = y**2*3*x\n",
    "print(srepr(expr = y**2*3*x))"
   ]
  },
  {
   "cell_type": "markdown",
   "metadata": {},
   "source": [
    "ここで `Pow(y, 2)` の引数を得るにはどうすればいいだろうか?\n",
    "`y**2` は `expr.args` の第 3 スロットにあることを使えばいい."
   ]
  },
  {
   "cell_type": "code",
   "execution_count": 13,
   "metadata": {
    "collapsed": false
   },
   "outputs": [
    {
     "name": "stdout",
     "output_type": "stream",
     "text": [
      "y**2\n",
      "(y, 2)\n"
     ]
    }
   ],
   "source": [
    "expr = y**2*3*x\n",
    "print(expr.args[2])\n",
    "print(expr.args[2].args)"
   ]
  },
  {
   "cell_type": "markdown",
   "metadata": {},
   "source": [
    "もう少し深く調べてみよう."
   ]
  },
  {
   "cell_type": "code",
   "execution_count": 15,
   "metadata": {
    "collapsed": false
   },
   "outputs": [
    {
     "name": "stdout",
     "output_type": "stream",
     "text": [
      "()\n",
      "()\n"
     ]
    }
   ],
   "source": [
    "print(y.args)\n",
    "print(Integer(2).args)"
   ]
  },
  {
   "cell_type": "markdown",
   "metadata": {},
   "source": [
    "両方とも引数は空.\n",
    "Sympy では空引数は式の木の葉にヒットしたことを意味する.\n",
    "\n",
    "Sympy の式に対しては 2 つの可能性がある.\n",
    "1 つは引数が空であること: これは式の木の葉のノードであることを意味する.\n",
    "もう 1 つは引数を持つこと: これは式の木のブランチノード.\n",
    "引数を持つときは `func` と `args` から完全に再構築できる.\n",
    "これは key invariant で表現される."
   ]
  },
  {
   "cell_type": "markdown",
   "metadata": {},
   "source": [
    "## Key Invariant\n",
    "全ての適切な Sympy の式は引数を持たないか `expr == expr.func(*expr.args)` を満たさなければならない.\n",
    "これのおかげで式の木を調べたり変更したり再構成して新しい式を作るシンプルなアルゴリズムを書けるようになる.\n",
    "\n",
    "これをもとに式の木をどのように再帰的に呼び出せるか調べてみよう.\n",
    "`args` のネストした構造は再帰関数に完璧に適合する.\n",
    "ベースケースは空の `args` だ.\n",
    "式を調べつくし各レベルの引数を出力するシンプルな関数を作ってみよう."
   ]
  },
  {
   "cell_type": "code",
   "execution_count": 16,
   "metadata": {
    "collapsed": true
   },
   "outputs": [],
   "source": [
    "def pre(expr):\n",
    "    print(expr)\n",
    "    for arg in expr.args:\n",
    "        pre(arg)"
   ]
  },
  {
   "cell_type": "markdown",
   "metadata": {},
   "source": [
    "これが `()` はどうやって式の木の葉をうまく表しているかを見てみよう.\n",
    "再帰のためにベースケースを書く必要すらない: それは `for` で自動的に処理されている.\n",
    "関数をテストしてみよう."
   ]
  },
  {
   "cell_type": "code",
   "execution_count": 17,
   "metadata": {
    "collapsed": false
   },
   "outputs": [
    {
     "name": "stdout",
     "output_type": "stream",
     "text": [
      "x*y + 1\n",
      "1\n",
      "x*y\n",
      "x\n",
      "y\n"
     ]
    }
   ],
   "source": [
    "expr = x*y + 1\n",
    "pre(expr)"
   ]
  },
  {
   "cell_type": "markdown",
   "metadata": {},
   "source": [
    "これは pre-order で式の木をなめていく関数だ.\n",
    "Sympy ではよくある処理なので generator 関数として `preorder_traversal()` と `postorder_traversal()` が既にある."
   ]
  },
  {
   "cell_type": "code",
   "execution_count": 19,
   "metadata": {
    "collapsed": false
   },
   "outputs": [
    {
     "name": "stdout",
     "output_type": "stream",
     "text": [
      "x*y + 1\n",
      "1\n",
      "x*y\n",
      "x\n",
      "y\n"
     ]
    }
   ],
   "source": [
    "expr = x*y + 1\n",
    "for arg in preorder_traversal(expr):\n",
    "    print(arg)"
   ]
  },
  {
   "cell_type": "code",
   "execution_count": 20,
   "metadata": {
    "collapsed": false
   },
   "outputs": [
    {
     "name": "stdout",
     "output_type": "stream",
     "text": [
      "1\n",
      "x\n",
      "y\n",
      "x*y\n",
      "x*y + 1\n"
     ]
    }
   ],
   "source": [
    "expr = x*y + 1\n",
    "for arg in postorder_traversal(expr):\n",
    "    print(arg)"
   ]
  }
 ],
 "metadata": {
  "anaconda-cloud": {},
  "kernelspec": {
   "display_name": "Python [Root]",
   "language": "python",
   "name": "Python [Root]"
  },
  "language_info": {
   "codemirror_mode": {
    "name": "ipython",
    "version": 3
   },
   "file_extension": ".py",
   "mimetype": "text/x-python",
   "name": "python",
   "nbconvert_exporter": "python",
   "pygments_lexer": "ipython3",
   "version": "3.5.1"
  }
 },
 "nbformat": 4,
 "nbformat_minor": 0
}
