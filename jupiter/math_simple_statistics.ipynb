{
 "cells": [
  {
   "cell_type": "markdown",
   "metadata": {},
   "source": [
    "# 平均 (mean)"
   ]
  },
  {
   "cell_type": "code",
   "execution_count": 5,
   "metadata": {
    "collapsed": false
   },
   "outputs": [
    {
     "name": "stdout",
     "output_type": "stream",
     "text": [
      "6\n",
      "3\n",
      "2.0\n"
     ]
    }
   ],
   "source": [
    "meanlst = [1,2,3]\n",
    "\n",
    "# 和の計算\n",
    "lstsum = sum(meanlst)\n",
    "print(lstsum)\n",
    "\n",
    "# リストの長さの取得\n",
    "lengthlst = len(meanlst)\n",
    "print(lengthlst)\n",
    "\n",
    "# 平均\n",
    "mean = lstsum / lengthlst\n",
    "print(mean)"
   ]
  },
  {
   "cell_type": "markdown",
   "metadata": {},
   "source": [
    "# 中央値\n",
    "\n",
    "前提としてリストがソートされているとする.\n",
    "このリストの中央値は次のように定義する: 計算すべきリストの項数が奇数ならちょうど半分のところの値,\n",
    "項数が偶数なら中央 2 項の平均として定義する."
   ]
  },
  {
   "cell_type": "markdown",
   "metadata": {},
   "source": [
    "## ソート"
   ]
  },
  {
   "cell_type": "code",
   "execution_count": 9,
   "metadata": {
    "collapsed": false
   },
   "outputs": [
    {
     "name": "stdout",
     "output_type": "stream",
     "text": [
      "[1, 3, 4]\n"
     ]
    }
   ],
   "source": [
    "medianlst = [4, 1, 3]\n",
    "medianlst.sort()\n",
    "\n",
    "# 破壊的に変更\n",
    "print(medianlst)"
   ]
  },
  {
   "cell_type": "code",
   "execution_count": 11,
   "metadata": {
    "collapsed": false
   },
   "outputs": [
    {
     "name": "stdout",
     "output_type": "stream",
     "text": [
      "要素数 12 で中央値は 514.0。\n"
     ]
    }
   ],
   "source": [
    "# coding: utf-8\n",
    "def calculate_median(numbers):\n",
    "    u\"\"\"中央値を計算する関数.\n",
    "    引数としては数のリストを取る.\n",
    "    \"\"\"\n",
    "\n",
    "    N = len(numbers)\n",
    "    # ソートしておく\n",
    "    numbers.sort()\n",
    "\n",
    "    if N % 2 == 0:\n",
    "        # N が偶数\n",
    "\n",
    "        # 中央の 2 つの値を取得するための項番号を取得\n",
    "        m1 = N/2\n",
    "        m2 = (N/2) + 1\n",
    "        # 整数に変換\n",
    "        m1 = int(m1) - 1\n",
    "        m2 = int(m2) - 1\n",
    "\n",
    "        # 平均を取る\n",
    "        median = (numbers[m1] + numbers[m2])/2\n",
    "    else:\n",
    "        # 中央の項番\n",
    "        m = (N+1)/2\n",
    "        # 整数に変換\n",
    "        m = int(m) - 1\n",
    "        # 中央値\n",
    "        median = numbers[m]\n",
    "\n",
    "    return median\n",
    "\n",
    "donations = [100, 65, 73, 934, 110, 218, 510, 518, 532, 643, 1128, 1215]\n",
    "median = calculate_median(donations)\n",
    "N = len(donations)\n",
    "\n",
    "# フォーマット文字列を使ってみた\n",
    "print('要素数 {0} で中央値は {1}。'.format(N, median))"
   ]
  },
  {
   "cell_type": "markdown",
   "metadata": {},
   "source": [
    "## 最頻値 (mode) と度数分布表 (frequency table)"
   ]
  },
  {
   "cell_type": "code",
   "execution_count": 16,
   "metadata": {
    "collapsed": false
   },
   "outputs": [
    {
     "name": "stdout",
     "output_type": "stream",
     "text": [
      "[(2, 4), (1, 2), (4, 2), (3, 1), (5, 1), (6, 1)]\n",
      "[(2, 4)]\n",
      "[(2, 4), (1, 2)]\n",
      "[(2, 4)]\n"
     ]
    }
   ],
   "source": [
    "import collections\n",
    "lst = [4, 2, 1, 3, 4, 2, 2, 2, 1, 5, 6]\n",
    "c = collections.Counter(lst)\n",
    "print(c.most_common())\n",
    "print(c.most_common(1))\n",
    "print(c.most_common(2))\n",
    "\n",
    "mode = c.most_common(1)\n",
    "print(mode)"
   ]
  },
  {
   "cell_type": "code",
   "execution_count": 18,
   "metadata": {
    "collapsed": false
   },
   "outputs": [
    {
     "name": "stdout",
     "output_type": "stream",
     "text": [
      "リストの最頻値は 9\n"
     ]
    }
   ],
   "source": [
    "import collections\n",
    "def calculate_mode(numbers):\n",
    "    c = collections.Counter(numbers)\n",
    "    mode = c.most_common(1)\n",
    "    return mode[0][0]\n",
    "\n",
    "scores = [7, 8, 9, 2, 10, 9, 9, 9, 9, 4, 5, 6, 1, 5, 6, 7, 8, 6, 1, 10]\n",
    "mode = calculate_mode(scores)\n",
    "\n",
    "# フォーマット文字列\n",
    "print('リストの最頻値は {0}'.format(mode))"
   ]
  },
  {
   "cell_type": "code",
   "execution_count": 20,
   "metadata": {
    "collapsed": false
   },
   "outputs": [
    {
     "name": "stdout",
     "output_type": "stream",
     "text": [
      "リストの最頻値は [(4, 3), (5, 3)]\n"
     ]
    }
   ],
   "source": [
    "import collections\n",
    "def calculate_mode(numbers):\n",
    "    c = collections.Counter(numbers)\n",
    "    numbers_freq = c.most_common()\n",
    "    max_count = numbers_freq[0][1]\n",
    "\n",
    "    # 最頻値が複数ある場合もある\n",
    "    modes = [x for x in numbers_freq if x[1] == max_count]\n",
    "    return modes\n",
    "\n",
    "scores = [5, 5, 5, 4, 4, 4, 9, 1, 3]\n",
    "modes = calculate_mode(scores)\n",
    "print('リストの最頻値は {0}'.format(modes))"
   ]
  },
  {
   "cell_type": "code",
   "execution_count": 22,
   "metadata": {
    "collapsed": false
   },
   "outputs": [
    {
     "name": "stdout",
     "output_type": "stream",
     "text": [
      "Number\tFrequency\n",
      "9\t5\n",
      "6\t3\n",
      "1\t2\n",
      "5\t2\n",
      "7\t2\n",
      "8\t2\n",
      "10\t2\n",
      "2\t1\n",
      "4\t1\n"
     ]
    }
   ],
   "source": [
    "import collections\n",
    "def frequency_table(numbers):\n",
    "    table = collections.Counter(numbers)\n",
    "    tablelst = [\"Number\\tFrequency\"] + [\"{0}\\t{1}\".format(x[0], x[1]) for x in table.most_common()]\n",
    "    return \"\\n\".join(tablelst)\n",
    "\n",
    "scores = [7, 8, 9, 2, 10, 9, 9, 9, 9, 4, 5, 6, 1, 5, 6, 7, 8, 6, 1, 10]\n",
    "table_string = frequency_table(scores)\n",
    "print(table_string)"
   ]
  },
  {
   "cell_type": "markdown",
   "metadata": {},
   "source": [
    "### 上の度数分布表をソートした"
   ]
  },
  {
   "cell_type": "code",
   "execution_count": 26,
   "metadata": {
    "collapsed": false
   },
   "outputs": [
    {
     "name": "stdout",
     "output_type": "stream",
     "text": [
      "Number\tFrequency\n",
      "1\t2\n",
      "2\t1\n",
      "4\t1\n",
      "5\t2\n",
      "6\t3\n",
      "7\t2\n",
      "8\t2\n",
      "9\t5\n",
      "10\t2\n"
     ]
    }
   ],
   "source": [
    "import collections\n",
    "def sorted_frequency_table(numbers):\n",
    "    table = collections.Counter(numbers)\n",
    "    tablelst = [\"Number\\tFrequency\"] + [\"{0}\\t{1}\".format(x[0], x[1]) for x in sorted(table.most_common())]\n",
    "    return \"\\n\".join(tablelst)\n",
    "\n",
    "scores = [7, 8, 9, 2, 10, 9, 9, 9, 9, 4, 5, 6, 1, 5, 6, 7, 8, 6, 1, 10]\n",
    "table_string = sorted_frequency_table(scores)\n",
    "print(table_string)"
   ]
  },
  {
   "cell_type": "markdown",
   "metadata": {},
   "source": [
    "## 分散"
   ]
  },
  {
   "cell_type": "markdown",
   "metadata": {},
   "source": [
    "### 範囲 (range)"
   ]
  },
  {
   "cell_type": "code",
   "execution_count": 27,
   "metadata": {
    "collapsed": false
   },
   "outputs": [
    {
     "name": "stdout",
     "output_type": "stream",
     "text": [
      "最小: 60 最大: 1200 範囲: 1140\n"
     ]
    }
   ],
   "source": [
    "def find_range(numbers):\n",
    "    lowest = min(numbers)\n",
    "    highest = max(numbers)\n",
    "    # 範囲の計算\n",
    "    r = highest-lowest\n",
    "    return lowest, highest, r\n",
    "\n",
    "donations = [100, 60, 70, 900, 100, 200, 500, 500, 503, 600, 1000, 1200]\n",
    "lowest, highest, r = find_range(donations)\n",
    "\n",
    "# フォーマット文字列\n",
    "print('最小: {0} 最大: {1} 範囲: {2}'.format(lowest, highest, r))"
   ]
  },
  {
   "cell_type": "markdown",
   "metadata": {},
   "source": [
    "### 偏差 (variance) と標準偏差 (standard deviation)\n",
    "\n",
    "偏差 $V$ は次式で定義する.\n",
    "\\begin{align}\n",
    " V\n",
    " =\n",
    " \\frac{\\sum_{k=1}^{n} (x_k - m)}{n}.\n",
    "\\end{align}\n",
    "ここで $m$ は平均.\n",
    "標準偏差は $\\sqrt{V}$ で定義する."
   ]
  },
  {
   "cell_type": "code",
   "execution_count": 28,
   "metadata": {
    "collapsed": false
   },
   "outputs": [
    {
     "name": "stdout",
     "output_type": "stream",
     "text": [
      "リストの分散は 141047.35416666666\n",
      "リストの標準偏差は 375.5627166887931\n"
     ]
    }
   ],
   "source": [
    "def calculate_mean(numbers):\n",
    "    \"\"\"渡ってきた数のリストの平均を計算する\"\"\"\n",
    "    s = sum(numbers)\n",
    "    N = len(numbers)\n",
    "    mean = s/N\n",
    "    return mean\n",
    "\n",
    "def find_differences(numbers):\n",
    "    \"\"\"平均との差を取った数列を返す\"\"\"\n",
    "    # 平均\n",
    "    mean = calculate_mean(numbers)\n",
    "    # 平均との差を取ったリストを返却\n",
    "    diff = [x - mean for x in numbers]\n",
    "    return diff\n",
    "\n",
    "def calculate_variance(numbers):\n",
    "    \"\"\"分散を計算する\"\"\"\n",
    "    # 平均との差を取ったリスト\n",
    "    diff = find_differences(numbers)\n",
    "    # 平均との差の 2 乗を取る\n",
    "    squared_diff = [x**2 for x in diff]\n",
    "\n",
    "    # 分散を計算する\n",
    "    sum_squared_diff = sum(squared_diff)\n",
    "    variance = sum_squared_diff / len(numbers)\n",
    "    return variance\n",
    "\n",
    "donations = [100, 60, 70, 900, 100, 200, 500, 500, 503, 600, 1000, 1200]\n",
    "variance = calculate_variance(donations)\n",
    "print('リストの分散は {0}'.format(variance))\n",
    "\n",
    "# 標準偏差の経産\n",
    "std = variance**0.5\n",
    "print('リストの標準偏差は {0}'.format(std))"
   ]
  },
  {
   "cell_type": "markdown",
   "metadata": {},
   "source": [
    "## 相関係数\n",
    "定義は次の通り.\n",
    "\\begin{align}\n",
    " \\frac{n \\sum xy - \\sum x \\sum y}{\\sqrt{(n \\sum x^2 - (\\sum x)^2) (n \\sum y^2 - (\\sum x)^2)}}.\n",
    "\\end{align}"
   ]
  },
  {
   "cell_type": "code",
   "execution_count": 29,
   "metadata": {
    "collapsed": true
   },
   "outputs": [],
   "source": [
    "# coding: utf-8\n",
    "def find_corr_x_y(x,y):\n",
    "    \"\"\"x と y の相関係数を調べる.\"\"\"\n",
    "    n = len(x)\n",
    "\n",
    "    # 2 数の積\n",
    "    prod = [xi * yi for (xi, yi) in zip(x,y)]\n",
    "\n",
    "    sum_prod_x_y = sum(prod)\n",
    "    sum_x = sum(x)\n",
    "    sum_y = sum(y)\n",
    "    squared_sum_x = sum_x ** 2\n",
    "    squared_sum_y = sum_y ** 2\n",
    "    # 2 乗する\n",
    "    x_square = [xi**2 for xi in x]\n",
    "    # 和を計算する\n",
    "    x_square_sum = sum(x_square)\n",
    "\n",
    "    y_square=[yi**2 for yi in x]\n",
    "    # 和を計算する\n",
    "    y_square_sum = sum(y_square)\n",
    "    # 相関係数の公式に代入する変数の準備\n",
    "\n",
    "    numerator = n*sum_prod_x_y - sum_x*sum_y\n",
    "    denominator_term1 = n*x_square_sum - squared_sum_x\n",
    "    denominator_term2 = n*y_square_sum - squared_sum_y\n",
    "    denominator = (denominator_term1*denominator_term2)**0.5\n",
    "    correlation = numerator/denominator\n",
    "    return correlation"
   ]
  }
 ],
 "metadata": {
  "anaconda-cloud": {},
  "kernelspec": {
   "display_name": "Python [Root]",
   "language": "python",
   "name": "Python [Root]"
  },
  "language_info": {
   "codemirror_mode": {
    "name": "ipython",
    "version": 3
   },
   "file_extension": ".py",
   "mimetype": "text/x-python",
   "name": "python",
   "nbconvert_exporter": "python",
   "pygments_lexer": "ipython3",
   "version": "3.5.1"
  }
 },
 "nbformat": 4,
 "nbformat_minor": 0
}
