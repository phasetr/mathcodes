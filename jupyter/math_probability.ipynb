{
 "cells": [
  {
   "cell_type": "markdown",
   "metadata": {},
   "source": [
    "# 整数の乱数を発生させるモジュール randint"
   ]
  },
  {
   "cell_type": "code",
   "execution_count": 7,
   "metadata": {
    "collapsed": true
   },
   "outputs": [],
   "source": [
    "%matplotlib inline\n",
    "import numpy as np\n",
    "import matplotlib.pyplot as plt\n",
    "from numpy.random import randint"
   ]
  },
  {
   "cell_type": "markdown",
   "metadata": {},
   "source": [
    "## 1-6 の乱数を 10 個発生させる"
   ]
  },
  {
   "cell_type": "code",
   "execution_count": 3,
   "metadata": {
    "collapsed": false
   },
   "outputs": [
    {
     "name": "stdout",
     "output_type": "stream",
     "text": [
      "[1 2 1 4 2 2 3 2 3 5]\n"
     ]
    }
   ],
   "source": [
    "from numpy.random import randint\n",
    "print(randint(1, 7, 10))"
   ]
  },
  {
   "cell_type": "markdown",
   "metadata": {},
   "source": [
    "## 1-6 の乱数を 1000 回発生させてヒストグラムに表示"
   ]
  },
  {
   "cell_type": "code",
   "execution_count": 6,
   "metadata": {
    "collapsed": false,
    "scrolled": true
   },
   "outputs": [
    {
     "data": {
      "image/png": "[encoded data removed]",
      "text/plain": [
       "<matplotlib.figure.Figure at 0x1128afeb8>"
      ]
     },
     "metadata": {},
     "output_type": "display_data"
    }
   ],
   "source": [
    "%matplotlib inline\n",
    "import numpy as np\n",
    "import matplotlib.pyplot as plt\n",
    "from numpy.random import randint\n",
    "\n",
    "# 1000 回発生\n",
    "dice = randint(1, 7, 1000)\n",
    "\n",
    "fig = plt.figure(figsize=(3, 3))\n",
    "subplot = fig.add_subplot(1, 1, 1)\n",
    "subplot.set_xlim(0.5, 6.5)\n",
    "subplot.hist(dice, bins=np.linspace(0.5, 6.5, 7))\n",
    "plt.show()"
   ]
  },
  {
   "cell_type": "markdown",
   "metadata": {},
   "source": [
    "## 2 個サイコロを振った合計を 1000 回分計算"
   ]
  },
  {
   "cell_type": "code",
   "execution_count": 9,
   "metadata": {
    "collapsed": false,
    "scrolled": true
   },
   "outputs": [
    {
     "data": {
      "image/png": "[encoded data removed]",
      "text/plain": [
       "<matplotlib.figure.Figure at 0x1128c18d0>"
      ]
     },
     "metadata": {},
     "output_type": "display_data"
    }
   ],
   "source": [
    "%matplotlib inline\n",
    "import numpy as np\n",
    "import matplotlib.pyplot as plt\n",
    "from numpy.random import randint\n",
    "\n",
    "dice1 = randint(1, 7, 1000)\n",
    "dice2 = randint(1, 7, 1000)\n",
    "# これだけで配列全部の和を一気に計算できる\n",
    "dice_total = dice1 + dice2\n",
    "\n",
    "fig = plt.figure(figsize=(5, 3))\n",
    "subplot = fig.add_subplot(1, 1, 1)\n",
    "subplot.set_xlim(1.5, 12.5)\n",
    "subplot.hist(dice_total, bins=np.linspace(1.5, 12.5, 12))\n",
    "plt.show()"
   ]
  },
  {
   "cell_type": "markdown",
   "metadata": {},
   "source": [
    "## 他のモジュール: random, normal"
   ]
  },
  {
   "cell_type": "markdown",
   "metadata": {},
   "source": [
    "### `random` で 0-1 の範囲の乱数を 5 個作る"
   ]
  },
  {
   "cell_type": "code",
   "execution_count": 23,
   "metadata": {
    "collapsed": false
   },
   "outputs": [
    {
     "name": "stdout",
     "output_type": "stream",
     "text": [
      "[ 0.73232158  0.70204483  0.72211749  0.27187569  0.77859471]\n"
     ]
    }
   ],
   "source": [
    "%matplotlib inline\n",
    "import numpy as np\n",
    "import matplotlib.pyplot as plt\n",
    "from numpy.random import random\n",
    "from numpy.random import normal\n",
    "\n",
    "print(random(5))"
   ]
  },
  {
   "cell_type": "markdown",
   "metadata": {},
   "source": [
    "### 100-150 の範囲の乱数"
   ]
  },
  {
   "cell_type": "code",
   "execution_count": 24,
   "metadata": {
    "collapsed": false
   },
   "outputs": [
    {
     "name": "stdout",
     "output_type": "stream",
     "text": [
      "[ 139.74168276  133.89724057  107.47371684  130.59561885  119.67683712]\n"
     ]
    }
   ],
   "source": [
    "%matplotlib inline\n",
    "import numpy as np\n",
    "import matplotlib.pyplot as plt\n",
    "from numpy.random import random\n",
    "from numpy.random import normal\n",
    "\n",
    "print(100 + random(5) * 50)"
   ]
  },
  {
   "cell_type": "markdown",
   "metadata": {},
   "source": [
    "### 正規分布の乱数 `normal`\n",
    "\n",
    "標準偏差 1 の場合と標準偏差 2 の場合をグラフで比較."
   ]
  },
  {
   "cell_type": "code",
   "execution_count": 25,
   "metadata": {
    "collapsed": false
   },
   "outputs": [
    {
     "data": {
      "image/png": "[encoded data removed]",
      "text/plain": [
       "<matplotlib.figure.Figure at 0x11a103e10>"
      ]
     },
     "metadata": {},
     "output_type": "display_data"
    }
   ],
   "source": [
    "%matplotlib inline\n",
    "import numpy as np\n",
    "import matplotlib.pyplot as plt\n",
    "from numpy.random import random\n",
    "from numpy.random import normal\n",
    "\n",
    "fig = plt.figure(figsize=(5, 6))\n",
    "\n",
    "# 標準偏差 1\n",
    "subplot = fig.add_subplot(2, 1, 1)\n",
    "data = normal(5, 1, 1000)\n",
    "subplot.hist(data, bins=np.linspace(0, 10, 20))\n",
    "\n",
    "# 標準偏差 2\n",
    "subplot = fig.add_subplot(2, 1, 2)\n",
    "data = normal(5, 2, 1000)\n",
    "subplot.hist(data, bins=np.linspace(0, 10, 20))\n",
    "\n",
    "plt.show()"
   ]
  },
  {
   "cell_type": "markdown",
   "metadata": {},
   "source": [
    "# 大数の法則\n",
    "\n",
    "1000 回分のサイコロの目を用意して各回の平均を順に計算してグラフに描く."
   ]
  },
  {
   "cell_type": "code",
   "execution_count": 10,
   "metadata": {
    "collapsed": false,
    "scrolled": true
   },
   "outputs": [
    {
     "data": {
      "image/png": "[encoded data removed]",
      "text/plain": [
       "<matplotlib.figure.Figure at 0x117aa2f60>"
      ]
     },
     "metadata": {},
     "output_type": "display_data"
    }
   ],
   "source": [
    "%matplotlib inline\n",
    "import numpy as np\n",
    "import matplotlib.pyplot as plt\n",
    "from numpy.random import randint\n",
    "\n",
    "# 平均の計算\n",
    "dice = randint(1,7,1000)\n",
    "result = []\n",
    "for i in range(1, 1001):\n",
    "    sample = dice[:i]\n",
    "    result.append(np.mean(sample))\n",
    "\n",
    "fig = plt.figure(figsize=(5, 3))\n",
    "subplot = fig.add_subplot(1, 1, 1)\n",
    "subplot.set_ylim(2, 5)\n",
    "subplot.plot(result)\n",
    "plt.show()"
   ]
  },
  {
   "cell_type": "markdown",
   "metadata": {},
   "source": [
    "# コイン投げ"
   ]
  },
  {
   "cell_type": "markdown",
   "metadata": {},
   "source": [
    "1 回分のゲームをシミュレーションする関数を用意する.\n",
    "\n",
    "手持ちのポイントと賭けるポイントを渡すとゲームの結果に応じて増減した後の手持ちのポイントが返るようにする.\n",
    "\n",
    "毎回 10 ポイント賭けるという戦略で 100 回分ゲームを繰り返す.\n",
    "その結果で手持ちのポイントがどう変わるかをグラフに描く."
   ]
  },
  {
   "cell_type": "code",
   "execution_count": 11,
   "metadata": {
    "collapsed": false
   },
   "outputs": [
    {
     "data": {
      "image/png": "[encoded data removed]",
      "text/plain": [
       "<matplotlib.figure.Figure at 0x119e2f630>"
      ]
     },
     "metadata": {},
     "output_type": "display_data"
    }
   ],
   "source": [
    "%matplotlib inline\n",
    "import numpy as np\n",
    "import matplotlib.pyplot as plt\n",
    "from numpy.random import randint\n",
    "\n",
    "def coin_game(money, bet):\n",
    "    coin = randint(2)\n",
    "    if coin == 0:\n",
    "        money += bet\n",
    "    else:\n",
    "        money -= bet\n",
    "    return money\n",
    "\n",
    "money = 1000\n",
    "result = []\n",
    "for i in range(100):\n",
    "    # 10 ポイントごと賭ける\n",
    "    money = coin_game(money, 10)\n",
    "    result.append(money)\n",
    "\n",
    "fig = plt.figure(figsize=(5,3))\n",
    "subplot = fig.add_subplot(1,1,1)\n",
    "subplot.plot(range(len(result)), result)\n",
    "plt.show()"
   ]
  },
  {
   "cell_type": "markdown",
   "metadata": {},
   "source": [
    "毎回手持ちのポイントの半分を賭けるという戦略を取って 100 回ゲームする.\n",
    "その結果手持ちのポイントがどう変わるかをグラフに描く."
   ]
  },
  {
   "cell_type": "code",
   "execution_count": 22,
   "metadata": {
    "collapsed": false,
    "scrolled": false
   },
   "outputs": [
    {
     "data": {
      "text/plain": [
       "[<matplotlib.lines.Line2D at 0x119e1dd30>]"
      ]
     },
     "execution_count": 22,
     "metadata": {},
     "output_type": "execute_result"
    },
    {
     "data": {
      "image/png": "[encoded data removed]",
      "text/plain": [
       "<matplotlib.figure.Figure at 0x1176c97b8>"
      ]
     },
     "metadata": {},
     "output_type": "display_data"
    }
   ],
   "source": [
    "# 関数を引き継いでいるので前のセルを読み込むこと!\n",
    "\n",
    "money = 1000\n",
    "result1 = []\n",
    "for i in range(100):\n",
    "    # 半分ごと賭ける\n",
    "    money = coin_game(money, money/2)\n",
    "    result1.append(money)\n",
    " \n",
    "fig = plt.figure()\n",
    "ax1 = fig.add_subplot(121)\n",
    "ax2 = fig.add_subplot(122)\n",
    "ax1.plot(range(len(result1)), result1)\n",
    "\n",
    "# 賭ける\n",
    "money = 1000\n",
    "result2 = []\n",
    "for i in range(100):\n",
    "    result2.append(money)\n",
    "    # 半分ごと賭ける\n",
    "    money = coin_game(money, money/2)\n",
    "\n",
    "ax2.plot(range(len(result2)), result2)"
   ]
  },
  {
   "cell_type": "markdown",
   "metadata": {},
   "source": [
    "# 株の値動きのシミュレーションのようなもの"
   ]
  },
  {
   "cell_type": "markdown",
   "metadata": {},
   "source": [
    "## 1 回分のゲームをシミュレーション\n",
    "\n",
    "手持ちのポイントは賭けたポイントの分だけ増えるか, 賭けたポイントの半分だけ減る.\n",
    "\n",
    "毎回 10 ポイント賭ける戦略で 100 回ゲームを繰り返す.\n",
    "手持ちのポイントがどう変わるかグラフで描く."
   ]
  },
  {
   "cell_type": "code",
   "execution_count": 27,
   "metadata": {
    "collapsed": false
   },
   "outputs": [
    {
     "data": {
      "image/png": "[encoded data removed]",
      "text/plain": [
       "<matplotlib.figure.Figure at 0x11a1227b8>"
      ]
     },
     "metadata": {},
     "output_type": "display_data"
    }
   ],
   "source": [
    "%matplotlib inline\n",
    "import numpy as np\n",
    "import matplotlib.pyplot as plt\n",
    "from numpy.random import randint\n",
    "\n",
    "def coin_game(money, bet):\n",
    "    coin = randint(2)\n",
    "    if coin == 0:\n",
    "        money += bet\n",
    "    else:\n",
    "        money -= bet / 2\n",
    "    return money\n",
    "\n",
    "money = 1000\n",
    "result = []\n",
    "for i in range(100):\n",
    "    money = coin_game(money, 10)\n",
    "    result.append(money)\n",
    "\n",
    "fig = plt.figure(figsize=(5,3))\n",
    "subplot = fig.add_subplot(1,1,1)\n",
    "subplot.plot(range(len(result)), result)\n",
    "plt.show()"
   ]
  },
  {
   "cell_type": "markdown",
   "metadata": {},
   "source": [
    "## 毎回手持ちのポイントを半分賭ける\n",
    "\n",
    "100 回ゲームを繰り返す.\n",
    "手持ちのポイントがどう変わるかをグラフで描く."
   ]
  },
  {
   "cell_type": "code",
   "execution_count": 29,
   "metadata": {
    "collapsed": false
   },
   "outputs": [
    {
     "data": {
      "image/png": "[encoded data removed]",
      "text/plain": [
       "<matplotlib.figure.Figure at 0x11a51ef60>"
      ]
     },
     "metadata": {},
     "output_type": "display_data"
    }
   ],
   "source": [
    "# 関数を持ち越しているので前のセルを読み込むこと!\n",
    "\n",
    "money = 1000\n",
    "result = []\n",
    "for i in range(100):\n",
    "    result.append(money)\n",
    "    money = coin_game(money, money / 2)\n",
    "\n",
    "fig = plt.figure(figsize=(5, 3))\n",
    "subplot = fig.add_subplot(1, 1, 1)\n",
    "subplot.plot(range(len(result)), result)\n",
    "plt.show()"
   ]
  }
 ],
 "metadata": {
  "anaconda-cloud": {},
  "kernelspec": {
   "display_name": "Python [Root]",
   "language": "python",
   "name": "Python [Root]"
  },
  "language_info": {
   "codemirror_mode": {
    "name": "ipython",
    "version": 3
   },
   "file_extension": ".py",
   "mimetype": "text/x-python",
   "name": "python",
   "nbconvert_exporter": "python",
   "pygments_lexer": "ipython3",
   "version": "3.5.1"
  }
 },
 "nbformat": 4,
 "nbformat_minor": 0
}
