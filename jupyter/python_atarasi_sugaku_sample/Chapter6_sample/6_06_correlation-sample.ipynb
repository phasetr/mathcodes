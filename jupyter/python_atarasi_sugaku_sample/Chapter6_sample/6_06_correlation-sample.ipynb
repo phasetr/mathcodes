{
 "cells": [
  {
   "cell_type": "markdown",
   "metadata": {},
   "source": [
    "▲リスト6.22：`corrcoef()`関数を使って相関係数を計算する"
   ]
  },
  {
   "cell_type": "code",
   "execution_count": 1,
   "metadata": {},
   "outputs": [
    {
     "name": "stdout",
     "output_type": "stream",
     "text": [
      "--- corrcoef()関数を使用 ---\n",
      "[[1.         0.72760688]\n",
      " [0.72760688 1.        ]]\n",
      "\n",
      "--- 共分散と標準偏差から求める ---\n",
      "0.7276068751089989\n"
     ]
    },
    {
     "data": {
      "image/png": "[encoded data removed]",
      "text/plain": [
       "<Figure size 432x288 with 1 Axes>"
      ]
     },
     "metadata": {
      "needs_background": "light"
     },
     "output_type": "display_data"
    }
   ],
   "source": [
    "%matplotlib inline\n",
    "\n",
    "import numpy as np\n",
    "import matplotlib.pyplot as plt\n",
    " \n",
    "x = np.array([50, 70, 40, 60, 80])  # 数学の点数\n",
    "y = np.array([60, 80, 50, 50, 70])  # 英語の点数\n",
    "\n",
    "print(\"--- corrcoef()関数を使用 ---\")\n",
    "print(np.corrcoef(x, y))  # 相関係数\n",
    "\n",
    "print()\n",
    "\n",
    "print(\"--- 共分散と標準偏差から求める ---\")\n",
    "cov_xy = np.average((x-np.average(x))*(y-np.average(y)))  # 共分散\n",
    "print(cov_xy/(np.std(x)*np.std(y)))  # （式 1）\n",
    "\n",
    "plt.scatter(x, y)\n",
    "\n",
    "plt.xlabel(\"x\", size=14)\n",
    "plt.ylabel(\"y\", size=14)\n",
    "plt.grid()\n",
    "\n",
    "plt.show()"
   ]
  },
  {
   "cell_type": "markdown",
   "metadata": {},
   "source": [
    "#### □問題\n",
    "　リスト6.23 を補完し、NumPyの`corrcoef()`関数を用いて相関係数を求めましょう。<br>\n",
    "　また、共分散と標準偏差を使って相関係数を求め、前者と比較してみましょう。"
   ]
  },
  {
   "cell_type": "markdown",
   "metadata": {},
   "source": [
    "▲リスト6.23：問題"
   ]
  },
  {
   "cell_type": "code",
   "execution_count": null,
   "metadata": {},
   "outputs": [],
   "source": [
    "import numpy as np\n",
    "import matplotlib.pyplot as plt\n",
    "\n",
    "x = np.array([30, 70, 40, 60, 90])  # 世界史の点数\n",
    "y = np.array([20, 60, 50, 40, 80])  # 日本史の点数\n",
    "\n",
    "# ここで、corrcoef()関数で相関係数を求めて表示\n",
    "print(\"--- corrcoef()関数を使用 ---\")\n",
    "\n",
    "\n",
    "print()\n",
    "\n",
    "# 共分散と標準偏差から相関係数を求めて表示\n",
    "print(\"--- 共分散と標準偏差から求める ---\")\n",
    "\n",
    "\n",
    "\n",
    "plt.scatter(x, y)\n",
    "\n",
    "plt.xlabel(\"x\", size=14)\n",
    "plt.ylabel(\"y\", size=14)\n",
    "plt.grid()\n",
    "\n",
    "plt.show()"
   ]
  },
  {
   "cell_type": "markdown",
   "metadata": {},
   "source": [
    "#### □解答例"
   ]
  },
  {
   "cell_type": "markdown",
   "metadata": {},
   "source": [
    "▲リスト6.24：解答例"
   ]
  },
  {
   "cell_type": "code",
   "execution_count": 2,
   "metadata": {},
   "outputs": [
    {
     "name": "stdout",
     "output_type": "stream",
     "text": [
      "--- corrcoef()関数を使用 ---\n",
      "[[1.         0.88975652]\n",
      " [0.88975652 1.        ]]\n",
      "\n",
      "--- 共分散と標準偏差から求める ---\n",
      "0.8897565210026094\n"
     ]
    },
    {
     "data": {
      "image/png": "[encoded data removed]",
      "text/plain": [
       "<Figure size 432x288 with 1 Axes>"
      ]
     },
     "metadata": {
      "needs_background": "light"
     },
     "output_type": "display_data"
    }
   ],
   "source": [
    "import numpy as np\n",
    "import matplotlib.pyplot as plt\n",
    "\n",
    "x = np.array([30, 70, 40, 60, 90])  # 世界史の点数\n",
    "y = np.array([20, 60, 50, 40, 80])  # 日本史の点数\n",
    "\n",
    "# ここで、corrcoef()関数で相関係数を求めて表示\n",
    "print(\"--- corrcoef()関数を使用 ---\")\n",
    "print(np.corrcoef(x, y))\n",
    "\n",
    "print()\n",
    "\n",
    "# 共分散と標準偏差から相関係数を求めて表示\n",
    "print(\"--- 共分散と標準偏差から求める ---\")\n",
    "cov_xy = np.average((x-np.average(x))*(y-np.average(y)))\n",
    "print(cov_xy/(np.std(x)*np.std(y)))\n",
    "\n",
    "plt.scatter(x, y)\n",
    "\n",
    "plt.xlabel(\"x\", size=14)\n",
    "plt.ylabel(\"y\", size=14)\n",
    "plt.grid()\n",
    "\n",
    "plt.show()"
   ]
  }
 ],
 "metadata": {
  "kernelspec": {
   "display_name": "Python 3",
   "language": "python",
   "name": "python3"
  },
  "language_info": {
   "codemirror_mode": {
    "name": "ipython",
    "version": 3
   },
   "file_extension": ".py",
   "mimetype": "text/x-python",
   "name": "python",
   "nbconvert_exporter": "python",
   "pygments_lexer": "ipython3",
   "version": "3.6.6"
  }
 },
 "nbformat": 4,
 "nbformat_minor": 2
}
