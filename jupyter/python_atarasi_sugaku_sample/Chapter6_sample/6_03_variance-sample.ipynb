{
 "cells": [
  {
   "cell_type": "markdown",
   "metadata": {},
   "source": [
    "▲リスト6.8：`var()`関数を使って分散を計算する"
   ]
  },
  {
   "cell_type": "code",
   "execution_count": 1,
   "metadata": {},
   "outputs": [
    {
     "name": "stdout",
     "output_type": "stream",
     "text": [
      "62.5\n",
      "2.5\n"
     ]
    }
   ],
   "source": [
    "import numpy as np\n",
    "\n",
    "# 分散をとるデータ\n",
    "x_1 = np.array([55, 45, 60, 40]) \n",
    "x_2 = np.array([51, 49, 52, 48]) \n",
    "\n",
    "# 分散の計算\n",
    "print(np.var(x_1))\n",
    "print(np.var(x_2))"
   ]
  },
  {
   "cell_type": "markdown",
   "metadata": {},
   "source": [
    "▲リスト6.9：`std()`関数を使って標準偏差を計算する"
   ]
  },
  {
   "cell_type": "code",
   "execution_count": 2,
   "metadata": {},
   "outputs": [
    {
     "name": "stdout",
     "output_type": "stream",
     "text": [
      "7.905694150420948\n",
      "1.5811388300841898\n"
     ]
    }
   ],
   "source": [
    "import numpy as np\n",
    "\n",
    "# 標準偏差をとるデータ\n",
    "x_1 = np.array([55, 45, 60, 40]) \n",
    "x_2 = np.array([51, 49, 52, 48]) \n",
    "\n",
    "# 標準偏差の計算\n",
    "print(np.std(x_1))\n",
    "print(np.std(x_2))"
   ]
  },
  {
   "cell_type": "markdown",
   "metadata": {},
   "source": [
    "#### □問題\n",
    "　リスト6.10において、配列`x`の分散と標準偏差を求めましょう。"
   ]
  },
  {
   "cell_type": "markdown",
   "metadata": {},
   "source": [
    "▲リスト6.10：問題"
   ]
  },
  {
   "cell_type": "code",
   "execution_count": null,
   "metadata": {},
   "outputs": [],
   "source": [
    "import numpy as np\n",
    "\n",
    "x = np.array([51, 49, 52, 48])  # 分散と標準偏差をとるデータ\n",
    "\n",
    "# 分散と標準偏差\n",
    "\n"
   ]
  },
  {
   "cell_type": "markdown",
   "metadata": {},
   "source": [
    "#### □解答例"
   ]
  },
  {
   "cell_type": "markdown",
   "metadata": {},
   "source": [
    "▲リスト6.11：解答例"
   ]
  },
  {
   "cell_type": "code",
   "execution_count": 3,
   "metadata": {},
   "outputs": [
    {
     "name": "stdout",
     "output_type": "stream",
     "text": [
      "2.5\n",
      "1.5811388300841898\n"
     ]
    }
   ],
   "source": [
    "import numpy as np\n",
    "\n",
    "x = np.array([51, 49, 52, 48])  # 分散と標準偏差をとるデータ\n",
    "\n",
    "# 分散と標準偏差\n",
    "print(np.var(x))\n",
    "print(np.std(x))"
   ]
  }
 ],
 "metadata": {
  "kernelspec": {
   "display_name": "Python 3",
   "language": "python",
   "name": "python3"
  },
  "language_info": {
   "codemirror_mode": {
    "name": "ipython",
    "version": 3
   },
   "file_extension": ".py",
   "mimetype": "text/x-python",
   "name": "python",
   "nbconvert_exporter": "python",
   "pygments_lexer": "ipython3",
   "version": "3.6.6"
  }
 },
 "nbformat": 4,
 "nbformat_minor": 2
}
