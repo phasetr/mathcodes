{
 "cells": [
  {
   "cell_type": "markdown",
   "metadata": {},
   "source": [
    "▲リスト2.31：NumPyのインポート"
   ]
  },
  {
   "cell_type": "code",
   "execution_count": 1,
   "metadata": {},
   "outputs": [],
   "source": [
    "import numpy"
   ]
  },
  {
   "cell_type": "markdown",
   "metadata": {},
   "source": [
    "▲リスト2.32：モジュールに別の名前をつける"
   ]
  },
  {
   "cell_type": "code",
   "execution_count": 2,
   "metadata": {},
   "outputs": [],
   "source": [
    "import numpy as np"
   ]
  },
  {
   "cell_type": "markdown",
   "metadata": {},
   "source": [
    "▲リスト2.33：PythonのリストからNumPyの配列を作る"
   ]
  },
  {
   "cell_type": "code",
   "execution_count": 3,
   "metadata": {},
   "outputs": [
    {
     "name": "stdout",
     "output_type": "stream",
     "text": [
      "[0 1 2 3 4 5]\n"
     ]
    }
   ],
   "source": [
    "import numpy as np\n",
    "\n",
    "a = np.array([0, 1, 2, 3, 4, 5])  # PythonのリストからNumPyの配列を作る\n",
    "print(a) "
   ]
  },
  {
   "cell_type": "markdown",
   "metadata": {},
   "source": [
    "▲リスト2.34：2重のリストからNumPyの2次元配列を作る"
   ]
  },
  {
   "cell_type": "code",
   "execution_count": 4,
   "metadata": {},
   "outputs": [
    {
     "name": "stdout",
     "output_type": "stream",
     "text": [
      "[[0 1 2]\n",
      " [3 4 5]]\n"
     ]
    }
   ],
   "source": [
    "import numpy as np\n",
    "\n",
    "b = np.array([[0, 1, 2], [3, 4, 5]])  # 2重のリストからNumPyの2次元配列を作る\n",
    "print(b)"
   ]
  },
  {
   "cell_type": "markdown",
   "metadata": {},
   "source": [
    "▲リスト2.35：3重のリストからNumPyの3次元配列を作る"
   ]
  },
  {
   "cell_type": "code",
   "execution_count": 11,
   "metadata": {},
   "outputs": [
    {
     "name": "stdout",
     "output_type": "stream",
     "text": [
      "[[[0 1 2]\n",
      "  [3 4 5]]\n",
      "\n",
      " [[5 4 3]\n",
      "  [2 1 0]]]\n"
     ]
    }
   ],
   "source": [
    "import numpy as np\n",
    "\n",
    "c = np.array([[[0, 1, 2], [3, 4, 5]], [[5, 4, 3], [2, 1, 0]]])  # 3重のリストからNumPyの3次元配列を作る\n",
    "print(c)"
   ]
  },
  {
   "cell_type": "markdown",
   "metadata": {},
   "source": [
    "▲リスト2.36：配列を生成する様々な関数"
   ]
  },
  {
   "cell_type": "code",
   "execution_count": 12,
   "metadata": {},
   "outputs": [
    {
     "name": "stdout",
     "output_type": "stream",
     "text": [
      "[0. 0. 0. 0. 0. 0. 0. 0.]\n",
      "[1. 1. 1. 1. 1. 1. 1. 1.]\n",
      "[0 1 2 3 4 5 6 7]\n"
     ]
    }
   ],
   "source": [
    "import numpy as np\n",
    "\n",
    "d = np.zeros(8)  # 0が8個格納された配列\n",
    "print(d)\n",
    "\n",
    "e = np.ones(8) # 1が8個格納された配列\n",
    "print(e)\n",
    "\n",
    "f = np.arange(8) # 0から7までが格納された配列\n",
    "print(f)"
   ]
  },
  {
   "cell_type": "markdown",
   "metadata": {},
   "source": [
    "▲リスト2.37：`shape( )`関数により配列の形状を得る"
   ]
  },
  {
   "cell_type": "code",
   "execution_count": 13,
   "metadata": {},
   "outputs": [
    {
     "name": "stdout",
     "output_type": "stream",
     "text": [
      "(2, 3)\n"
     ]
    }
   ],
   "source": [
    "import numpy as np\n",
    "\n",
    "a = np.array([[0, 1, 2],\n",
    "              [3, 4, 5]])  # 2x3の2次元配列\n",
    "print(np.shape(a))  # aの形状を表示"
   ]
  },
  {
   "cell_type": "markdown",
   "metadata": {},
   "source": [
    "▲リスト2.38：`len( )`により一番外側の要素数を得る"
   ]
  },
  {
   "cell_type": "code",
   "execution_count": 14,
   "metadata": {},
   "outputs": [
    {
     "name": "stdout",
     "output_type": "stream",
     "text": [
      "2\n"
     ]
    }
   ],
   "source": [
    "print(len(a))  # aの行数を得る"
   ]
  },
  {
   "cell_type": "markdown",
   "metadata": {},
   "source": [
    "▲リスト2.39：配列と数値の演算"
   ]
  },
  {
   "cell_type": "code",
   "execution_count": 15,
   "metadata": {
    "scrolled": true
   },
   "outputs": [
    {
     "name": "stdout",
     "output_type": "stream",
     "text": [
      "[[0 1 2]\n",
      " [3 4 5]]\n",
      "\n",
      "[[3 4 5]\n",
      " [6 7 8]]\n",
      "\n",
      "[[ 0  3  6]\n",
      " [ 9 12 15]]\n"
     ]
    }
   ],
   "source": [
    "import numpy as np\n",
    "\n",
    "a = np.array([[0, 1, 2],\n",
    "              [3, 4, 5]])  # 2次元配列\n",
    "\n",
    "print(a) \n",
    "print()\n",
    "print(a + 3)  # 各要素に3を足す\n",
    "print()\n",
    "print(a * 3)  # 各要素に3を掛ける"
   ]
  },
  {
   "cell_type": "markdown",
   "metadata": {},
   "source": [
    "▲リスト2.40：配列同士の演算"
   ]
  },
  {
   "cell_type": "code",
   "execution_count": 16,
   "metadata": {},
   "outputs": [
    {
     "name": "stdout",
     "output_type": "stream",
     "text": [
      "[[0 1 2]\n",
      " [3 4 5]]\n",
      "\n",
      "[[2 0 1]\n",
      " [5 3 4]]\n",
      "\n",
      "[[2 1 3]\n",
      " [8 7 9]]\n",
      "\n",
      "[[ 0  0  2]\n",
      " [15 12 20]]\n"
     ]
    }
   ],
   "source": [
    "b = np.array([[0, 1, 2],\n",
    "              [3, 4, 5]])  # 2次元配列\n",
    "\n",
    "c = np.array([[2, 0, 1],\n",
    "              [5, 3, 4]])  # 2次元配列\n",
    "\n",
    "print(b)\n",
    "print()\n",
    "print(c)\n",
    "print()\n",
    "print(b + c)\n",
    "print()\n",
    "print(b * c)"
   ]
  },
  {
   "cell_type": "markdown",
   "metadata": {},
   "source": [
    "▲リスト2.41：インデックスを指定し、配列の要素にアクセスする"
   ]
  },
  {
   "cell_type": "code",
   "execution_count": 17,
   "metadata": {},
   "outputs": [
    {
     "name": "stdout",
     "output_type": "stream",
     "text": [
      "4\n"
     ]
    }
   ],
   "source": [
    "import numpy as np\n",
    "\n",
    "a = np.array([1, 2, 3, 4, 5])\n",
    "print(a[3])  # インデックスを指定"
   ]
  },
  {
   "cell_type": "markdown",
   "metadata": {},
   "source": [
    "▲リスト2.42：インデックスを指定して、配列の要素を入れ替える"
   ]
  },
  {
   "cell_type": "code",
   "execution_count": 18,
   "metadata": {},
   "outputs": [
    {
     "name": "stdout",
     "output_type": "stream",
     "text": [
      "[1 2 9 4 5]\n"
     ]
    }
   ],
   "source": [
    "a[2] = 9\n",
    "print(a)"
   ]
  },
  {
   "cell_type": "markdown",
   "metadata": {},
   "source": [
    "▲リスト2.43：2次元配列の要素にアクセスする"
   ]
  },
  {
   "cell_type": "code",
   "execution_count": 19,
   "metadata": {},
   "outputs": [
    {
     "name": "stdout",
     "output_type": "stream",
     "text": [
      "5\n"
     ]
    }
   ],
   "source": [
    "b = np.array([[0, 1, 2],\n",
    "              [3, 4, 5]])\n",
    "\n",
    "print(b[1, 2])  # b[1][2]と同じ"
   ]
  },
  {
   "cell_type": "markdown",
   "metadata": {},
   "source": [
    "▲リスト2.44：2次元配列の要素を入れ替える"
   ]
  },
  {
   "cell_type": "code",
   "execution_count": 20,
   "metadata": {},
   "outputs": [
    {
     "name": "stdout",
     "output_type": "stream",
     "text": [
      "[[0 1 2]\n",
      " [3 4 9]]\n"
     ]
    }
   ],
   "source": [
    "b[1, 2] = 9\n",
    "\n",
    "print(b)"
   ]
  },
  {
   "cell_type": "markdown",
   "metadata": {},
   "source": [
    "▲リスト2.45：行や列にアクセスする"
   ]
  },
  {
   "cell_type": "code",
   "execution_count": 21,
   "metadata": {},
   "outputs": [
    {
     "name": "stdout",
     "output_type": "stream",
     "text": [
      "[3 4 5]\n",
      "\n",
      "[[0 6 2]\n",
      " [3 7 5]]\n"
     ]
    }
   ],
   "source": [
    "c = np.array([[0, 1, 2],\n",
    "              [3, 4, 5]])\n",
    "\n",
    "print(c[1, :])  # インデックスが1の行を取得\n",
    "\n",
    "print()\n",
    "\n",
    "c[:, 1] = np.array([6, 7])  # インデックスが1の列を入れ替え\n",
    "print(c)"
   ]
  },
  {
   "cell_type": "markdown",
   "metadata": {},
   "source": [
    "▲リスト2.46：関数の引数、および返り値としての配列"
   ]
  },
  {
   "cell_type": "code",
   "execution_count": 22,
   "metadata": {},
   "outputs": [
    {
     "name": "stdout",
     "output_type": "stream",
     "text": [
      "[[ 1  3  5]\n",
      " [ 7  9 11]]\n"
     ]
    }
   ],
   "source": [
    "import numpy as np\n",
    "\n",
    "def my_func(x):\n",
    "    y = x * 2 + 1\n",
    "    return y\n",
    "\n",
    "a = np.array([[0, 1, 2],\n",
    "              [3, 4, 5]])  # 2次元配列\n",
    "b = my_func(a)  # 引数として配列を渡し、返り値として配列を受け取る\n",
    "\n",
    "print(b)"
   ]
  },
  {
   "cell_type": "markdown",
   "metadata": {},
   "source": [
    "▲リスト2.47：NumPyが持つ様々な関数"
   ]
  },
  {
   "cell_type": "code",
   "execution_count": 23,
   "metadata": {},
   "outputs": [
    {
     "name": "stdout",
     "output_type": "stream",
     "text": [
      "合計: 15\n",
      "平均: 2.5\n",
      "最大値: 5\n",
      "最小値: 0\n"
     ]
    }
   ],
   "source": [
    "import numpy as np\n",
    "\n",
    "a = np.array([[0, 1, 2],\n",
    "              [3, 4, 5]])  # 2次元配列\n",
    "\n",
    "print(\"合計:\", np.sum(a))\n",
    "print(\"平均:\", np.average(a))\n",
    "print(\"最大値:\", np.max(a))\n",
    "print(\"最小値:\", np.min(a))"
   ]
  },
  {
   "cell_type": "markdown",
   "metadata": {},
   "source": [
    "#### □問題"
   ]
  },
  {
   "cell_type": "markdown",
   "metadata": {},
   "source": [
    "　Jupyter NotebookのセルにNumPyの2次元配列を2つ記述して、お互いの和、差、積を求めてみましょう（ リスト2.48 ）。"
   ]
  },
  {
   "cell_type": "markdown",
   "metadata": {},
   "source": [
    "#### □解答例"
   ]
  },
  {
   "cell_type": "markdown",
   "metadata": {},
   "source": [
    "▲リスト2.48：解答例"
   ]
  },
  {
   "cell_type": "code",
   "execution_count": 24,
   "metadata": {},
   "outputs": [
    {
     "name": "stdout",
     "output_type": "stream",
     "text": [
      "[[5 5 5]\n",
      " [5 5 5]]\n",
      "\n",
      "[[-5 -3 -1]\n",
      " [ 1  3  5]]\n",
      "\n",
      "[[0 4 6]\n",
      " [6 4 0]]\n"
     ]
    }
   ],
   "source": [
    "import numpy as np\n",
    "\n",
    "a = np.array([[0, 1, 2],\n",
    "              [3, 4, 5]])\n",
    "b = np.array([[5, 4, 3],\n",
    "              [2, 1, 0]])\n",
    "\n",
    "print(a + b)  # 和\n",
    "print()\n",
    "print(a - b)  # 差\n",
    "print()\n",
    "print(a * b)  # 積"
   ]
  }
 ],
 "metadata": {
  "kernelspec": {
   "display_name": "Python 3",
   "language": "python",
   "name": "python3"
  },
  "language_info": {
   "codemirror_mode": {
    "name": "ipython",
    "version": 3
   },
   "file_extension": ".py",
   "mimetype": "text/x-python",
   "name": "python",
   "nbconvert_exporter": "python",
   "pygments_lexer": "ipython3",
   "version": "3.6.6"
  }
 },
 "nbformat": 4,
 "nbformat_minor": 2
}
