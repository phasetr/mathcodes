{
 "cells": [
  {
   "cell_type": "markdown",
   "metadata": {},
   "source": [
    "▲リスト2.1：様々な変数"
   ]
  },
  {
   "cell_type": "code",
   "execution_count": 1,
   "metadata": {},
   "outputs": [],
   "source": [
    "a = 123  # 変数aに整数123を代入\n",
    "b_123 = 123.456  # 変数b_123に小数123.456を代入\n",
    "hello_world = \"Hello World!\"  # 変数hello_worldに文字列\"Hello World!\"を代入"
   ]
  },
  {
   "cell_type": "markdown",
   "metadata": {},
   "source": [
    "▲リスト2.2：値の表示の例"
   ]
  },
  {
   "cell_type": "code",
   "execution_count": 2,
   "metadata": {
    "scrolled": true
   },
   "outputs": [
    {
     "name": "stdout",
     "output_type": "stream",
     "text": [
      "123\n"
     ]
    }
   ],
   "source": [
    "a = 123\n",
    "print(a)"
   ]
  },
  {
   "cell_type": "markdown",
   "metadata": {},
   "source": [
    "▲リスト2.3：値をまとめて表示する例"
   ]
  },
  {
   "cell_type": "code",
   "execution_count": 3,
   "metadata": {},
   "outputs": [
    {
     "name": "stdout",
     "output_type": "stream",
     "text": [
      "123 123.456 Hello World!\n"
     ]
    }
   ],
   "source": [
    "print(123, 123.456, \"Hello World!\")"
   ]
  },
  {
   "cell_type": "markdown",
   "metadata": {},
   "source": [
    "▲リスト2.4：変数の代入"
   ]
  },
  {
   "cell_type": "code",
   "execution_count": 4,
   "metadata": {},
   "outputs": [],
   "source": [
    "b = 456"
   ]
  },
  {
   "cell_type": "markdown",
   "metadata": {},
   "source": [
    "▲リスト2.5：変数に格納された値を表示"
   ]
  },
  {
   "cell_type": "code",
   "execution_count": 5,
   "metadata": {},
   "outputs": [
    {
     "name": "stdout",
     "output_type": "stream",
     "text": [
      "456\n"
     ]
    }
   ],
   "source": [
    "print(b)"
   ]
  },
  {
   "cell_type": "markdown",
   "metadata": {},
   "source": [
    "▲リスト2.6：様々なPythonの演算子"
   ]
  },
  {
   "cell_type": "code",
   "execution_count": 6,
   "metadata": {},
   "outputs": [
    {
     "name": "stdout",
     "output_type": "stream",
     "text": [
      "足し算: 7\n",
      "引き算: -1\n",
      "掛け算: 12\n",
      "べき乗: 81\n"
     ]
    }
   ],
   "source": [
    "a = 3\n",
    "b = 4\n",
    "\n",
    "c = a + b  # 足し算\n",
    "print(\"足し算:\", c) \n",
    "\n",
    "d = a - b  # 引き算\n",
    "print(\"引き算:\", d)\n",
    "\n",
    "e = a * b  # 掛け算\n",
    "print(\"掛け算:\", e)\n",
    "\n",
    "f = a ** b  # べき乗（aのb乗）\n",
    "print(\"べき乗:\", f)"
   ]
  },
  {
   "cell_type": "markdown",
   "metadata": {},
   "source": [
    "▲リスト2.7：割り算の演算子"
   ]
  },
  {
   "cell_type": "code",
   "execution_count": 7,
   "metadata": {},
   "outputs": [
    {
     "name": "stdout",
     "output_type": "stream",
     "text": [
      "割り算（小数）: 0.75\n",
      "割り算（整数）: 0\n",
      "余り: 3\n"
     ]
    }
   ],
   "source": [
    "g = a / b  # 結果は小数\n",
    "print(\"割り算（小数）:\", g)\n",
    "\n",
    "h = a // b  # 結果は整数\n",
    "print(\"割り算（整数）:\", h)\n",
    "\n",
    "i = a % b  # 余り\n",
    "print(\"余り:\", i)"
   ]
  },
  {
   "cell_type": "markdown",
   "metadata": {},
   "source": [
    "▲リスト2.8：変数自身に演算を行う"
   ]
  },
  {
   "cell_type": "code",
   "execution_count": 8,
   "metadata": {},
   "outputs": [
    {
     "name": "stdout",
     "output_type": "stream",
     "text": [
      "3を加える: 8\n",
      "3を引く: 2\n"
     ]
    }
   ],
   "source": [
    "j = 5\n",
    "j += 3  # 3を加える。j = j + 3と同じ\n",
    "print(\"3を加える:\", j)\n",
    "\n",
    "k = 5\n",
    "k -= 3  # 3を引く。 k = k -3と同じ\n",
    "print(\"3を引く:\", k)"
   ]
  },
  {
   "cell_type": "markdown",
   "metadata": {},
   "source": [
    "▲リスト2.9：大きな数、小さな数の表記"
   ]
  },
  {
   "cell_type": "code",
   "execution_count": 9,
   "metadata": {
    "scrolled": true
   },
   "outputs": [
    {
     "name": "stdout",
     "output_type": "stream",
     "text": [
      "120000.0\n",
      "0.00012\n"
     ]
    }
   ],
   "source": [
    "a = 1.2e5  # 120000\n",
    "print(a)\n",
    "\n",
    "b = 1.2e-4  # 0.00012\n",
    "print(b)"
   ]
  },
  {
   "cell_type": "markdown",
   "metadata": {},
   "source": [
    "▲リスト2.10：リストで複数の値をまとめる"
   ]
  },
  {
   "cell_type": "code",
   "execution_count": 10,
   "metadata": {},
   "outputs": [
    {
     "name": "stdout",
     "output_type": "stream",
     "text": [
      "[1, 2, 3, 4]\n"
     ]
    }
   ],
   "source": [
    "a = [1, 2, 3, 4]\n",
    "print(a)"
   ]
  },
  {
   "cell_type": "markdown",
   "metadata": {},
   "source": [
    "▲リスト2.11：リストの要素をインデックスで取り出す"
   ]
  },
  {
   "cell_type": "code",
   "execution_count": 11,
   "metadata": {},
   "outputs": [
    {
     "name": "stdout",
     "output_type": "stream",
     "text": [
      "6\n"
     ]
    }
   ],
   "source": [
    "b = [4, 5, 6, 7]\n",
    "print(b[2])  # 先頭から0、1、2、3、...とインデックスを付けた場合の、2のインデックスの要素"
   ]
  },
  {
   "cell_type": "markdown",
   "metadata": {},
   "source": [
    "▲リスト2.12：リストに要素を追加する"
   ]
  },
  {
   "cell_type": "code",
   "execution_count": 12,
   "metadata": {
    "scrolled": true
   },
   "outputs": [
    {
     "name": "stdout",
     "output_type": "stream",
     "text": [
      "[1, 2, 3, 4, 5, 6]\n"
     ]
    }
   ],
   "source": [
    "c = [1, 2, 3, 4, 5]\n",
    "c.append(6)  # リストに6を追加\n",
    "print(c)"
   ]
  },
  {
   "cell_type": "markdown",
   "metadata": {},
   "source": [
    "▲リスト2.13：リストの中にリストを入れる"
   ]
  },
  {
   "cell_type": "code",
   "execution_count": 13,
   "metadata": {
    "scrolled": true
   },
   "outputs": [
    {
     "name": "stdout",
     "output_type": "stream",
     "text": [
      "[[1, 2, 3], [4, 5, 6]]\n"
     ]
    }
   ],
   "source": [
    "d = [[1, 2, 3], [4, 5, 6]]\n",
    "print(d)"
   ]
  },
  {
   "cell_type": "markdown",
   "metadata": {},
   "source": [
    "▲リスト2.14：リストのすべての要素を複数並べた、新しいリストを作る"
   ]
  },
  {
   "cell_type": "code",
   "execution_count": 14,
   "metadata": {},
   "outputs": [
    {
     "name": "stdout",
     "output_type": "stream",
     "text": [
      "[1, 2, 1, 2, 1, 2]\n"
     ]
    }
   ],
   "source": [
    "e = [1, 2]\n",
    "print(e * 3)  # リストeのすべての要素を3つ並べた新しいリスト"
   ]
  },
  {
   "cell_type": "markdown",
   "metadata": {},
   "source": [
    "▲リスト2.15：タプルの要素にアクセスする"
   ]
  },
  {
   "cell_type": "code",
   "execution_count": 15,
   "metadata": {},
   "outputs": [
    {
     "name": "stdout",
     "output_type": "stream",
     "text": [
      "3\n"
     ]
    }
   ],
   "source": [
    "a = (1, 2, 3, 4, 5)  # タプルの作成\n",
    "b = a[2]  # インデックスが2の要素を取得\n",
    "print(b)"
   ]
  },
  {
   "cell_type": "markdown",
   "metadata": {},
   "source": [
    "▲リスト2.16：タプルの要素にアクセスする"
   ]
  },
  {
   "cell_type": "code",
   "execution_count": 16,
   "metadata": {},
   "outputs": [
    {
     "name": "stdout",
     "output_type": "stream",
     "text": [
      "(3,)\n"
     ]
    }
   ],
   "source": [
    "c = (3,)\n",
    "print(c)"
   ]
  },
  {
   "cell_type": "markdown",
   "metadata": {},
   "source": [
    "▲リスト2.17：リストやタプルの要素をまとめて変数に代入する"
   ]
  },
  {
   "cell_type": "code",
   "execution_count": 17,
   "metadata": {},
   "outputs": [
    {
     "name": "stdout",
     "output_type": "stream",
     "text": [
      "1 2 3\n",
      "4 5 6\n"
     ]
    }
   ],
   "source": [
    "d = [1, 2, 3]\n",
    "d_1, d_2, d_3 = d\n",
    "print(d_1, d_2, d_3)\n",
    "\n",
    "e = (4, 5, 6)\n",
    "e_1, e_2, e_3 = e\n",
    "print(e_1, e_2, e_3)"
   ]
  },
  {
   "cell_type": "markdown",
   "metadata": {},
   "source": [
    "▲リスト2.18：if文による条件分岐"
   ]
  },
  {
   "cell_type": "code",
   "execution_count": 18,
   "metadata": {},
   "outputs": [
    {
     "name": "stdout",
     "output_type": "stream",
     "text": [
      "7\n"
     ]
    }
   ],
   "source": [
    "a = 5\n",
    "\n",
    "if a > 3:  # aが3よりも大きければ\n",
    "    print(a + 2)  # インデントを先頭に挿入する\n",
    "else:  # a > 3を満たしていなければ\n",
    "    print(a - 2) "
   ]
  },
  {
   "cell_type": "markdown",
   "metadata": {},
   "source": [
    "▲リスト2.19：`==`の演算子による比較"
   ]
  },
  {
   "cell_type": "code",
   "execution_count": 19,
   "metadata": {},
   "outputs": [
    {
     "name": "stdout",
     "output_type": "stream",
     "text": [
      "9\n"
     ]
    }
   ],
   "source": [
    "b = 7\n",
    "if b == 7:  # bが7と等しければ\n",
    "    print(b + 2)\n",
    "else:  # b == 7を満たしていなければ\n",
    "    print(b - 2)"
   ]
  },
  {
   "cell_type": "markdown",
   "metadata": {},
   "source": [
    "▲リスト2.20：for文とリストを使ったループ"
   ]
  },
  {
   "cell_type": "code",
   "execution_count": 20,
   "metadata": {},
   "outputs": [
    {
     "name": "stdout",
     "output_type": "stream",
     "text": [
      "5\n",
      "8\n",
      "11\n"
     ]
    }
   ],
   "source": [
    "for a in [4, 7, 10]:  # リストの各要素が変数aに入る\n",
    "    print(a + 1)  # ループで実行する処理にはインデントを入れる"
   ]
  },
  {
   "cell_type": "markdown",
   "metadata": {},
   "source": [
    "▲リスト2.21：rangeを使ったループ"
   ]
  },
  {
   "cell_type": "code",
   "execution_count": 21,
   "metadata": {},
   "outputs": [
    {
     "name": "stdout",
     "output_type": "stream",
     "text": [
      "0\n",
      "1\n",
      "2\n",
      "3\n",
      "4\n"
     ]
    }
   ],
   "source": [
    "for a in range(5):  # aには0から4が入る\n",
    "    print(a)"
   ]
  },
  {
   "cell_type": "markdown",
   "metadata": {},
   "source": [
    "▲リスト2.22：関数を定義し、呼び出す"
   ]
  },
  {
   "cell_type": "code",
   "execution_count": 22,
   "metadata": {},
   "outputs": [
    {
     "name": "stdout",
     "output_type": "stream",
     "text": [
      "5\n"
     ]
    }
   ],
   "source": [
    "def my_func_1():  # my_func_1が関数名\n",
    "    a = 2\n",
    "    b = 3\n",
    "    print(a + b)\n",
    "\n",
    "my_func_1()  # 関数の呼び出し"
   ]
  },
  {
   "cell_type": "markdown",
   "metadata": {},
   "source": [
    "▲リスト2.23：引数を伴う関数"
   ]
  },
  {
   "cell_type": "code",
   "execution_count": 23,
   "metadata": {},
   "outputs": [
    {
     "name": "stdout",
     "output_type": "stream",
     "text": [
      "7\n"
     ]
    }
   ],
   "source": [
    "def my_func_2(p, q):  # p、qが引数\n",
    "    print(p + q)\n",
    "    \n",
    "my_func_2(3, 4)  # 関数を呼び出す際に値を渡す"
   ]
  },
  {
   "cell_type": "markdown",
   "metadata": {},
   "source": [
    "▲リスト2.24：引数と返り値を伴う関数"
   ]
  },
  {
   "cell_type": "code",
   "execution_count": 24,
   "metadata": {},
   "outputs": [
    {
     "name": "stdout",
     "output_type": "stream",
     "text": [
      "7\n"
     ]
    }
   ],
   "source": [
    "def my_func_3(p, q):  # p、qが引数\n",
    "    r = p + q\n",
    "    return r  # rが返り値\n",
    "\n",
    "k = my_func_3(3, 4)  # 返り値として受け取った値をkに入れる\n",
    "print(k)"
   ]
  },
  {
   "cell_type": "markdown",
   "metadata": {},
   "source": [
    "▲リスト2.25：返り値をタプルにする"
   ]
  },
  {
   "cell_type": "code",
   "execution_count": 25,
   "metadata": {},
   "outputs": [
    {
     "name": "stdout",
     "output_type": "stream",
     "text": [
      "7 3\n"
     ]
    }
   ],
   "source": [
    "def my_func_3(p, q):  # p、qが引数\n",
    "    r = p + q\n",
    "    s = p - q\n",
    "    return (r, s)  # 返り値をタプルにする\n",
    "\n",
    "k, l = my_func_3(5, 2)  # タプルの各要素をk, lに代入する\n",
    "print(k, l)"
   ]
  },
  {
   "cell_type": "markdown",
   "metadata": {},
   "source": [
    "▲リスト2.26：ローカル変数とグローバル変数"
   ]
  },
  {
   "cell_type": "code",
   "execution_count": 26,
   "metadata": {},
   "outputs": [
    {
     "name": "stdout",
     "output_type": "stream",
     "text": [
      "123 456\n"
     ]
    }
   ],
   "source": [
    "a = 123  # グローバル変数\n",
    "\n",
    "def show_number():\n",
    "    b = 456  # ローカル変数\n",
    "    print(a, b)  # 両者にアクセスできる\n",
    "    \n",
    "show_number()"
   ]
  },
  {
   "cell_type": "markdown",
   "metadata": {},
   "source": [
    "▲リスト2.27：グローバル変数と同じ名前のローカル変数"
   ]
  },
  {
   "cell_type": "code",
   "execution_count": 27,
   "metadata": {},
   "outputs": [
    {
     "name": "stdout",
     "output_type": "stream",
     "text": [
      "Local: 456\n",
      "Global: 123\n"
     ]
    }
   ],
   "source": [
    "a = 123  # グローバル変数\n",
    "\n",
    "def set_local():\n",
    "    a = 456  # aは上記とは別のローカル変数\n",
    "    print(\"Local:\", a)\n",
    "    \n",
    "set_local()\n",
    "print(\"Global:\", a)  # グローバル変数の値は変わらない"
   ]
  },
  {
   "cell_type": "markdown",
   "metadata": {},
   "source": [
    "▲リスト2.28：引数として使われる変数のスコープ"
   ]
  },
  {
   "cell_type": "code",
   "execution_count": 28,
   "metadata": {},
   "outputs": [
    {
     "name": "stdout",
     "output_type": "stream",
     "text": [
      "Local: 456\n",
      "Global: 123\n"
     ]
    }
   ],
   "source": [
    "a = 123  # グローバル変数\n",
    "\n",
    "def show_arg(a):  # aは上記とは別のローカル変数\n",
    "    print(\"Local:\", a)\n",
    "    \n",
    "show_arg(456)\n",
    "print(\"Global:\", a)  # グローバル変数の値は変わらない"
   ]
  },
  {
   "cell_type": "markdown",
   "metadata": {},
   "source": [
    "▲リスト2.29：関数内で、グローバル変数の値を変更する"
   ]
  },
  {
   "cell_type": "code",
   "execution_count": 29,
   "metadata": {},
   "outputs": [
    {
     "name": "stdout",
     "output_type": "stream",
     "text": [
      "Global: 456\n",
      "Global: 456\n"
     ]
    }
   ],
   "source": [
    "a = 123  # グローバル変数\n",
    "\n",
    "def set_global():\n",
    "    global a  # nonlocalでも可\n",
    "    a = 456  # グローバル変数の値を変更\n",
    "    print(\"Global:\", a)\n",
    "    \n",
    "set_global()\n",
    "print(\"Global:\", a)"
   ]
  },
  {
   "cell_type": "markdown",
   "metadata": {},
   "source": [
    "#### □問題"
   ]
  },
  {
   "cell_type": "markdown",
   "metadata": {},
   "source": [
    "　Jupyter Notebookのセルに、リスト、タプル、if文、for文、関数の例文を最低1つずつ書いてみましょう。"
   ]
  },
  {
   "cell_type": "markdown",
   "metadata": {},
   "source": [
    "#### □解答例"
   ]
  },
  {
   "cell_type": "markdown",
   "metadata": {},
   "source": [
    "▲リスト2.30：解答例"
   ]
  },
  {
   "cell_type": "code",
   "execution_count": 30,
   "metadata": {},
   "outputs": [
    {
     "name": "stdout",
     "output_type": "stream",
     "text": [
      "--- 結果: リスト ---\n",
      "3\n",
      "\n",
      "--- 結果: タプル ---\n",
      "4\n",
      "\n",
      "--- 結果: if文 ---\n",
      "7\n",
      "\n",
      "--- 結果: for文 ---\n",
      "2\n",
      "3\n",
      "4\n",
      "5\n",
      "6\n",
      "\n",
      "--- 結果: 関数 ---\n",
      "7\n"
     ]
    }
   ],
   "source": [
    "# ---リストの例 ---\n",
    "print(\"--- 結果: リスト ---\")\n",
    "my_list = [1, 2, 3, 4, 5]\n",
    "print(my_list[2])\n",
    "\n",
    "print()  # 空の行\n",
    "\n",
    "# ---タプルの例 ---\n",
    "print(\"--- 結果: タプル ---\")\n",
    "my_tuple = (1, 2, 3, 4, 5)\n",
    "print(my_tuple[3])\n",
    "\n",
    "print()  # 空の行\n",
    "\n",
    "# --- if文の例 ---\n",
    "print(\"--- 結果: if文 ---\")\n",
    "a = 5\n",
    "b = 2\n",
    "if a == 5:\n",
    "    print(a + b)\n",
    "\n",
    "print()\n",
    "\n",
    "# --- for文の例 ---\n",
    "print(\"--- 結果: for文 ---\")\n",
    "for m in my_list:\n",
    "    print(m + 1)\n",
    "\n",
    "print()\n",
    "\n",
    "# --- 関数の例 ---\n",
    "print(\"--- 結果: 関数 ---\")\n",
    "def add(p, q):\n",
    "      return p + q\n",
    "print(add(a, b))"
   ]
  }
 ],
 "metadata": {
  "kernelspec": {
   "display_name": "Python 3",
   "language": "python",
   "name": "python3"
  },
  "language_info": {
   "codemirror_mode": {
    "name": "ipython",
    "version": 3
   },
   "file_extension": ".py",
   "mimetype": "text/x-python",
   "name": "python",
   "nbconvert_exporter": "python",
   "pygments_lexer": "ipython3",
   "version": "3.6.6"
  }
 },
 "nbformat": 4,
 "nbformat_minor": 2
}
