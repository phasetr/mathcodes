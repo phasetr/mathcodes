{
 "cells": [
  {
   "cell_type": "markdown",
   "metadata": {},
   "source": [
    "▲リスト4.6：ベクトルの内積を計算する"
   ]
  },
  {
   "cell_type": "code",
   "execution_count": 1,
   "metadata": {
    "scrolled": true
   },
   "outputs": [
    {
     "name": "stdout",
     "output_type": "stream",
     "text": [
      "--- dot()関数 ---\n",
      "10\n",
      "--- 積の総和 ---\n",
      "10\n"
     ]
    }
   ],
   "source": [
    "import numpy as np\n",
    "\n",
    "a = np.array([1, 2, 3])\n",
    "b = np.array([3, 2, 1])\n",
    "\n",
    "print(\"--- dot()関数 ---\")\n",
    "print(np.dot(a, b))  # dot()関数による内積\n",
    "print(\"--- 積の総和 ---\")\n",
    "print(np.sum(a * b))  # 積の総和による内積"
   ]
  },
  {
   "cell_type": "markdown",
   "metadata": {},
   "source": [
    "▲リスト4.7：`linalg.norm( )`関数を使ってノルムを計算する"
   ]
  },
  {
   "cell_type": "code",
   "execution_count": 2,
   "metadata": {},
   "outputs": [
    {
     "name": "stdout",
     "output_type": "stream",
     "text": [
      "--- L2ノルム ---\n",
      "2.0\n",
      "--- L1ノルム ---\n",
      "4.0\n"
     ]
    }
   ],
   "source": [
    "import numpy as np\n",
    "\n",
    "a = np.array([1, 1, -1, -1])\n",
    "\n",
    "print(\"--- L2ノルム ---\")\n",
    "print(np.linalg.norm(a))  # L2ノルム（デフォルト）\n",
    "print(\"--- L1ノルム ---\")\n",
    "print(np.linalg.norm(a, 1))  # L1ノルム"
   ]
  },
  {
   "cell_type": "markdown",
   "metadata": {},
   "source": [
    "#### □問題\n",
    "　リスト4.8で、ベクトル$\\vec{a}$とベクトル$\\vec{b}$の内積、およびベクトル$\\vec{a}$の$L^2$ノルムと$L^1ノルム$を求めて表示しましょう。"
   ]
  },
  {
   "cell_type": "markdown",
   "metadata": {},
   "source": [
    "▲リスト4.8：問題"
   ]
  },
  {
   "cell_type": "code",
   "execution_count": null,
   "metadata": {},
   "outputs": [],
   "source": [
    "import numpy as np\n",
    "\n",
    "a = np.array([1, -2, 2])\n",
    "b = np.array([2, -2, 1])\n",
    "\n",
    "print(\"--- 内積 ---\")\n",
    "\n",
    "\n",
    "print(\"--- L2ノルム ---\")\n",
    "\n",
    "\n",
    "print(\"--- L1ノルム ---\")\n",
    "\n"
   ]
  },
  {
   "cell_type": "markdown",
   "metadata": {},
   "source": [
    "#### □解答例"
   ]
  },
  {
   "cell_type": "markdown",
   "metadata": {},
   "source": [
    "▲リスト4.8：解答例"
   ]
  },
  {
   "cell_type": "code",
   "execution_count": 4,
   "metadata": {},
   "outputs": [
    {
     "name": "stdout",
     "output_type": "stream",
     "text": [
      "--- 内積 ---\n",
      "8\n",
      "--- L2ノルム ---\n",
      "3.0\n",
      "--- L1ノルム ---\n",
      "5.0\n"
     ]
    }
   ],
   "source": [
    "import numpy as np\n",
    "\n",
    "a = np.array([1, -2, 2])\n",
    "b = np.array([2, -2, 1])\n",
    "\n",
    "print(\"--- 内積 ---\")\n",
    "print(np.dot(a, b))\n",
    "\n",
    "print(\"--- L2ノルム ---\")\n",
    "print(np.linalg.norm(a))\n",
    "\n",
    "print(\"--- L1ノルム ---\")\n",
    "print(np.linalg.norm(a, 1))"
   ]
  }
 ],
 "metadata": {
  "kernelspec": {
   "display_name": "Python 3",
   "language": "python",
   "name": "python3"
  },
  "language_info": {
   "codemirror_mode": {
    "name": "ipython",
    "version": 3
   },
   "file_extension": ".py",
   "mimetype": "text/x-python",
   "name": "python",
   "nbconvert_exporter": "python",
   "pygments_lexer": "ipython3",
   "version": "3.6.6"
  }
 },
 "nbformat": 4,
 "nbformat_minor": 2
}
