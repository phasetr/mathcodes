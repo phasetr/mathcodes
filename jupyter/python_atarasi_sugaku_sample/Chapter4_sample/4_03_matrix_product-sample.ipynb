{
 "cells": [
  {
   "cell_type": "markdown",
   "metadata": {},
   "source": [
    "▲リスト4.10：NumPyを使って行列積を計算する"
   ]
  },
  {
   "cell_type": "code",
   "execution_count": 2,
   "metadata": {
    "scrolled": true
   },
   "outputs": [
    {
     "name": "stdout",
     "output_type": "stream",
     "text": [
      "[[ 6  3]\n",
      " [12  6]]\n"
     ]
    }
   ],
   "source": [
    "import numpy as np\n",
    "\n",
    "a = np.array([[0, 1, 2],\n",
    "              [1, 2, 3]]) \n",
    "\n",
    "b = np.array([[2, 1],\n",
    "              [2, 1],\n",
    "              [2, 1]]) \n",
    "\n",
    "print(np.dot(a, b))"
   ]
  },
  {
   "cell_type": "markdown",
   "metadata": {},
   "source": [
    "▲リスト4.11：NumPyを使って要素ごとの積を計算する"
   ]
  },
  {
   "cell_type": "code",
   "execution_count": 3,
   "metadata": {},
   "outputs": [
    {
     "name": "stdout",
     "output_type": "stream",
     "text": [
      "[[ 0  1  4]\n",
      " [ 6  0  5]\n",
      " [ 6 14  0]]\n"
     ]
    }
   ],
   "source": [
    "import numpy as np\n",
    "\n",
    "a = np.array([[0, 1, 2],\n",
    "              [3, 4, 5],\n",
    "              [6, 7, 8]]) \n",
    "\n",
    "b = np.array([[0, 1, 2],\n",
    "              [2, 0, 1],\n",
    "              [1, 2, 0]]) \n",
    "\n",
    "print(a*b)"
   ]
  },
  {
   "cell_type": "markdown",
   "metadata": {},
   "source": [
    "#### □問題\n",
    "　リスト4.12 で、行列aと行列bの行列積、および行列cと行列dの要素ごとの積\n",
    "を求めましょう。"
   ]
  },
  {
   "cell_type": "markdown",
   "metadata": {},
   "source": [
    "▲リスト4.12：問題"
   ]
  },
  {
   "cell_type": "code",
   "execution_count": null,
   "metadata": {},
   "outputs": [],
   "source": [
    "import numpy as np\n",
    "\n",
    "a = np.array([[0, 1, 2],\n",
    "              [1, 2, 3]]) \n",
    "\n",
    "b = np.array([[0, 1],\n",
    "              [1, 2],\n",
    "              [2, 3]]) \n",
    "\n",
    "# 行列積\n",
    "\n",
    "\n",
    "\n",
    "c = np.array([[0, 1, 2],\n",
    "              [3, 4, 5],\n",
    "              [6, 7, 8]]) \n",
    "\n",
    "d = np.array([[0, 2, 0],\n",
    "              [2, 0, 2],\n",
    "              [0, 2, 0]]) \n",
    "\n",
    "# 要素ごとの積\n"
   ]
  },
  {
   "cell_type": "markdown",
   "metadata": {
    "collapsed": true
   },
   "source": [
    "#### □解答例"
   ]
  },
  {
   "cell_type": "markdown",
   "metadata": {},
   "source": [
    "▲リスト4.13：解答例"
   ]
  },
  {
   "cell_type": "code",
   "execution_count": 4,
   "metadata": {},
   "outputs": [
    {
     "name": "stdout",
     "output_type": "stream",
     "text": [
      "[[ 5  8]\n",
      " [ 8 14]]\n",
      "\n",
      "[[ 0  2  0]\n",
      " [ 6  0 10]\n",
      " [ 0 14  0]]\n"
     ]
    }
   ],
   "source": [
    "import numpy as np\n",
    "\n",
    "a = np.array([[0, 1, 2],\n",
    "              [1, 2, 3]]) \n",
    "\n",
    "b = np.array([[0, 1],\n",
    "              [1, 2],\n",
    "              [2, 3]]) \n",
    "\n",
    "# 行列積\n",
    "print(np.dot(a, b))\n",
    "      \n",
    "print()\n",
    "\n",
    "c = np.array([[0, 1, 2],\n",
    "              [3, 4, 5],\n",
    "              [6, 7, 8]]) \n",
    "\n",
    "d = np.array([[0, 2, 0],\n",
    "              [2, 0, 2],\n",
    "              [0, 2, 0]]) \n",
    "\n",
    "# 要素ごとの積\n",
    "print(c*d)"
   ]
  }
 ],
 "metadata": {
  "kernelspec": {
   "display_name": "Python 3",
   "language": "python",
   "name": "python3"
  },
  "language_info": {
   "codemirror_mode": {
    "name": "ipython",
    "version": 3
   },
   "file_extension": ".py",
   "mimetype": "text/x-python",
   "name": "python",
   "nbconvert_exporter": "python",
   "pygments_lexer": "ipython3",
   "version": "3.6.6"
  }
 },
 "nbformat": 4,
 "nbformat_minor": 2
}
