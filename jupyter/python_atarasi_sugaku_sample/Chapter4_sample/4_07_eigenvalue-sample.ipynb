{
 "cells": [
  {
   "cell_type": "markdown",
   "metadata": {},
   "source": [
    "▲リスト4.28：`linalg.eig()`関数を使って、固有値と固有ベクトルを求める"
   ]
  },
  {
   "cell_type": "code",
   "execution_count": 1,
   "metadata": {},
   "outputs": [
    {
     "name": "stdout",
     "output_type": "stream",
     "text": [
      "[2. 5.]\n",
      "\n",
      "[[-0.70710678 -0.4472136 ]\n",
      " [ 0.70710678 -0.89442719]]\n"
     ]
    }
   ],
   "source": [
    "import numpy as np\n",
    "\n",
    "a = np.array([[3, 1],\n",
    "              [2, 4]])\n",
    "\n",
    "ev = np.linalg.eig(a)  # 固有値と固有ベクトルを同時に求める\n",
    "\n",
    "print(ev[0])  # 最初の要素は固有値\n",
    "\n",
    "print()\n",
    "\n",
    "print(ev[1])  # 次の要素は固有ベクトル"
   ]
  },
  {
   "cell_type": "markdown",
   "metadata": {},
   "source": [
    "#### □問題\n",
    "リスト4.31で、行列aの固有値と固有ベクトルを求めましょう。"
   ]
  },
  {
   "cell_type": "markdown",
   "metadata": {},
   "source": [
    "▲リスト4.29：問題"
   ]
  },
  {
   "cell_type": "code",
   "execution_count": null,
   "metadata": {},
   "outputs": [],
   "source": [
    "import numpy as np\n",
    "\n",
    "a = np.array([[-2, 4],\n",
    "              [-1, 3]])\n",
    "\n",
    "ev = \n",
    "\n",
    "print(ev[0])  # 固有値\n",
    "\n",
    "print()\n",
    "\n",
    "print(ev[1])  # 固有ベクトル"
   ]
  },
  {
   "cell_type": "markdown",
   "metadata": {},
   "source": [
    "#### □解答例"
   ]
  },
  {
   "cell_type": "markdown",
   "metadata": {},
   "source": [
    "▲リスト4.30：解答例"
   ]
  },
  {
   "cell_type": "code",
   "execution_count": 3,
   "metadata": {},
   "outputs": [
    {
     "name": "stdout",
     "output_type": "stream",
     "text": [
      "[-1.  2.]\n",
      "\n",
      "[[-0.9701425  -0.70710678]\n",
      " [-0.24253563 -0.70710678]]\n"
     ]
    }
   ],
   "source": [
    "import numpy as np\n",
    "\n",
    "a = np.array([[-2, 4],\n",
    "              [-1, 3]])\n",
    "\n",
    "ev = np.linalg.eig(a)\n",
    "\n",
    "print(ev[0])  # 固有値\n",
    "\n",
    "print()\n",
    "\n",
    "print(ev[1])  # 固有ベクトル"
   ]
  }
 ],
 "metadata": {
  "kernelspec": {
   "display_name": "Python 3",
   "language": "python",
   "name": "python3"
  },
  "language_info": {
   "codemirror_mode": {
    "name": "ipython",
    "version": 3
   },
   "file_extension": ".py",
   "mimetype": "text/x-python",
   "name": "python",
   "nbconvert_exporter": "python",
   "pygments_lexer": "ipython3",
   "version": "3.6.6"
  }
 },
 "nbformat": 4,
 "nbformat_minor": 2
}
