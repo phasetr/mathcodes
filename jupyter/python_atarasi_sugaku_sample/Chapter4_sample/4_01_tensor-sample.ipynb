{
 "cells": [
  {
   "cell_type": "markdown",
   "metadata": {},
   "source": [
    "▲リスト4.1：スカラーの例"
   ]
  },
  {
   "cell_type": "code",
   "execution_count": 1,
   "metadata": {},
   "outputs": [],
   "source": [
    "a = 1\n",
    "b = 1.2\n",
    "c = -0.25\n",
    "d = 1.2e5  # 1.2x10の5乗 120000"
   ]
  },
  {
   "cell_type": "markdown",
   "metadata": {},
   "source": [
    "▲リスト4.2：ベクトルをNumPyの一次元配列で表す"
   ]
  },
  {
   "cell_type": "code",
   "execution_count": 2,
   "metadata": {},
   "outputs": [
    {
     "name": "stdout",
     "output_type": "stream",
     "text": [
      "[1 2 3]\n",
      "[-2.4   0.25 -1.3   1.8   0.61]\n"
     ]
    }
   ],
   "source": [
    "import numpy as np\n",
    "\n",
    "a = np.array([1, 2, 3])  # 1次元配列でベクトルを表す\n",
    "print(a)\n",
    "\n",
    "b = np.array([-2.4, 0.25, -1.3, 1.8, 0.61])\n",
    "print(b)"
   ]
  },
  {
   "cell_type": "markdown",
   "metadata": {},
   "source": [
    "▲リスト4.3：行列をNumPyの2次元配列で表す"
   ]
  },
  {
   "cell_type": "code",
   "execution_count": 6,
   "metadata": {
    "scrolled": false
   },
   "outputs": [
    {
     "name": "stdout",
     "output_type": "stream",
     "text": [
      "[[1 2 3]\n",
      " [4 5 6]]\n",
      "[[ 0.21  0.14]\n",
      " [-1.3   0.81]\n",
      " [ 0.12 -2.1 ]]\n"
     ]
    }
   ],
   "source": [
    "import numpy as np\n",
    "\n",
    "a = np.array([[1, 2, 3],\n",
    "              [4, 5, 6]])  # 2×3の行列\n",
    "print(a)\n",
    "\n",
    "b = np.array([[0.21, 0.14],\n",
    "              [-1.3, 0.81],\n",
    "              [0.12, -2.1]])  # 3×2の行列\n",
    "print(b)"
   ]
  },
  {
   "cell_type": "markdown",
   "metadata": {},
   "source": [
    "▲リスト4.4：3階のテンソルをNumPyの配列で表す"
   ]
  },
  {
   "cell_type": "code",
   "execution_count": 4,
   "metadata": {},
   "outputs": [
    {
     "name": "stdout",
     "output_type": "stream",
     "text": [
      "[[[0 1 2 3]\n",
      "  [2 3 4 5]\n",
      "  [4 5 6 7]]\n",
      "\n",
      " [[1 2 3 4]\n",
      "  [3 4 5 6]\n",
      "  [5 6 7 8]]]\n"
     ]
    }
   ],
   "source": [
    "import numpy as np\n",
    "\n",
    "a = np.array([[[0, 1, 2, 3],\n",
    "                      [2, 3, 4, 5],\n",
    "                      [4, 5, 6, 7]],\n",
    "              \n",
    "                     [[1, 2, 3, 4],\n",
    "                      [3, 4, 5, 6],\n",
    "                      [5, 6, 7, 8]]])  # (2, 3, 4)の3階のテンソル\n",
    "print(a)"
   ]
  },
  {
   "cell_type": "markdown",
   "metadata": {},
   "source": [
    "#### □問題\n",
    "　Jupyter Notebookのセルに、NumPyでスカラー、ベクトル、行列、3階のテンソルを表す配列をを1つずつ記述し表示してみましょう。"
   ]
  },
  {
   "cell_type": "markdown",
   "metadata": {
    "collapsed": true
   },
   "source": [
    "#### □解答例"
   ]
  },
  {
   "cell_type": "markdown",
   "metadata": {},
   "source": [
    "▲リスト4.5：解答例"
   ]
  },
  {
   "cell_type": "code",
   "execution_count": 7,
   "metadata": {},
   "outputs": [
    {
     "name": "stdout",
     "output_type": "stream",
     "text": [
      "1.5\n",
      "\n",
      "[1 2 3 4 5]\n",
      "\n",
      "[[1 2 3]\n",
      " [4 5 6]]\n",
      "\n",
      "[[[0 1 2]\n",
      "  [3 4 5]\n",
      "  [6 7 8]]\n",
      "\n",
      " [[8 7 6]\n",
      "  [5 4 3]\n",
      "  [2 1 0]]]\n"
     ]
    }
   ],
   "source": [
    "import numpy as np\n",
    "\n",
    "# スカラー\n",
    "a = 1.5\n",
    "print(a)\n",
    "\n",
    "print()\n",
    "\n",
    "# ベクトル\n",
    "b = np.array([1, 2, 3, 4, 5])\n",
    "print(b)\n",
    "\n",
    "print()\n",
    "\n",
    "# 行列\n",
    "c = np.array([[1, 2, 3],\n",
    "              [4, 5, 6]])\n",
    "print(c)\n",
    "\n",
    "print()\n",
    "\n",
    "# 3階のテンソル\n",
    "d = np.array([[[0, 1, 2],\n",
    "               [3, 4, 5],\n",
    "               [6, 7, 8]],\n",
    "              \n",
    "              [[8, 7, 6],\n",
    "               [5, 4, 3],\n",
    "               [2, 1, 0]]])\n",
    "print(d)"
   ]
  }
 ],
 "metadata": {
  "kernelspec": {
   "display_name": "Python 3",
   "language": "python",
   "name": "python3"
  },
  "language_info": {
   "codemirror_mode": {
    "name": "ipython",
    "version": 3
   },
   "file_extension": ".py",
   "mimetype": "text/x-python",
   "name": "python",
   "nbconvert_exporter": "python",
   "pygments_lexer": "ipython3",
   "version": "3.6.6"
  }
 },
 "nbformat": 4,
 "nbformat_minor": 2
}
