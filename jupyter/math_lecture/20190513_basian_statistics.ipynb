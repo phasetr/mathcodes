{
 "cells": [
  {
   "cell_type": "markdown",
   "metadata": {},
   "source": [
    "# 基礎からのベイズ統計学 4 章 問題解答\n",
    "\n",
    "## 参考: 特定の分布関数に従う乱数\n",
    "### 一様乱数 `numpy.random.rand()` \n",
    "0-1 の一様乱数を生成する。引数を指定すれば複数の乱数を生成できる。乱数の範囲を変えたい場合は後からベクトル演算をすれば良い。\n",
    "\n",
    "```\n",
    "from numpy.random import *\n",
    "\n",
    "rand()      # 0〜1の乱数を1個生成\n",
    "rand(100)   # 0〜1の乱数を100個生成\n",
    "rand(10,10) # 0〜1の乱数で 10x10 の行列を生成\n",
    "\n",
    "rand(100) * 40 + 30 # 30〜70の乱数を100個生成\n",
    "```\n",
    "\n",
    "### 標準正規分布 `numpy.random.randn()`\n",
    "いわゆるガウシアン。\n",
    "以下、どれも `size=(10,10)` などと引数を指定すれば、任意の個数の乱数を生成できる。\n",
    "\n",
    "```\n",
    "from numpy.random import *\n",
    "\n",
    "\"\"\" 標準正規分布。いわゆるガウシアン。標準正規分布ならば randn() で、平均・分散を指定したい場合は normal() を用いる。\"\"\"\n",
    "randn()         # 標準正規分布 (平均0, 標準偏差1)\n",
    "randn(10)       # 標準正規分布を10個生成\n",
    "randn(10,10)    # 標準正規分布による 10x10 の行列\n",
    "\n",
    "normal(50,10)   # 平均50、標準偏差10の正規分布\n",
    "```\n",
    "\n",
    "### 二項分布 `numpy.random.binomial()`\n",
    "確率 `p` でオモテが出るコインを `n` 回投げて、オモテが出る個数。\n",
    "\n",
    "```\n",
    "from numpy.random import *\n",
    "binomial(n=100, p=0.5)\n",
    "```\n",
    "\n",
    "### ポアソン分布 `numpy.random.poisson()`\n",
    "稀にしか起きない現象を長時間観測したときに起きる回数の分布。`λ`はその平均。\n",
    "\n",
    "```\n",
    "from numpy.random import *\n",
    "poisson(lam=10)     # λ=10 のポアソン分布\n",
    "```\n",
    "\n",
    "### ベータ分布 `numpy.random.beta()`\n",
    "二項分布の共役事前分布などに使う。\n",
    "\n",
    "```\n",
    "from numpy.random import *\n",
    "beta(a=3, b=5)      # a=3, b=5 のベータ分布\n",
    "```"
   ]
  },
  {
   "cell_type": "markdown",
   "metadata": {},
   "source": [
    "# 基礎からのベイズ統計学 4 章 問題 2"
   ]
  },
  {
   "cell_type": "code",
   "execution_count": 60,
   "metadata": {},
   "outputs": [
    {
     "name": "stdout",
     "output_type": "stream",
     "text": [
      "n = 10: 4.0\n",
      "n = 100: 3.28\n",
      "n = 1000: 3.124\n",
      "n = 10000: 3.1524\n",
      "n = 100000: 3.14376\n",
      "n = 1000000: 3.140052\n",
      "n = 10000000: 3.1415148\n"
     ]
    }
   ],
   "source": [
    "import numpy as np\n",
    "from numpy.random import *\n",
    "from matplotlib import pyplot as plt\n",
    "\n",
    "\"\"\"\n",
    "# 乱数の初期化\n",
    "np.random.seed(100)\n",
    "# 毎回同じ値を返す\n",
    "print(np.random.rand())\n",
    "\"\"\"\n",
    "\n",
    "def area(a,b):\n",
    "    \"\"\"円周率を求める\"\"\"\n",
    "    return 4 if (a**2 + b**2 < 1) else 0\n",
    "\n",
    "# ベクトル化\n",
    "varea = np.vectorize(area)\n",
    "\n",
    "ns = [10, 100, 1000, 10000, 100000, 1000000, 10000000]\n",
    "#ns = [10]\n",
    "for n in ns:\n",
    "    xs = varea(rand(n), rand(n))\n",
    "    print(f\"n = {n}: {np.mean(xs)}\")\n",
    "    #plt.hist(xs, bins=100)    # n 本のヒストグラムを作成\n",
    "    #plt.show()              # グラフを表示"
   ]
  }
 ],
 "metadata": {
  "kernelspec": {
   "display_name": "Python 3",
   "language": "python",
   "name": "python3"
  },
  "language_info": {
   "codemirror_mode": {
    "name": "ipython",
    "version": 3
   },
   "file_extension": ".py",
   "mimetype": "text/x-python",
   "name": "python",
   "nbconvert_exporter": "python",
   "pygments_lexer": "ipython3",
   "version": "3.7.3"
  }
 },
 "nbformat": 4,
 "nbformat_minor": 2
}
