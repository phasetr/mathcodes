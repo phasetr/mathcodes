{
 "cells": [
  {
   "cell_type": "markdown",
   "metadata": {},
   "source": [
    "# 注意\n",
    "\n",
    "レクチャー用なので一度作ったら更新はしない。\n",
    "\n",
    "最初は次のセルを読み込ませること。"
   ]
  },
  {
   "cell_type": "code",
   "execution_count": 1,
   "metadata": {},
   "outputs": [],
   "source": [
    "from sympy import *\n",
    "from IPython.display import display\n",
    "\n",
    "import numpy as np\n",
    "import matplotlib.pyplot as plt\n",
    "from ipywidgets import interact\n",
    "import numpy as np\n",
    "\n",
    "init_printing()\n",
    "\n",
    "# シンボル定義\n",
    "k,x,y,z = symbols('k,x,y,z')"
   ]
  },
  {
   "cell_type": "markdown",
   "metadata": {},
   "source": [
    "# numpy_calculus.ipynb から"
   ]
  },
  {
   "cell_type": "markdown",
   "metadata": {},
   "source": [
    "## 区分求積法のための基本的な関数"
   ]
  },
  {
   "cell_type": "code",
   "execution_count": 2,
   "metadata": {},
   "outputs": [],
   "source": [
    "def scatter_integral_body(num_data, is_left, f, param):\n",
    "    # 描画領域の指定\n",
    "    fig = plt.figure(figsize=(param[\"figsize_x\"], param[\"figsize_y\"]))\n",
    "    subplot = fig.add_subplot(1, 1, 1)\n",
    "    subplot.set_xlim(param[\"x_min\"], param[\"x_max\"])\n",
    "    subplot.set_ylim(param[\"y_min\"], param[\"y_max\"])\n",
    "\n",
    "    # 参考: グラフを折れ線で描く. 折れ線近似の様子を見たい場合に使う.\n",
    "    #linex = np.linspace(param[\"x_min\"], param[\"x_max\"], num_data) \n",
    "    #subplot.plot(linex, f(linex), color='blue')\n",
    "\n",
    "    # 長方形の描画と面積の近似値計算\n",
    "    area = 0\n",
    "    step = (param[\"x_max\"] - param[\"x_min\"]) / num_data\n",
    "    for x0 in np.arange(param[\"x_min\"], param[\"x_max\"], step):\n",
    "        x = x0 if is_left else x0 + step\n",
    "        rect = plt.Rectangle((x0, 0), step, f(x), alpha=param[\"alpha\"])\n",
    "        subplot.add_patch(rect)\n",
    "        area += step * f(x)\n",
    "\n",
    "    subplot.text(param[\"text_x\"], param[\"text_y\"], ('area = %f' % area))\n",
    "\n",
    "    # 関数と三角関数の描画：上の supplot の処理の後に置かないと上の長方形が描かれない\n",
    "    vf = np.vectorize(f)\n",
    "\n",
    "    x_for_square = np.linspace(param[\"x_min\"], param[\"x_max\"], num_max)\n",
    "    y0 = vf(x_for_square)\n",
    "    plt.plot(x_for_square, y0, color=\"red\")"
   ]
  },
  {
   "cell_type": "markdown",
   "metadata": {},
   "source": [
    "## 定積分（区分求積法）のイメージ"
   ]
  },
  {
   "cell_type": "markdown",
   "metadata": {},
   "source": [
    "### $f(x) = x^2$ を上下から近似\n",
    "\n",
    "次の定積分を計算する。\n",
    "比較用の厳密な値は `SymPy` 先生に計算してもらっておく。"
   ]
  },
  {
   "cell_type": "code",
   "execution_count": 3,
   "metadata": {
    "scrolled": true
   },
   "outputs": [
    {
     "data": {
      "image/png": "[encoded data removed]",
      "text/latex": [
       "$$\\int_{0}^{2} x^{2}\\, dx$$"
      ],
      "text/plain": [
       "2      \n",
       "⌠      \n",
       "⎮  2   \n",
       "⎮ x  dx\n",
       "⌡      \n",
       "0      "
      ]
     },
     "metadata": {},
     "output_type": "display_data"
    },
    {
     "data": {
      "image/png": "[encoded data removed]",
      "text/latex": [
       "$$\\frac{8}{3}$$"
      ],
      "text/plain": [
       "8/3"
      ]
     },
     "metadata": {},
     "output_type": "display_data"
    },
    {
     "data": {
      "image/png": "[encoded data removed]",
      "text/latex": [
       "$$2.66666666666667$$"
      ],
      "text/plain": [
       "2.66666666666667"
      ]
     },
     "metadata": {},
     "output_type": "display_data"
    }
   ],
   "source": [
    "from sympy import Integral, Symbol\n",
    "x = Symbol('x')\n",
    "d = Integral(x**2, (x, 0, 2))\n",
    "display(d)\n",
    "display(d.doit())\n",
    "display(d.doit().evalf())"
   ]
  },
  {
   "cell_type": "code",
   "execution_count": 4,
   "metadata": {
    "scrolled": true
   },
   "outputs": [
    {
     "data": {
      "image/png": "[encoded data removed]",
      "text/plain": [
       "<matplotlib.figure.Figure at 0x11705eda0>"
      ]
     },
     "metadata": {},
     "output_type": "display_data"
    },
    {
     "data": {
      "text/plain": [
       "<function __main__.scatter>"
      ]
     },
     "execution_count": 4,
     "metadata": {},
     "output_type": "execute_result"
    }
   ],
   "source": [
    "def scatter(num_data, is_left):\n",
    "    def f(x):\n",
    "        return x**2\n",
    "\n",
    "    param = {\n",
    "        \"x_min\": 0.0,\n",
    "        \"x_max\": 2.0,\n",
    "        \"y_min\": 0.0,\n",
    "        \"y_max\": 4.0,\n",
    "        \"figsize_x\": 4,\n",
    "        \"figsize_y\": 4,\n",
    "        \"alpha\": 0.5,\n",
    "        \"text_x\": 0.2,\n",
    "        \"text_y\": 3.0,\n",
    "    }\n",
    "    scatter_integral_body(num_data, is_left, f, param)\n",
    "\n",
    "num_max = 50\n",
    "interact(scatter, num_data=(2, num_max, 1), value=1, is_left=True)"
   ]
  },
  {
   "cell_type": "markdown",
   "metadata": {},
   "source": [
    "### 例：三角形"
   ]
  },
  {
   "cell_type": "code",
   "execution_count": 5,
   "metadata": {},
   "outputs": [
    {
     "data": {
      "image/png": "[encoded data removed]",
      "text/latex": [
       "$$\\int_{0}^{1} x\\, dx + \\int_{1}^{2} \\left(- x + 2\\right)\\, dx$$"
      ],
      "text/plain": [
       "1        2            \n",
       "⌠        ⌠            \n",
       "⎮ x dx + ⎮ (-x + 2) dx\n",
       "⌡        ⌡            \n",
       "0        1            "
      ]
     },
     "metadata": {},
     "output_type": "display_data"
    },
    {
     "data": {
      "image/png": "[encoded data removed]",
      "text/latex": [
       "$$1$$"
      ],
      "text/plain": [
       "1"
      ]
     },
     "metadata": {},
     "output_type": "display_data"
    },
    {
     "data": {
      "image/png": "[encoded data removed]",
      "text/latex": [
       "$$1.0$$"
      ],
      "text/plain": [
       "1.00000000000000"
      ]
     },
     "metadata": {},
     "output_type": "display_data"
    }
   ],
   "source": [
    "from sympy import Integral, Symbol\n",
    "x = Symbol('x')\n",
    "d = Integral(x, (x, 0, 1)) + Integral(2-x, (x, 1, 2))\n",
    "display(d)\n",
    "display(d.doit())\n",
    "display(d.doit().evalf())"
   ]
  },
  {
   "cell_type": "code",
   "execution_count": 3,
   "metadata": {
    "scrolled": true
   },
   "outputs": [
    {
     "data": {
      "application/vnd.jupyter.widget-view+json": {
       "model_id": "13308e6859ca4bdb861c2e2ceb3ea138",
       "version_major": 2,
       "version_minor": 0
      },
      "text/html": [
       "<p>Failed to display Jupyter Widget of type <code>interactive</code>.</p>\n",
       "<p>\n",
       "  If you're reading this message in the Jupyter Notebook or JupyterLab Notebook, it may mean\n",
       "  that the widgets JavaScript is still loading. If this message persists, it\n",
       "  likely means that the widgets JavaScript library is either not installed or\n",
       "  not enabled. See the <a href=\"https://ipywidgets.readthedocs.io/en/stable/user_install.html\">Jupyter\n",
       "  Widgets Documentation</a> for setup instructions.\n",
       "</p>\n",
       "<p>\n",
       "  If you're reading this message in another frontend (for example, a static\n",
       "  rendering on GitHub or <a href=\"https://nbviewer.jupyter.org/\">NBViewer</a>),\n",
       "  it may mean that your frontend doesn't currently support widgets.\n",
       "</p>\n"
      ],
      "text/plain": [
       "interactive(children=(IntSlider(value=26, description='num_data', max=50, min=2), Checkbox(value=True, description='is_left'), Output()), _dom_classes=('widget-interact',))"
      ]
     },
     "metadata": {},
     "output_type": "display_data"
    },
    {
     "data": {
      "text/plain": [
       "<function __main__.scatter>"
      ]
     },
     "execution_count": 3,
     "metadata": {},
     "output_type": "execute_result"
    }
   ],
   "source": [
    "def scatter(num_data, is_left):\n",
    "    def f(x):\n",
    "        return x if x <=1 else 2-x\n",
    "\n",
    "    param = {\n",
    "        \"x_min\": 0.0,\n",
    "        \"x_max\": 2.0,\n",
    "        \"y_min\": 0.0,\n",
    "        \"y_max\": 2.0,\n",
    "        \"figsize_x\": 4,\n",
    "        \"figsize_y\": 4,\n",
    "        \"alpha\": 0.5,\n",
    "        \"text_x\": 0.2,\n",
    "        \"text_y\": 1.5,\n",
    "    }\n",
    "    scatter_integral_body(num_data, is_left, f, param)\n",
    "\n",
    "num_max = 50\n",
    "interact(scatter, num_data=(2, num_max, 1), value=1, is_left=True)"
   ]
  },
  {
   "cell_type": "markdown",
   "metadata": {},
   "source": [
    "### 例：三角関数\n",
    "\n",
    "絶対値が噛んでいると `doit()` で厳密な値を出してくれないらしい。\n",
    "きちんと調べていないが、たぶん関数にもよる。"
   ]
  },
  {
   "cell_type": "code",
   "execution_count": 7,
   "metadata": {},
   "outputs": [
    {
     "data": {
      "image/png": "[encoded data removed]",
      "text/latex": [
       "$$\\int_{- \\pi}^{\\pi} \\left|{\\sin{\\left (x \\right )}}\\right|\\, dx$$"
      ],
      "text/plain": [
       "π             \n",
       "⌠             \n",
       "⎮  │sin(x)│ dx\n",
       "⌡             \n",
       "-π            "
      ]
     },
     "metadata": {},
     "output_type": "display_data"
    },
    {
     "data": {
      "image/png": "[encoded data removed]",
      "text/latex": [
       "$$\\int_{- \\pi}^{\\pi} \\left|{\\sin{\\left (x \\right )}}\\right|\\, dx$$"
      ],
      "text/plain": [
       "π             \n",
       "⌠             \n",
       "⎮  │sin(x)│ dx\n",
       "⌡             \n",
       "-π            "
      ]
     },
     "metadata": {},
     "output_type": "display_data"
    },
    {
     "data": {
      "image/png": "[encoded data removed]",
      "text/latex": [
       "$$4.0$$"
      ],
      "text/plain": [
       "4.000"
      ]
     },
     "metadata": {},
     "output_type": "display_data"
    }
   ],
   "source": [
    "from sympy import Integral, Symbol\n",
    "x = Symbol('x')\n",
    "d = Integral(Abs(sin(x)), (x, - pi, pi))\n",
    "display(d)\n",
    "display(d.doit())\n",
    "display(d.doit().evalf())"
   ]
  },
  {
   "cell_type": "markdown",
   "metadata": {},
   "source": [
    "手で分割すれば大丈夫。"
   ]
  },
  {
   "cell_type": "code",
   "execution_count": 8,
   "metadata": {
    "scrolled": true
   },
   "outputs": [
    {
     "data": {
      "image/png": "[encoded data removed]",
      "text/latex": [
       "$$\\int_{- \\pi}^{0} \\left(- \\sin{\\left (x \\right )}\\right)\\, dx + \\int_{0}^{\\pi} \\sin{\\left (x \\right )}\\, dx$$"
      ],
      "text/plain": [
       "0               π          \n",
       "⌠               ⌠          \n",
       "⎮  -sin(x) dx + ⎮ sin(x) dx\n",
       "⌡               ⌡          \n",
       "-π              0          "
      ]
     },
     "metadata": {},
     "output_type": "display_data"
    },
    {
     "data": {
      "image/png": "[encoded data removed]",
      "text/latex": [
       "$$4$$"
      ],
      "text/plain": [
       "4"
      ]
     },
     "metadata": {},
     "output_type": "display_data"
    },
    {
     "data": {
      "image/png": "[encoded data removed]",
      "text/latex": [
       "$$4.0$$"
      ],
      "text/plain": [
       "4.00000000000000"
      ]
     },
     "metadata": {},
     "output_type": "display_data"
    }
   ],
   "source": [
    "from sympy import Integral, Symbol\n",
    "x = Symbol('x')\n",
    "d = Integral(-sin(x), (x, - pi, 0)) + Integral(sin(x), (x, 0, pi))\n",
    "display(d)\n",
    "display(d.doit())\n",
    "display(d.doit().evalf())"
   ]
  },
  {
   "cell_type": "markdown",
   "metadata": {},
   "source": [
    "### numpy で描画"
   ]
  },
  {
   "cell_type": "code",
   "execution_count": 9,
   "metadata": {
    "scrolled": true
   },
   "outputs": [
    {
     "data": {
      "application/vnd.jupyter.widget-view+json": {
       "model_id": "871d5257e8894afa894010389942f3de",
       "version_major": 2,
       "version_minor": 0
      },
      "text/html": [
       "<p>Failed to display Jupyter Widget of type <code>interactive</code>.</p>\n",
       "<p>\n",
       "  If you're reading this message in the Jupyter Notebook or JupyterLab Notebook, it may mean\n",
       "  that the widgets JavaScript is still loading. If this message persists, it\n",
       "  likely means that the widgets JavaScript library is either not installed or\n",
       "  not enabled. See the <a href=\"https://ipywidgets.readthedocs.io/en/stable/user_install.html\">Jupyter\n",
       "  Widgets Documentation</a> for setup instructions.\n",
       "</p>\n",
       "<p>\n",
       "  If you're reading this message in another frontend (for example, a static\n",
       "  rendering on GitHub or <a href=\"https://nbviewer.jupyter.org/\">NBViewer</a>),\n",
       "  it may mean that your frontend doesn't currently support widgets.\n",
       "</p>\n"
      ],
      "text/plain": [
       "interactive(children=(IntSlider(value=51, description='num_data', min=2), Checkbox(value=True, description='is_left'), Output()), _dom_classes=('widget-interact',))"
      ]
     },
     "metadata": {},
     "output_type": "display_data"
    },
    {
     "data": {
      "text/plain": [
       "<function __main__.scatter>"
      ]
     },
     "execution_count": 9,
     "metadata": {},
     "output_type": "execute_result"
    }
   ],
   "source": [
    "x_min = 0.0\n",
    "x_max = 1.0 * np.pi\n",
    "y_max = 1.0\n",
    "def scatter(num_data, is_left):\n",
    "    def f(x):\n",
    "        return abs(np.sin(x))\n",
    "\n",
    "    param = {\n",
    "        \"x_min\": -1.0 * np.pi,\n",
    "        \"x_max\": 1.0 * np.pi,\n",
    "        \"y_min\": 0.0,\n",
    "        \"y_max\": 1.0,\n",
    "        \"figsize_x\": 4,\n",
    "        \"figsize_y\": 4,\n",
    "        \"alpha\": 0.5,\n",
    "        \"text_x\": -2,\n",
    "        \"text_y\": 0.5,\n",
    "    }\n",
    "    scatter_integral_body(num_data, is_left, f, param)\n",
    "\n",
    "num_max = 100\n",
    "interact(scatter, num_data=(2, num_max, 1), value=1, is_left=True)"
   ]
  },
  {
   "cell_type": "markdown",
   "metadata": {},
   "source": [
    "### 3次関数"
   ]
  },
  {
   "cell_type": "code",
   "execution_count": 10,
   "metadata": {},
   "outputs": [
    {
     "data": {
      "image/png": "[encoded data removed]",
      "text/latex": [
       "$$\\int_{-2}^{2} \\left(\\frac{x^{3}}{2} + x^{2} + 2\\right)\\, dx$$"
      ],
      "text/plain": [
       "2                  \n",
       "⌠                  \n",
       "⎮  ⎛ 3         ⎞   \n",
       "⎮  ⎜x     2    ⎟   \n",
       "⎮  ⎜── + x  + 2⎟ dx\n",
       "⎮  ⎝2          ⎠   \n",
       "⌡                  \n",
       "-2                 "
      ]
     },
     "metadata": {},
     "output_type": "display_data"
    },
    {
     "data": {
      "image/png": "[encoded data removed]",
      "text/latex": [
       "$$\\frac{40}{3}$$"
      ],
      "text/plain": [
       "40/3"
      ]
     },
     "metadata": {},
     "output_type": "display_data"
    },
    {
     "data": {
      "image/png": "[encoded data removed]",
      "text/latex": [
       "$$13.3333333333333$$"
      ],
      "text/plain": [
       "13.3333333333333"
      ]
     },
     "metadata": {},
     "output_type": "display_data"
    }
   ],
   "source": [
    "from sympy import Integral, Symbol\n",
    "x = Symbol('x')\n",
    "d = Integral(x**3 / 2 + x**2 + 2, (x, -2, 2))\n",
    "display(d)\n",
    "display(d.doit())\n",
    "display(d.doit().evalf())"
   ]
  },
  {
   "cell_type": "code",
   "execution_count": 11,
   "metadata": {
    "scrolled": true
   },
   "outputs": [
    {
     "data": {
      "application/vnd.jupyter.widget-view+json": {
       "model_id": "e52adf853d1e43369febe1852f58e600",
       "version_major": 2,
       "version_minor": 0
      },
      "text/html": [
       "<p>Failed to display Jupyter Widget of type <code>interactive</code>.</p>\n",
       "<p>\n",
       "  If you're reading this message in the Jupyter Notebook or JupyterLab Notebook, it may mean\n",
       "  that the widgets JavaScript is still loading. If this message persists, it\n",
       "  likely means that the widgets JavaScript library is either not installed or\n",
       "  not enabled. See the <a href=\"https://ipywidgets.readthedocs.io/en/stable/user_install.html\">Jupyter\n",
       "  Widgets Documentation</a> for setup instructions.\n",
       "</p>\n",
       "<p>\n",
       "  If you're reading this message in another frontend (for example, a static\n",
       "  rendering on GitHub or <a href=\"https://nbviewer.jupyter.org/\">NBViewer</a>),\n",
       "  it may mean that your frontend doesn't currently support widgets.\n",
       "</p>\n"
      ],
      "text/plain": [
       "interactive(children=(IntSlider(value=26, description='num_data', max=50, min=2), Checkbox(value=True, description='is_left'), Output()), _dom_classes=('widget-interact',))"
      ]
     },
     "metadata": {},
     "output_type": "display_data"
    },
    {
     "data": {
      "text/plain": [
       "<function __main__.scatter>"
      ]
     },
     "execution_count": 11,
     "metadata": {},
     "output_type": "execute_result"
    }
   ],
   "source": [
    "def scatter(num_data, is_left):\n",
    "    def f(x):\n",
    "        return x**3 / 2 + x**2 + 2\n",
    "\n",
    "    param = {\n",
    "        \"x_min\": -2.0,\n",
    "        \"x_max\": 2.0,\n",
    "        \"y_min\": 0.0,\n",
    "        \"y_max\": 12.0,\n",
    "        \"figsize_x\": 4,\n",
    "        \"figsize_y\": 4,\n",
    "        \"alpha\": 0.5,\n",
    "        \"text_x\": -1.5,\n",
    "        \"text_y\": 8,\n",
    "    }\n",
    "    scatter_integral_body(num_data, is_left, f, param)\n",
    "\n",
    "num_max = 50\n",
    "interact(scatter, num_data=(2, num_max, 1), value=1, is_left=True)"
   ]
  },
  {
   "cell_type": "markdown",
   "metadata": {},
   "source": [
    "### 4 次関数"
   ]
  },
  {
   "cell_type": "code",
   "execution_count": 12,
   "metadata": {
    "scrolled": true
   },
   "outputs": [
    {
     "data": {
      "image/png": "[encoded data removed]",
      "text/latex": [
       "$$\\int_{-2}^{2} \\left(\\frac{x^{4}}{2} - x^{3} + 2\\right)\\, dx$$"
      ],
      "text/plain": [
       "2                  \n",
       "⌠                  \n",
       "⎮  ⎛ 4         ⎞   \n",
       "⎮  ⎜x     3    ⎟   \n",
       "⎮  ⎜── - x  + 2⎟ dx\n",
       "⎮  ⎝2          ⎠   \n",
       "⌡                  \n",
       "-2                 "
      ]
     },
     "metadata": {},
     "output_type": "display_data"
    },
    {
     "data": {
      "image/png": "[encoded data removed]",
      "text/latex": [
       "$$\\frac{72}{5}$$"
      ],
      "text/plain": [
       "72/5"
      ]
     },
     "metadata": {},
     "output_type": "display_data"
    },
    {
     "data": {
      "image/png": "[encoded data removed]",
      "text/latex": [
       "$$14.4$$"
      ],
      "text/plain": [
       "14.4000000000000"
      ]
     },
     "metadata": {},
     "output_type": "display_data"
    }
   ],
   "source": [
    "from sympy import Integral, Symbol\n",
    "x = Symbol('x')\n",
    "d = Integral(x**4 / 2 - x**3 + 2, (x, -2, 2))\n",
    "display(d)\n",
    "display(d.doit())\n",
    "display(d.doit().evalf())"
   ]
  },
  {
   "cell_type": "code",
   "execution_count": 13,
   "metadata": {
    "scrolled": true
   },
   "outputs": [
    {
     "data": {
      "application/vnd.jupyter.widget-view+json": {
       "model_id": "bce66bb86d3444a9808f32ce92360e7a",
       "version_major": 2,
       "version_minor": 0
      },
      "text/html": [
       "<p>Failed to display Jupyter Widget of type <code>interactive</code>.</p>\n",
       "<p>\n",
       "  If you're reading this message in the Jupyter Notebook or JupyterLab Notebook, it may mean\n",
       "  that the widgets JavaScript is still loading. If this message persists, it\n",
       "  likely means that the widgets JavaScript library is either not installed or\n",
       "  not enabled. See the <a href=\"https://ipywidgets.readthedocs.io/en/stable/user_install.html\">Jupyter\n",
       "  Widgets Documentation</a> for setup instructions.\n",
       "</p>\n",
       "<p>\n",
       "  If you're reading this message in another frontend (for example, a static\n",
       "  rendering on GitHub or <a href=\"https://nbviewer.jupyter.org/\">NBViewer</a>),\n",
       "  it may mean that your frontend doesn't currently support widgets.\n",
       "</p>\n"
      ],
      "text/plain": [
       "interactive(children=(IntSlider(value=51, description='num_data', min=2), Checkbox(value=True, description='is_left'), Output()), _dom_classes=('widget-interact',))"
      ]
     },
     "metadata": {},
     "output_type": "display_data"
    },
    {
     "data": {
      "text/plain": [
       "<function __main__.scatter>"
      ]
     },
     "execution_count": 13,
     "metadata": {},
     "output_type": "execute_result"
    }
   ],
   "source": [
    "def scatter(num_data, is_left):\n",
    "    def f(x):\n",
    "        return x**4 / 2 - x**3 + 2\n",
    "\n",
    "    param = {\n",
    "        \"x_min\": -2.0,\n",
    "        \"x_max\": 2.0,\n",
    "        \"y_min\": 0.0,\n",
    "        \"y_max\": 20.0,\n",
    "        \"figsize_x\": 4,\n",
    "        \"figsize_y\": 4,\n",
    "        \"alpha\": 0.5,\n",
    "        \"text_x\": -1.5,\n",
    "        \"text_y\": 8,\n",
    "    }\n",
    "    scatter_integral_body(num_data, is_left, f, param)\n",
    "\n",
    "num_max = 100\n",
    "interact(scatter, num_data=(2, num_max, 1), value=1, is_left=True)"
   ]
  },
  {
   "cell_type": "markdown",
   "metadata": {},
   "source": [
    "### 円"
   ]
  },
  {
   "cell_type": "code",
   "execution_count": 14,
   "metadata": {
    "scrolled": true
   },
   "outputs": [
    {
     "data": {
      "image/png": "[encoded data removed]",
      "text/latex": [
       "$$\\int_{-1}^{1} \\sqrt{- x^{2} + 1}\\, dx$$"
      ],
      "text/plain": [
       "1                  \n",
       "⌠                  \n",
       "⎮     __________   \n",
       "⎮    ╱    2        \n",
       "⎮  ╲╱  - x  + 1  dx\n",
       "⌡                  \n",
       "-1                 "
      ]
     },
     "metadata": {},
     "output_type": "display_data"
    },
    {
     "data": {
      "image/png": "[encoded data removed]",
      "text/latex": [
       "$$\\frac{\\pi}{2}$$"
      ],
      "text/plain": [
       "π\n",
       "─\n",
       "2"
      ]
     },
     "metadata": {},
     "output_type": "display_data"
    },
    {
     "data": {
      "image/png": "[encoded data removed]",
      "text/latex": [
       "$$1.5707963267949$$"
      ],
      "text/plain": [
       "1.57079632679490"
      ]
     },
     "metadata": {},
     "output_type": "display_data"
    }
   ],
   "source": [
    "from sympy import Integral, Symbol\n",
    "import math\n",
    "x = Symbol('x', real=True)\n",
    "d = Integral(sqrt(1 - x**2), (x, -1, 1)) # この sqrt は SymPy の 関数\n",
    "display(d)\n",
    "display(d.doit())\n",
    "display(d.doit().evalf())"
   ]
  },
  {
   "cell_type": "code",
   "execution_count": 15,
   "metadata": {
    "scrolled": true
   },
   "outputs": [
    {
     "data": {
      "application/vnd.jupyter.widget-view+json": {
       "model_id": "83a4f0333c704dfeb5d20557104e617e",
       "version_major": 2,
       "version_minor": 0
      },
      "text/html": [
       "<p>Failed to display Jupyter Widget of type <code>interactive</code>.</p>\n",
       "<p>\n",
       "  If you're reading this message in the Jupyter Notebook or JupyterLab Notebook, it may mean\n",
       "  that the widgets JavaScript is still loading. If this message persists, it\n",
       "  likely means that the widgets JavaScript library is either not installed or\n",
       "  not enabled. See the <a href=\"https://ipywidgets.readthedocs.io/en/stable/user_install.html\">Jupyter\n",
       "  Widgets Documentation</a> for setup instructions.\n",
       "</p>\n",
       "<p>\n",
       "  If you're reading this message in another frontend (for example, a static\n",
       "  rendering on GitHub or <a href=\"https://nbviewer.jupyter.org/\">NBViewer</a>),\n",
       "  it may mean that your frontend doesn't currently support widgets.\n",
       "</p>\n"
      ],
      "text/plain": [
       "interactive(children=(IntSlider(value=26, description='num_data', max=50, min=2), Checkbox(value=True, description='is_left'), Output()), _dom_classes=('widget-interact',))"
      ]
     },
     "metadata": {},
     "output_type": "display_data"
    },
    {
     "data": {
      "text/plain": [
       "<function __main__.scatter>"
      ]
     },
     "execution_count": 15,
     "metadata": {},
     "output_type": "execute_result"
    },
    {
     "data": {
      "image/png": "[encoded data removed]",
      "text/plain": [
       "<matplotlib.figure.Figure at 0x2102f066ba8>"
      ]
     },
     "metadata": {},
     "output_type": "display_data"
    },
    {
     "data": {
      "image/png": "[encoded data removed]",
      "text/plain": [
       "<matplotlib.figure.Figure at 0x2102f22b3c8>"
      ]
     },
     "metadata": {},
     "output_type": "display_data"
    },
    {
     "data": {
      "image/png": "[encoded data removed]",
      "text/plain": [
       "<matplotlib.figure.Figure at 0x2102f643198>"
      ]
     },
     "metadata": {},
     "output_type": "display_data"
    }
   ],
   "source": [
    "import math\n",
    "\n",
    "def scatter(num_data, is_left):\n",
    "    def f(x):\n",
    "        return math.sqrt(1 - x**2)\n",
    "\n",
    "    param = {\n",
    "        \"x_min\": -1.0,\n",
    "        \"x_max\": 1.0,\n",
    "        \"y_min\": -1.0,\n",
    "        \"y_max\": 1.0,\n",
    "        \"figsize_x\": 4,\n",
    "        \"figsize_y\": 4,\n",
    "        \"alpha\": 0.5,\n",
    "        \"text_x\": -0.5,\n",
    "        \"text_y\": 0.5,\n",
    "    }\n",
    "    scatter_integral_body(num_data, is_left, f, param)\n",
    "\n",
    "num_max = 50\n",
    "interact(scatter, num_data=(2, num_max, 1), value=1, is_left=True)"
   ]
  }
 ],
 "metadata": {
  "kernelspec": {
   "display_name": "Python 3",
   "language": "python",
   "name": "python3"
  },
  "language_info": {
   "codemirror_mode": {
    "name": "ipython",
    "version": 3
   },
   "file_extension": ".py",
   "mimetype": "text/x-python",
   "name": "python",
   "nbconvert_exporter": "python",
   "pygments_lexer": "ipython3",
   "version": "3.6.6"
  }
 },
 "nbformat": 4,
 "nbformat_minor": 2
}
