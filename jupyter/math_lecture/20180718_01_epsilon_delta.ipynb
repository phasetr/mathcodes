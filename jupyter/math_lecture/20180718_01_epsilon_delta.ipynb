{
 "cells": [
  {
   "cell_type": "markdown",
   "metadata": {},
   "source": [
    "# 注意\n",
    "\n",
    "レクチャー用なので一度作ったら更新はしない。\n",
    "\n",
    "最初は次のセルを読み込ませること。"
   ]
  },
  {
   "cell_type": "code",
   "execution_count": 2,
   "metadata": {},
   "outputs": [],
   "source": [
    "from sympy import *\n",
    "from IPython.display import display\n",
    "\n",
    "import numpy as np\n",
    "import matplotlib.pyplot as plt\n",
    "from ipywidgets import interact\n",
    "import numpy as np\n",
    "\n",
    "init_printing()\n",
    "\n",
    "# シンボル定義\n",
    "k,n,x,y,z = symbols('k,n,x,y,z')"
   ]
  },
  {
   "cell_type": "markdown",
   "metadata": {},
   "source": [
    "# 極限を取る\n",
    "`Limit` を使うと極限をとるオブジェクトが作れる。\n",
    "`doit()` で評価できる。"
   ]
  },
  {
   "cell_type": "code",
   "execution_count": 6,
   "metadata": {
    "scrolled": true
   },
   "outputs": [
    {
     "data": {
      "image/png": "[encoded data removed]",
      "text/latex": [
       "$$\\lim_{n \\to \\infty} \\frac{1}{n}$$"
      ],
      "text/plain": [
       "    1\n",
       "lim ─\n",
       "n─→∞n"
      ]
     },
     "metadata": {},
     "output_type": "display_data"
    },
    {
     "data": {
      "image/png": "[encoded data removed]",
      "text/latex": [
       "$$0$$"
      ],
      "text/plain": [
       "0"
      ]
     },
     "metadata": {},
     "output_type": "display_data"
    }
   ],
   "source": [
    "expr = Limit(1/n, n, oo)\n",
    "display(expr)\n",
    "display(expr.doit())"
   ]
  },
  {
   "cell_type": "markdown",
   "metadata": {},
   "source": [
    "単純に評価するコードは次の通り。"
   ]
  },
  {
   "cell_type": "code",
   "execution_count": 4,
   "metadata": {},
   "outputs": [
    {
     "data": {
      "image/png": "[encoded data removed]",
      "text/latex": [
       "$$\\frac{1}{n}$$"
      ],
      "text/plain": [
       "1\n",
       "─\n",
       "n"
      ]
     },
     "metadata": {},
     "output_type": "display_data"
    },
    {
     "data": {
      "image/png": "[encoded data removed]",
      "text/latex": [
       "$$0$$"
      ],
      "text/plain": [
       "0"
      ]
     },
     "metadata": {},
     "output_type": "display_data"
    },
    {
     "data": {
      "image/png": "[encoded data removed]",
      "text/latex": [
       "$$0$$"
      ],
      "text/plain": [
       "0"
      ]
     },
     "metadata": {},
     "output_type": "display_data"
    }
   ],
   "source": [
    "expr = 1/n\n",
    "display(expr)\n",
    "display(expr.subs(n, oo))\n",
    "display(limit(expr, n, oo))"
   ]
  },
  {
   "cell_type": "markdown",
   "metadata": {},
   "source": [
    "# $\\varepsilon$-$\\delta$ 論法"
   ]
  },
  {
   "cell_type": "code",
   "execution_count": 12,
   "metadata": {
    "scrolled": true
   },
   "outputs": [
    {
     "data": {
      "image/png": "[encoded data removed]",
      "text/plain": [
       "<matplotlib.figure.Figure at 0x21c10744160>"
      ]
     },
     "metadata": {},
     "output_type": "display_data"
    },
    {
     "data": {
      "text/plain": [
       "<sympy.plotting.plot.Plot at 0x21c10744128>"
      ]
     },
     "execution_count": 12,
     "metadata": {},
     "output_type": "execute_result"
    }
   ],
   "source": [
    "plot_implicit(Eq(y - 1/x, 0), (x, 0, 100), (y, 0, 0.1))"
   ]
  },
  {
   "cell_type": "code",
   "execution_count": 42,
   "metadata": {},
   "outputs": [
    {
     "name": "stdout",
     "output_type": "stream",
     "text": [
      "x:       1.00000, y: 1.0000000000\n",
      "x:   10102.00000, y: 0.0000989903\n",
      "x:   20203.00000, y: 0.0000494976\n",
      "x:   30304.00000, y: 0.0000329989\n",
      "x:   40405.00000, y: 0.0000247494\n",
      "x:   50506.00000, y: 0.0000197996\n",
      "x:   60607.00000, y: 0.0000164997\n",
      "x:   70708.00000, y: 0.0000141427\n",
      "x:   80809.00000, y: 0.0000123749\n",
      "x:   90910.00000, y: 0.0000109999\n",
      "x:  101011.00000, y: 0.0000098999\n",
      "x:  111112.00000, y: 0.0000089999\n",
      "x:  121213.00000, y: 0.0000082499\n",
      "x:  131314.00000, y: 0.0000076153\n",
      "x:  141415.00000, y: 0.0000070714\n",
      "x:  151516.00000, y: 0.0000066000\n",
      "x:  161617.00000, y: 0.0000061875\n",
      "x:  171718.00000, y: 0.0000058235\n",
      "x:  181819.00000, y: 0.0000055000\n",
      "x:  191920.00000, y: 0.0000052105\n",
      "x:  202021.00000, y: 0.0000049500\n",
      "x:  212122.00000, y: 0.0000047143\n",
      "x:  222223.00000, y: 0.0000045000\n",
      "x:  232324.00000, y: 0.0000043043\n",
      "x:  242425.00000, y: 0.0000041250\n",
      "x:  252526.00000, y: 0.0000039600\n",
      "x:  262627.00000, y: 0.0000038077\n",
      "x:  272728.00000, y: 0.0000036667\n",
      "x:  282829.00000, y: 0.0000035357\n",
      "x:  292930.00000, y: 0.0000034138\n",
      "x:  303031.00000, y: 0.0000033000\n",
      "x:  313132.00000, y: 0.0000031935\n",
      "x:  323233.00000, y: 0.0000030937\n",
      "x:  333334.00000, y: 0.0000030000\n",
      "x:  343435.00000, y: 0.0000029118\n",
      "x:  353536.00000, y: 0.0000028286\n",
      "x:  363637.00000, y: 0.0000027500\n",
      "x:  373738.00000, y: 0.0000026757\n",
      "x:  383839.00000, y: 0.0000026053\n",
      "x:  393940.00000, y: 0.0000025385\n",
      "x:  404041.00000, y: 0.0000024750\n",
      "x:  414142.00000, y: 0.0000024146\n",
      "x:  424243.00000, y: 0.0000023571\n",
      "x:  434344.00000, y: 0.0000023023\n",
      "x:  444445.00000, y: 0.0000022500\n",
      "x:  454546.00000, y: 0.0000022000\n",
      "x:  464647.00000, y: 0.0000021522\n",
      "x:  474748.00000, y: 0.0000021064\n",
      "x:  484849.00000, y: 0.0000020625\n",
      "x:  494950.00000, y: 0.0000020204\n",
      "x:  505051.00000, y: 0.0000019800\n",
      "x:  515152.00000, y: 0.0000019412\n",
      "x:  525253.00000, y: 0.0000019038\n",
      "x:  535354.00000, y: 0.0000018679\n",
      "x:  545455.00000, y: 0.0000018333\n",
      "x:  555556.00000, y: 0.0000018000\n",
      "x:  565657.00000, y: 0.0000017679\n",
      "x:  575758.00000, y: 0.0000017368\n",
      "x:  585859.00000, y: 0.0000017069\n",
      "x:  595960.00000, y: 0.0000016780\n",
      "x:  606061.00000, y: 0.0000016500\n",
      "x:  616162.00000, y: 0.0000016229\n",
      "x:  626263.00000, y: 0.0000015968\n",
      "x:  636364.00000, y: 0.0000015714\n",
      "x:  646465.00000, y: 0.0000015469\n",
      "x:  656566.00000, y: 0.0000015231\n",
      "x:  666667.00000, y: 0.0000015000\n",
      "x:  676768.00000, y: 0.0000014776\n",
      "x:  686869.00000, y: 0.0000014559\n",
      "x:  696970.00000, y: 0.0000014348\n",
      "x:  707071.00000, y: 0.0000014143\n",
      "x:  717172.00000, y: 0.0000013944\n",
      "x:  727273.00000, y: 0.0000013750\n",
      "x:  737374.00000, y: 0.0000013562\n",
      "x:  747475.00000, y: 0.0000013378\n",
      "x:  757576.00000, y: 0.0000013200\n",
      "x:  767677.00000, y: 0.0000013026\n",
      "x:  777778.00000, y: 0.0000012857\n",
      "x:  787879.00000, y: 0.0000012692\n",
      "x:  797980.00000, y: 0.0000012532\n",
      "x:  808081.00000, y: 0.0000012375\n",
      "x:  818182.00000, y: 0.0000012222\n",
      "x:  828283.00000, y: 0.0000012073\n",
      "x:  838384.00000, y: 0.0000011928\n",
      "x:  848485.00000, y: 0.0000011786\n",
      "x:  858586.00000, y: 0.0000011647\n",
      "x:  868687.00000, y: 0.0000011512\n",
      "x:  878788.00000, y: 0.0000011379\n",
      "x:  888889.00000, y: 0.0000011250\n",
      "x:  898990.00000, y: 0.0000011124\n",
      "x:  909091.00000, y: 0.0000011000\n",
      "x:  919192.00000, y: 0.0000010879\n",
      "x:  929293.00000, y: 0.0000010761\n",
      "x:  939394.00000, y: 0.0000010645\n",
      "x:  949495.00000, y: 0.0000010532\n",
      "x:  959596.00000, y: 0.0000010421\n",
      "x:  969697.00000, y: 0.0000010312\n",
      "x:  979798.00000, y: 0.0000010206\n",
      "x:  989899.00000, y: 0.0000010102\n",
      "x: 1000000.00000, y: 0.0000010000\n"
     ]
    }
   ],
   "source": [
    "def f(x):\n",
    "    return 1/x\n",
    "\n",
    "vf = np.vectorize(f)\n",
    "\n",
    "xs = np.linspace(1, 1000000, 100)\n",
    "ys = vf(xs)\n",
    "for x in xs:\n",
    "    print(f\"x: {x:13.5f}, y: {f(x):10.10f}\")"
   ]
  }
 ],
 "metadata": {
  "kernelspec": {
   "display_name": "Python 3",
   "language": "python",
   "name": "python3"
  },
  "language_info": {
   "codemirror_mode": {
    "name": "ipython",
    "version": 3
   },
   "file_extension": ".py",
   "mimetype": "text/x-python",
   "name": "python",
   "nbconvert_exporter": "python",
   "pygments_lexer": "ipython3",
   "version": "3.6.4"
  }
 },
 "nbformat": 4,
 "nbformat_minor": 2
}
