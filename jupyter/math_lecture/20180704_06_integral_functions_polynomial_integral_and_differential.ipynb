{
 "cells": [
  {
   "cell_type": "markdown",
   "metadata": {},
   "source": [
    "# 注意\n",
    "\n",
    "レクチャー用なので一度作ったら更新はしない。\n",
    "\n",
    "最初は次のセルを読み込ませること。"
   ]
  },
  {
   "cell_type": "code",
   "execution_count": 1,
   "metadata": {
    "collapsed": true
   },
   "outputs": [],
   "source": [
    "from sympy import *\n",
    "from IPython.display import display\n",
    "\n",
    "import numpy as np\n",
    "import matplotlib.pyplot as plt\n",
    "from ipywidgets import interact\n",
    "import numpy as np\n",
    "\n",
    "init_printing()\n",
    "\n",
    "# シンボル定義\n",
    "k,x,y,z = symbols('k,x,y,z')"
   ]
  },
  {
   "cell_type": "markdown",
   "metadata": {},
   "source": [
    "# 多項式の積分\n",
    "\n",
    "基本的なのは次式.\n",
    "勝手に $n=-1$ の場合分けもやってくれる。\n",
    "0 からの積分も無限大で適当に処理してくれている。"
   ]
  },
  {
   "cell_type": "code",
   "execution_count": 41,
   "metadata": {
    "scrolled": true
   },
   "outputs": [
    {
     "data": {
      "image/png": "[encoded data removed]",
      "text/latex": [
       "$$\\int_{0}^{x} x^{n}\\, dx$$"
      ],
      "text/plain": [
       "x      \n",
       "⌠      \n",
       "⎮  n   \n",
       "⎮ x  dx\n",
       "⌡      \n",
       "0      "
      ]
     },
     "metadata": {},
     "output_type": "display_data"
    },
    {
     "data": {
      "image/png": "[encoded data removed]",
      "text/latex": [
       "$$\\begin{cases} \\log{\\left (x \\right )} + \\infty & \\text{for}\\: n = -1 \\\\- \\frac{0^{n + 1}}{n + 1} + \\frac{x^{n + 1}}{n + 1} & \\text{otherwise} \\end{cases}$$"
      ],
      "text/plain": [
       "⎧   log(x) + ∞      for n = -1\n",
       "⎪                             \n",
       "⎪   n + 1    n + 1            \n",
       "⎨  0        x                 \n",
       "⎪- ────── + ──────  otherwise \n",
       "⎪  n + 1    n + 1             \n",
       "⎩                             "
      ]
     },
     "metadata": {},
     "output_type": "display_data"
    }
   ],
   "source": [
    "from sympy import symbols\n",
    "x,y,n = symbols(\"x, y, n\")\n",
    "int = Integral(x**n, (x, 0, x))\n",
    "display(int)\n",
    "display(int.doit())"
   ]
  },
  {
   "cell_type": "markdown",
   "metadata": {},
   "source": [
    "### `simplify`\n",
    "\n",
    "$0$ は消える."
   ]
  },
  {
   "cell_type": "code",
   "execution_count": 48,
   "metadata": {},
   "outputs": [
    {
     "data": {
      "image/png": "[encoded data removed]",
      "text/latex": [
       "$$\\begin{cases} \\log{\\left (x \\right )} + \\infty & \\text{for}\\: n = -1 \\\\\\frac{x^{n + 1}}{n + 1} & \\text{otherwise} \\end{cases}$$"
      ],
      "text/plain": [
       "⎧log(x) + ∞  for n = -1\n",
       "⎪                      \n",
       "⎪   n + 1              \n",
       "⎨  x                   \n",
       "⎪  ──────    otherwise \n",
       "⎪  n + 1               \n",
       "⎩                      "
      ]
     },
     "metadata": {},
     "output_type": "display_data"
    }
   ],
   "source": [
    "int = Integral(x**n, (x, 0, x))\n",
    "display(simplify(int.doit()))"
   ]
  },
  {
   "cell_type": "markdown",
   "metadata": {},
   "source": [
    "いくつか具体的にやってみる。"
   ]
  },
  {
   "cell_type": "code",
   "execution_count": 43,
   "metadata": {},
   "outputs": [
    {
     "data": {
      "image/png": "[encoded data removed]",
      "text/latex": [
       "$$\\int_{0}^{x} 1\\, dx$$"
      ],
      "text/plain": [
       "x     \n",
       "⌠     \n",
       "⎮ 1 dx\n",
       "⌡     \n",
       "0     "
      ]
     },
     "metadata": {},
     "output_type": "display_data"
    },
    {
     "data": {
      "image/png": "[encoded data removed]",
      "text/latex": [
       "$$x$$"
      ],
      "text/plain": [
       "x"
      ]
     },
     "metadata": {},
     "output_type": "display_data"
    }
   ],
   "source": [
    "from sympy import symbols\n",
    "x,y,n = symbols(\"x, y, n\")\n",
    "int = Integral(1, (x, 0, x))\n",
    "display(int)\n",
    "display(int.doit())"
   ]
  },
  {
   "cell_type": "code",
   "execution_count": 44,
   "metadata": {},
   "outputs": [
    {
     "data": {
      "image/png": "[encoded data removed]",
      "text/latex": [
       "$$\\int_{0}^{x} x\\, dx$$"
      ],
      "text/plain": [
       "x     \n",
       "⌠     \n",
       "⎮ x dx\n",
       "⌡     \n",
       "0     "
      ]
     },
     "metadata": {},
     "output_type": "display_data"
    },
    {
     "data": {
      "image/png": "[encoded data removed]",
      "text/latex": [
       "$$\\frac{x^{2}}{2}$$"
      ],
      "text/plain": [
       " 2\n",
       "x \n",
       "──\n",
       "2 "
      ]
     },
     "metadata": {},
     "output_type": "display_data"
    }
   ],
   "source": [
    "from sympy import symbols\n",
    "x,y,n = symbols(\"x, y, n\")\n",
    "int = Integral(x, (x, 0, x))\n",
    "display(int)\n",
    "display(int.doit())"
   ]
  },
  {
   "cell_type": "code",
   "execution_count": 45,
   "metadata": {},
   "outputs": [
    {
     "data": {
      "image/png": "[encoded data removed]",
      "text/latex": [
       "$$\\int_{0}^{x} x^{2}\\, dx$$"
      ],
      "text/plain": [
       "x      \n",
       "⌠      \n",
       "⎮  2   \n",
       "⎮ x  dx\n",
       "⌡      \n",
       "0      "
      ]
     },
     "metadata": {},
     "output_type": "display_data"
    },
    {
     "data": {
      "image/png": "[encoded data removed]",
      "text/latex": [
       "$$\\frac{x^{3}}{3}$$"
      ],
      "text/plain": [
       " 3\n",
       "x \n",
       "──\n",
       "3 "
      ]
     },
     "metadata": {},
     "output_type": "display_data"
    }
   ],
   "source": [
    "from sympy import symbols\n",
    "x,y,n = symbols(\"x, y, n\")\n",
    "int = Integral(x**2, (x, 0, x))\n",
    "display(int)\n",
    "display(int.doit())"
   ]
  },
  {
   "cell_type": "markdown",
   "metadata": {},
   "source": [
    "## 積分の線型性\n",
    "\n",
    "「関数の和の積分」が「関数の積分の和」になる。\n",
    "\n",
    "この「線型」は「線型代数」の線型の意味。"
   ]
  },
  {
   "cell_type": "code",
   "execution_count": 42,
   "metadata": {
    "scrolled": true
   },
   "outputs": [
    {
     "data": {
      "image/png": "[encoded data removed]",
      "text/latex": [
       "$$\\int_{0}^{x} \\left(x^{3} + x^{2} + x + 1\\right)\\, dx$$"
      ],
      "text/plain": [
       "x                     \n",
       "⌠                     \n",
       "⎮ ⎛ 3    2        ⎞   \n",
       "⎮ ⎝x  + x  + x + 1⎠ dx\n",
       "⌡                     \n",
       "0                     "
      ]
     },
     "metadata": {},
     "output_type": "display_data"
    },
    {
     "data": {
      "image/png": "[encoded data removed]",
      "text/latex": [
       "$$\\frac{x^{4}}{4} + \\frac{x^{3}}{3} + \\frac{x^{2}}{2} + x$$"
      ],
      "text/plain": [
       " 4    3    2    \n",
       "x    x    x     \n",
       "── + ── + ── + x\n",
       "4    3    2     "
      ]
     },
     "metadata": {},
     "output_type": "display_data"
    }
   ],
   "source": [
    "from sympy import symbols\n",
    "x,y,n = symbols(\"x, y, n\")\n",
    "int = Integral(1 + x + x**2 + x**3, (x, 0, x))\n",
    "display(int)\n",
    "display(int.doit())"
   ]
  },
  {
   "cell_type": "markdown",
   "metadata": {},
   "source": [
    "# 多項式の微分\n",
    "\n",
    "基本的には積分の逆。\n",
    "一般に $n$ で微分しているので表示がおかしくなる模様。"
   ]
  },
  {
   "cell_type": "code",
   "execution_count": 35,
   "metadata": {
    "scrolled": false
   },
   "outputs": [
    {
     "data": {
      "image/png": "[encoded data removed]",
      "text/latex": [
       "$$\\frac{n x^{n}}{x}$$"
      ],
      "text/plain": [
       "   n\n",
       "n⋅x \n",
       "────\n",
       " x  "
      ]
     },
     "metadata": {},
     "output_type": "display_data"
    }
   ],
   "source": [
    "from sympy import symbols\n",
    "x,y,n = symbols(\"x, y, n\")\n",
    "display(diff(x**n, x))"
   ]
  },
  {
   "cell_type": "markdown",
   "metadata": {},
   "source": [
    "こちらも積分と同じく `simplify()`。"
   ]
  },
  {
   "cell_type": "code",
   "execution_count": 49,
   "metadata": {
    "scrolled": true
   },
   "outputs": [
    {
     "data": {
      "image/png": "[encoded data removed]",
      "text/latex": [
       "$$n x^{n - 1}$$"
      ],
      "text/plain": [
       "   n - 1\n",
       "n⋅x     "
      ]
     },
     "metadata": {},
     "output_type": "display_data"
    }
   ],
   "source": [
    "display(simplify(diff(x**n, x)))"
   ]
  },
  {
   "cell_type": "markdown",
   "metadata": {},
   "source": [
    "## 高階の微分\n",
    "\n",
    "$x^4$ を例に。"
   ]
  },
  {
   "cell_type": "code",
   "execution_count": 36,
   "metadata": {},
   "outputs": [
    {
     "data": {
      "image/png": "[encoded data removed]",
      "text/latex": [
       "$$4 x^{3}$$"
      ],
      "text/plain": [
       "   3\n",
       "4⋅x "
      ]
     },
     "metadata": {},
     "output_type": "display_data"
    },
    {
     "data": {
      "image/png": "[encoded data removed]",
      "text/latex": [
       "$$12 x^{2}$$"
      ],
      "text/plain": [
       "    2\n",
       "12⋅x "
      ]
     },
     "metadata": {},
     "output_type": "display_data"
    },
    {
     "data": {
      "image/png": "[encoded data removed]",
      "text/latex": [
       "$$24 x$$"
      ],
      "text/plain": [
       "24⋅x"
      ]
     },
     "metadata": {},
     "output_type": "display_data"
    }
   ],
   "source": [
    "display(diff(x**4, x))\n",
    "display(diff(x**4, x, x))\n",
    "display(diff(x**4, x, x, x))"
   ]
  }
 ],
 "metadata": {
  "kernelspec": {
   "display_name": "Python 3",
   "language": "python",
   "name": "python3"
  },
  "language_info": {
   "codemirror_mode": {
    "name": "ipython",
    "version": 3
   },
   "file_extension": ".py",
   "mimetype": "text/x-python",
   "name": "python",
   "nbconvert_exporter": "python",
   "pygments_lexer": "ipython3",
   "version": "3.6.4"
  }
 },
 "nbformat": 4,
 "nbformat_minor": 2
}
