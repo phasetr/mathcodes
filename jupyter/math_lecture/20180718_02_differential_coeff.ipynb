{
 "cells": [
  {
   "cell_type": "markdown",
   "metadata": {},
   "source": [
    "# 注意\n",
    "\n",
    "レクチャー用なので一度作ったら更新はしない。\n",
    "\n",
    "最初は次のセルを読み込ませること。"
   ]
  },
  {
   "cell_type": "markdown",
   "metadata": {},
   "source": [
    "# 微分"
   ]
  },
  {
   "cell_type": "code",
   "execution_count": 1,
   "metadata": {},
   "outputs": [],
   "source": [
    "from sympy import *\n",
    "from IPython.display import display\n",
    "\n",
    "import numpy as np\n",
    "import matplotlib.pyplot as plt\n",
    "from ipywidgets import interact\n",
    "import numpy as np\n",
    "\n",
    "init_printing()\n",
    "\n",
    "# シンボル定義\n",
    "k,x,y,z = symbols('k,x,y,z')"
   ]
  },
  {
   "cell_type": "markdown",
   "metadata": {},
   "source": [
    "## 微分描画のための基本的な関数"
   ]
  },
  {
   "cell_type": "code",
   "execution_count": 2,
   "metadata": {},
   "outputs": [],
   "source": [
    "import numpy as np\n",
    "import matplotlib.pyplot as plt\n",
    "import matplotlib.animation as animation\n",
    "\n",
    "def scatter_differential_body(x, f, param):\n",
    "    # 描画領域の指定\n",
    "    fig = plt.figure(figsize=(param[\"figsize_x\"], param[\"figsize_y\"]))\n",
    "    subplot = fig.add_subplot(1, 1, 1)\n",
    "    subplot.set_xlim(param[\"x_min\"], param[\"x_max\"])\n",
    "    subplot.set_ylim(param[\"y_min\"], param[\"y_max\"])\n",
    "\n",
    "    # 接点の x 座標：いちいち書くのが面倒なのでエイリアス\n",
    "    x0 = param[\"tan_pt_x\"]\n",
    "    # 接線の傾き\n",
    "    slope = (f(x) - f(x0)) / (x - x0) if x != x0 else param[\"dc\"]\n",
    "\n",
    "    # 接線の関数\n",
    "    def tan_line(x):\n",
    "        return f(x0) + slope * (x - x0)\n",
    "\n",
    "    # 傾きを描画\n",
    "    subplot.text(param[\"text_x\"], param[\"text_y\"], ('slope = %f' % slope))\n",
    "\n",
    "    # 接点と動点の描画\n",
    "    subplot.scatter([x0, x], [f(x0), f(x)])\n",
    "\n",
    "    # 接線の描画\n",
    "    subplot.plot([param[\"x_min\"], param[\"x_max\"]], [tan_line(param[\"x_min\"]), tan_line(param[\"x_max\"])], linewidth=1, color='red')\n",
    "    \n",
    "    # 関数 f の描画\n",
    "    vf = np.vectorize(f)\n",
    "    xs = np.linspace(param[\"x_min\"], param[\"x_max\"], param[\"num_max\"])\n",
    "    ys = vf(xs)\n",
    "    subplot.plot(xs, ys, color=\"gray\")"
   ]
  },
  {
   "cell_type": "markdown",
   "metadata": {},
   "source": [
    "## 2 次関数\n",
    "$f(x) = x^2 + 3$ で接点は $(1,1)$,\n",
    "接点での微分係数は $2$."
   ]
  },
  {
   "cell_type": "code",
   "execution_count": 3,
   "metadata": {
    "scrolled": true
   },
   "outputs": [
    {
     "data": {
      "image/png": "[encoded data removed]",
      "text/latex": [
       "$$x^{2} + 3$$"
      ],
      "text/plain": [
       " 2    \n",
       "x  + 3"
      ]
     },
     "metadata": {},
     "output_type": "display_data"
    },
    {
     "data": {
      "image/png": "[encoded data removed]",
      "text/latex": [
       "$$2 x$$"
      ],
      "text/plain": [
       "2⋅x"
      ]
     },
     "metadata": {},
     "output_type": "display_data"
    },
    {
     "data": {
      "image/png": "[encoded data removed]",
      "text/latex": [
       "$$2$$"
      ],
      "text/plain": [
       "2"
      ]
     },
     "metadata": {},
     "output_type": "display_data"
    }
   ],
   "source": [
    "f = x**2 + 3\n",
    "fdash = diff(f, x)\n",
    "\n",
    "display(f)\n",
    "display(fdash)\n",
    "display(fdash.subs([(x, 1)]))"
   ]
  },
  {
   "cell_type": "code",
   "execution_count": 4,
   "metadata": {
    "scrolled": true
   },
   "outputs": [
    {
     "data": {
      "application/vnd.jupyter.widget-view+json": {
       "model_id": "a0dfe69544d7453aa9597ed471e7b899",
       "version_major": 2,
       "version_minor": 0
      },
      "text/html": [
       "<p>Failed to display Jupyter Widget of type <code>interactive</code>.</p>\n",
       "<p>\n",
       "  If you're reading this message in the Jupyter Notebook or JupyterLab Notebook, it may mean\n",
       "  that the widgets JavaScript is still loading. If this message persists, it\n",
       "  likely means that the widgets JavaScript library is either not installed or\n",
       "  not enabled. See the <a href=\"https://ipywidgets.readthedocs.io/en/stable/user_install.html\">Jupyter\n",
       "  Widgets Documentation</a> for setup instructions.\n",
       "</p>\n",
       "<p>\n",
       "  If you're reading this message in another frontend (for example, a static\n",
       "  rendering on GitHub or <a href=\"https://nbviewer.jupyter.org/\">NBViewer</a>),\n",
       "  it may mean that your frontend doesn't currently support widgets.\n",
       "</p>\n"
      ],
      "text/plain": [
       "interactive(children=(FloatSlider(value=0.0, description='x', max=3.0, min=-3.0), Output()), _dom_classes=('widget-interact',))"
      ]
     },
     "metadata": {},
     "output_type": "display_data"
    },
    {
     "data": {
      "text/plain": [
       "<function __main__.scatter>"
      ]
     },
     "execution_count": 4,
     "metadata": {},
     "output_type": "execute_result"
    }
   ],
   "source": [
    "def scatter(x):\n",
    "    def f(x):\n",
    "        return x**2 + 3\n",
    "\n",
    "    param = {\n",
    "        \"x_min\": -3.0,\n",
    "        \"x_max\": 3.0,\n",
    "        \"y_min\": 0.0,\n",
    "        \"y_max\": 12.0,\n",
    "        \"figsize_x\": 5,\n",
    "        \"figsize_y\": 5,\n",
    "        \"alpha\": 0.5,\n",
    "        \"text_x\": -1.5,\n",
    "        \"text_y\": 8,\n",
    "        \"tan_pt_x\": 1.0,\n",
    "        \"tan_pt_y\": f(1.0),\n",
    "        \"dc\": 2, # 接点での微分係数\n",
    "        \"num_max\": 50\n",
    "    }\n",
    "    scatter_differential_body(x, f, param)\n",
    "\n",
    "interact(scatter, x=(-3, 3, 0.1))"
   ]
  },
  {
   "cell_type": "markdown",
   "metadata": {},
   "source": [
    "## 3 次関数"
   ]
  },
  {
   "cell_type": "code",
   "execution_count": 5,
   "metadata": {
    "scrolled": true
   },
   "outputs": [
    {
     "data": {
      "image/png": "[encoded data removed]",
      "text/latex": [
       "$$0.5 x^{3} - 2 x^{2} + 3$$"
      ],
      "text/plain": [
       "     3      2    \n",
       "0.5⋅x  - 2⋅x  + 3"
      ]
     },
     "metadata": {},
     "output_type": "display_data"
    },
    {
     "data": {
      "image/png": "[encoded data removed]",
      "text/latex": [
       "$$1.5 x^{2} - 4 x$$"
      ],
      "text/plain": [
       "     2      \n",
       "1.5⋅x  - 4⋅x"
      ]
     },
     "metadata": {},
     "output_type": "display_data"
    },
    {
     "data": {
      "image/png": "[encoded data removed]",
      "text/latex": [
       "$$-2.5$$"
      ],
      "text/plain": [
       "-2.50000000000000"
      ]
     },
     "metadata": {},
     "output_type": "display_data"
    }
   ],
   "source": [
    "f = 0.5 * x**3 - 2 * x**2 + 3\n",
    "fdash = diff(f, x)\n",
    "\n",
    "display(f)\n",
    "display(fdash)\n",
    "display(fdash.subs([(x, 1)]))"
   ]
  },
  {
   "cell_type": "code",
   "execution_count": 6,
   "metadata": {},
   "outputs": [
    {
     "data": {
      "application/vnd.jupyter.widget-view+json": {
       "model_id": "66d8c8b0e6f04dab806ef50b9bbf6011",
       "version_major": 2,
       "version_minor": 0
      },
      "text/html": [
       "<p>Failed to display Jupyter Widget of type <code>interactive</code>.</p>\n",
       "<p>\n",
       "  If you're reading this message in the Jupyter Notebook or JupyterLab Notebook, it may mean\n",
       "  that the widgets JavaScript is still loading. If this message persists, it\n",
       "  likely means that the widgets JavaScript library is either not installed or\n",
       "  not enabled. See the <a href=\"https://ipywidgets.readthedocs.io/en/stable/user_install.html\">Jupyter\n",
       "  Widgets Documentation</a> for setup instructions.\n",
       "</p>\n",
       "<p>\n",
       "  If you're reading this message in another frontend (for example, a static\n",
       "  rendering on GitHub or <a href=\"https://nbviewer.jupyter.org/\">NBViewer</a>),\n",
       "  it may mean that your frontend doesn't currently support widgets.\n",
       "</p>\n"
      ],
      "text/plain": [
       "interactive(children=(FloatSlider(value=1.0, description='x', max=5.0, min=-2.0), Output()), _dom_classes=('widget-interact',))"
      ]
     },
     "metadata": {},
     "output_type": "display_data"
    },
    {
     "data": {
      "text/plain": [
       "<function __main__.scatter>"
      ]
     },
     "execution_count": 6,
     "metadata": {},
     "output_type": "execute_result"
    }
   ],
   "source": [
    "def scatter(x):\n",
    "    def f(x):\n",
    "        return 0.5 * x**3 - 2 * x**2 + 3\n",
    "\n",
    "    param = {\n",
    "        \"x_min\": -2.0,\n",
    "        \"x_max\": 5.0,\n",
    "        \"y_min\": -12.0,\n",
    "        \"y_max\": 12.0,\n",
    "        \"figsize_x\": 5,\n",
    "        \"figsize_y\": 5,\n",
    "        \"alpha\": 0.5,\n",
    "        \"text_x\": -1.5,\n",
    "        \"text_y\": 8,\n",
    "        \"tan_pt_x\": 1.0,\n",
    "        \"tan_pt_y\": f(1.0),\n",
    "        \"dc\": -2.5, # 接点での微分係数\n",
    "        \"num_max\": 50\n",
    "    }\n",
    "    scatter_differential_body(x, f, param)\n",
    "\n",
    "interact(scatter, x=(-2, 5, 0.1))"
   ]
  }
 ],
 "metadata": {
  "kernelspec": {
   "display_name": "Python 3",
   "language": "python",
   "name": "python3"
  },
  "language_info": {
   "codemirror_mode": {
    "name": "ipython",
    "version": 3
   },
   "file_extension": ".py",
   "mimetype": "text/x-python",
   "name": "python",
   "nbconvert_exporter": "python",
   "pygments_lexer": "ipython3",
   "version": "3.6.4"
  }
 },
 "nbformat": 4,
 "nbformat_minor": 2
}
