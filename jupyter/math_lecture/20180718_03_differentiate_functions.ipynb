{
 "cells": [
  {
   "cell_type": "markdown",
   "metadata": {},
   "source": [
    "# 注意\n",
    "\n",
    "レクチャー用なので一度作ったら更新はしない。\n",
    "\n",
    "最初は次のセルを読み込ませること。"
   ]
  },
  {
   "cell_type": "markdown",
   "metadata": {},
   "source": [
    "# 微分"
   ]
  },
  {
   "cell_type": "code",
   "execution_count": 1,
   "metadata": {
    "collapsed": true
   },
   "outputs": [],
   "source": [
    "from sympy import *\n",
    "from IPython.display import display\n",
    "\n",
    "import numpy as np\n",
    "import matplotlib.pyplot as plt\n",
    "from ipywidgets import interact\n",
    "import numpy as np\n",
    "\n",
    "init_printing()\n",
    "\n",
    "# シンボル定義\n",
    "k,x,y,z = symbols('k,x,y,z')"
   ]
  },
  {
   "cell_type": "markdown",
   "metadata": {},
   "source": [
    "# 多項式の微分、導関数\n",
    "\n",
    "基本的には積分の逆。\n",
    "一般に $n$ で微分しているので表示がおかしくなる模様。"
   ]
  },
  {
   "cell_type": "code",
   "execution_count": 2,
   "metadata": {},
   "outputs": [
    {
     "data": {
      "image/png": "[encoded data removed]",
      "text/latex": [
       "$$\\frac{n x^{n}}{x}$$"
      ],
      "text/plain": [
       "   n\n",
       "n⋅x \n",
       "────\n",
       " x  "
      ]
     },
     "metadata": {},
     "output_type": "display_data"
    }
   ],
   "source": [
    "from sympy import symbols\n",
    "x,y,n = symbols(\"x, y, n\")\n",
    "display(diff(x**n, x))"
   ]
  },
  {
   "cell_type": "markdown",
   "metadata": {},
   "source": [
    "こちらも積分と同じく `simplify()`。"
   ]
  },
  {
   "cell_type": "code",
   "execution_count": 4,
   "metadata": {},
   "outputs": [
    {
     "data": {
      "image/png": "[encoded data removed]",
      "text/latex": [
       "$$n x^{n - 1}$$"
      ],
      "text/plain": [
       "   n - 1\n",
       "n⋅x     "
      ]
     },
     "metadata": {},
     "output_type": "display_data"
    }
   ],
   "source": [
    "display(simplify(diff(x**n, x)))"
   ]
  },
  {
   "cell_type": "markdown",
   "metadata": {},
   "source": [
    "## 高階の導関数\n",
    "\n",
    "$x^4$ を例に。"
   ]
  },
  {
   "cell_type": "code",
   "execution_count": 5,
   "metadata": {
    "scrolled": false
   },
   "outputs": [
    {
     "data": {
      "image/png": "[encoded data removed]",
      "text/latex": [
       "$$4 x^{3}$$"
      ],
      "text/plain": [
       "   3\n",
       "4⋅x "
      ]
     },
     "metadata": {},
     "output_type": "display_data"
    },
    {
     "data": {
      "image/png": "[encoded data removed]",
      "text/latex": [
       "$$12 x^{2}$$"
      ],
      "text/plain": [
       "    2\n",
       "12⋅x "
      ]
     },
     "metadata": {},
     "output_type": "display_data"
    },
    {
     "data": {
      "image/png": "[encoded data removed]",
      "text/latex": [
       "$$24 x$$"
      ],
      "text/plain": [
       "24⋅x"
      ]
     },
     "metadata": {},
     "output_type": "display_data"
    }
   ],
   "source": [
    "display(diff(x**4, x))\n",
    "display(diff(x**4, x, x))\n",
    "display(diff(x**4, x, x, x))"
   ]
  },
  {
   "cell_type": "markdown",
   "metadata": {},
   "source": [
    "## 三角関数の導関数"
   ]
  },
  {
   "cell_type": "markdown",
   "metadata": {},
   "source": [
    "### 正弦関数 $\\sin x$"
   ]
  },
  {
   "cell_type": "code",
   "execution_count": 41,
   "metadata": {},
   "outputs": [
    {
     "data": {
      "image/png": "[encoded data removed]",
      "text/latex": [
       "$$\\sin{\\left (x \\right )}$$"
      ],
      "text/plain": [
       "sin(x)"
      ]
     },
     "metadata": {},
     "output_type": "display_data"
    },
    {
     "data": {
      "image/png": "[encoded data removed]",
      "text/latex": [
       "$$\\cos{\\left (x \\right )}$$"
      ],
      "text/plain": [
       "cos(x)"
      ]
     },
     "metadata": {},
     "output_type": "display_data"
    },
    {
     "data": {
      "image/png": "[encoded data removed]",
      "text/latex": [
       "$$- \\sin{\\left (x \\right )}$$"
      ],
      "text/plain": [
       "-sin(x)"
      ]
     },
     "metadata": {},
     "output_type": "display_data"
    },
    {
     "data": {
      "image/png": "[encoded data removed]",
      "text/latex": [
       "$$- \\cos{\\left (x \\right )}$$"
      ],
      "text/plain": [
       "-cos(x)"
      ]
     },
     "metadata": {},
     "output_type": "display_data"
    },
    {
     "data": {
      "image/png": "[encoded data removed]",
      "text/latex": [
       "$$\\sin{\\left (x \\right )}$$"
      ],
      "text/plain": [
       "sin(x)"
      ]
     },
     "metadata": {},
     "output_type": "display_data"
    }
   ],
   "source": [
    "f = sin(x)\n",
    "display(f)\n",
    "display(diff(f, x))\n",
    "display(diff(f, x, x))\n",
    "display(diff(f, x, x, x))\n",
    "display(diff(f, x, x, x, x))"
   ]
  },
  {
   "cell_type": "markdown",
   "metadata": {},
   "source": [
    "### 余弦関数 $\\cos x$"
   ]
  },
  {
   "cell_type": "code",
   "execution_count": 42,
   "metadata": {},
   "outputs": [
    {
     "data": {
      "image/png": "[encoded data removed]",
      "text/latex": [
       "$$\\cos{\\left (x \\right )}$$"
      ],
      "text/plain": [
       "cos(x)"
      ]
     },
     "metadata": {},
     "output_type": "display_data"
    },
    {
     "data": {
      "image/png": "[encoded data removed]",
      "text/latex": [
       "$$- \\sin{\\left (x \\right )}$$"
      ],
      "text/plain": [
       "-sin(x)"
      ]
     },
     "metadata": {},
     "output_type": "display_data"
    },
    {
     "data": {
      "image/png": "[encoded data removed]",
      "text/latex": [
       "$$- \\cos{\\left (x \\right )}$$"
      ],
      "text/plain": [
       "-cos(x)"
      ]
     },
     "metadata": {},
     "output_type": "display_data"
    },
    {
     "data": {
      "image/png": "[encoded data removed]",
      "text/latex": [
       "$$\\sin{\\left (x \\right )}$$"
      ],
      "text/plain": [
       "sin(x)"
      ]
     },
     "metadata": {},
     "output_type": "display_data"
    },
    {
     "data": {
      "image/png": "[encoded data removed]",
      "text/latex": [
       "$$\\cos{\\left (x \\right )}$$"
      ],
      "text/plain": [
       "cos(x)"
      ]
     },
     "metadata": {},
     "output_type": "display_data"
    }
   ],
   "source": [
    "f = cos(x)\n",
    "display(f)\n",
    "display(diff(f, x))\n",
    "display(diff(f, x, x))\n",
    "display(diff(f, x, x, x))\n",
    "display(diff(f, x, x, x, x))"
   ]
  },
  {
   "cell_type": "markdown",
   "metadata": {},
   "source": [
    "### 正接関数 $\\tan x$"
   ]
  },
  {
   "cell_type": "code",
   "execution_count": 43,
   "metadata": {
    "scrolled": true
   },
   "outputs": [
    {
     "data": {
      "image/png": "[encoded data removed]",
      "text/latex": [
       "$$\\tan{\\left (x \\right )}$$"
      ],
      "text/plain": [
       "tan(x)"
      ]
     },
     "metadata": {},
     "output_type": "display_data"
    },
    {
     "data": {
      "image/png": "[encoded data removed]",
      "text/latex": [
       "$$\\tan^{2}{\\left (x \\right )} + 1$$"
      ],
      "text/plain": [
       "   2       \n",
       "tan (x) + 1"
      ]
     },
     "metadata": {},
     "output_type": "display_data"
    },
    {
     "data": {
      "image/png": "[encoded data removed]",
      "text/latex": [
       "$$2 \\left(\\tan^{2}{\\left (x \\right )} + 1\\right) \\tan{\\left (x \\right )}$$"
      ],
      "text/plain": [
       "  ⎛   2       ⎞       \n",
       "2⋅⎝tan (x) + 1⎠⋅tan(x)"
      ]
     },
     "metadata": {},
     "output_type": "display_data"
    },
    {
     "data": {
      "image/png": "[encoded data removed]",
      "text/latex": [
       "$$2 \\left(\\tan^{2}{\\left (x \\right )} + 1\\right) \\left(3 \\tan^{2}{\\left (x \\right )} + 1\\right)$$"
      ],
      "text/plain": [
       "  ⎛   2       ⎞ ⎛     2       ⎞\n",
       "2⋅⎝tan (x) + 1⎠⋅⎝3⋅tan (x) + 1⎠"
      ]
     },
     "metadata": {},
     "output_type": "display_data"
    },
    {
     "data": {
      "image/png": "[encoded data removed]",
      "text/latex": [
       "$$8 \\left(\\tan^{2}{\\left (x \\right )} + 1\\right) \\left(3 \\tan^{2}{\\left (x \\right )} + 2\\right) \\tan{\\left (x \\right )}$$"
      ],
      "text/plain": [
       "  ⎛   2       ⎞ ⎛     2       ⎞       \n",
       "8⋅⎝tan (x) + 1⎠⋅⎝3⋅tan (x) + 2⎠⋅tan(x)"
      ]
     },
     "metadata": {},
     "output_type": "display_data"
    }
   ],
   "source": [
    "f = tan(x)\n",
    "display(f)\n",
    "display(diff(f, x))\n",
    "display(diff(f, x, x))\n",
    "display(diff(f, x, x, x))\n",
    "display(diff(f, x, x, x, x))"
   ]
  },
  {
   "cell_type": "markdown",
   "metadata": {},
   "source": [
    "### 指数関数\n",
    "\n",
    "何回微分しても変わらない。\n",
    "ただし自然対数の底の場合。"
   ]
  },
  {
   "cell_type": "code",
   "execution_count": 47,
   "metadata": {
    "scrolled": true
   },
   "outputs": [
    {
     "data": {
      "image/png": "[encoded data removed]",
      "text/latex": [
       "$$e^{x}$$"
      ],
      "text/plain": [
       " x\n",
       "ℯ "
      ]
     },
     "metadata": {},
     "output_type": "display_data"
    },
    {
     "data": {
      "image/png": "[encoded data removed]",
      "text/latex": [
       "$$e^{x}$$"
      ],
      "text/plain": [
       " x\n",
       "ℯ "
      ]
     },
     "metadata": {},
     "output_type": "display_data"
    },
    {
     "data": {
      "image/png": "[encoded data removed]",
      "text/latex": [
       "$$e^{x}$$"
      ],
      "text/plain": [
       " x\n",
       "ℯ "
      ]
     },
     "metadata": {},
     "output_type": "display_data"
    },
    {
     "data": {
      "image/png": "[encoded data removed]",
      "text/latex": [
       "$$e^{x}$$"
      ],
      "text/plain": [
       " x\n",
       "ℯ "
      ]
     },
     "metadata": {},
     "output_type": "display_data"
    }
   ],
   "source": [
    "f = exp(x)\n",
    "display(f)\n",
    "display(diff(f, x))\n",
    "display(diff(f, x, x))\n",
    "display(diff(f, x, x, x))"
   ]
  },
  {
   "cell_type": "markdown",
   "metadata": {},
   "source": [
    "### 対数関数\n",
    "\n",
    "これも自然対数の場合だけ。"
   ]
  },
  {
   "cell_type": "code",
   "execution_count": 46,
   "metadata": {},
   "outputs": [
    {
     "data": {
      "image/png": "[encoded data removed]",
      "text/latex": [
       "$$\\log{\\left (x \\right )}$$"
      ],
      "text/plain": [
       "log(x)"
      ]
     },
     "metadata": {},
     "output_type": "display_data"
    },
    {
     "data": {
      "image/png": "[encoded data removed]",
      "text/latex": [
       "$$\\frac{1}{x}$$"
      ],
      "text/plain": [
       "1\n",
       "─\n",
       "x"
      ]
     },
     "metadata": {},
     "output_type": "display_data"
    },
    {
     "data": {
      "image/png": "[encoded data removed]",
      "text/latex": [
       "$$- \\frac{1}{x^{2}}$$"
      ],
      "text/plain": [
       "-1 \n",
       "───\n",
       "  2\n",
       " x "
      ]
     },
     "metadata": {},
     "output_type": "display_data"
    },
    {
     "data": {
      "image/png": "[encoded data removed]",
      "text/latex": [
       "$$\\frac{2}{x^{3}}$$"
      ],
      "text/plain": [
       "2 \n",
       "──\n",
       " 3\n",
       "x "
      ]
     },
     "metadata": {},
     "output_type": "display_data"
    }
   ],
   "source": [
    "f = log(x)\n",
    "display(f)\n",
    "display(diff(f, x))\n",
    "display(diff(f, x, x))\n",
    "display(diff(f, x, x, x))"
   ]
  },
  {
   "cell_type": "markdown",
   "metadata": {},
   "source": [
    "## 正規分布の微分\n",
    "\n",
    "複雑な微分の計算も `SymPy` に任せられる。\n",
    "\n",
    "正規分布を微分してみた：特に偏微分を計算して熱方程式（拡散方程式）をみたすことを確認。"
   ]
  },
  {
   "cell_type": "code",
   "execution_count": 39,
   "metadata": {
    "scrolled": false
   },
   "outputs": [
    {
     "data": {
      "image/png": "[encoded data removed]",
      "text/latex": [
       "$$\\frac{e^{- \\frac{\\left(- m + x\\right)^{2}}{4 k t}}}{2 \\sqrt{\\pi} \\sqrt{k} \\sqrt{t}}$$"
      ],
      "text/plain": [
       "          2 \n",
       " -(-m + x)  \n",
       " ───────────\n",
       "    4⋅k⋅t   \n",
       "ℯ           \n",
       "────────────\n",
       " 2⋅√π⋅√k⋅√t "
      ]
     },
     "metadata": {},
     "output_type": "display_data"
    },
    {
     "data": {
      "image/png": "[encoded data removed]",
      "text/latex": [
       "$$\\frac{\\partial}{\\partial t}\\left(\\frac{e^{- \\frac{\\left(- m + x\\right)^{2}}{4 k t}}}{2 \\sqrt{\\pi} \\sqrt{k} \\sqrt{t}}\\right)$$"
      ],
      "text/plain": [
       "  ⎛          2 ⎞\n",
       "  ⎜ -(-m + x)  ⎟\n",
       "  ⎜ ───────────⎟\n",
       "  ⎜    4⋅k⋅t   ⎟\n",
       "∂ ⎜ℯ           ⎟\n",
       "──⎜────────────⎟\n",
       "∂t⎝ 2⋅√π⋅√k⋅√t ⎠"
      ]
     },
     "metadata": {},
     "output_type": "display_data"
    },
    {
     "data": {
      "image/png": "[encoded data removed]",
      "text/latex": [
       "$$- \\frac{e^{- \\frac{\\left(- m + x\\right)^{2}}{4 k t}}}{4 \\sqrt{\\pi} \\sqrt{k} t^{\\frac{3}{2}}} + \\frac{\\left(- m + x\\right)^{2}}{8 \\sqrt{\\pi} k^{\\frac{3}{2}} t^{\\frac{5}{2}}} e^{- \\frac{\\left(- m + x\\right)^{2}}{4 k t}}$$"
      ],
      "text/plain": [
       "            2                        2 \n",
       "   -(-m + x)                -(-m + x)  \n",
       "   ───────────              ───────────\n",
       "      4⋅k⋅t              2     4⋅k⋅t   \n",
       "  ℯ              (-m + x) ⋅ℯ           \n",
       "- ──────────── + ──────────────────────\n",
       "           3/2             3/2  5/2    \n",
       "  4⋅√π⋅√k⋅t          8⋅√π⋅k   ⋅t       "
      ]
     },
     "metadata": {},
     "output_type": "display_data"
    },
    {
     "data": {
      "image/png": "[encoded data removed]",
      "text/latex": [
       "$$\\frac{\\partial^{2}}{\\partial x^{2}} \\left(\\frac{e^{- \\frac{\\left(- m + x\\right)^{2}}{4 k t}}}{2 \\sqrt{\\pi} \\sqrt{k} \\sqrt{t}}\\right)$$"
      ],
      "text/plain": [
       "   ⎛          2 ⎞\n",
       "   ⎜ -(-m + x)  ⎟\n",
       "   ⎜ ───────────⎟\n",
       "  2⎜    4⋅k⋅t   ⎟\n",
       " ∂ ⎜ℯ           ⎟\n",
       "───⎜────────────⎟\n",
       "  2⎝ 2⋅√π⋅√k⋅√t ⎠\n",
       "∂x               "
      ]
     },
     "metadata": {},
     "output_type": "display_data"
    },
    {
     "data": {
      "image/png": "[encoded data removed]",
      "text/latex": [
       "$$\\frac{e^{- \\frac{\\left(m - x\\right)^{2}}{4 k t}}}{8 \\sqrt{\\pi} k^{\\frac{3}{2}} t^{\\frac{3}{2}}} \\left(-2 + \\frac{\\left(m - x\\right)^{2}}{k t}\\right)$$"
      ],
      "text/plain": [
       "                         2 \n",
       "                 -(m - x)  \n",
       "⎛            2⎞  ──────────\n",
       "⎜     (m - x) ⎟    4⋅k⋅t   \n",
       "⎜-2 + ────────⎟⋅ℯ          \n",
       "⎝       k⋅t   ⎠            \n",
       "───────────────────────────\n",
       "             3/2  3/2      \n",
       "       8⋅√π⋅k   ⋅t         "
      ]
     },
     "metadata": {},
     "output_type": "display_data"
    },
    {
     "data": {
      "image/png": "[encoded data removed]",
      "text/latex": [
       "$$- k \\frac{\\partial^{2}}{\\partial x^{2}} \\left(\\frac{e^{- \\frac{\\left(- m + x\\right)^{2}}{4 k t}}}{2 \\sqrt{\\pi} \\sqrt{k} \\sqrt{t}}\\right) + \\frac{\\partial}{\\partial t}\\left(\\frac{e^{- \\frac{\\left(- m + x\\right)^{2}}{4 k t}}}{2 \\sqrt{\\pi} \\sqrt{k} \\sqrt{t}}\\right)$$"
      ],
      "text/plain": [
       "       ⎛          2 ⎞     ⎛          2 ⎞\n",
       "       ⎜ -(-m + x)  ⎟     ⎜ -(-m + x)  ⎟\n",
       "       ⎜ ───────────⎟     ⎜ ───────────⎟\n",
       "      2⎜    4⋅k⋅t   ⎟     ⎜    4⋅k⋅t   ⎟\n",
       "     ∂ ⎜ℯ           ⎟   ∂ ⎜ℯ           ⎟\n",
       "- k⋅───⎜────────────⎟ + ──⎜────────────⎟\n",
       "      2⎝ 2⋅√π⋅√k⋅√t ⎠   ∂t⎝ 2⋅√π⋅√k⋅√t ⎠\n",
       "    ∂x                                  "
      ]
     },
     "metadata": {},
     "output_type": "display_data"
    },
    {
     "data": {
      "image/png": "[encoded data removed]",
      "text/latex": [
       "$$- \\frac{e^{- \\frac{\\left(m - x\\right)^{2}}{4 k t}}}{8 \\sqrt{\\pi} \\sqrt{k} t^{\\frac{3}{2}}} \\left(-2 + \\frac{\\left(m - x\\right)^{2}}{k t}\\right) - \\frac{e^{- \\frac{\\left(- m + x\\right)^{2}}{4 k t}}}{4 \\sqrt{\\pi} \\sqrt{k} t^{\\frac{3}{2}}} + \\frac{\\left(- m + x\\right)^{2}}{8 \\sqrt{\\pi} k^{\\frac{3}{2}} t^{\\frac{5}{2}}} e^{- \\frac{\\left(- m + x\\right)^{2}}{4 k t}}$$"
      ],
      "text/plain": [
       "                           2                                         \n",
       "                   -(m - x)               2                        2 \n",
       "  ⎛            2⎞  ──────────    -(-m + x)                -(-m + x)  \n",
       "  ⎜     (m - x) ⎟    4⋅k⋅t       ───────────              ───────────\n",
       "  ⎜-2 + ────────⎟⋅ℯ                 4⋅k⋅t              2     4⋅k⋅t   \n",
       "  ⎝       k⋅t   ⎠               ℯ              (-m + x) ⋅ℯ           \n",
       "- ─────────────────────────── - ──────────── + ──────────────────────\n",
       "                   3/2                   3/2             3/2  5/2    \n",
       "          8⋅√π⋅√k⋅t             4⋅√π⋅√k⋅t          8⋅√π⋅k   ⋅t       "
      ]
     },
     "metadata": {},
     "output_type": "display_data"
    },
    {
     "data": {
      "image/png": "[encoded data removed]",
      "text/latex": [
       "$$0$$"
      ],
      "text/plain": [
       "0"
      ]
     },
     "metadata": {},
     "output_type": "display_data"
    }
   ],
   "source": [
    "from sympy import Symbol, exp, sqrt, pi, Integral, S\n",
    "k,x,m = symbols('k,x,m')\n",
    "t = Symbol(\"t\", positive=True)\n",
    "\n",
    "f = 1 / sqrt(4 * pi * k * t) * exp(-(x - m) ** 2 / (4 * k * t))\n",
    "display(f)\n",
    "f_t = Derivative(f, t)\n",
    "display(f_t)\n",
    "display(f_t.doit())\n",
    "\n",
    "f_xx = Derivative(f, x, 2)\n",
    "display(f_xx)\n",
    "display(f_xx.doit())\n",
    "\n",
    "heat_eq = f_t - k * f_xx\n",
    "display(heat_eq)\n",
    "display(heat_eq.doit())\n",
    "display(simplify(heat_eq.doit())) # simplify しないと結果が 0 にならない"
   ]
  },
  {
   "cell_type": "markdown",
   "metadata": {},
   "source": [
    "## `diff()` でも微分できる"
   ]
  },
  {
   "cell_type": "code",
   "execution_count": 38,
   "metadata": {},
   "outputs": [
    {
     "data": {
      "image/png": "[encoded data removed]",
      "text/latex": [
       "$$- \\frac{e^{- \\frac{\\left(- m + x\\right)^{2}}{4 k t}}}{4 \\sqrt{\\pi} \\sqrt{k} t^{\\frac{3}{2}}} + \\frac{\\left(- m + x\\right)^{2}}{8 \\sqrt{\\pi} k^{\\frac{3}{2}} t^{\\frac{5}{2}}} e^{- \\frac{\\left(- m + x\\right)^{2}}{4 k t}}$$"
      ],
      "text/plain": [
       "            2                        2 \n",
       "   -(-m + x)                -(-m + x)  \n",
       "   ───────────              ───────────\n",
       "      4⋅k⋅t              2     4⋅k⋅t   \n",
       "  ℯ              (-m + x) ⋅ℯ           \n",
       "- ──────────── + ──────────────────────\n",
       "           3/2             3/2  5/2    \n",
       "  4⋅√π⋅√k⋅t          8⋅√π⋅k   ⋅t       "
      ]
     },
     "metadata": {},
     "output_type": "display_data"
    },
    {
     "data": {
      "image/png": "[encoded data removed]",
      "text/latex": [
       "$$\\frac{e^{- \\frac{\\left(m - x\\right)^{2}}{4 k t}}}{8 \\sqrt{\\pi} k^{\\frac{3}{2}} t^{\\frac{3}{2}}} \\left(-2 + \\frac{\\left(m - x\\right)^{2}}{k t}\\right)$$"
      ],
      "text/plain": [
       "                         2 \n",
       "                 -(m - x)  \n",
       "⎛            2⎞  ──────────\n",
       "⎜     (m - x) ⎟    4⋅k⋅t   \n",
       "⎜-2 + ────────⎟⋅ℯ          \n",
       "⎝       k⋅t   ⎠            \n",
       "───────────────────────────\n",
       "             3/2  3/2      \n",
       "       8⋅√π⋅k   ⋅t         "
      ]
     },
     "metadata": {},
     "output_type": "display_data"
    },
    {
     "data": {
      "image/png": "[encoded data removed]",
      "text/latex": [
       "$$0$$"
      ],
      "text/plain": [
       "0"
      ]
     },
     "metadata": {},
     "output_type": "display_data"
    }
   ],
   "source": [
    "from sympy import Symbol, exp, sqrt, pi, Integral, S\n",
    "k,x,m = symbols('k,x,m')\n",
    "t = Symbol(\"t\", positive=True)\n",
    "\n",
    "f = 1 / sqrt(4 * pi * k * t) * exp(-(x - m) ** 2 / (4 * k * t))\n",
    "display(diff(f, t))\n",
    "display(diff(f, x, x))\n",
    "display(simplify(diff(f, t) - k * diff(f, x, x)))"
   ]
  }
 ],
 "metadata": {
  "kernelspec": {
   "display_name": "Python [default]",
   "language": "python",
   "name": "python3"
  },
  "language_info": {
   "codemirror_mode": {
    "name": "ipython",
    "version": 3
   },
   "file_extension": ".py",
   "mimetype": "text/x-python",
   "name": "python",
   "nbconvert_exporter": "python",
   "pygments_lexer": "ipython3",
   "version": "3.6.0"
  }
 },
 "nbformat": 4,
 "nbformat_minor": 2
}
