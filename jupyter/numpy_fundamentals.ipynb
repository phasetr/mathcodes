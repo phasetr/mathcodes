{
 "cells": [
  {
   "cell_type": "markdown",
   "metadata": {},
   "source": [
    "# この notebook を読み進める前に\n",
    "TeX 出力のためには次のコードを読み込ませること。"
   ]
  },
  {
   "cell_type": "code",
   "execution_count": 2,
   "metadata": {
    "collapsed": true
   },
   "outputs": [],
   "source": [
    "from sympy import *\n",
    "from IPython.display import display\n",
    "init_printing()"
   ]
  },
  {
   "cell_type": "markdown",
   "metadata": {},
   "source": [
    "# Numpy"
   ]
  },
  {
   "cell_type": "code",
   "execution_count": 4,
   "metadata": {},
   "outputs": [
    {
     "data": {
      "image/png": "[encoded data removed]",
      "text/latex": [
       "$$3.141592653589793$$"
      ],
      "text/plain": [
       "3.141592653589793"
      ]
     },
     "metadata": {},
     "output_type": "display_data"
    },
    {
     "data": {
      "text/plain": [
       "'3.141592653589793'"
      ]
     },
     "metadata": {},
     "output_type": "display_data"
    }
   ],
   "source": [
    "import numpy as np\n",
    "\n",
    "# 円周率\n",
    "display(np.pi)\n",
    "# 文字列にする\n",
    "display(str(np.pi))"
   ]
  },
  {
   "cell_type": "markdown",
   "metadata": {},
   "source": [
    "### フォーマット文字列"
   ]
  },
  {
   "cell_type": "code",
   "execution_count": 5,
   "metadata": {},
   "outputs": [
    {
     "data": {
      "text/plain": [
       "'    3.1416'"
      ]
     },
     "metadata": {},
     "output_type": "display_data"
    },
    {
     "data": {
      "text/plain": [
       "'3.14159265'"
      ]
     },
     "metadata": {},
     "output_type": "display_data"
    }
   ],
   "source": [
    "display('{:10.4f}'.format(np.pi))\n",
    "display('{:10.8f}'.format(np.pi))"
   ]
  },
  {
   "cell_type": "markdown",
   "metadata": {},
   "source": [
    "## 多項式"
   ]
  },
  {
   "cell_type": "code",
   "execution_count": 7,
   "metadata": {
    "collapsed": true
   },
   "outputs": [],
   "source": [
    "import numpy as np\n",
    "\n",
    "p1 = np.poly1d([1, 2, 3])\n",
    "p2 = np.poly1d([2, 3, 4, 5, 6])\n",
    "p3 = np.poly1d([0, 1], True)"
   ]
  },
  {
   "cell_type": "markdown",
   "metadata": {},
   "source": [
    "### 配列の 0 番目が最高階の係数"
   ]
  },
  {
   "cell_type": "code",
   "execution_count": 7,
   "metadata": {},
   "outputs": [
    {
     "data": {
      "text/plain": [
       "poly1d([1, 2, 3])"
      ]
     },
     "metadata": {},
     "output_type": "display_data"
    }
   ],
   "source": [
    "display(p1)"
   ]
  },
  {
   "cell_type": "markdown",
   "metadata": {},
   "source": [
    "第 2 引数を True にすると指定配列を根とする多項式になる"
   ]
  },
  {
   "cell_type": "code",
   "execution_count": 8,
   "metadata": {},
   "outputs": [
    {
     "data": {
      "text/plain": [
       "poly1d([ 1., -1.,  0.])"
      ]
     },
     "metadata": {},
     "output_type": "display_data"
    }
   ],
   "source": [
    "display(p3)"
   ]
  },
  {
   "cell_type": "markdown",
   "metadata": {},
   "source": [
    "多項式の係数の配列"
   ]
  },
  {
   "cell_type": "code",
   "execution_count": 9,
   "metadata": {},
   "outputs": [
    {
     "data": {
      "text/plain": [
       "array([1, 2, 3])"
      ]
     },
     "metadata": {},
     "output_type": "display_data"
    }
   ],
   "source": [
    "display(p1.c)"
   ]
  },
  {
   "cell_type": "markdown",
   "metadata": {},
   "source": [
    "多項式の $k$ 番目の係数"
   ]
  },
  {
   "cell_type": "code",
   "execution_count": 11,
   "metadata": {},
   "outputs": [
    {
     "data": {
      "text/plain": [
       "2"
      ]
     },
     "metadata": {},
     "output_type": "display_data"
    }
   ],
   "source": [
    "display(p1[1])"
   ]
  },
  {
   "cell_type": "markdown",
   "metadata": {},
   "source": [
    "多項式の次数"
   ]
  },
  {
   "cell_type": "code",
   "execution_count": 13,
   "metadata": {},
   "outputs": [
    {
     "data": {
      "image/png": "[encoded data removed]",
      "text/latex": [
       "$$2$$"
      ],
      "text/plain": [
       "2"
      ]
     },
     "metadata": {},
     "output_type": "display_data"
    }
   ],
   "source": [
    "display(p1.order)"
   ]
  },
  {
   "cell_type": "markdown",
   "metadata": {},
   "source": [
    "多項式の評価"
   ]
  },
  {
   "cell_type": "code",
   "execution_count": 14,
   "metadata": {},
   "outputs": [
    {
     "data": {
      "text/plain": [
       "38"
      ]
     },
     "metadata": {},
     "output_type": "display_data"
    },
    {
     "data": {
      "text/plain": [
       "38"
      ]
     },
     "metadata": {},
     "output_type": "display_data"
    }
   ],
   "source": [
    "display(np.polyval(p1, 5))\n",
    "display(p1(5))"
   ]
  },
  {
   "cell_type": "markdown",
   "metadata": {},
   "source": [
    "多項式の和"
   ]
  },
  {
   "cell_type": "code",
   "execution_count": 15,
   "metadata": {},
   "outputs": [
    {
     "data": {
      "text/plain": [
       "poly1d([2, 3, 5, 7, 9])"
      ]
     },
     "metadata": {},
     "output_type": "display_data"
    }
   ],
   "source": [
    "display(np.polyadd(p1, p2))"
   ]
  },
  {
   "cell_type": "markdown",
   "metadata": {},
   "source": [
    "多項式の差: 第1引数 - 第2引数"
   ]
  },
  {
   "cell_type": "code",
   "execution_count": 17,
   "metadata": {},
   "outputs": [
    {
     "data": {
      "text/plain": [
       "poly1d([-2, -3, -3, -3, -3])"
      ]
     },
     "metadata": {},
     "output_type": "display_data"
    }
   ],
   "source": [
    "display(np.polysub(p1, p2))"
   ]
  },
  {
   "cell_type": "markdown",
   "metadata": {},
   "source": [
    "多項式の積"
   ]
  },
  {
   "cell_type": "code",
   "execution_count": 19,
   "metadata": {},
   "outputs": [
    {
     "data": {
      "text/plain": [
       "poly1d([ 2,  7, 16, 22, 28, 27, 18])"
      ]
     },
     "metadata": {},
     "output_type": "display_data"
    }
   ],
   "source": [
    "display(np.polymul(p1, p2))"
   ]
  },
  {
   "cell_type": "markdown",
   "metadata": {},
   "source": [
    "普通の積記号でも大丈夫：他も同じ"
   ]
  },
  {
   "cell_type": "code",
   "execution_count": 21,
   "metadata": {},
   "outputs": [
    {
     "data": {
      "text/plain": [
       "poly1d([ 2,  7, 16, 22, 28, 27, 18])"
      ]
     },
     "metadata": {},
     "output_type": "display_data"
    }
   ],
   "source": [
    "display(p1 * p2)"
   ]
  },
  {
   "cell_type": "markdown",
   "metadata": {},
   "source": [
    "多項式のべき"
   ]
  },
  {
   "cell_type": "code",
   "execution_count": 22,
   "metadata": {},
   "outputs": [
    {
     "data": {
      "text/plain": [
       "poly1d([ 1,  4, 10, 12,  9])"
      ]
     },
     "metadata": {},
     "output_type": "display_data"
    }
   ],
   "source": [
    "display(p1 ** 2)"
   ]
  },
  {
   "cell_type": "markdown",
   "metadata": {},
   "source": [
    "多項式の割り算"
   ]
  },
  {
   "cell_type": "code",
   "execution_count": 24,
   "metadata": {},
   "outputs": [
    {
     "data": {
      "text/plain": [
       "(poly1d([ 2., -1.,  0.]), poly1d([ 8.,  6.]))"
      ]
     },
     "metadata": {},
     "output_type": "display_data"
    }
   ],
   "source": [
    "q = np.polydiv(p2, p1)\n",
    "display(q)"
   ]
  },
  {
   "cell_type": "markdown",
   "metadata": {},
   "source": [
    "多項式の商"
   ]
  },
  {
   "cell_type": "code",
   "execution_count": 25,
   "metadata": {},
   "outputs": [
    {
     "data": {
      "text/plain": [
       "poly1d([ 2., -1.,  0.])"
      ]
     },
     "metadata": {},
     "output_type": "display_data"
    }
   ],
   "source": [
    "display(q[0])"
   ]
  },
  {
   "cell_type": "markdown",
   "metadata": {},
   "source": [
    "多項式の割り算：あまり"
   ]
  },
  {
   "cell_type": "code",
   "execution_count": 26,
   "metadata": {},
   "outputs": [
    {
     "data": {
      "text/plain": [
       "poly1d([ 8.,  6.])"
      ]
     },
     "metadata": {},
     "output_type": "display_data"
    }
   ],
   "source": [
    "display(q[1])"
   ]
  },
  {
   "cell_type": "code",
   "execution_count": 8,
   "metadata": {},
   "outputs": [
    {
     "data": {
      "text/plain": [
       "'多項式の導多項式'"
      ]
     },
     "metadata": {},
     "output_type": "display_data"
    },
    {
     "data": {
      "text/plain": [
       "'第 0 導関数'"
      ]
     },
     "metadata": {},
     "output_type": "display_data"
    },
    {
     "data": {
      "text/plain": [
       "poly1d([2, 3, 4, 5, 6])"
      ]
     },
     "metadata": {},
     "output_type": "display_data"
    },
    {
     "data": {
      "text/plain": [
       "'第 1 導関数'"
      ]
     },
     "metadata": {},
     "output_type": "display_data"
    },
    {
     "data": {
      "text/plain": [
       "poly1d([8, 9, 8, 5])"
      ]
     },
     "metadata": {},
     "output_type": "display_data"
    },
    {
     "data": {
      "text/plain": [
       "'第 2 導関数'"
      ]
     },
     "metadata": {},
     "output_type": "display_data"
    },
    {
     "data": {
      "text/plain": [
       "poly1d([24, 18,  8])"
      ]
     },
     "metadata": {},
     "output_type": "display_data"
    },
    {
     "data": {
      "text/plain": [
       "'第 3 導関数'"
      ]
     },
     "metadata": {},
     "output_type": "display_data"
    },
    {
     "data": {
      "text/plain": [
       "poly1d([48, 18])"
      ]
     },
     "metadata": {},
     "output_type": "display_data"
    },
    {
     "data": {
      "text/plain": [
       "'第 4 導関数'"
      ]
     },
     "metadata": {},
     "output_type": "display_data"
    },
    {
     "data": {
      "text/plain": [
       "poly1d([48])"
      ]
     },
     "metadata": {},
     "output_type": "display_data"
    },
    {
     "data": {
      "text/plain": [
       "'第 5 導関数'"
      ]
     },
     "metadata": {},
     "output_type": "display_data"
    },
    {
     "data": {
      "text/plain": [
       "poly1d([ 0.])"
      ]
     },
     "metadata": {},
     "output_type": "display_data"
    }
   ],
   "source": [
    "display('多項式の導多項式')\n",
    "for i in range(0, 6):\n",
    "    display('第 {} 導関数'.format(i))\n",
    "    display(np.polyder(p2, m = i))"
   ]
  },
  {
   "cell_type": "markdown",
   "metadata": {},
   "source": [
    "多項式の積分"
   ]
  },
  {
   "cell_type": "code",
   "execution_count": 27,
   "metadata": {},
   "outputs": [
    {
     "data": {
      "text/plain": [
       "poly1d([ 0.33333333,  1.        ,  3.        ,  0.        ])"
      ]
     },
     "metadata": {},
     "output_type": "display_data"
    }
   ],
   "source": [
    "display(np.polyint(p1))"
   ]
  },
  {
   "cell_type": "markdown",
   "metadata": {},
   "source": [
    "多項式の根"
   ]
  },
  {
   "cell_type": "code",
   "execution_count": 28,
   "metadata": {},
   "outputs": [
    {
     "data": {
      "text/plain": [
       "array([-1.08691531-0.76526803j, -1.08691531+0.76526803j,\n",
       "        0.33691531-1.25867457j,  0.33691531+1.25867457j])"
      ]
     },
     "metadata": {},
     "output_type": "display_data"
    },
    {
     "data": {
      "text/plain": [
       "array([-1.08691531-0.76526803j, -1.08691531+0.76526803j,\n",
       "        0.33691531-1.25867457j,  0.33691531+1.25867457j])"
      ]
     },
     "metadata": {},
     "output_type": "display_data"
    }
   ],
   "source": [
    "display(np.sort(np.roots(p2)))\n",
    "display(np.sort((p2.r)))"
   ]
  },
  {
   "cell_type": "markdown",
   "metadata": {},
   "source": [
    "## 配列\n",
    "配列のすべての要素に対して同じ処理ができることがある。\n",
    "高速な上に凄まじく便利なので使い慣れる一択しかない。"
   ]
  },
  {
   "cell_type": "code",
   "execution_count": 29,
   "metadata": {},
   "outputs": [
    {
     "data": {
      "text/plain": [
       "array([   1.,  233.,   21.,  234.,    2.])"
      ]
     },
     "metadata": {},
     "output_type": "display_data"
    }
   ],
   "source": [
    "a = np.array([1.7, 233.3234235, 21, 234.23421, 2.621321])\n",
    "# 配列の全ての数に対して切り捨て、切り上げ、四捨五入\n",
    "display(np.trunc(a))"
   ]
  },
  {
   "cell_type": "code",
   "execution_count": 30,
   "metadata": {},
   "outputs": [
    {
     "data": {
      "text/plain": [
       "array([   2.,  234.,   21.,  235.,    3.])"
      ]
     },
     "metadata": {},
     "output_type": "display_data"
    }
   ],
   "source": [
    "display(np.ceil(a))"
   ]
  },
  {
   "cell_type": "code",
   "execution_count": 31,
   "metadata": {},
   "outputs": [
    {
     "data": {
      "text/plain": [
       "array([   2.,  233.,   21.,  234.,    3.])"
      ]
     },
     "metadata": {},
     "output_type": "display_data"
    }
   ],
   "source": [
    "display(np.around(a))"
   ]
  },
  {
   "cell_type": "markdown",
   "metadata": {},
   "source": [
    "### 関数"
   ]
  },
  {
   "cell_type": "code",
   "execution_count": 33,
   "metadata": {
    "collapsed": true
   },
   "outputs": [],
   "source": [
    "import numpy as np\n",
    "from scipy.special import factorial"
   ]
  },
  {
   "cell_type": "markdown",
   "metadata": {},
   "source": [
    "### 階乗"
   ]
  },
  {
   "cell_type": "code",
   "execution_count": 34,
   "metadata": {},
   "outputs": [
    {
     "data": {
      "image/png": "[encoded data removed]",
      "text/latex": [
       "$$720$$"
      ],
      "text/plain": [
       "720"
      ]
     },
     "metadata": {},
     "output_type": "display_data"
    }
   ],
   "source": [
    "args = np.arange(10)\n",
    "display(np.math.factorial(6))"
   ]
  },
  {
   "cell_type": "markdown",
   "metadata": {},
   "source": [
    "scipy.special の factorial は引数に配列を当てられる: numpy だと駄目らしい"
   ]
  },
  {
   "cell_type": "code",
   "execution_count": 35,
   "metadata": {},
   "outputs": [
    {
     "data": {
      "text/plain": [
       "array([  1.00000000e+00,   1.00000000e+00,   2.00000000e+00,\n",
       "         6.00000000e+00,   2.40000000e+01,   1.20000000e+02,\n",
       "         7.20000000e+02,   5.04000000e+03,   4.03200000e+04,\n",
       "         3.62880000e+05])"
      ]
     },
     "metadata": {},
     "output_type": "display_data"
    }
   ],
   "source": [
    "display(factorial(args))"
   ]
  },
  {
   "cell_type": "markdown",
   "metadata": {},
   "source": [
    "指数"
   ]
  },
  {
   "cell_type": "code",
   "execution_count": 36,
   "metadata": {},
   "outputs": [
    {
     "data": {
      "text/plain": [
       "array([  1.00000000e+00,   1.10517092e+00,   1.22140276e+00,\n",
       "         1.34985881e+00,   1.49182470e+00,   1.64872127e+00,\n",
       "         1.82211880e+00,   2.01375271e+00,   2.22554093e+00,\n",
       "         2.45960311e+00,   2.71828183e+00,   3.00416602e+00,\n",
       "         3.32011692e+00,   3.66929667e+00,   4.05519997e+00,\n",
       "         4.48168907e+00,   4.95303242e+00,   5.47394739e+00,\n",
       "         6.04964746e+00,   6.68589444e+00,   7.38905610e+00,\n",
       "         8.16616991e+00,   9.02501350e+00,   9.97418245e+00,\n",
       "         1.10231764e+01,   1.21824940e+01,   1.34637380e+01,\n",
       "         1.48797317e+01,   1.64446468e+01,   1.81741454e+01,\n",
       "         2.00855369e+01,   2.21979513e+01,   2.45325302e+01,\n",
       "         2.71126389e+01,   2.99641000e+01,   3.31154520e+01,\n",
       "         3.65982344e+01,   4.04473044e+01,   4.47011845e+01,\n",
       "         4.94024491e+01,   5.45981500e+01,   6.03402876e+01,\n",
       "         6.66863310e+01,   7.36997937e+01,   8.14508687e+01,\n",
       "         9.00171313e+01,   9.94843156e+01,   1.09947172e+02,\n",
       "         1.21510418e+02,   1.34289780e+02,   1.48413159e+02,\n",
       "         1.64021907e+02,   1.81272242e+02,   2.00336810e+02,\n",
       "         2.21406416e+02,   2.44691932e+02,   2.70426407e+02,\n",
       "         2.98867401e+02,   3.30299560e+02,   3.65037468e+02,\n",
       "         4.03428793e+02,   4.45857770e+02,   4.92749041e+02,\n",
       "         5.44571910e+02,   6.01845038e+02,   6.65141633e+02,\n",
       "         7.35095189e+02,   8.12405825e+02,   8.97847292e+02,\n",
       "         9.92274716e+02,   1.09663316e+03,   1.21196707e+03,\n",
       "         1.33943076e+03,   1.48029993e+03,   1.63598443e+03,\n",
       "         1.80804241e+03,   1.99819590e+03,   2.20834799e+03,\n",
       "         2.44060198e+03,   2.69728233e+03,   2.98095799e+03,\n",
       "         3.29446808e+03,   3.64095031e+03,   4.02387239e+03,\n",
       "         4.44706675e+03,   4.91476884e+03,   5.43165959e+03,\n",
       "         6.00291222e+03,   6.63424401e+03,   7.33197354e+03,\n",
       "         8.10308393e+03,   8.95529270e+03,   9.89712906e+03,\n",
       "         1.09380192e+04,   1.20883807e+04,   1.33597268e+04,\n",
       "         1.47647816e+04,   1.63176072e+04,   1.80337449e+04,\n",
       "         1.99303704e+04])"
      ]
     },
     "metadata": {},
     "output_type": "display_data"
    }
   ],
   "source": [
    "# np.power(x1, x2)\n",
    "# x1 は底、x2 は指数：両方とも配列を入れられる\n",
    "# いろいろなサンプルは順次追記\n",
    "exponents = np.arange(0, 10, 0.1)\n",
    "powers = np.power(np.e, exponents)\n",
    "display(powers)"
   ]
  },
  {
   "cell_type": "markdown",
   "metadata": {},
   "source": [
    "### 対数\n",
    "\n",
    "自然対数、常用対数、2 進対数の関数がある."
   ]
  },
  {
   "cell_type": "code",
   "execution_count": 37,
   "metadata": {},
   "outputs": [
    {
     "data": {
      "image/png": "[encoded data removed]",
      "text/latex": [
       "$$1.0$$"
      ],
      "text/plain": [
       "1.0"
      ]
     },
     "metadata": {},
     "output_type": "display_data"
    },
    {
     "data": {
      "image/png": "[encoded data removed]",
      "text/latex": [
       "$$1.0$$"
      ],
      "text/plain": [
       "1.0"
      ]
     },
     "metadata": {},
     "output_type": "display_data"
    },
    {
     "data": {
      "image/png": "[encoded data removed]",
      "text/latex": [
       "$$1.0$$"
      ],
      "text/plain": [
       "1.0"
      ]
     },
     "metadata": {},
     "output_type": "display_data"
    }
   ],
   "source": [
    "args = np.arange(0.1, 10, 0.1)\n",
    "display(np.log(np.e))\n",
    "display(np.log10(10))\n",
    "display(np.log2(2))"
   ]
  },
  {
   "cell_type": "markdown",
   "metadata": {},
   "source": [
    "log も配列を食わせて配列を返せる"
   ]
  },
  {
   "cell_type": "code",
   "execution_count": 38,
   "metadata": {},
   "outputs": [
    {
     "name": "stdout",
     "output_type": "stream",
     "text": [
      "[-2.30258509 -1.60943791 -1.2039728  -0.91629073 -0.69314718 -0.51082562\n",
      " -0.35667494 -0.22314355 -0.10536052  0.          0.09531018  0.18232156\n",
      "  0.26236426  0.33647224  0.40546511  0.47000363  0.53062825  0.58778666\n",
      "  0.64185389  0.69314718  0.74193734  0.78845736  0.83290912  0.87546874\n",
      "  0.91629073  0.95551145  0.99325177  1.02961942  1.06471074  1.09861229\n",
      "  1.13140211  1.16315081  1.19392247  1.22377543  1.25276297  1.28093385\n",
      "  1.30833282  1.33500107  1.36097655  1.38629436  1.41098697  1.43508453\n",
      "  1.45861502  1.48160454  1.5040774   1.5260563   1.54756251  1.56861592\n",
      "  1.58923521  1.60943791  1.62924054  1.64865863  1.66770682  1.68639895\n",
      "  1.70474809  1.7227666   1.74046617  1.75785792  1.77495235  1.79175947\n",
      "  1.80828877  1.82454929  1.84054963  1.85629799  1.87180218  1.88706965\n",
      "  1.90210753  1.91692261  1.93152141  1.94591015  1.96009478  1.97408103\n",
      "  1.98787435  2.00148     2.01490302  2.02814825  2.04122033  2.05412373\n",
      "  2.06686276  2.07944154  2.09186406  2.10413415  2.11625551  2.12823171\n",
      "  2.14006616  2.1517622   2.16332303  2.17475172  2.18605128  2.19722458\n",
      "  2.20827441  2.21920348  2.2300144   2.24070969  2.2512918   2.2617631\n",
      "  2.27212589  2.28238239  2.29253476]\n",
      "[-1.         -0.69897    -0.52287875 -0.39794001 -0.30103    -0.22184875\n",
      " -0.15490196 -0.09691001 -0.04575749  0.          0.04139269  0.07918125\n",
      "  0.11394335  0.14612804  0.17609126  0.20411998  0.23044892  0.25527251\n",
      "  0.2787536   0.30103     0.32221929  0.34242268  0.36172784  0.38021124\n",
      "  0.39794001  0.41497335  0.43136376  0.44715803  0.462398    0.47712125\n",
      "  0.49136169  0.50514998  0.51851394  0.53147892  0.54406804  0.5563025\n",
      "  0.56820172  0.5797836   0.59106461  0.60205999  0.61278386  0.62324929\n",
      "  0.63346846  0.64345268  0.65321251  0.66275783  0.67209786  0.68124124\n",
      "  0.69019608  0.69897     0.70757018  0.71600334  0.72427587  0.73239376\n",
      "  0.74036269  0.74818803  0.75587486  0.76342799  0.77085201  0.77815125\n",
      "  0.78532984  0.79239169  0.79934055  0.80617997  0.81291336  0.81954394\n",
      "  0.8260748   0.83250891  0.83884909  0.84509804  0.85125835  0.8573325\n",
      "  0.86332286  0.86923172  0.87506126  0.88081359  0.88649073  0.8920946\n",
      "  0.89762709  0.90308999  0.90848502  0.91381385  0.91907809  0.92427929\n",
      "  0.92941893  0.93449845  0.93951925  0.94448267  0.94939001  0.95424251\n",
      "  0.95904139  0.96378783  0.96848295  0.97312785  0.97772361  0.98227123\n",
      "  0.98677173  0.99122608  0.99563519]\n",
      "[-3.32192809 -2.32192809 -1.73696559 -1.32192809 -1.         -0.73696559\n",
      " -0.51457317 -0.32192809 -0.15200309  0.          0.13750352  0.26303441\n",
      "  0.37851162  0.48542683  0.5849625   0.67807191  0.76553475  0.84799691\n",
      "  0.92599942  1.          1.07038933  1.13750352  1.20163386  1.26303441\n",
      "  1.32192809  1.37851162  1.43295941  1.48542683  1.5360529   1.5849625\n",
      "  1.63226822  1.67807191  1.72246602  1.76553475  1.80735492  1.84799691\n",
      "  1.88752527  1.92599942  1.96347412  2.          2.03562391  2.07038933\n",
      "  2.10433666  2.13750352  2.169925    2.20163386  2.23266076  2.26303441\n",
      "  2.29278175  2.32192809  2.35049725  2.37851162  2.40599236  2.43295941\n",
      "  2.45943162  2.48542683  2.51096192  2.5360529   2.56071495  2.5849625\n",
      "  2.60880924  2.63226822  2.65535183  2.67807191  2.70043972  2.72246602\n",
      "  2.7441611   2.76553475  2.78659636  2.80735492  2.82781902  2.84799691\n",
      "  2.86789646  2.88752527  2.9068906   2.92599942  2.94485845  2.96347412\n",
      "  2.98185265  3.          3.01792191  3.03562391  3.05311134  3.07038933\n",
      "  3.08746284  3.10433666  3.1210154   3.13750352  3.15380534  3.169925\n",
      "  3.18586655  3.20163386  3.21723072  3.23266076  3.24792751  3.26303441\n",
      "  3.27798475  3.29278175  3.30742853]\n"
     ]
    }
   ],
   "source": [
    "print(np.log(args))\n",
    "print(np.log10(args))\n",
    "print(np.log2(args))"
   ]
  },
  {
   "cell_type": "markdown",
   "metadata": {},
   "source": [
    "### sin, cos, tan, arcsin, arccos, arctan などもある！"
   ]
  },
  {
   "cell_type": "markdown",
   "metadata": {},
   "source": [
    "### 度数とラジアンの変換"
   ]
  },
  {
   "cell_type": "code",
   "execution_count": 39,
   "metadata": {
    "collapsed": true
   },
   "outputs": [],
   "source": [
    "# arange で一気に配列を作る\n",
    "degrees = np.arange(0, 181, 0.1)"
   ]
  },
  {
   "cell_type": "markdown",
   "metadata": {},
   "source": [
    "degrees の表示"
   ]
  },
  {
   "cell_type": "code",
   "execution_count": 40,
   "metadata": {},
   "outputs": [
    {
     "data": {
      "text/plain": [
       "array([  0.00000000e+00,   1.00000000e-01,   2.00000000e-01, ...,\n",
       "         1.80700000e+02,   1.80800000e+02,   1.80900000e+02])"
      ]
     },
     "metadata": {},
     "output_type": "display_data"
    }
   ],
   "source": [
    "display(degrees)"
   ]
  },
  {
   "cell_type": "markdown",
   "metadata": {},
   "source": [
    "度数をラジアンに変換"
   ]
  },
  {
   "cell_type": "code",
   "execution_count": 41,
   "metadata": {},
   "outputs": [
    {
     "data": {
      "text/plain": [
       "array([  0.00000000e+00,   1.74532925e-03,   3.49065850e-03, ...,\n",
       "         3.15380996e+00,   3.15555529e+00,   3.15730062e+00])"
      ]
     },
     "metadata": {},
     "output_type": "display_data"
    }
   ],
   "source": [
    "radians = np.deg2rad(degrees)\n",
    "display(radians)"
   ]
  },
  {
   "cell_type": "markdown",
   "metadata": {},
   "source": [
    "ラジアンを度数に変換"
   ]
  },
  {
   "cell_type": "code",
   "execution_count": 42,
   "metadata": {},
   "outputs": [
    {
     "data": {
      "text/plain": [
       "array([  0.00000000e+00,   1.00000000e-01,   2.00000000e-01, ...,\n",
       "         1.80700000e+02,   1.80800000e+02,   1.80900000e+02])"
      ]
     },
     "metadata": {},
     "output_type": "display_data"
    }
   ],
   "source": [
    "display(np.rad2deg(radians))"
   ]
  }
 ],
 "metadata": {
  "anaconda-cloud": {},
  "kernelspec": {
   "display_name": "Python 3",
   "language": "python",
   "name": "python3"
  },
  "language_info": {
   "codemirror_mode": {
    "name": "ipython",
    "version": 3
   },
   "file_extension": ".py",
   "mimetype": "text/x-python",
   "name": "python",
   "nbconvert_exporter": "python",
   "pygments_lexer": "ipython3",
   "version": "3.6.4"
  }
 },
 "nbformat": 4,
 "nbformat_minor": 1
}
