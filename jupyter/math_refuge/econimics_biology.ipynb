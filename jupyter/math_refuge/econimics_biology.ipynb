{
 "cells": [
  {
   "cell_type": "markdown",
   "metadata": {},
   "source": [
    "# マルサス"
   ]
  },
  {
   "cell_type": "markdown",
   "metadata": {},
   "source": [
    "基本は放射性物質の崩壊と同じだからあっさり行こう.\n",
    "\n",
    "\\begin{align}\n",
    " \\frac{dx}{dt}\n",
    " =\n",
    " \\alpha u.\n",
    "\\end{align}\n",
    "厳密解は $x(t) = C_0 e^{\\alpha t}$ だ.\n",
    "初期値を設定すれば $C_0$ はそこから決まる.\n",
    "\n",
    "微分を単純に離散化すると次のようになる.\n",
    "\n",
    "\\begin{align}\n",
    " \\frac{x_{n+1} - x_{n}}{h}\n",
    " =\n",
    " \\alpha x_{n}.\n",
    "\\end{align}\n",
    "\n",
    "整理すると次の通り.\n",
    "\n",
    "\\begin{align}\n",
    " x_{n+1}\n",
    " =\n",
    " x_{n} + \\alpha h x_{n}.\n",
    "\\end{align}\n",
    "\n",
    "オイラー法でコードに落とそう."
   ]
  },
  {
   "cell_type": "code",
   "execution_count": 3,
   "metadata": {
    "collapsed": false,
    "scrolled": true
   },
   "outputs": [
    {
     "data": {
      "image/png": "[encoded data removed]",
      "text/plain": [
       "<matplotlib.figure.Figure at 0x1127c06a0>"
      ]
     },
     "metadata": {},
     "output_type": "display_data"
    }
   ],
   "source": [
    "%matplotlib inline\n",
    "import numpy as np\n",
    "import matplotlib.pyplot as plt\n",
    "\n",
    "def malthus_euler(nt, init = 10):\n",
    "    dt = 2 / (nt - 1)\n",
    "    # 初期条件設定\n",
    "    x = np.zeros(nt)\n",
    "    x[0] = init\n",
    "\n",
    "    # ベクトル計算で一気に計算したい\n",
    "    for i in range(1, nt):\n",
    "        x[i] = x[i-1] + c * dt * x[i-1]\n",
    "\n",
    "    return x\n",
    "\n",
    "# 近次解\n",
    "c = 1\n",
    "init = 1\n",
    "nt = 101\n",
    "x_approx = malthus_euler(nt, init)\n",
    "plt.plot(np.linspace(0, 2, nt), x_approx)\n",
    "\n",
    "# 厳密解\n",
    "t = np.linspace(0, 2, nt)\n",
    "x_exact = init * np.exp(c * t)\n",
    "plt.plot(t, x_exact)\n",
    "\n",
    "# 凡例\n",
    "plt.legend(['approximation', 'exact'])\n",
    "# 描画\n",
    "plt.show()"
   ]
  },
  {
   "cell_type": "markdown",
   "metadata": {},
   "source": [
    "## 放射性物質の崩壊の時との違い\n",
    "\n",
    "`t` が大きくなると厳密解の方が少し大きくなる.\n",
    "指数の肩の符号が違うだけなので放射性物質の崩壊で形式的に時間を負の方に伸ばせば同じようにズレが出てくるはずだ.\n",
    "私の今の感覚だとこのズレが今回のように大きくなるように出るのかどうかまではわからない.\n",
    "\n",
    "何はともあれ区間の分割数 `nt` を大きくしてみたのが次の結果: 具体的には 101 から 1001 にした."
   ]
  },
  {
   "cell_type": "code",
   "execution_count": 4,
   "metadata": {
    "collapsed": false,
    "scrolled": true
   },
   "outputs": [
    {
     "data": {
      "image/png": "[encoded data removed]",
      "text/plain": [
       "<matplotlib.figure.Figure at 0x1178e22e8>"
      ]
     },
     "metadata": {},
     "output_type": "display_data"
    }
   ],
   "source": [
    "# 近次解\n",
    "c = 1\n",
    "init = 1\n",
    "nt = 1001\n",
    "x_approx = malthus_euler(nt, init)\n",
    "plt.plot(np.linspace(0, 2, nt), x_approx)\n",
    "\n",
    "# 厳密解\n",
    "t = np.linspace(0, 2, nt)\n",
    "x_exact = init * np.exp(c * t)\n",
    "plt.plot(t, x_exact)\n",
    "\n",
    "# 凡例\n",
    "plt.legend(['approximation', 'exact'])\n",
    "# 描画\n",
    "plt.show()"
   ]
  },
  {
   "cell_type": "markdown",
   "metadata": {},
   "source": [
    "$nt = 101$ よりも近似の精度が良くなった.\n",
    "この辺は単純に振る舞ってくれるようだ.\n",
    "\n",
    "調和振動子だとオイラー法自体がうまく動かないから注意したい."
   ]
  },
  {
   "cell_type": "markdown",
   "metadata": {
    "collapsed": true
   },
   "source": [
    "# ロジスティック方程式"
   ]
  },
  {
   "cell_type": "markdown",
   "metadata": {},
   "source": [
    "方程式は次の通り.\n",
    "\n",
    "\\begin{align}\n",
    " \\frac{dx}{dt}\n",
    " =\n",
    " (\\alpha - \\beta x) x.\n",
    "\\end{align}\n",
    "\n",
    "厳密解は次の通り.\n",
    "\n",
    "\\begin{align}\n",
    " x(t)\n",
    " =\n",
    " \\frac{\\alpha}{\\beta} \\frac{1}{1 - e^{- \\alpha t}}.\n",
    "\\end{align}\n",
    "\n",
    "近似すると次の通り.\n",
    "\n",
    "\\begin{align}\n",
    " \\frac{x_{n+1} - x_{n}}{h}\n",
    " =\n",
    " (\\alpha - \\beta x_{n}) x_{n}, \\quad\n",
    " x_{n+1}\n",
    " =\n",
    " x_n + h (\\alpha - \\beta x_{n}) x_{n}.\n",
    "\\end{align}\n",
    "\n",
    "では数値的に解いてみよう.\n",
    "とりあえず $\\alpha = 2$, $\\beta = 1$ で計算している."
   ]
  },
  {
   "cell_type": "code",
   "execution_count": 8,
   "metadata": {
    "collapsed": false,
    "scrolled": true
   },
   "outputs": [
    {
     "data": {
      "image/png": "[encoded data removed]",
      "text/plain": [
       "<matplotlib.figure.Figure at 0x117f1c940>"
      ]
     },
     "metadata": {},
     "output_type": "display_data"
    }
   ],
   "source": [
    "%matplotlib inline\n",
    "import numpy as np\n",
    "import matplotlib.pyplot as plt\n",
    "\n",
    "def logistics_euler(nt, init = 10):\n",
    "    dt = T / (nt - 1)\n",
    "    # 初期条件設定\n",
    "    x = np.zeros(nt)\n",
    "    x[0] = init\n",
    "\n",
    "    # ベクトル計算で一気に計算したい\n",
    "    for i in range(1, nt):\n",
    "        x[i] = x[i-1] + dt * (alpha - beta * x[i-1]) * x[i-1]\n",
    "\n",
    "    return x\n",
    "\n",
    "# 近次解\n",
    "alpha = 2\n",
    "beta = 1\n",
    "init = 1\n",
    "nt = 101\n",
    "T = 5 # 時間変化を見る最大値\n",
    "x_approx = logistics_euler(nt, init)\n",
    "plt.plot(np.linspace(0, T, nt), x_approx)\n",
    "\n",
    "# 厳密解\n",
    "t = np.linspace(0, T, nt)\n",
    "x_exact = (alpha / beta) / (1 + np.exp(- alpha * t))\n",
    "plt.plot(t, x_exact)\n",
    "\n",
    "# 凡例\n",
    "plt.legend(['approximation', 'exact'])\n",
    "# 描画\n",
    "plt.show()"
   ]
  },
  {
   "cell_type": "markdown",
   "metadata": {},
   "source": [
    "## 時間の刻みを変えてみる\n",
    "\n",
    "近似解と厳密解にちょっとズレが見える.\n",
    "\n",
    "そこで `nt = 101` から `nt = 1001` にしてみた."
   ]
  },
  {
   "cell_type": "code",
   "execution_count": 9,
   "metadata": {
    "collapsed": false
   },
   "outputs": [
    {
     "data": {
      "image/png": "[encoded data removed]",
      "text/plain": [
       "<matplotlib.figure.Figure at 0x117f3e240>"
      ]
     },
     "metadata": {},
     "output_type": "display_data"
    }
   ],
   "source": [
    "# 近次解\n",
    "alpha = 2\n",
    "beta = 1\n",
    "init = 1\n",
    "nt = 1001\n",
    "T = 5 # 時間変化を見る最大値\n",
    "x_approx = logistics_euler(nt, init)\n",
    "plt.plot(np.linspace(0, T, nt), x_approx)\n",
    "\n",
    "# 厳密解\n",
    "t = np.linspace(0, T, nt)\n",
    "x_exact = (alpha / beta) / (1 + np.exp(- alpha * t))\n",
    "plt.plot(t, x_exact)\n",
    "\n",
    "# 凡例\n",
    "plt.legend(['approximation', 'exact'])\n",
    "# 描画\n",
    "plt.show()"
   ]
  }
 ],
 "metadata": {
  "anaconda-cloud": {},
  "kernelspec": {
   "display_name": "Python [Root]",
   "language": "python",
   "name": "Python [Root]"
  },
  "language_info": {
   "codemirror_mode": {
    "name": "ipython",
    "version": 3
   },
   "file_extension": ".py",
   "mimetype": "text/x-python",
   "name": "python",
   "nbconvert_exporter": "python",
   "pygments_lexer": "ipython3",
   "version": "3.5.1"
  }
 },
 "nbformat": 4,
 "nbformat_minor": 0
}
