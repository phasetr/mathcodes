{
 "cells": [
  {
   "cell_type": "markdown",
   "metadata": {},
   "source": [
    "# 多項式計算ができる"
   ]
  },
  {
   "cell_type": "code",
   "execution_count": 3,
   "metadata": {
    "collapsed": false
   },
   "outputs": [
    {
     "data": {
      "text/plain": [
       "2*x + 1"
      ]
     },
     "execution_count": 3,
     "metadata": {},
     "output_type": "execute_result"
    }
   ],
   "source": [
    "from sympy import Symbol\n",
    "x = Symbol('x')\n",
    "x + x + 1"
   ]
  },
  {
   "cell_type": "code",
   "execution_count": 5,
   "metadata": {
    "collapsed": false
   },
   "outputs": [
    {
     "name": "stdout",
     "output_type": "stream",
     "text": [
      "2*x + 1\n",
      "x**2 + 2*x + 1\n",
      "3**x + x**3 + 3*x**2 + 1\n",
      "(x + 1)**3\n"
     ]
    }
   ],
   "source": [
    "from sympy import Symbol\n",
    "x = Symbol('x')\n",
    "print(x + x + 1)\n",
    "print(x * x + 2 * x + 1)\n",
    "print(x**3 + 3 * x**2 + 3**x + 1)\n",
    "print((x+1)**3)"
   ]
  },
  {
   "cell_type": "markdown",
   "metadata": {},
   "source": [
    "# 変数とシンボルのアルファベットは同じでなくてもいい"
   ]
  },
  {
   "cell_type": "code",
   "execution_count": 9,
   "metadata": {
    "collapsed": false
   },
   "outputs": [
    {
     "name": "stdout",
     "output_type": "stream",
     "text": [
      "2*x + 1\n",
      "x\n",
      "x\n",
      "test\n",
      "test**2 + 2*test + 1\n"
     ]
    }
   ],
   "source": [
    "from sympy import Symbol\n",
    "\n",
    "a = Symbol('x')\n",
    "print(a + a + 1)\n",
    "\n",
    "x = Symbol('x')\n",
    "# 変数がどのアルファベットを表しているか調べる\n",
    "print(a.name)\n",
    "print(x.name)\n",
    "\n",
    "# x, y のように 1 文字でなくてもいい\n",
    "b = Symbol('test')\n",
    "print(b.name)\n",
    "print(b**2 + 2 * b + 1)"
   ]
  },
  {
   "cell_type": "markdown",
   "metadata": {},
   "source": [
    "# 複数のシンボルを一気に定義できる"
   ]
  },
  {
   "cell_type": "code",
   "execution_count": 13,
   "metadata": {
    "collapsed": false
   },
   "outputs": [
    {
     "name": "stdout",
     "output_type": "stream",
     "text": [
      "2*x*y\n",
      "2*x**2\n",
      "(x + 2)*(x + 3)\n"
     ]
    }
   ],
   "source": [
    "from sympy import symbols\n",
    "x,y,z = symbols('x,y,z')\n",
    "s = x * y + x * y\n",
    "print(s)\n",
    "\n",
    "# 簡単な計算なら処理してしまう\n",
    "p = x * (x + x)\n",
    "print(p)\n",
    "\n",
    "# 少し複雑になると展開などの処理はしない\n",
    "p = (x + 2)*(x + 3)\n",
    "print(p)"
   ]
  },
  {
   "cell_type": "markdown",
   "metadata": {},
   "source": [
    "# factor, expand"
   ]
  },
  {
   "cell_type": "code",
   "execution_count": 18,
   "metadata": {
    "collapsed": false
   },
   "outputs": [
    {
     "name": "stdout",
     "output_type": "stream",
     "text": [
      "(x - y)*(x + y)\n",
      "x**2 - y**2\n",
      "(x + y)**3\n",
      "x**3 + 3*x**2*y + 3*x*y**2 + y**3\n"
     ]
    }
   ],
   "source": [
    "from sympy import Symbol\n",
    "from sympy import factor, expand\n",
    "x = Symbol('x')\n",
    "y = Symbol('y')\n",
    "\n",
    "# 因数分解\n",
    "expr = x**2 - y**2\n",
    "f_tmp = factor(expr)\n",
    "print(f_tmp)\n",
    "\n",
    "# 展開\n",
    "e_tmp = expand(f_tmp)\n",
    "print(e_tmp)\n",
    "\n",
    "# 3 次式\n",
    "expr = x**3 + 3*x**2*y + 3*x*y**2 + y**3\n",
    "factors = factor(expr)\n",
    "print(factors)\n",
    "print(expand(factors))"
   ]
  },
  {
   "cell_type": "markdown",
   "metadata": {},
   "source": [
    "# prettyprint\n",
    "\n",
    "http://docs.sympy.org/dev/tutorial/printing.html を見ると tex が入っていたりすると tex のタイプセットで出力してくれる模様。"
   ]
  },
  {
   "cell_type": "code",
   "execution_count": 20,
   "metadata": {
    "collapsed": false
   },
   "outputs": [
    {
     "name": "stdout",
     "output_type": "stream",
     "text": [
      "x**2 + 2*x*y + y**2\n",
      " 2            2\n",
      "x  + 2⋅x⋅y + y \n",
      "   2          \n",
      "2⋅x  + 2⋅x + 1\n"
     ]
    }
   ],
   "source": [
    "from sympy import pprint\n",
    "from sympy import Symbol\n",
    "from sympy import factor, expand\n",
    "x = Symbol('x')\n",
    "y = Symbol('y')\n",
    "\n",
    "expr = x*x + 2*x*y + y*y\n",
    "print(expr)\n",
    "pprint(expr)\n",
    "\n",
    "expr = 1 + 2*x + 2*x**2\n",
    "pprint(expr)"
   ]
  },
  {
   "cell_type": "markdown",
   "metadata": {},
   "source": [
    "## 多項式の順序反転\n",
    "http://docs.sympy.org/dev/tutorial/printing.html を見るとオプションいろいろ書いてある。"
   ]
  },
  {
   "cell_type": "code",
   "execution_count": 21,
   "metadata": {
    "collapsed": false
   },
   "outputs": [
    {
     "name": "stdout",
     "output_type": "stream",
     "text": [
      "             2\n",
      "1 + 2⋅x + 2⋅x \n"
     ]
    }
   ],
   "source": [
    "from sympy import init_printing\n",
    "init_printing(order='rev-lex')\n",
    "pprint(expr)"
   ]
  },
  {
   "cell_type": "markdown",
   "metadata": {},
   "source": [
    "# 級数の表示"
   ]
  },
  {
   "cell_type": "code",
   "execution_count": 23,
   "metadata": {
    "collapsed": false
   },
   "outputs": [
    {
     "name": "stdout",
     "output_type": "stream",
     "text": [
      "     2    3    4    5    6    7    8    9    10\n",
      "    x    x    x    x    x    x    x    x    x  \n",
      "x + ── + ── + ── + ── + ── + ── + ── + ── + ───\n",
      "    2    3    4    5    6    7    8    9     10\n"
     ]
    }
   ],
   "source": [
    "from sympy import Symbol, pprint, init_printing\n",
    "def get_some_series(n):\n",
    "    \"\"\"n 次の適当な級数\"\"\"\n",
    "    x = Symbol('x')\n",
    "    series = x\n",
    "    for i in range(2, n + 1):\n",
    "        series = series + (x ** i) / i\n",
    "\n",
    "    return series\n",
    "\n",
    "n = 10\n",
    "series = get_some_series(int(n))\n",
    "\n",
    "# 逆順プリントを強制\n",
    "init_printing(order='rev-lex')\n",
    "pprint(series)"
   ]
  },
  {
   "cell_type": "markdown",
   "metadata": {},
   "source": [
    "# 代入"
   ]
  },
  {
   "cell_type": "code",
   "execution_count": 26,
   "metadata": {
    "collapsed": false
   },
   "outputs": [
    {
     "name": "stdout",
     "output_type": "stream",
     "text": [
      "9\n",
      "       2                  2\n",
      "(1 - y)  + 2⋅y⋅(1 - y) + y \n"
     ]
    }
   ],
   "source": [
    "from sympy import Symbol, pprint\n",
    "x = Symbol('x')\n",
    "y = Symbol('y')\n",
    "\n",
    "expr = x*x + x*y + x*y + y*y\n",
    "res = expr.subs({x:1, y:2})\n",
    "pprint(res)\n",
    "\n",
    "# 文字も代入できる: 辞書で指定\n",
    "pprint(expr.subs({x:1-y}))"
   ]
  },
  {
   "cell_type": "markdown",
   "metadata": {},
   "source": [
    "# 多項式を簡素に"
   ]
  },
  {
   "cell_type": "code",
   "execution_count": 30,
   "metadata": {
    "collapsed": false
   },
   "outputs": [
    {
     "name": "stdout",
     "output_type": "stream",
     "text": [
      "       2                  2\n",
      "(1 - y)  + 2⋅y⋅(1 - y) + y \n",
      "1\n"
     ]
    }
   ],
   "source": [
    "from sympy import Symbol, pprint\n",
    "from sympy import simplify\n",
    "x = Symbol('x')\n",
    "y = Symbol('y')\n",
    "\n",
    "expr = x*x + x*y + x*y + y*y\n",
    "\n",
    "expr_subs = expr.subs({x:1-y})\n",
    "pprint(expr_subs)\n",
    "pprint(simplify(expr_subs))"
   ]
  },
  {
   "cell_type": "markdown",
   "metadata": {},
   "source": [
    "# 級数の評価"
   ]
  },
  {
   "cell_type": "code",
   "execution_count": 36,
   "metadata": {
    "collapsed": false,
    "scrolled": true
   },
   "outputs": [
    {
     "name": "stdout",
     "output_type": "stream",
     "text": [
      "x = 3 での級数の値: 1707/20\n"
     ]
    }
   ],
   "source": [
    "from sympy import Symbol, pprint, init_printing\n",
    "def get_some_series(n, x_value):\n",
    "    \"\"\"ある有限級数の表示\"\"\"\n",
    "    x = Symbol('x')\n",
    "    series = x\n",
    "    for i in range(2, n + 1):\n",
    "        series = series + (x ** i) / i\n",
    "        \n",
    "    return series\n",
    "\n",
    "\n",
    "# Initialize printing system with reverse order\n",
    "init_printing(order='rev-lex')\n",
    "\n",
    "# 何項目まで表示させるか\n",
    "n = 5\n",
    "# 評価する x の値\n",
    "x_value = 3\n",
    "\n",
    "# 級数の値の評価\n",
    "series = get_some_series(n, x_value)\n",
    "series_value = series.subs({x:x_value})\n",
    "print('x = {0} での級数の値: {1}'.format(x_value, series_value))"
   ]
  },
  {
   "cell_type": "markdown",
   "metadata": {},
   "source": [
    "# 文字列を式に"
   ]
  },
  {
   "cell_type": "code",
   "execution_count": 39,
   "metadata": {
    "collapsed": false,
    "scrolled": true
   },
   "outputs": [
    {
     "name": "stdout",
     "output_type": "stream",
     "text": [
      " 3    2      \n",
      "x  + x  + 5⋅x\n",
      "   3      2       \n",
      "2⋅x  + 2⋅x  + 10⋅x\n"
     ]
    }
   ],
   "source": [
    "from sympy import sympify, pprint\n",
    "init_printing(order='lex')\n",
    "expr = \"x**2 + 3*x + x**3 + 2*x\"\n",
    "expr = sympify(expr)\n",
    "pprint(expr)\n",
    "\n",
    "# 式全体を 2 倍にできる\n",
    "pprint(2 * expr)"
   ]
  },
  {
   "cell_type": "markdown",
   "metadata": {},
   "source": [
    "# 方程式を解く"
   ]
  },
  {
   "cell_type": "code",
   "execution_count": 40,
   "metadata": {
    "collapsed": false,
    "scrolled": true
   },
   "outputs": [
    {
     "name": "stdout",
     "output_type": "stream",
     "text": [
      "[12]\n"
     ]
    }
   ],
   "source": [
    "from sympy import Symbol, solve\n",
    "x = Symbol('x')\n",
    "expr = x - 5 - 7\n",
    "sol = solve(expr)\n",
    "pprint(sol)"
   ]
  },
  {
   "cell_type": "markdown",
   "metadata": {},
   "source": [
    "## 二次方程式"
   ]
  },
  {
   "cell_type": "code",
   "execution_count": 42,
   "metadata": {
    "collapsed": false
   },
   "outputs": [
    {
     "name": "stdout",
     "output_type": "stream",
     "text": [
      "[{x: -4}, {x: -1}]\n",
      "[{x: -1/2 - sqrt(3)*I/2}, {x: -1/2 + sqrt(3)*I/2}]\n"
     ]
    }
   ],
   "source": [
    "from sympy import solve\n",
    "x = Symbol('x')\n",
    "expr = x**2 + 5*x + 4\n",
    "print(solve(expr, dict=True))\n",
    "\n",
    "x = Symbol('x')\n",
    "expr = x**2 + x + 1\n",
    "print(solve(expr, dict=True))"
   ]
  },
  {
   "cell_type": "markdown",
   "metadata": {},
   "source": []
  },
  {
   "cell_type": "markdown",
   "metadata": {},
   "source": [
    "## 一般の二次方程式"
   ]
  },
  {
   "cell_type": "code",
   "execution_count": 44,
   "metadata": {
    "collapsed": false
   },
   "outputs": [
    {
     "name": "stdout",
     "output_type": "stream",
     "text": [
      "⎡⎧           _____________⎫  ⎧    ⎛       _____________⎞ ⎫⎤\n",
      "⎢⎪          ╱           2 ⎪  ⎪    ⎜      ╱           2 ⎟ ⎪⎥\n",
      "⎢⎨   -b + ╲╱  -4⋅a⋅c + b  ⎬  ⎨   -⎝b + ╲╱  -4⋅a⋅c + b  ⎠ ⎬⎥\n",
      "⎢⎪x: ─────────────────────⎪, ⎪x: ────────────────────────⎪⎥\n",
      "⎣⎩            2⋅a         ⎭  ⎩             2⋅a           ⎭⎦\n"
     ]
    }
   ],
   "source": [
    "x = Symbol('x')\n",
    "a = Symbol('a')\n",
    "b = Symbol('b')\n",
    "c = Symbol('c')\n",
    "expr = a*x*x + b*x + c\n",
    "\n",
    "pprint(solve(expr, x, dict=True))"
   ]
  },
  {
   "cell_type": "markdown",
   "metadata": {},
   "source": [
    "## 連立一次方程式"
   ]
  },
  {
   "cell_type": "code",
   "execution_count": 46,
   "metadata": {
    "collapsed": false
   },
   "outputs": [
    {
     "name": "stdout",
     "output_type": "stream",
     "text": [
      "[{x: 24/5, y: -6/5}]\n"
     ]
    }
   ],
   "source": [
    "x = Symbol('x')\n",
    "y = Symbol('y')\n",
    "expr1 = 2*x + 3*y - 6\n",
    "expr2 = 3*x + 2*y - 12\n",
    "pprint(solve((expr1, expr2), dict=True))"
   ]
  },
  {
   "cell_type": "markdown",
   "metadata": {},
   "source": [
    "# Sympy を使ったプロット"
   ]
  },
  {
   "cell_type": "code",
   "execution_count": 49,
   "metadata": {
    "collapsed": false,
    "scrolled": true
   },
   "outputs": [
    {
     "data": {
      "image/png": "[encoded data removed]",
      "text/plain": [
       "<matplotlib.figure.Figure at 0xad875c0>"
      ]
     },
     "metadata": {},
     "output_type": "display_data"
    },
    {
     "data": {
      "text/plain": [
       "<sympy.plotting.plot.Plot at 0xad87da0>"
      ]
     },
     "execution_count": 49,
     "metadata": {},
     "output_type": "execute_result"
    }
   ],
   "source": [
    "%matplotlib inline\n",
    "from sympy.plotting import plot\n",
    "from sympy import Symbol\n",
    "x = Symbol('x')\n",
    "plot(2 * x + 3)"
   ]
  },
  {
   "cell_type": "code",
   "execution_count": 51,
   "metadata": {
    "collapsed": false
   },
   "outputs": [
    {
     "data": {
      "image/png": "[encoded data removed]",
      "text/plain": [
       "<matplotlib.figure.Figure at 0xada9c50>"
      ]
     },
     "metadata": {},
     "output_type": "display_data"
    },
    {
     "data": {
      "text/plain": [
       "<sympy.plotting.plot.Plot at 0xad894e0>"
      ]
     },
     "execution_count": 51,
     "metadata": {},
     "output_type": "execute_result"
    }
   ],
   "source": [
    "## 定義域の制限\n",
    "%matplotlib inline\n",
    "from sympy.plotting import plot\n",
    "from sympy import Symbol\n",
    "x = Symbol('x')\n",
    "plot(2 * x + 3, (x, -5, 5), title='A Line', xlabel='x', ylabel='2x+3')"
   ]
  },
  {
   "cell_type": "markdown",
   "metadata": {},
   "source": [
    "## 陰関数の表示"
   ]
  },
  {
   "cell_type": "code",
   "execution_count": 54,
   "metadata": {
    "collapsed": false,
    "scrolled": false
   },
   "outputs": [
    {
     "name": "stdout",
     "output_type": "stream",
     "text": [
      "x**2 + y**3 + 2\n",
      "[(-x**2 - 2)**(1/3), -(-x**2 - 2)**(1/3)/2 - sqrt(3)*I*(-x**2 - 2)**(1/3)/2, -(-x**2 - 2)**(1/3)/2 + sqrt(3)*I*(-x**2 - 2)**(1/3)/2]\n"
     ]
    },
    {
     "data": {
      "image/png": "[encoded data removed]",
      "text/plain": [
       "<matplotlib.figure.Figure at 0xd8fe4a8>"
      ]
     },
     "metadata": {},
     "output_type": "display_data"
    },
    {
     "data": {
      "text/plain": [
       "<sympy.plotting.plot.Plot at 0xd8af4a8>"
      ]
     },
     "execution_count": 54,
     "metadata": {},
     "output_type": "execute_result"
    }
   ],
   "source": [
    "%matplotlib inline\n",
    "from sympy import Symbol, sympify, solve\n",
    "from sympy.plotting import plot\n",
    "\n",
    "expr = \"x**2 + y**3 + 2\"\n",
    "expr = sympify(expr)\n",
    "print(expr)\n",
    "y = Symbol('y')\n",
    "solutions = solve(expr, y)\n",
    "print(solutions)\n",
    "expr_y = solutions[0]\n",
    "plot(expr_y)"
   ]
  },
  {
   "cell_type": "markdown",
   "metadata": {},
   "source": [
    "## 複数の関数のプロット"
   ]
  },
  {
   "cell_type": "code",
   "execution_count": 55,
   "metadata": {
    "collapsed": false,
    "scrolled": true
   },
   "outputs": [
    {
     "data": {
      "image/png": "[encoded data removed]",
      "text/plain": [
       "<matplotlib.figure.Figure at 0xd8fe668>"
      ]
     },
     "metadata": {},
     "output_type": "display_data"
    },
    {
     "data": {
      "text/plain": [
       "<sympy.plotting.plot.Plot at 0xabbe6a0>"
      ]
     },
     "execution_count": 55,
     "metadata": {},
     "output_type": "execute_result"
    }
   ],
   "source": [
    "%matplotlib inline\n",
    "from sympy.plotting import plot\n",
    "from sympy import Symbol\n",
    "x = Symbol('x')\n",
    "plot(2*x+3, 3*x+1)"
   ]
  },
  {
   "cell_type": "code",
   "execution_count": 56,
   "metadata": {
    "collapsed": false
   },
   "outputs": [
    {
     "data": {
      "image/png": "[encoded data removed]",
      "text/plain": [
       "<matplotlib.figure.Figure at 0xd94e978>"
      ]
     },
     "metadata": {},
     "output_type": "display_data"
    }
   ],
   "source": [
    "from sympy.plotting import plot\n",
    "from sympy import Symbol\n",
    "x = Symbol('x')\n",
    "p = plot(2*x+3, 3*x+1, legend=True, show=False)\n",
    "p[0].line_color = 'b'\n",
    "p[1].line_color = 'r'\n",
    "p.show()"
   ]
  },
  {
   "cell_type": "markdown",
   "metadata": {},
   "source": [
    "## 不等式を解く"
   ]
  },
  {
   "cell_type": "code",
   "execution_count": 57,
   "metadata": {
    "collapsed": false
   },
   "outputs": [
    {
     "name": "stdout",
     "output_type": "stream",
     "text": [
      "[(-oo, -2), (2, oo)]\n"
     ]
    }
   ],
   "source": [
    "from sympy import Symbol, sympify, SympifyError\n",
    "from sympy import solve_poly_inequality, solve_rational_inequalities\n",
    "from sympy import solve_univariate_inequality, Poly\n",
    "from sympy.core.relational import Relational, Equality\n",
    "def isolve(ineq_obj):\n",
    "    \"\"\"不等式を解く\"\"\"\n",
    "    x = Symbol('x')\n",
    "    # 不等式の左辺を取る\n",
    "    expr = ineq_obj.lhs\n",
    "    # 関係演算子の取得\n",
    "    rel = ineq_obj.rel_op\n",
    "\n",
    "    if expr.is_polynomial():\n",
    "        # 式が多項式の場合\n",
    "        p = Poly(expr, x)\n",
    "        return solve_poly_inequality(p, rel)\n",
    "    elif expr.is_rational_function():\n",
    "        # 式が有理式の場合\n",
    "        p1, p2 = expr.as_numer_denom()\n",
    "        num = Poly(p1)\n",
    "        denom = Poly(p2)\n",
    "        return solve_rational_inequalities([[((num, denom), rel)]])\n",
    "    else:\n",
    "        return solve_univariate_inequality(ineq_obj , x, relational=False)\n",
    "\n",
    "ineq = \"x**2 - 4 > 0\"\n",
    "ineq_obj = sympify(ineq)\n",
    "print(isolve(ineq_obj))"
   ]
  }
 ],
 "metadata": {
  "anaconda-cloud": {},
  "kernelspec": {
   "display_name": "Python [Root]",
   "language": "python",
   "name": "Python [Root]"
  },
  "language_info": {
   "codemirror_mode": {
    "name": "ipython",
    "version": 3
   },
   "file_extension": ".py",
   "mimetype": "text/x-python",
   "name": "python",
   "nbconvert_exporter": "python",
   "pygments_lexer": "ipython3",
   "version": "3.5.1"
  }
 },
 "nbformat": 4,
 "nbformat_minor": 0
}
