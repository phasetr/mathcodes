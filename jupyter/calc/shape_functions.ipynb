{
 "cells": [
  {
   "cell_type": "code",
   "execution_count": 1,
   "metadata": {},
   "outputs": [],
   "source": [
    "from sympy import *\n",
    "from IPython.display import display\n",
    "\n",
    "init_printing()\n",
    "\n",
    "# シンボル定義\n",
    "k,x,y,z = symbols('k,x,y,z')\n",
    "n1,n2,n3 = symbols('n^1, n^2, n^3')\n",
    "l = symbols('l')"
   ]
  },
  {
   "cell_type": "code",
   "execution_count": 7,
   "metadata": {
    "scrolled": true
   },
   "outputs": [
    {
     "data": {
      "image/png": "[encoded data removed]",
      "text/latex": [
       "$$\\left(\\frac{n^{1}}{8} - \\frac{1}{8}\\right) \\left(- n^{2} + 1\\right) \\left(- n^{3} + 1\\right) \\left(n^{1} + n^{2} + n^{3} + 2\\right)$$"
      ],
      "text/plain": [
       "⎛n¹   1⎞                                       \n",
       "⎜── - ─⎟⋅(-n² + 1)⋅(-n³ + 1)⋅(n¹ + n² + n³ + 2)\n",
       "⎝8    8⎠                                       "
      ]
     },
     "metadata": {},
     "output_type": "display_data"
    },
    {
     "data": {
      "image/png": "[encoded data removed]",
      "text/latex": [
       "$$\\frac{1}{8} \\left(n^{2} - 1\\right) \\left(n^{3} - 1\\right) \\left(2 n^{1} + n^{2} + n^{3} + 1\\right)$$"
      ],
      "text/plain": [
       "(n² - 1)⋅(n³ - 1)⋅(2⋅n¹ + n² + n³ + 1)\n",
       "──────────────────────────────────────\n",
       "                  8                   "
      ]
     },
     "metadata": {},
     "output_type": "display_data"
    }
   ],
   "source": [
    "l = - Rational(1,8) * (1-n1) * (1-n2) * (1-n3) * (2 + n1 + n2 + n3)\n",
    "display(l)\n",
    "l_n1 = diff(l, n1)\n",
    "display(simplify(l_n1))"
   ]
  },
  {
   "cell_type": "code",
   "execution_count": 11,
   "metadata": {},
   "outputs": [
    {
     "data": {
      "image/png": "[encoded data removed]",
      "text/latex": [
       "$$\\frac{1}{8} \\left(n^{2} + 1\\right) \\left(n^{3} + 1\\right) \\left(2 n^{1} + n^{2} + n^{3} - 1\\right)$$"
      ],
      "text/plain": [
       "(n² + 1)⋅(n³ + 1)⋅(2⋅n¹ + n² + n³ - 1)\n",
       "──────────────────────────────────────\n",
       "                  8                   "
      ]
     },
     "metadata": {},
     "output_type": "display_data"
    },
    {
     "data": {
      "image/png": "[encoded data removed]",
      "text/latex": [
       "$$\\frac{1}{8} \\left(n^{2} - 1\\right) \\left(n^{3} - 1\\right) \\left(2 n^{1} + n^{2} + n^{3} + 1\\right)$$"
      ],
      "text/plain": [
       "(n² - 1)⋅(n³ - 1)⋅(2⋅n¹ + n² + n³ + 1)\n",
       "──────────────────────────────────────\n",
       "                  8                   "
      ]
     },
     "metadata": {},
     "output_type": "display_data"
    }
   ],
   "source": [
    "sf1 = (1+n2) * (1 + n3) * (-1 + 2 * n1 + n2 + n3) / 8\n",
    "display(sf1)\n",
    "N1_1_alpha1 = simplify(- sf1.subs([(n1, -n1), (n2, -n2), (n3, -n3)]))\n",
    "display(N1_1_alpha1)"
   ]
  }
 ],
 "metadata": {
  "kernelspec": {
   "display_name": "Python [default]",
   "language": "python",
   "name": "python3"
  },
  "language_info": {
   "codemirror_mode": {
    "name": "ipython",
    "version": 3
   },
   "file_extension": ".py",
   "mimetype": "text/x-python",
   "name": "python",
   "nbconvert_exporter": "python",
   "pygments_lexer": "ipython3",
   "version": "3.6.0"
  }
 },
 "nbformat": 4,
 "nbformat_minor": 2
}
