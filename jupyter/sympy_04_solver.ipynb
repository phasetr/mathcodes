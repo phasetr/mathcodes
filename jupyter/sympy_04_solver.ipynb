{
 "cells": [
  {
   "cell_type": "markdown",
   "metadata": {},
   "source": [
    "# この notebook を読み進める前に\n",
    "TeX 出力のためには次のコードを読み込ませること。"
   ]
  },
  {
   "cell_type": "code",
   "execution_count": 1,
   "metadata": {
    "collapsed": true
   },
   "outputs": [],
   "source": [
    "from sympy import *\n",
    "from IPython.display import display\n",
    "init_printing(use_unicode=True)\n",
    "\n",
    " # シンボル定義\n",
    "a, b, x, y, z, t = symbols('a b x y z t')\n",
    "x0 = symbols('x_0')\n",
    "f, g, h = symbols('f g h', cls=Function)"
   ]
  },
  {
   "cell_type": "markdown",
   "metadata": {},
   "source": [
    "# 注意\n",
    "sympy_01_symbol_eval_printing.ipynb や公式の[ここ](http://docs.sympy.org/latest/tutorial/gotchas.html#tutorial-gotchas-equals)を見て \n",
    "Sympy のシンボリックな方程式は `=` や `==` ではなく `Eq` で表すことを確認しておこう."
   ]
  },
  {
   "cell_type": "code",
   "execution_count": 3,
   "metadata": {},
   "outputs": [
    {
     "data": {
      "image/png": "[encoded data removed]",
      "text/latex": [
       "$$x = y$$"
      ],
      "text/plain": [
       "x = y"
      ]
     },
     "metadata": {},
     "output_type": "display_data"
    }
   ],
   "source": [
    "display(Eq(x, y))"
   ]
  },
  {
   "cell_type": "markdown",
   "metadata": {},
   "source": [
    "もっと簡単な方法もある.\n",
    "Sympy では `Eq` にない全ての式は解くのに使う関数によって自動的に 0 と判定される.\n",
    "$a = b$ は $a - b = 0$ と同値なので,\n",
    "これを使えば `x == y` の代わりに単純に `x-y` が使える."
   ]
  },
  {
   "cell_type": "code",
   "execution_count": 2,
   "metadata": {},
   "outputs": [
    {
     "data": {
      "image/png": "[encoded data removed]",
      "text/latex": [
       "$$\\left\\{-1, 1\\right\\}$$"
      ],
      "text/plain": [
       "{-1, 1}"
      ]
     },
     "metadata": {},
     "output_type": "display_data"
    }
   ],
   "source": [
    "display(solveset(Eq(x**2, 1), x))"
   ]
  },
  {
   "cell_type": "code",
   "execution_count": 3,
   "metadata": {},
   "outputs": [
    {
     "data": {
      "image/png": "[encoded data removed]",
      "text/latex": [
       "$$\\left\\{-1, 1\\right\\}$$"
      ],
      "text/plain": [
       "{-1, 1}"
      ]
     },
     "metadata": {},
     "output_type": "display_data"
    }
   ],
   "source": [
    "display(solveset(Eq(x**2 - 1, 0), x))"
   ]
  },
  {
   "cell_type": "code",
   "execution_count": 4,
   "metadata": {},
   "outputs": [
    {
     "data": {
      "image/png": "[encoded data removed]",
      "text/latex": [
       "$$\\left\\{-1, 1\\right\\}$$"
      ],
      "text/plain": [
       "{-1, 1}"
      ]
     },
     "metadata": {},
     "output_type": "display_data"
    }
   ],
   "source": [
    "display(solveset(x**2 - 1, x))"
   ]
  },
  {
   "cell_type": "markdown",
   "metadata": {},
   "source": [
    "解きたい方程式がはじめから $= 0$ なら特に便利.\n",
    "`solveset(Eq(expr, 0), x)` と書く代わりに単に `solveset(expr, x)` と書けばいい."
   ]
  },
  {
   "cell_type": "markdown",
   "metadata": {},
   "source": [
    "# 方程式を代数的に解く\n",
    "代数方程式を解くときの主力は `solveset()` だ.\n",
    "`solveset()` の構文は次の通り: `solveset(equation, variable=None, domain=S.Complexes)`.\n",
    "ほかにも `solve()` という関数もある:\n",
    "構文は `solve(equations, variables)` だ.\n",
    "しかし `solveset()`  を使った方がいい (らしい)."
   ]
  },
  {
   "cell_type": "markdown",
   "metadata": {},
   "source": [
    "単独の方程式を解くとき, `solveset()` の結果は `FiniteSet` か `Interval` か `ImageSet` だ."
   ]
  },
  {
   "cell_type": "code",
   "execution_count": 5,
   "metadata": {},
   "outputs": [
    {
     "data": {
      "image/png": "[encoded data removed]",
      "text/latex": [
       "$$\\left\\{0, 1\\right\\}$$"
      ],
      "text/plain": [
       "{0, 1}"
      ]
     },
     "metadata": {},
     "output_type": "display_data"
    }
   ],
   "source": [
    "display(solveset(x**2 - x, x))"
   ]
  },
  {
   "cell_type": "code",
   "execution_count": 6,
   "metadata": {},
   "outputs": [
    {
     "data": {
      "image/png": "[encoded data removed]",
      "text/latex": [
       "$$\\left\\{- i, i\\right\\}$$"
      ],
      "text/plain": [
       "{-ⅈ, ⅈ}"
      ]
     },
     "metadata": {},
     "output_type": "display_data"
    }
   ],
   "source": [
    "display(solveset(x**2 + 1, x))"
   ]
  },
  {
   "cell_type": "code",
   "execution_count": 7,
   "metadata": {},
   "outputs": [
    {
     "data": {
      "image/png": "[encoded data removed]",
      "text/latex": [
       "$$\\mathbb{R}$$"
      ],
      "text/plain": [
       "ℝ"
      ]
     },
     "metadata": {},
     "output_type": "display_data"
    }
   ],
   "source": [
    "display(solveset(x - x, x, domain=S.Reals))"
   ]
  },
  {
   "cell_type": "code",
   "execution_count": 8,
   "metadata": {},
   "outputs": [
    {
     "data": {
      "image/png": "[encoded data removed]",
      "text/latex": [
       "$$\\left\\{2 n \\pi + \\frac{\\pi}{2}\\; |\\; n \\in \\mathbb{Z}\\right\\}$$"
      ],
      "text/plain": [
       "⎧        π        ⎫\n",
       "⎨2⋅n⋅π + ─ | n ∊ ℤ⎬\n",
       "⎩        2        ⎭"
      ]
     },
     "metadata": {},
     "output_type": "display_data"
    }
   ],
   "source": [
    "display(solveset(sin(x) - 1, x, domain=S.Reals))"
   ]
  },
  {
   "cell_type": "code",
   "execution_count": 9,
   "metadata": {},
   "outputs": [
    {
     "data": {
      "image/png": "[encoded data removed]",
      "text/latex": [
       "$$\\left\\{2 x\\; |\\; x \\in \\mathbb{Z}\\right\\}$$"
      ],
      "text/plain": [
       "{2⋅x | x ∊ ℤ}"
      ]
     },
     "metadata": {},
     "output_type": "display_data"
    }
   ],
   "source": [
    "a = imageset(Lambda(x, 2*x), S.Integers)\n",
    "display(a)"
   ]
  },
  {
   "cell_type": "markdown",
   "metadata": {},
   "source": [
    "階がない時は `EmptySet` が返る.\n",
    "解を見つけられない場合は `ConditionSet` が返る."
   ]
  },
  {
   "cell_type": "code",
   "execution_count": 13,
   "metadata": {},
   "outputs": [
    {
     "data": {
      "image/png": "[encoded data removed]",
      "text/latex": [
       "$$\\emptyset$$"
      ],
      "text/plain": [
       "∅"
      ]
     },
     "metadata": {},
     "output_type": "display_data"
    },
    {
     "data": {
      "image/png": "[encoded data removed]",
      "text/latex": [
       "$$\\left\\{x\\; |\\; x \\in \\mathbb{C} \\wedge - x + \\cos{\\left (x \\right )} = 0 \\right\\}$$"
      ],
      "text/plain": [
       "{x | x ∊ ℂ ∧ -x + cos(x) = 0}"
      ]
     },
     "metadata": {},
     "output_type": "display_data"
    }
   ],
   "source": [
    "display(solveset(exp(x), x))     # No solution exists\n",
    "display(solveset(cos(x) - x, x))  # Not able to find solution"
   ]
  },
  {
   "cell_type": "markdown",
   "metadata": {},
   "source": [
    "`solveset()` モジュールの中で 1 次方程式系を解くときは `linsolve()` が使われる.\n",
    "`linsolve()` の構文は次の通り."
   ]
  },
  {
   "cell_type": "markdown",
   "metadata": {},
   "source": [
    "## 方程式のリスト形式"
   ]
  },
  {
   "cell_type": "code",
   "execution_count": 16,
   "metadata": {},
   "outputs": [
    {
     "data": {
      "image/png": "[encoded data removed]",
      "text/latex": [
       "$$\\left\\{\\left ( - y - 1, \\quad y, \\quad 2\\right )\\right\\}$$"
      ],
      "text/plain": [
       "{(-y - 1, y, 2)}"
      ]
     },
     "metadata": {},
     "output_type": "display_data"
    }
   ],
   "source": [
    "display(linsolve([x + y + z - 1, x + y + 2*z - 3 ], (x, y, z)))"
   ]
  },
  {
   "cell_type": "markdown",
   "metadata": {},
   "source": [
    "## 拡張行列形式"
   ]
  },
  {
   "cell_type": "code",
   "execution_count": 17,
   "metadata": {},
   "outputs": [
    {
     "data": {
      "image/png": "[encoded data removed]",
      "text/latex": [
       "$$\\left\\{\\left ( - y - 1, \\quad y, \\quad 2\\right )\\right\\}$$"
      ],
      "text/plain": [
       "{(-y - 1, y, 2)}"
      ]
     },
     "metadata": {},
     "output_type": "display_data"
    }
   ],
   "source": [
    "display(linsolve(Matrix(([1, 1, 1, 1], [1, 1, 2, 3])), (x, y, z)))"
   ]
  },
  {
   "cell_type": "markdown",
   "metadata": {},
   "source": [
    "## $Ax = b$ 形式"
   ]
  },
  {
   "cell_type": "code",
   "execution_count": 18,
   "metadata": {},
   "outputs": [
    {
     "data": {
      "image/png": "[encoded data removed]",
      "text/latex": [
       "$$\\left\\{\\left ( - y - 1, \\quad y, \\quad 2\\right )\\right\\}$$"
      ],
      "text/plain": [
       "{(-y - 1, y, 2)}"
      ]
     },
     "metadata": {},
     "output_type": "display_data"
    }
   ],
   "source": [
    "M = Matrix(((1, 1, 1, 1), (1, 1, 2, 3)))\n",
    "system = A, b = M[:, :-1], M[:, -1]\n",
    "display(linsolve(system, x, y, z))"
   ]
  },
  {
   "cell_type": "markdown",
   "metadata": {},
   "source": [
    "`solveset()` は解を 1 つしか出してくれない.\n",
    "多項式に関して重複度つきで解がほしいなら `roots()` を使う."
   ]
  },
  {
   "cell_type": "code",
   "execution_count": 10,
   "metadata": {},
   "outputs": [
    {
     "data": {
      "image/png": "[encoded data removed]",
      "text/latex": [
       "$$\\left\\{0, 3\\right\\}$$"
      ],
      "text/plain": [
       "{0, 3}"
      ]
     },
     "metadata": {},
     "output_type": "display_data"
    }
   ],
   "source": [
    "display(solveset(x**3 - 6*x**2 + 9*x, x))"
   ]
  },
  {
   "cell_type": "code",
   "execution_count": 11,
   "metadata": {},
   "outputs": [
    {
     "data": {
      "image/png": "[encoded data removed]",
      "text/latex": [
       "$$\\left \\{ 0 : 1, \\quad 3 : 2\\right \\}$$"
      ],
      "text/plain": [
       "{0: 1, 3: 2}"
      ]
     },
     "metadata": {},
     "output_type": "display_data"
    }
   ],
   "source": [
    "display(roots(x**3 - 6*x**2 + 9*x, x))"
   ]
  },
  {
   "cell_type": "markdown",
   "metadata": {},
   "source": [
    "`roots()' の出力 {0: 1, 3: 2} は 0 が重複度 1 の根で 3 が重複度 2 の根であることを意味する."
   ]
  },
  {
   "cell_type": "markdown",
   "metadata": {},
   "source": [
    "# 注意\n",
    "Sympy 1.0 で `solveset()` は次の方程式系を解くのには使えない.\n",
    "\n",
    "- 非線型の多値系\n",
    "- (超越方程式のソルバー) LambertW で解ける方程式\n",
    "\n",
    "`solve()` は上のような場合にも使える."
   ]
  },
  {
   "cell_type": "code",
   "execution_count": 12,
   "metadata": {},
   "outputs": [
    {
     "data": {
      "image/png": "[encoded data removed]",
      "text/latex": [
       "$$\\left [ \\left ( 2, \\quad \\frac{1}{2}\\right )\\right ]$$"
      ],
      "text/plain": [
       "[(2, 1/2)]"
      ]
     },
     "metadata": {},
     "output_type": "display_data"
    }
   ],
   "source": [
    "display(solve([x*y - 1, x - 2], x, y))"
   ]
  },
  {
   "cell_type": "code",
   "execution_count": 13,
   "metadata": {},
   "outputs": [
    {
     "data": {
      "image/png": "[encoded data removed]",
      "text/latex": [
       "$$\\left [ \\operatorname{LambertW}{\\left (1 \\right )}\\right ]$$"
      ],
      "text/plain": [
       "[LambertW(1)]"
      ]
     },
     "metadata": {},
     "output_type": "display_data"
    }
   ],
   "source": [
    "display(solve(x*exp(x) - 1, x ))"
   ]
  },
  {
   "cell_type": "markdown",
   "metadata": {},
   "source": [
    "# 常微分方程式を解く\n",
    "常微分方程式を解くには `dsolve` を使う.\n",
    "まず関数を表す変数を準備する."
   ]
  },
  {
   "cell_type": "code",
   "execution_count": 27,
   "metadata": {
    "collapsed": true
   },
   "outputs": [],
   "source": [
    "f, g = symbols('f g', cls=Function)"
   ]
  },
  {
   "cell_type": "markdown",
   "metadata": {},
   "source": [
    "`f(x)` で未知の関数を表せる."
   ]
  },
  {
   "cell_type": "code",
   "execution_count": 28,
   "metadata": {},
   "outputs": [
    {
     "data": {
      "image/png": "[encoded data removed]",
      "text/latex": [
       "$$f{\\left (x \\right )}$$"
      ],
      "text/plain": [
       "f(x)"
      ]
     },
     "metadata": {},
     "output_type": "display_data"
    }
   ],
   "source": [
    "display(f(x))"
   ]
  },
  {
   "cell_type": "markdown",
   "metadata": {},
   "source": [
    "`f(x)` の導関数は未評価になる."
   ]
  },
  {
   "cell_type": "code",
   "execution_count": 29,
   "metadata": {},
   "outputs": [
    {
     "data": {
      "image/png": "[encoded data removed]",
      "text/latex": [
       "$$\\frac{d}{d x} f{\\left (x \\right )}$$"
      ],
      "text/plain": [
       "d       \n",
       "──(f(x))\n",
       "dx      "
      ]
     },
     "metadata": {},
     "output_type": "display_data"
    }
   ],
   "source": [
    "display(f(x).diff(x))"
   ]
  },
  {
   "cell_type": "markdown",
   "metadata": {},
   "source": [
    "次の微分方程式は Sympy では次のように書ける.\n",
    "\\begin{align}\n",
    " f''(x) − 2f'(x) + f(x) = \\sin(x).\n",
    "\\end{align}"
   ]
  },
  {
   "cell_type": "code",
   "execution_count": 30,
   "metadata": {},
   "outputs": [
    {
     "data": {
      "image/png": "[encoded data removed]",
      "text/latex": [
       "$$f{\\left (x \\right )} - 2 \\frac{d}{d x} f{\\left (x \\right )} + \\frac{d^{2}}{d x^{2}}  f{\\left (x \\right )} = \\sin{\\left (x \\right )}$$"
      ],
      "text/plain": [
       "                      2               \n",
       "         d           d                \n",
       "f(x) - 2⋅──(f(x)) + ───(f(x)) = sin(x)\n",
       "         dx           2               \n",
       "                    dx                "
      ]
     },
     "metadata": {},
     "output_type": "display_data"
    }
   ],
   "source": [
    "diffeq = Eq(f(x).diff(x, x) - 2*f(x).diff(x) + f(x), sin(x))\n",
    "display(diffeq)"
   ]
  },
  {
   "cell_type": "markdown",
   "metadata": {},
   "source": [
    "常微分方程式を解くには解きたい方程式を `dsolve()` に渡せばいい."
   ]
  },
  {
   "cell_type": "code",
   "execution_count": 31,
   "metadata": {},
   "outputs": [
    {
     "data": {
      "image/png": "[encoded data removed]",
      "text/latex": [
       "$$f{\\left (x \\right )} = \\left(C_{1} + C_{2} x\\right) e^{x} + \\frac{1}{2} \\cos{\\left (x \\right )}$$"
      ],
      "text/plain": [
       "                    x   cos(x)\n",
       "f(x) = (C₁ + C₂⋅x)⋅ℯ  + ──────\n",
       "                          2   "
      ]
     },
     "metadata": {},
     "output_type": "display_data"
    }
   ],
   "source": [
    "display(dsolve(diffeq, f(x)))"
   ]
  },
  {
   "cell_type": "markdown",
   "metadata": {},
   "source": [
    "`dsolve()` は `Eq` のインスタンスを返す: 一般に微分方程式の解は明示的に書けないから."
   ]
  },
  {
   "cell_type": "code",
   "execution_count": 32,
   "metadata": {},
   "outputs": [
    {
     "data": {
      "image/png": "[encoded data removed]",
      "text/latex": [
       "$$f{\\left (x \\right )} + \\cos{\\left (f{\\left (x \\right )} \\right )} = C_{1}$$"
      ],
      "text/plain": [
       "f(x) + cos(f(x)) = C₁"
      ]
     },
     "metadata": {},
     "output_type": "display_data"
    }
   ],
   "source": [
    "display(dsolve(f(x).diff(x)*(1 - sin(f(x))), f(x)))"
   ]
  },
  {
   "cell_type": "markdown",
   "metadata": {},
   "source": [
    "`dsolve()`で出てくる解の任意定数には $C_1, C_2$ といった形のシンボルが使われる."
   ]
  }
 ],
 "metadata": {
  "anaconda-cloud": {},
  "kernelspec": {
   "display_name": "Python 3",
   "language": "python",
   "name": "python3"
  },
  "language_info": {
   "codemirror_mode": {
    "name": "ipython",
    "version": 3
   },
   "file_extension": ".py",
   "mimetype": "text/x-python",
   "name": "python",
   "nbconvert_exporter": "python",
   "pygments_lexer": "ipython3",
   "version": "3.6.3"
  }
 },
 "nbformat": 4,
 "nbformat_minor": 1
}
