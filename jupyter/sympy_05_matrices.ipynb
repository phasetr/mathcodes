{
 "cells": [
  {
   "cell_type": "markdown",
   "metadata": {},
   "source": [
    "# この notebook を読み進める前に\n",
    "TeX 出力のためには次のコードを読み込ませること."
   ]
  },
  {
   "cell_type": "code",
   "execution_count": 4,
   "metadata": {
    "collapsed": true
   },
   "outputs": [],
   "source": [
    "from sympy import *\n",
    "from IPython.display import display\n",
    "init_printing(use_unicode=True)\n",
    "\n",
    " # シンボル定義\n",
    "a, b, x, y, z, t = symbols('a b x y z t')\n",
    "x0 = symbols('x_0')\n",
    "M, N = symbols('M N')\n",
    "f, g, h = symbols('f g h', cls=Function)"
   ]
  },
  {
   "cell_type": "markdown",
   "metadata": {},
   "source": [
    "Sympy で行列を釣るには `Matrix` オブジェクトを使う.\n",
    "行列は行ベクトルのリストから作られる.\n",
    "次の行列を作るコードは下記の通り.\n",
    "\\begin{align}\n",
    " \\left[\\begin{array}{cc}1 & -1\\\\3 & 4\\\\0 & 2\\end{array}\\right].\n",
    "\\end{align}"
   ]
  },
  {
   "cell_type": "code",
   "execution_count": 3,
   "metadata": {
    "collapsed": false
   },
   "outputs": [
    {
     "data": {
      "image/png": "[encoded data removed]",
      "text/latex": [
       "$$\\left[\\begin{matrix}1 & -1\\\\3 & 4\\\\0 & 2\\end{matrix}\\right]$$"
      ],
      "text/plain": [
       "⎡1  -1⎤\n",
       "⎢     ⎥\n",
       "⎢3  4 ⎥\n",
       "⎢     ⎥\n",
       "⎣0  2 ⎦"
      ]
     },
     "metadata": {},
     "output_type": "display_data"
    }
   ],
   "source": [
    "M = Matrix([[1, -1], [3, 4], [0, 2]])\n",
    "display(M)"
   ]
  },
  {
   "cell_type": "markdown",
   "metadata": {},
   "source": [
    "列ベクトルを作りやすくするには要素のリストを列ベクトルと思えばいい."
   ]
  },
  {
   "cell_type": "code",
   "execution_count": 4,
   "metadata": {
    "collapsed": false
   },
   "outputs": [
    {
     "data": {
      "image/png": "[encoded data removed]",
      "text/latex": [
       "$$\\left[\\begin{matrix}1\\\\2\\\\3\\end{matrix}\\right]$$"
      ],
      "text/plain": [
       "⎡1⎤\n",
       "⎢ ⎥\n",
       "⎢2⎥\n",
       "⎢ ⎥\n",
       "⎣3⎦"
      ]
     },
     "metadata": {},
     "output_type": "display_data"
    }
   ],
   "source": [
    "display(Matrix([1, 2, 3]))"
   ]
  },
  {
   "cell_type": "markdown",
   "metadata": {},
   "source": [
    "行列は Sympy や Python の他のオブジェクトと同じように扱える."
   ]
  },
  {
   "cell_type": "code",
   "execution_count": 5,
   "metadata": {
    "collapsed": false
   },
   "outputs": [
    {
     "data": {
      "image/png": "[encoded data removed]",
      "text/latex": [
       "$$\\left[\\begin{matrix}1 & 2 & 3\\\\3 & 2 & 1\\end{matrix}\\right]$$"
      ],
      "text/plain": [
       "⎡1  2  3⎤\n",
       "⎢       ⎥\n",
       "⎣3  2  1⎦"
      ]
     },
     "metadata": {},
     "output_type": "display_data"
    },
    {
     "data": {
      "image/png": "[encoded data removed]",
      "text/latex": [
       "$$\\left[\\begin{matrix}0\\\\1\\\\1\\end{matrix}\\right]$$"
      ],
      "text/plain": [
       "⎡0⎤\n",
       "⎢ ⎥\n",
       "⎢1⎥\n",
       "⎢ ⎥\n",
       "⎣1⎦"
      ]
     },
     "metadata": {},
     "output_type": "display_data"
    },
    {
     "data": {
      "image/png": "[encoded data removed]",
      "text/latex": [
       "$$\\left[\\begin{matrix}5\\\\3\\end{matrix}\\right]$$"
      ],
      "text/plain": [
       "⎡5⎤\n",
       "⎢ ⎥\n",
       "⎣3⎦"
      ]
     },
     "metadata": {},
     "output_type": "display_data"
    }
   ],
   "source": [
    "M = Matrix([[1, 2, 3], [3, 2, 1]])\n",
    "N = Matrix([0, 1, 1])\n",
    "display(M)\n",
    "display(N)\n",
    "display(M*N)"
   ]
  },
  {
   "cell_type": "markdown",
   "metadata": {},
   "source": [
    "# 注意\n",
    "Sympy の行列は他の全ての Sympy のオブジェクトと違って可変なことに注意する.\n",
    "不変な `Matrix` オブジェクトがほしい場合は `ImmutableMatrix` を使うこと."
   ]
  },
  {
   "cell_type": "markdown",
   "metadata": {},
   "source": [
    "# 基本的な操作\n",
    "## 行列の型取得\n",
    "行列に対する基本的な操作がある.\n",
    "行列の型を知りたければ `shape` を使う."
   ]
  },
  {
   "cell_type": "code",
   "execution_count": 6,
   "metadata": {
    "collapsed": false
   },
   "outputs": [
    {
     "data": {
      "image/png": "[encoded data removed]",
      "text/latex": [
       "$$\\left[\\begin{matrix}1 & 2 & 3\\\\-2 & 0 & 4\\end{matrix}\\right]$$"
      ],
      "text/plain": [
       "⎡1   2  3⎤\n",
       "⎢        ⎥\n",
       "⎣-2  0  4⎦"
      ]
     },
     "metadata": {},
     "output_type": "display_data"
    },
    {
     "data": {
      "image/png": "[encoded data removed]",
      "text/latex": [
       "$$\\left ( 2, \\quad 3\\right )$$"
      ],
      "text/plain": [
       "(2, 3)"
      ]
     },
     "metadata": {},
     "output_type": "display_data"
    }
   ],
   "source": [
    "M = Matrix([[1, 2, 3], [-2, 0, 4]])\n",
    "display(M)\n",
    "display(M.shape)"
   ]
  },
  {
   "cell_type": "markdown",
   "metadata": {},
   "source": [
    "## 行や列へのアクセス\n",
    "行列に対して個別の行や列を得たいときは `row` や `col` を使う.\n",
    "例えば `M.row(0)` は最初の行を取る.\n",
    "`M.col(-1)` は最後の列を取る."
   ]
  },
  {
   "cell_type": "code",
   "execution_count": 7,
   "metadata": {
    "collapsed": false
   },
   "outputs": [
    {
     "data": {
      "image/png": "[encoded data removed]",
      "text/latex": [
       "$$\\left[\\begin{matrix}1 & 2 & 3\\end{matrix}\\right]$$"
      ],
      "text/plain": [
       "[1  2  3]"
      ]
     },
     "metadata": {},
     "output_type": "display_data"
    },
    {
     "data": {
      "image/png": "[encoded data removed]",
      "text/latex": [
       "$$\\left[\\begin{matrix}3\\\\4\\end{matrix}\\right]$$"
      ],
      "text/plain": [
       "⎡3⎤\n",
       "⎢ ⎥\n",
       "⎣4⎦"
      ]
     },
     "metadata": {},
     "output_type": "display_data"
    }
   ],
   "source": [
    "M = Matrix([[1, 2, 3], [-2, 0, 4]])\n",
    "display(M.row(0))\n",
    "display(M.col(-1))"
   ]
  },
  {
   "cell_type": "markdown",
   "metadata": {},
   "source": [
    "## 行や列の追加・削除\n",
    "行や列を削除するには `row_del()` や `col_del()` を使う.\n",
    "これらはその行列自体を変更する."
   ]
  },
  {
   "cell_type": "code",
   "execution_count": 8,
   "metadata": {
    "collapsed": false
   },
   "outputs": [
    {
     "data": {
      "image/png": "[encoded data removed]",
      "text/latex": [
       "$$\\left[\\begin{matrix}2 & 3\\\\0 & 4\\end{matrix}\\right]$$"
      ],
      "text/plain": [
       "⎡2  3⎤\n",
       "⎢    ⎥\n",
       "⎣0  4⎦"
      ]
     },
     "metadata": {},
     "output_type": "display_data"
    },
    {
     "data": {
      "image/png": "[encoded data removed]",
      "text/latex": [
       "$$\\left[\\begin{matrix}2 & 3\\end{matrix}\\right]$$"
      ],
      "text/plain": [
       "[2  3]"
      ]
     },
     "metadata": {},
     "output_type": "display_data"
    }
   ],
   "source": [
    "M = Matrix([[1, 2, 3], [-2, 0, 4]])\n",
    "M.col_del(0)\n",
    "display(M)\n",
    "M.row_del(1)\n",
    "display(M)"
   ]
  },
  {
   "cell_type": "markdown",
   "metadata": {},
   "source": [
    "行や列を追加するには `row_insert()` や `col_insert()` を使う.\n",
    "これはその行列自体を変更**しない**."
   ]
  },
  {
   "cell_type": "code",
   "execution_count": 12,
   "metadata": {
    "collapsed": false
   },
   "outputs": [
    {
     "data": {
      "image/png": "[encoded data removed]",
      "text/latex": [
       "$$\\left[\\begin{matrix}2 & 3\\end{matrix}\\right]$$"
      ],
      "text/plain": [
       "[2  3]"
      ]
     },
     "metadata": {},
     "output_type": "display_data"
    }
   ],
   "source": [
    "M = Matrix([[2, 3]])\n",
    "display(M)"
   ]
  },
  {
   "cell_type": "code",
   "execution_count": 13,
   "metadata": {
    "collapsed": false
   },
   "outputs": [
    {
     "data": {
      "image/png": "[encoded data removed]",
      "text/latex": [
       "$$\\left[\\begin{matrix}2 & 3\\end{matrix}\\right]$$"
      ],
      "text/plain": [
       "[2  3]"
      ]
     },
     "metadata": {},
     "output_type": "display_data"
    },
    {
     "data": {
      "image/png": "[encoded data removed]",
      "text/latex": [
       "$$\\left[\\begin{matrix}2 & 3\\\\0 & 4\\end{matrix}\\right]$$"
      ],
      "text/plain": [
       "⎡2  3⎤\n",
       "⎢    ⎥\n",
       "⎣0  4⎦"
      ]
     },
     "metadata": {},
     "output_type": "display_data"
    },
    {
     "data": {
      "image/png": "[encoded data removed]",
      "text/latex": [
       "$$\\left[\\begin{matrix}1 & 2 & 3\\\\-2 & 0 & 4\\end{matrix}\\right]$$"
      ],
      "text/plain": [
       "⎡1   2  3⎤\n",
       "⎢        ⎥\n",
       "⎣-2  0  4⎦"
      ]
     },
     "metadata": {},
     "output_type": "display_data"
    }
   ],
   "source": [
    "N = M.row_insert(1, Matrix([[0, 4]]))\n",
    "display(M)\n",
    "display(N)\n",
    "N = N.col_insert(0, Matrix([1, -2]))\n",
    "display(N)"
   ]
  },
  {
   "cell_type": "markdown",
   "metadata": {},
   "source": [
    "# 以下注意\n",
    "明示的に書かない限り以下のメソッドは自身に作用しない.\n",
    "一般に自身に作用しないメソッドは新たな行列を返し自身に作用するメソッドは `None` を返す."
   ]
  },
  {
   "cell_type": "markdown",
   "metadata": {},
   "source": [
    "## 基本的なメソッド\n",
    "既に説明したように和や積のような基本的な演算には `+`, `*`, `**` を使えばいい.\n",
    "逆行列を見つけるには `M ** -1` のようにすればいい.\n",
    "転置は `T` メソッドで."
   ]
  },
  {
   "cell_type": "code",
   "execution_count": null,
   "metadata": {
    "collapsed": true
   },
   "outputs": [],
   "source": [
    "M = Matrix([[1, 3], [-2, 3]])\n",
    "N = Matrix([[0, 3], [0, 7]])\n",
    "display(M)\n",
    "display(N)\n",
    "print('----')\n",
    "display(M + N)\n",
    "print('----')\n",
    "display(M*N)\n",
    "print('----')\n",
    "display(3*M)\n",
    "print('----')\n",
    "display(M**2)\n",
    "print('----')\n",
    "display(M**-1)\n",
    "print('----')\n",
    "display(N**-1)"
   ]
  },
  {
   "cell_type": "markdown",
   "metadata": {
    "collapsed": true
   },
   "source": [
    "### 転置"
   ]
  },
  {
   "cell_type": "code",
   "execution_count": 2,
   "metadata": {
    "collapsed": false
   },
   "outputs": [
    {
     "data": {
      "image/png": "[encoded data removed]",
      "text/latex": [
       "$$\\left[\\begin{matrix}1 & 2 & 3\\\\4 & 5 & 6\\end{matrix}\\right]$$"
      ],
      "text/plain": [
       "⎡1  2  3⎤\n",
       "⎢       ⎥\n",
       "⎣4  5  6⎦"
      ]
     },
     "metadata": {},
     "output_type": "display_data"
    },
    {
     "data": {
      "image/png": "[encoded data removed]",
      "text/latex": [
       "$$\\left[\\begin{matrix}1 & 4\\\\2 & 5\\\\3 & 6\\end{matrix}\\right]$$"
      ],
      "text/plain": [
       "⎡1  4⎤\n",
       "⎢    ⎥\n",
       "⎢2  5⎥\n",
       "⎢    ⎥\n",
       "⎣3  6⎦"
      ]
     },
     "metadata": {},
     "output_type": "display_data"
    }
   ],
   "source": [
    "M = Matrix([[1, 2, 3], [4, 5, 6]])\n",
    "display(M)\n",
    "display(M.T)"
   ]
  },
  {
   "cell_type": "markdown",
   "metadata": {},
   "source": [
    "## 発展的な方法\n",
    "### 行列式 `det()`\n",
    "行列式の計算には `det()` を使う."
   ]
  },
  {
   "cell_type": "code",
   "execution_count": 5,
   "metadata": {
    "collapsed": false
   },
   "outputs": [
    {
     "data": {
      "image/png": "[encoded data removed]",
      "text/latex": [
       "$$\\left[\\begin{matrix}1 & 0 & 1\\\\2 & -1 & 3\\\\4 & 3 & 2\\end{matrix}\\right]$$"
      ],
      "text/plain": [
       "⎡1  0   1⎤\n",
       "⎢        ⎥\n",
       "⎢2  -1  3⎥\n",
       "⎢        ⎥\n",
       "⎣4  3   2⎦"
      ]
     },
     "metadata": {},
     "output_type": "display_data"
    },
    {
     "data": {
      "image/png": "[encoded data removed]",
      "text/latex": [
       "$$-1$$"
      ],
      "text/plain": [
       "-1"
      ]
     },
     "metadata": {},
     "output_type": "display_data"
    }
   ],
   "source": [
    "M = Matrix([[1, 0, 1], [2, -1, 3], [4, 3, 2]])\n",
    "display(M)\n",
    "display(M.det())"
   ]
  },
  {
   "cell_type": "markdown",
   "metadata": {},
   "source": [
    "### RREF, 階段系 (echelon form)\n",
    "行列を簡約された行階段系に変換するには `rref()` を使う.\n",
    "`rref()` は 2 つ要素のタプルを返す.\n",
    "第 1 要素は簡約された行階段系で,\n",
    "第 2 要素はピボット列のインデックスのリスト.\n",
    "\n",
    "#### 注意\n",
    "第 1 要素は行列型で,\n",
    "第 2 要素はリスト型."
   ]
  },
  {
   "cell_type": "code",
   "execution_count": 7,
   "metadata": {
    "collapsed": false
   },
   "outputs": [
    {
     "data": {
      "image/png": "[encoded data removed]",
      "text/latex": [
       "$$\\left[\\begin{matrix}1 & 0 & 1 & 3\\\\2 & 3 & 4 & 7\\\\-1 & -3 & -3 & -4\\end{matrix}\\right]$$"
      ],
      "text/plain": [
       "⎡1   0   1   3 ⎤\n",
       "⎢              ⎥\n",
       "⎢2   3   4   7 ⎥\n",
       "⎢              ⎥\n",
       "⎣-1  -3  -3  -4⎦"
      ]
     },
     "metadata": {},
     "output_type": "display_data"
    },
    {
     "data": {
      "image/png": "[encoded data removed]",
      "text/latex": [
       "$$\\left ( \\left[\\begin{matrix}1 & 0 & 1 & 3\\\\0 & 1 & \\frac{2}{3} & \\frac{1}{3}\\\\0 & 0 & 0 & 0\\end{matrix}\\right], \\quad \\left [ 0, \\quad 1\\right ]\\right )$$"
      ],
      "text/plain": [
       "⎛⎡1  0   1    3 ⎤, [0, 1]⎞\n",
       "⎜⎢              ⎥        ⎟\n",
       "⎜⎢0  1  2/3  1/3⎥        ⎟\n",
       "⎜⎢              ⎥        ⎟\n",
       "⎝⎣0  0   0    0 ⎦        ⎠"
      ]
     },
     "metadata": {},
     "output_type": "display_data"
    }
   ],
   "source": [
    "M = Matrix([[1, 0, 1, 3], [2, 3, 4, 7], [-1, -3, -3, -4]])\n",
    "display(M)\n",
    "display(M.rref())"
   ]
  },
  {
   "cell_type": "markdown",
   "metadata": {},
   "source": [
    "### `Nullspace()`\n",
    "行列の核 (kernel) は `nullspace()` でわかる.\n",
    "`nullspace()` は核の基底となる列ベクトルのリストを返す."
   ]
  },
  {
   "cell_type": "code",
   "execution_count": 10,
   "metadata": {
    "collapsed": false
   },
   "outputs": [
    {
     "data": {
      "image/png": "[encoded data removed]",
      "text/latex": [
       "$$\\left[\\begin{matrix}1 & 2 & 3 & 0 & 0\\\\4 & 10 & 0 & 0 & 1\\end{matrix}\\right]$$"
      ],
      "text/plain": [
       "⎡1  2   3  0  0⎤\n",
       "⎢              ⎥\n",
       "⎣4  10  0  0  1⎦"
      ]
     },
     "metadata": {},
     "output_type": "display_data"
    },
    {
     "data": {
      "image/png": "[encoded data removed]",
      "text/latex": [
       "$$\\left [ \\left[\\begin{matrix}-15\\\\6\\\\1\\\\0\\\\0\\end{matrix}\\right], \\quad \\left[\\begin{matrix}0\\\\0\\\\0\\\\1\\\\0\\end{matrix}\\right], \\quad \\left[\\begin{matrix}1\\\\- \\frac{1}{2}\\\\0\\\\0\\\\1\\end{matrix}\\right]\\right ]$$"
      ],
      "text/plain": [
       "⎡⎡-15⎤, ⎡0⎤, ⎡ 1  ⎤⎤\n",
       "⎢⎢   ⎥  ⎢ ⎥  ⎢    ⎥⎥\n",
       "⎢⎢ 6 ⎥  ⎢0⎥  ⎢-1/2⎥⎥\n",
       "⎢⎢   ⎥  ⎢ ⎥  ⎢    ⎥⎥\n",
       "⎢⎢ 1 ⎥  ⎢0⎥  ⎢ 0  ⎥⎥\n",
       "⎢⎢   ⎥  ⎢ ⎥  ⎢    ⎥⎥\n",
       "⎢⎢ 0 ⎥  ⎢1⎥  ⎢ 0  ⎥⎥\n",
       "⎢⎢   ⎥  ⎢ ⎥  ⎢    ⎥⎥\n",
       "⎣⎣ 0 ⎦  ⎣0⎦  ⎣ 1  ⎦⎦"
      ]
     },
     "metadata": {},
     "output_type": "display_data"
    }
   ],
   "source": [
    "M = Matrix([[1, 2, 3, 0, 0], [4, 10, 0, 0, 1]])\n",
    "display(M)\n",
    "display(M.nullspace())"
   ]
  },
  {
   "cell_type": "markdown",
   "metadata": {},
   "source": [
    "### `columnspace()`\n",
    "行列の columnspace を見つけるには `columnspace()` を使う.\n",
    "columnspace がまだ何なのかよくわかっていない.\n",
    "`columnspace()` は行列の columnspace を張る列ベクトルのリストを返す."
   ]
  },
  {
   "cell_type": "code",
   "execution_count": 11,
   "metadata": {
    "collapsed": false
   },
   "outputs": [
    {
     "data": {
      "image/png": "[encoded data removed]",
      "text/latex": [
       "$$\\left[\\begin{matrix}1 & 1 & 2\\\\2 & 1 & 3\\\\3 & 1 & 4\\end{matrix}\\right]$$"
      ],
      "text/plain": [
       "⎡1  1  2⎤\n",
       "⎢       ⎥\n",
       "⎢2  1  3⎥\n",
       "⎢       ⎥\n",
       "⎣3  1  4⎦"
      ]
     },
     "metadata": {},
     "output_type": "display_data"
    },
    {
     "data": {
      "image/png": "[encoded data removed]",
      "text/latex": [
       "$$\\left [ \\left[\\begin{matrix}1\\\\2\\\\3\\end{matrix}\\right], \\quad \\left[\\begin{matrix}1\\\\1\\\\1\\end{matrix}\\right]\\right ]$$"
      ],
      "text/plain": [
       "⎡⎡1⎤, ⎡1⎤⎤\n",
       "⎢⎢ ⎥  ⎢ ⎥⎥\n",
       "⎢⎢2⎥  ⎢1⎥⎥\n",
       "⎢⎢ ⎥  ⎢ ⎥⎥\n",
       "⎣⎣3⎦  ⎣1⎦⎦"
      ]
     },
     "metadata": {},
     "output_type": "display_data"
    }
   ],
   "source": [
    "M = Matrix([[1, 1, 2], [2 ,1 , 3], [3 , 1, 4]])\n",
    "display(M)\n",
    "display(M.columnspace())"
   ]
  },
  {
   "cell_type": "markdown",
   "metadata": {},
   "source": [
    "### 固有値, 固有ベクトル, 対角化\n",
    "固有値は `eigenvals()`: これは「固有値: 代数的多重度」の辞書を返す.\n",
    "下の結果は $M$ が固有値 -2, 3, 5 を持つこと,\n",
    "-2 と 3 の代数的多重度は 1, 5 は代数的多重度 2 であることを意味している."
   ]
  },
  {
   "cell_type": "code",
   "execution_count": 13,
   "metadata": {
    "collapsed": false
   },
   "outputs": [
    {
     "data": {
      "image/png": "[encoded data removed]",
      "text/latex": [
       "$$\\left[\\begin{matrix}3 & -2 & 4 & -2\\\\5 & 3 & -3 & -2\\\\5 & -2 & 2 & -2\\\\5 & -2 & -3 & 3\\end{matrix}\\right]$$"
      ],
      "text/plain": [
       "⎡3  -2  4   -2⎤\n",
       "⎢             ⎥\n",
       "⎢5  3   -3  -2⎥\n",
       "⎢             ⎥\n",
       "⎢5  -2  2   -2⎥\n",
       "⎢             ⎥\n",
       "⎣5  -2  -3  3 ⎦"
      ]
     },
     "metadata": {},
     "output_type": "display_data"
    },
    {
     "data": {
      "image/png": "[encoded data removed]",
      "text/latex": [
       "$$\\left \\{ -2 : 1, \\quad 3 : 1, \\quad 5 : 2\\right \\}$$"
      ],
      "text/plain": [
       "{-2: 1, 3: 1, 5: 2}"
      ]
     },
     "metadata": {},
     "output_type": "display_data"
    }
   ],
   "source": [
    "M = Matrix([[3, -2,  4, -2], [5,  3, -3, -2], [5, -2,  2, -2], [5, -2, -3,  3]])\n",
    "display(M)\n",
    "display(M.eigenvals())"
   ]
  },
  {
   "cell_type": "markdown",
   "metadata": {},
   "source": [
    "固有ベクトルは `eigenvects()` を使う.\n",
    "これは「固有値: 代数的多重度, [固有ベクトル]」形式のタプルのリストを返す."
   ]
  },
  {
   "cell_type": "code",
   "execution_count": 15,
   "metadata": {
    "collapsed": false
   },
   "outputs": [
    {
     "data": {
      "image/png": "[encoded data removed]",
      "text/latex": [
       "$$\\left[\\begin{matrix}3 & -2 & 4 & -2\\\\5 & 3 & -3 & -2\\\\5 & -2 & 2 & -2\\\\5 & -2 & -3 & 3\\end{matrix}\\right]$$"
      ],
      "text/plain": [
       "⎡3  -2  4   -2⎤\n",
       "⎢             ⎥\n",
       "⎢5  3   -3  -2⎥\n",
       "⎢             ⎥\n",
       "⎢5  -2  2   -2⎥\n",
       "⎢             ⎥\n",
       "⎣5  -2  -3  3 ⎦"
      ]
     },
     "metadata": {},
     "output_type": "display_data"
    },
    {
     "data": {
      "image/png": "[encoded data removed]",
      "text/latex": [
       "$$\\left [ \\left ( -2, \\quad 1, \\quad \\left [ \\left[\\begin{matrix}0\\\\1\\\\1\\\\1\\end{matrix}\\right]\\right ]\\right ), \\quad \\left ( 3, \\quad 1, \\quad \\left [ \\left[\\begin{matrix}1\\\\1\\\\1\\\\1\\end{matrix}\\right]\\right ]\\right ), \\quad \\left ( 5, \\quad 2, \\quad \\left [ \\left[\\begin{matrix}1\\\\1\\\\1\\\\0\\end{matrix}\\right], \\quad \\left[\\begin{matrix}0\\\\-1\\\\0\\\\1\\end{matrix}\\right]\\right ]\\right )\\right ]$$"
      ],
      "text/plain": [
       "⎡⎛-2, 1, ⎡⎡0⎤⎤⎞, ⎛3, 1, ⎡⎡1⎤⎤⎞, ⎛5, 2, ⎡⎡1⎤, ⎡0 ⎤⎤⎞⎤\n",
       "⎢⎜       ⎢⎢ ⎥⎥⎟  ⎜      ⎢⎢ ⎥⎥⎟  ⎜      ⎢⎢ ⎥  ⎢  ⎥⎥⎟⎥\n",
       "⎢⎜       ⎢⎢1⎥⎥⎟  ⎜      ⎢⎢1⎥⎥⎟  ⎜      ⎢⎢1⎥  ⎢-1⎥⎥⎟⎥\n",
       "⎢⎜       ⎢⎢ ⎥⎥⎟  ⎜      ⎢⎢ ⎥⎥⎟  ⎜      ⎢⎢ ⎥  ⎢  ⎥⎥⎟⎥\n",
       "⎢⎜       ⎢⎢1⎥⎥⎟  ⎜      ⎢⎢1⎥⎥⎟  ⎜      ⎢⎢1⎥  ⎢0 ⎥⎥⎟⎥\n",
       "⎢⎜       ⎢⎢ ⎥⎥⎟  ⎜      ⎢⎢ ⎥⎥⎟  ⎜      ⎢⎢ ⎥  ⎢  ⎥⎥⎟⎥\n",
       "⎣⎝       ⎣⎣1⎦⎦⎠  ⎝      ⎣⎣1⎦⎦⎠  ⎝      ⎣⎣0⎦  ⎣1 ⎦⎦⎠⎦"
      ]
     },
     "metadata": {},
     "output_type": "display_data"
    }
   ],
   "source": [
    "M = Matrix([[3, -2,  4, -2], [5,  3, -3, -2], [5, -2,  2, -2], [5, -2, -3,  3]])\n",
    "display(M)\n",
    "display(M.eigenvects())"
   ]
  },
  {
   "cell_type": "markdown",
   "metadata": {},
   "source": [
    "行列を対角化したいなら `diagonalize()` を使う.\n",
    "`diagonalize()` は $(P, D)$ のタプルを返す.\n",
    "ここで $D$ は対角行列で $P$ は $M = P D P^{-1}$ となる $P$."
   ]
  },
  {
   "cell_type": "code",
   "execution_count": 16,
   "metadata": {
    "collapsed": false
   },
   "outputs": [
    {
     "data": {
      "image/png": "[encoded data removed]",
      "text/latex": [
       "$$\\left[\\begin{matrix}0 & 1 & 1 & 0\\\\1 & 1 & 1 & -1\\\\1 & 1 & 1 & 0\\\\1 & 1 & 0 & 1\\end{matrix}\\right]$$"
      ],
      "text/plain": [
       "⎡0  1  1  0 ⎤\n",
       "⎢           ⎥\n",
       "⎢1  1  1  -1⎥\n",
       "⎢           ⎥\n",
       "⎢1  1  1  0 ⎥\n",
       "⎢           ⎥\n",
       "⎣1  1  0  1 ⎦"
      ]
     },
     "metadata": {},
     "output_type": "display_data"
    },
    {
     "data": {
      "image/png": "[encoded data removed]",
      "text/latex": [
       "$$\\left[\\begin{matrix}-2 & 0 & 0 & 0\\\\0 & 3 & 0 & 0\\\\0 & 0 & 5 & 0\\\\0 & 0 & 0 & 5\\end{matrix}\\right]$$"
      ],
      "text/plain": [
       "⎡-2  0  0  0⎤\n",
       "⎢           ⎥\n",
       "⎢0   3  0  0⎥\n",
       "⎢           ⎥\n",
       "⎢0   0  5  0⎥\n",
       "⎢           ⎥\n",
       "⎣0   0  0  5⎦"
      ]
     },
     "metadata": {},
     "output_type": "display_data"
    },
    {
     "data": {
      "image/png": "[encoded data removed]",
      "text/latex": [
       "$$\\left[\\begin{matrix}3 & -2 & 4 & -2\\\\5 & 3 & -3 & -2\\\\5 & -2 & 2 & -2\\\\5 & -2 & -3 & 3\\end{matrix}\\right]$$"
      ],
      "text/plain": [
       "⎡3  -2  4   -2⎤\n",
       "⎢             ⎥\n",
       "⎢5  3   -3  -2⎥\n",
       "⎢             ⎥\n",
       "⎢5  -2  2   -2⎥\n",
       "⎢             ⎥\n",
       "⎣5  -2  -3  3 ⎦"
      ]
     },
     "metadata": {},
     "output_type": "display_data"
    },
    {
     "data": {
      "text/plain": [
       "True"
      ]
     },
     "metadata": {},
     "output_type": "display_data"
    }
   ],
   "source": [
    "P, D= M.diagonalize()\n",
    "display(P)\n",
    "display(D)\n",
    "display(P*D*P**-1)\n",
    "display(P*D*P**-1 == M)"
   ]
  },
  {
   "cell_type": "markdown",
   "metadata": {},
   "source": [
    "### Tips\n",
    "固有値に $\\lambda$ を使いたくても Python の予約語なのでそのままでは使えない.\n",
    "そういう場合は `lamda` を使うといい.\n",
    "これも pretty print で $\\lambda$ になる.\n",
    "\n",
    "### 注意\n",
    "`eigenvects()` は固有値も含むので固有ベクトルもほしい場合は `eigenvals()` よりも `eigenvects()` を使う方がいい.\n",
    "もちろん, 固有ベクトルの計算は一般にコストが高いので固有値だけがほしいなら `eigenvals()` を使う方がいい.\n",
    "\n",
    "特性多項式がほしいだけなら `charpoly()` がある.\n",
    "シンボリックな根の計算コストは高くなることがあるから `eigenvals()` よりも効率がいい."
   ]
  },
  {
   "cell_type": "code",
   "execution_count": 18,
   "metadata": {
    "collapsed": false
   },
   "outputs": [
    {
     "data": {
      "image/png": "[encoded data removed]",
      "text/latex": [
       "$$\\operatorname{PurePoly}{\\left( \\lambda^{4} - 11 \\lambda^{3} + 29 \\lambda^{2} + 35 \\lambda - 150, \\lambda, domain=\\mathbb{Z} \\right)}$$"
      ],
      "text/plain": [
       "PurePoly(lamda**4 - 11*lamda**3 + 29*lamda**2 + 35*lamda - 150, lamda, domain=\n",
       "'ZZ')"
      ]
     },
     "metadata": {},
     "output_type": "display_data"
    },
    {
     "data": {
      "image/png": "[encoded data removed]",
      "text/latex": [
       "$$\\left(\\lambda - 5\\right)^{2} \\left(\\lambda - 3\\right) \\left(\\lambda + 2\\right)$$"
      ],
      "text/plain": [
       "       2                \n",
       "(λ - 5) ⋅(λ - 3)⋅(λ + 2)"
      ]
     },
     "metadata": {},
     "output_type": "display_data"
    }
   ],
   "source": [
    "lamda = symbols('lamda')\n",
    "p = M.charpoly(lamda)\n",
    "display(p)\n",
    "display(factor(p))"
   ]
  }
 ],
 "metadata": {
  "anaconda-cloud": {},
  "kernelspec": {
   "display_name": "Python [Root]",
   "language": "python",
   "name": "Python [Root]"
  },
  "language_info": {
   "codemirror_mode": {
    "name": "ipython",
    "version": 3
   },
   "file_extension": ".py",
   "mimetype": "text/x-python",
   "name": "python",
   "nbconvert_exporter": "python",
   "pygments_lexer": "ipython3",
   "version": "3.5.1"
  }
 },
 "nbformat": 4,
 "nbformat_minor": 0
}
