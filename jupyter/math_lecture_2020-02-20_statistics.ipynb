{
 "cells": [
  {
   "cell_type": "markdown",
   "metadata": {},
   "source": [
    "# Kaggle で勝つデータ分析の技術 第 3 章 特徴量の作成"
   ]
  },
  {
   "cell_type": "markdown",
   "metadata": {},
   "source": [
    "## 復習: 目的変数と特徴量 (P.2)\n",
    "- 目的変数: 予測したいラベルや値. 例: 1 ヶ月以内の有料機能利用状況.\n",
    "- 特徴量: 目的変数の予測に使える量. 例: 有料機能を使う様々なユーザー属性."
   ]
  },
  {
   "cell_type": "markdown",
   "metadata": {},
   "source": [
    "## 章のポイント\n",
    "- 特徴量の作り方を見る。\n",
    "    - 特徴量はモデルの精度を上げるために一番重要な要素。\n",
    "- 分析対象ごとに役に立つ・意味のある特徴量は変わる。\n",
    "- いろいろな量を作って試してみることも大事。\n",
    "- いろいろな手法・観点を見てみる。"
   ]
  },
  {
   "cell_type": "markdown",
   "metadata": {},
   "source": [
    "## 流れ\n",
    "「3.2 モデルと特徴量の関係を見る」でモデルと特徴量の関係を見る。\n",
    "\n",
    "### 変数変換で特徴量を作る\n",
    "- 3.3 欠損値の扱い\n",
    "- 3.4 数値変数の変換\n",
    "- 3.5 カテゴリ変数の変換\n",
    "- 3.6 日付・時刻を表す変数の変換\n",
    "- 3.7 変数の組み合わせ\n",
    "\n",
    "### 別のテーブルのデータや時系列データから特徴量を作る方法\n",
    "- 3.8 他のテーブルの結合\n",
    "- 3.9 集約して統計量を取る\n",
    "- 3.10 時系列データの扱い\n",
    "\n",
    "### 次元削減・教師なし学習による特徴量\n",
    "- 3.11 次元削減・教師なし学習による特徴量\n",
    "\n",
    "### その他のテクニック\n",
    "- 3.12 その他のテクニック\n",
    "    - データの背景にあるメカニズムを推測\n",
    "    - レコード間の関係性・相対値・位置情報に注目\n",
    "    - いろいろな視点・アイデアに触れる"
   ]
  },
  {
   "cell_type": "markdown",
   "metadata": {},
   "source": [
    "## 3.2 モデルと特徴量"
   ]
  },
  {
   "cell_type": "markdown",
   "metadata": {},
   "source": [
    "## 3.2.1 モデルと特徴量\n",
    "どのモデルの入力として特徴量を使うかを考える.\n",
    "\n",
    "### 復習: 目的変数と特徴量 (P.2)\n",
    "- 目的変数: 予測したいラベルや値. 例: 1 ヶ月以内の有料機能利用状況.\n",
    "- 特徴量: 目的変数の予測に使える量. 例: 有料機能を使う様々なユーザー属性.\n",
    "\n",
    "### GBDT (Gradient Boosting Decision Tree: 勾配ブースティング木) の復習\n",
    "変数のスケール (変数の値の範囲) や分布をあまり気にしなくてよく, 欠損値やカテゴリ変数を扱いやすい.\n",
    "\n",
    "- テーブルデータが対象のコンペの主役になるモデル\n",
    "- 決定木をベースにしたモデル\n",
    "\n",
    "特徴は次の通り。\n",
    "\n",
    "- 数値の大きさ自体には意味がなく, 大小関係だけが影響する\n",
    "- 欠損値があってもそのまま扱える\n",
    "- 決定木の分岐のくり返しで変数間の相互作用を反映する\n",
    "\n",
    "### ニューラルネットの特徴\n",
    "比較対象として復習する。\n",
    "\n",
    "- 数値の大きさが影響する\n",
    "- 欠損値を埋めなければならない\n",
    "- 前の層の出力を結合する計算で変数間の相互作用を反映する\n",
    "- カテゴリ変数を扱うときは label encoding よりも後述の one-hot encoding がいい."
   ]
  },
  {
   "cell_type": "markdown",
   "metadata": {},
   "source": [
    "## 参考：label encoding と one-hot encoding\n",
    "言葉が出てくるので先に議論しておく.\n",
    "\n",
    "### label encoding\n",
    "- 各水準を単純に整数に置き換える\n",
    "- 水準を文字列としたとき, ふつう辞書順のインデックスで置き換える\n",
    "\n",
    "### one-hot encoding\n",
    "- カテゴリ変数に対する最も代表的なハンドリング法\n",
    "- カテゴリ変数の各水準に対して, その水準かどうかを表す 0-1 の 2 値変数を作る"
   ]
  },
  {
   "cell_type": "markdown",
   "metadata": {},
   "source": [
    "## 3.2.2 ベースラインとなる特徴量\n",
    "「ベースライン」は「最低限の前処理をした状態での基準」と定義する.\n",
    "\n",
    "P.115 の図 3.1 ではユーザー ID の列を削除し, カテゴリ変数の label encoding をすればベースラインの特徴量が作れる.\n",
    "- GBDT: label encoding だけで意味のある予測ができることも多い\n",
    "- ニューラルネット・線型モデル: one-hot encoding して欠損値を埋めればとりあえず学習させられる.\n",
    "    - 単純な処理では GBDT ほどのスコアが出ない\n",
    "    - よい特徴量を探る"
   ]
  },
  {
   "cell_type": "markdown",
   "metadata": {},
   "source": [
    "## 3.2.3 決定木の気持ちになって考える\n",
    "Kaggler の中では有名らしい.\n",
    "\n",
    "- GBDT は賢いが, 入力の中にない情報は反映できない.\n",
    "- 特徴量を作るモデルに与えられている入力から読み取れない・読み取りづらい情報を追加で与える\n",
    "    - 例: 別のテーブルにユーザーの属性がある\n",
    "    - 例: ユーザーの行動に大きく影響する要素が平均購入単価で, 購入額と購入数だけが特徴量になっている場合.\n",
    "      平均購入単価を明示的に特徴量に加えた方がいい."
   ]
  },
  {
   "cell_type": "markdown",
   "metadata": {},
   "source": [
    "## 3.3 欠損値の扱い\n",
    "欠損値がある理由は何か?\n",
    "\n",
    "- 値がない\n",
    "    - 個人と法人が混在するデータでの法人年齢.\n",
    "    - 人数が 0 人の場合の平均がない.\n",
    "- 意味・意図があって存在しない\n",
    "    - 入力フォームにユーザーが入力しない.\n",
    "    - その場所・時間で観測データがない (観測していない)\n",
    "- 値の取得に失敗した\n",
    "    - 人為的ミス\n",
    "    - 観測機器のエラー\n",
    "\n",
    "欠損値をどう処理するか?\n",
    "\n",
    "- xgboost, lightgbm などの GBDT ライブラリでは欠損値もそのまま扱える.\n",
    "- GBDT ではないモデルの多くは欠損値をうまく扱えない.\n",
    "    - 欠損値を埋める必要あり.\n",
    "    - 代表値で埋める方法・他の変数から予測 (内挿・外挿) して埋める.\n",
    "    - GBDT でも欠損値を埋めた方が精度が上がることはある.\n",
    "    - 欠損を埋めずに単に無視してもいい."
   ]
  },
  {
   "cell_type": "markdown",
   "metadata": {},
   "source": [
    "## 3.3.1 欠損値のまま取り扱う\n",
    "- 欠損自体にも意味があるとみなす: その情報を捨てるのはもったいない.\n",
    "- 決定木ベースのモデルでは, 相対的な大小関係しか見ないので,\n",
    "  ふつう取らない値で置換すれば欠損データを分離できる."
   ]
  },
  {
   "cell_type": "markdown",
   "metadata": {},
   "source": [
    "## 3.3.2 欠損値を代表値で埋める\n",
    "- シンプルな方法: その変数の代表値で埋める: 欠損の発生がランダムで値も大きくぶれない場合にはいい.\n",
    "    - 数値変数: 平均値や中央値, 対数変換してゆがみを少なくしてからの平均値.\n",
    "        - 全データの平均ではなく, 別のカテゴリ変数でグループわけし, そのグループの平均を取る.\n",
    "        - データ数が極端に少ないカテゴリがある場合には不適なことがある:\n",
    "          Bayesian average の方法.\n",
    "          \\begin{align}\n",
    "          \\bar{x} = \\frac{\\sum_{i=1}^n x_i + Cm}{n + C}.\n",
    "          \\end{align}\n",
    "          値 $m$ のデータを $C$ 個観測したことにして平均の計算に加える.\n",
    "    - カテゴリ変数\n",
    "        - 欠損値を 1 つのカテゴリにしてしまう,\n",
    "        - 最も多いカテゴリを代表値として置き換える."
   ]
  },
  {
   "cell_type": "markdown",
   "metadata": {},
   "source": [
    "## 3.3.3 欠損値を他の変数から予測する\n",
    "- 欠損値が他の変数と関連を持っている場合, そこから予測する.\n",
    "- よくある手順\n",
    "    - 補完したい変数を目的変数とする.\n",
    "    - その他の変数を特徴とした補完のためのモデルを作る.\n",
    "    - 学習する.\n",
    "        - 非欠損レコードを学習データとし, 欠損データを予測対象のデータとする.\n",
    "    - 補完のためのモデルで予測した値で欠損値を埋める.\n",
    "- 注意: 補完のためのモデルの特徴量に本来の目的変数を含めないこと."
   ]
  },
  {
   "cell_type": "markdown",
   "metadata": {},
   "source": [
    "## 3.3.4 欠損値から新たな情報量を作成する\n",
    "- 欠損がランダムに起こることはあまりなく、何らかの理由がある場合が多い。\n",
    "- 欠損自体に情報があり、そこから特徴量を作ることにも意味がある。\n",
    "    - 欠損かどうかを表す 2 値変数を作る。\n",
    "    - 欠損値を埋めてもこの 2 値変数を別に作れば情報は減らない。\n",
    "- レコードごとに欠損している変数の数をカウントする。適当なグループに限定してもいい。\n",
    "- 複数の変数の欠損の組み合わせを調べる：いくつかのパターンに分けられるなら、どのパターン化を特徴量にする。"
   ]
  },
  {
   "cell_type": "markdown",
   "metadata": {},
   "source": [
    "## 3.3.5 データ上の欠損の認識\n",
    "- CSV ファイルでは空白や NA がふつう\n",
    "    - 場合によっては数値データでは -1 や 9999 のような値になっている\n",
    "    - これをそのまま処理すると欠損値とみなすべき値を通常の数値とみなしてしまい, いい精度が出ない\n",
    "- 早い段階で変数の分布をヒストグラムで見て欠損とみなすべき値がないか確認する\n",
    "- `pandas` だと欠損値を指定する引数 `na_values` がある.\n",
    "    - ただし `-1` などが他の変数では正規の値として使われているときには使えない.\n",
    "    - こういう場合は別途処理が必要: `replace` メソッドで処理できる."
   ]
  },
  {
   "cell_type": "markdown",
   "metadata": {},
   "source": [
    "## 3.4 数値変数の変換\n",
    "- 数値変数はそのままモデル入力に使える\n",
    "- 適切な変換・加工でもっと役に立つ特徴量になることがある.\n",
    "- GBDT など決定木をベースにしたモデルではあまり意味がない.\n",
    "    - 統計量を取って特徴量を作るときには前処理として意味がある場合がある."
   ]
  },
  {
   "cell_type": "markdown",
   "metadata": {},
   "source": [
    "## 復習: 回帰 (regression) と回帰係数\n",
    "- 連続データ $Y$ にモデル $Y = f (X)$ を当てはめること\n",
    "    - 連続尺度の従属変数 (目的変数) $Y$ と独立変数 (説明変数) $X$ の間にモデルを当てはめること.\n",
    "- $X$ が 1 次元ならば単回帰, $X$ が 2 次元以上ならば重回帰と言う.\n",
    "- $Y$ が離散の場合は分類と言う\n",
    "- 回帰係数\n",
    "    - 特に 1 次関数をモデルとするとき, その傾きを表す係数"
   ]
  },
  {
   "cell_type": "markdown",
   "metadata": {},
   "source": [
    "## 3.4.1 標準化 (standardization)\n",
    "- 1 番基本的なのは線型変換\n",
    "\n",
    "\\begin{align}\n",
    "x'\n",
    "=\n",
    "\\frac{x - \\mu}{\\sigma}.\n",
    "\\end{align}\n",
    "\n",
    "どうして平均は 0 から離れていない方がいい?"
   ]
  },
  {
   "cell_type": "markdown",
   "metadata": {},
   "source": [
    "## 3.4.2 Min-Max スケーリング\n",
    "\\begin{align}\n",
    "x'\n",
    "=\n",
    "\\frac{x - x_{\\mathrm{min}}}{x_{\\mathrm{max}} - x_{\\mathrm{min}}}.\n",
    "\\end{align}\n",
    "\n",
    "- `scikit-learn` の `MinMaxScaler` クラスで計算できる\n",
    "- デメリット\n",
    "    - 変換後の平均が 0 にならない\n",
    "    - 外れ値の影響を受けやすくなる\n",
    "- 画像データの各画素の値は `0-255` と範囲が決まっているので、こういう場合には使える。"
   ]
  },
  {
   "cell_type": "markdown",
   "metadata": {},
   "source": [
    "## 非線型変換\n",
    "- 上の2つは線型変換：変数の分布は伸縮だけで、本質的な形は変わらない。\n",
    "- 形を変える非線型変換の方がいい場合もある。\n",
    "- 一般的には、変数の分布は偏っていない方がいろいろなことがはかどる。"
   ]
  },
  {
   "cell_type": "markdown",
   "metadata": {},
   "source": [
    "## 対数・$\\log(x+1)$・絶対値の対数を取る\n",
    "- 何かの金額・カウントを表すような変数は一方向に裾が伸びるので、縮めるために対数変換したくなる。\n",
    "- 0 を含むとひどいことになるので、調整のために $\\log(x+1)$ としてしまうこともある。\n",
    "- 専用の関数もあって numpy の `log1p`。\n",
    "- 負の値を持っている場合、これも $\\log x$ が定義できないので絶対値を取ったうえで対数を取る。対数を取った後に元の符号をつけることもある。"
   ]
  },
  {
   "cell_type": "markdown",
   "metadata": {},
   "source": [
    "## Box-Cox 変換, Yeo-Johnson 変換\n",
    "- 対数変換の一般化でパラメータ $\\lambda$ を持つ。\n",
    "- Yeo-Johnson は負の値を持つ場合にも使える。\n",
    "- 結果が正規分布に近づくように、パラメータはライブラリ側で自動調整してくれることもある。"
   ]
  },
  {
   "cell_type": "markdown",
   "metadata": {},
   "source": [
    "### Box-Cox 変換\n",
    "\\begin{align}\n",
    "x^{\\lambda}\n",
    "=\n",
    "\\begin{cases}\n",
    "\\frac{x^{\\lambda} - 1}{\\lambda}, & \\lambda \\neq 0, \\\\\n",
    "\\log x, & \\lambda = 0.\n",
    "\\end{cases}\n",
    "\\end{align}"
   ]
  },
  {
   "cell_type": "markdown",
   "metadata": {},
   "source": [
    "### Yeo-Johnson 変換\n",
    "\\begin{align}\n",
    "x^{\\lambda}\n",
    "=\n",
    "\\begin{cases}\n",
    "\\frac{x^{\\lambda} - 1}{\\lambda}, & \\lambda \\neq 0, x_i \\geq 0, \\\\\n",
    "\\log (x + 1), & \\lambda = 0, x_i \\geq 0, \\\\\n",
    "\\frac{- ((-x + 1)^{2 - \\lambda} - 1)}{2 - \\lambda}, & \\lambda \\neq 2, x_i < 0, \\\\\n",
    "- \\log (-x + 1), & \\lambda = 2, x_i < 0.\n",
    "\\end{cases}\n",
    "\\end{align}"
   ]
  },
  {
   "cell_type": "markdown",
   "metadata": {},
   "source": [
    "## コード参考\n",
    "- [著者とのやり取り](https://twitter.com/phasetrbot/status/1233006903480877056)\n",
    "\n",
    "> 該当の図は、clipping等の効果をわかりやすくするため、別のデータを使って描画したものでして、githubのデータからは再現できません。\n",
    "> 図の描画自体は、変換の前後で、`plt.hist(train_x[feature_name], bins=100)` という単純なコードで行っております。\n",
    "\n",
    "> 裾野の長い特徴量であれば、同じような効果が見えますが、参考までに使用したデータは\n",
    "> https://www.kaggle.com/harlfoxem/housesalesprediction/version/1# で、sqft_livingという列に適用した結果を描画しています。"
   ]
  },
  {
   "cell_type": "code",
   "execution_count": 11,
   "metadata": {},
   "outputs": [
    {
     "data": {
      "image/png": "[encoded data removed]",
      "text/plain": [
       "<Figure size 432x288 with 1 Axes>"
      ]
     },
     "metadata": {
      "needs_background": "light"
     },
     "output_type": "display_data"
    },
    {
     "data": {
      "image/png": "[encoded data removed]",
      "text/plain": [
       "<Figure size 432x288 with 1 Axes>"
      ]
     },
     "metadata": {
      "needs_background": "light"
     },
     "output_type": "display_data"
    }
   ],
   "source": [
    "import matplotlib.pyplot as plt\n",
    "import pandas as pd\n",
    "\n",
    "train_x = pd.read_csv('kagglebook/kc_house_data.csv')\n",
    "transformed_train_x = pd.read_csv('kagglebook/kc_house_data.csv')\n",
    "\n",
    "num_cols = [\"sqft_living\"]\n",
    "pos_cols = [\"sqft_living\"]\n",
    "\n",
    "from sklearn.preprocessing import PowerTransformer\n",
    "\n",
    "# 学習データに基づいて複数列のBox-Cox変換を定義\n",
    "pt = PowerTransformer(method='box-cox')\n",
    "pt.fit(train_x[pos_cols])\n",
    "\n",
    "# 変換後のデータで各列を置換\n",
    "transformed_train_x[pos_cols] = pt.transform(train_x[pos_cols])\n",
    "\n",
    "plt.hist(train_x[\"sqft_living\"], bins=100)\n",
    "plt.show()\n",
    "\n",
    "plt.hist(transformed_train_x[\"sqft_living\"], bins=100)\n",
    "plt.show()"
   ]
  },
  {
   "cell_type": "markdown",
   "metadata": {},
   "source": [
    "## genenralized log tranformation\n",
    "あまり使われていないが、あるにはある。\n",
    "\n",
    "\\begin{align}\n",
    " x^{(\\lambda)}\n",
    " =\n",
    " \\log \\left(x + \\sqrt{x^2 + \\lambda} \\right).\n",
    "\\end{align}"
   ]
  },
  {
   "cell_type": "markdown",
   "metadata": {},
   "source": [
    "## ほかの非線型変換\n",
    "データの特性・変数の意味に応じていろいろ考える。\n",
    "\n",
    "- 絶対値\n",
    "- 平方根\n",
    "- 二乗（$n$乗）\n",
    "- 正負またはゼロかどうかの2値変数に置換\n",
    "- 数値の端数を取る（100円未満を切り捨てる、小数点以下を切り捨てる）\n",
    "- 四捨五入・切り捨て・切り上げ"
   ]
  },
  {
   "cell_type": "markdown",
   "metadata": {},
   "source": [
    "## clipping\n",
    "- 数値変数は外れ値を持つ（ことがある）\n",
    "- 上限・下限を設定して外れ値を除外する手法がある\n",
    "    - 分布から適当に閾値を指定する\n",
    "    - 分位点を閾値として外れ値を機械的に置換"
   ]
  },
  {
   "cell_type": "code",
   "execution_count": 13,
   "metadata": {},
   "outputs": [
    {
     "data": {
      "image/png": "[encoded data removed]",
      "text/plain": [
       "<Figure size 432x288 with 1 Axes>"
      ]
     },
     "metadata": {
      "needs_background": "light"
     },
     "output_type": "display_data"
    },
    {
     "data": {
      "image/png": "[encoded data removed]",
      "text/plain": [
       "<Figure size 432x288 with 1 Axes>"
      ]
     },
     "metadata": {
      "needs_background": "light"
     },
     "output_type": "display_data"
    }
   ],
   "source": [
    "import matplotlib.pyplot as plt\n",
    "import pandas as pd\n",
    "\n",
    "train_x = pd.read_csv('kagglebook/kc_house_data.csv')\n",
    "transformed_train_x = pd.read_csv('kagglebook/kc_house_data.csv')\n",
    "\n",
    "num_cols = [\"sqft_living\"]\n",
    "pos_cols = [\"sqft_living\"]\n",
    "\n",
    "# clipping 適用前\n",
    "plt.hist(train_x[\"sqft_living\"], bins=100)\n",
    "plt.show()\n",
    "\n",
    "# 列ごとに学習データの1％点、99％点を計算\n",
    "p01 = train_x[num_cols].quantile(0.01)\n",
    "p99 = train_x[num_cols].quantile(0.99)\n",
    "\n",
    "# 1％点以下の値は1％点に、99％点以上の値は99％点にclippingする\n",
    "train_x[num_cols] = train_x[num_cols].clip(p01, p99, axis=1)\n",
    "plt.hist(train_x[\"sqft_living\"], bins=100)\n",
    "plt.show()"
   ]
  },
  {
   "cell_type": "markdown",
   "metadata": {},
   "source": [
    "## 3.4.5 binning\n",
    "- 数値変数を区間ごとにグループ分けしてあえてカテゴリ変数化する処理\n",
    "- 等間隔に分割、分位点で分割、区間の区切りを指定して分割など\n",
    "- データに対する前提知識があり、わけるべき区間の見当がついているべき\n",
    "- binning で順序のあるカテゴリ変数になる\n",
    "    - 順序をそのまま数値にする\n",
    "    - カテゴリ変数として one-hot encoding を使う\n",
    "    - カテゴリ変数特有の処理もできる：区間のカテゴリごとに他の変数の値を集計する\n",
    "- `pandas` では `cut`、`numpy` では `digitize`。\n",
    "\n",
    "### 例：食事の金額とクーポン単価\n",
    "- 同じ食事でも金額の範囲ごとに利用目的が違うことを反映する\n",
    "- 食事のクーポン単価を 1500円以下・1500-3000円、3000円以上に binning\n",
    "- 区間ごとに他の変数の値を集計する"
   ]
  },
  {
   "cell_type": "markdown",
   "metadata": {},
   "source": [
    "## 3.4.6 順位への変換\n",
    "- 数値変数を大小関係にもとづく順位に変換する\n",
    "    - 数値の大きさや感覚の情報をあえて捨てて大小関係だけを抽出する\n",
    "    - 単に順位に変換\n",
    "    - 順位をレコード数で割って 0-1 の範囲に収める：値のスケールがレコード数に依存しなくなり扱いやすくなる\n",
    "\n",
    "### 例：店舗の人気度の定量化\n",
    "- 店舗ごとの来店者数が日ごとに記録されているとする\n",
    "- 1 週間の来店者実績から店舗の人気度を定量化する\n",
    "- 休日の来店者が多いと休日の傾向が強く出て**しまう**\n",
    "- 来店者の少ない平日の傾向も休日と同じ重みで評価**したい**\n",
    "- 各日の来店者数を順位に変換してから集約する\n",
    "\n",
    "`RankGauss` は順位の変換からさらに正規分布に変換する手法。"
   ]
  },
  {
   "cell_type": "markdown",
   "metadata": {},
   "source": [
    "## RankGauss\n",
    "- 数値変数を順位に変換し、さらに順位を保ったまま正規分布になるように変換する\n",
    "- ニューラルネットでモデルを作るときの変換として、普通の標準化よりもいい性能を示すらしい：[参考](http://fastml.com/preparing-continuous-features-for-neural-networks-with-rankgauss/)"
   ]
  },
  {
   "cell_type": "code",
   "execution_count": 14,
   "metadata": {
    "scrolled": false
   },
   "outputs": [
    {
     "data": {
      "image/png": "[encoded data removed]",
      "text/plain": [
       "<Figure size 432x288 with 1 Axes>"
      ]
     },
     "metadata": {
      "needs_background": "light"
     },
     "output_type": "display_data"
    },
    {
     "data": {
      "image/png": "[encoded data removed]",
      "text/plain": [
       "<Figure size 432x288 with 1 Axes>"
      ]
     },
     "metadata": {
      "needs_background": "light"
     },
     "output_type": "display_data"
    }
   ],
   "source": [
    "from sklearn.preprocessing import QuantileTransformer\n",
    "import matplotlib.pyplot as plt\n",
    "import pandas as pd\n",
    "\n",
    "train_x = pd.read_csv('kagglebook/kc_house_data.csv')\n",
    "transformed_train_x = pd.read_csv('kagglebook/kc_house_data.csv')\n",
    "\n",
    "num_cols = [\"sqft_living\"]\n",
    "pos_cols = [\"sqft_living\"]\n",
    "\n",
    "# 適用前\n",
    "plt.hist(train_x[\"sqft_living\"], bins=100)\n",
    "plt.show()\n",
    "\n",
    "# 学習データに基づいて複数列のRankGaussによる変換を定義\n",
    "transformer = QuantileTransformer(n_quantiles=100, random_state=0, output_distribution='normal')\n",
    "transformer.fit(train_x[num_cols])\n",
    "\n",
    "# 変換後のデータで各列を置換\n",
    "train_x[num_cols] = transformer.transform(train_x[num_cols])\n",
    "\n",
    "# 適用後\n",
    "plt.hist(train_x[\"sqft_living\"], bins=100)\n",
    "plt.show()"
   ]
  },
  {
   "cell_type": "markdown",
   "metadata": {},
   "source": [
    "## 3.5 カテゴリ変数の変換\n",
    "### 注意\n",
    "- データ上数値であっても値の大きさや順序に意味がない場合はカテゴリ変数として扱う必要がある。\n",
    "\n",
    "### 基本の処理\n",
    "- ここまでは数値変数の処理\n",
    "- ここからはカテゴリ変数の処理\n",
    "- モデルごとに最適な形に変換しなければならない\n",
    "- テストデータにだけ存在する水準がある場合、カテゴリ変数の変換中にエラーがでたり変換できたとしても、モデルはその水準について学習できない：その水準を含むレコードの予測値がおかしくなる可能性がある。\n",
    "- カテゴリ変数を変換する前にテストデータにしかないカテゴリがあるかないか確認する。\n",
    "    - 対応しなくても影響が小さいか\n",
    "    - 最頻値や予測で補完する：最も頻度が多い水準で補完したり、欠損値とみなして 3.3.3 で紹介した方法で補完する。\n",
    "    - 変換するときその変換での平均値または適切な値を入れる：target coding なら例えば学習データ全体の目的変数の平均を入れる。"
   ]
  },
  {
   "cell_type": "markdown",
   "metadata": {},
   "source": [
    "## 変換手法に対する 1 案（AUTHOR'S OPINION）\n",
    "- GBDT などの決定木ベースのモデルでは label encoding （後述）でカテゴリ変数を変換するのが簡単\n",
    "- しかし target encoding の方がいい場合も多い：ただしリークの危険性もあり上級者向きの処理\n",
    "- その他のモデルでは one-hot encoding がオーソドックス\n",
    "- ニューラルネットでは embedding layer を変数ごとに作るのが手間だが embedding も有効"
   ]
  },
  {
   "cell_type": "markdown",
   "metadata": {},
   "source": [
    "## 図 3.9：one-hot encoding の例\n",
    "### 変換前\n",
    "| 変換前 |\n",
    "|--------|\n",
    "| A1     |\n",
    "| A2     |\n",
    "| A3     |\n",
    "| B1     |\n",
    "| B2     |\n",
    "| A1     |\n",
    "| A2     |\n",
    "| A1     |\n",
    "\n",
    "### 変換後\n",
    "| A1 | A2 | A3 | B1 | B2 |\n",
    "|:----:|:----:|:----:|:----:|:----:|\n",
    "|  1 |  0 |  0 |  0 |  0 |\n",
    "|  0 |  1 |  0 |  0 |  0 |\n",
    "|  0 |  0 |  1 |  0 |  0 |\n",
    "|  0 |  0 |  0 |  1 |  0 |\n",
    "|  0 |  0 |  0 |  0 |  1 |\n",
    "|  1 |  0 |  0 |  0 |  0 |\n",
    "|  0 |  1 |  0 |  0 |  0 |\n",
    "|  1 |  0 |  0 |  0 |  0 |"
   ]
  },
  {
   "cell_type": "markdown",
   "metadata": {},
   "source": [
    "## 3.5.1 one-hot encoding\n",
    "- カテゴリ変数に対する代表的なハンドリング法\n",
    "- 各水準に対してその水準かどうかを 0-1 の二値変数を作る：上の図 3.9 参照\n",
    "- これらの二値変数はダミー変数と呼ばれる\n",
    "- pandas の get_dummies 関数か scikit-learn の preprocessing モジュールの `OneHotEncodr` で one-hot encoding できる\n",
    "- カテゴリ変数の水準が $n$ 個あるときダミー変数を水準の数だけ作ると多重共線性が起きる（後述）ので、防ぐために $n-1$ 個のダミー変数を作る手法がある\n",
    "    - コンペでは多重共線性が問題にならないことも多い\n",
    "    - 気にせず $n$ 個のダミー変数を作ってしまうのがふつう\n",
    "\n",
    "### 多重共線性\n",
    "- [参考](https://axa.biopapyrus.jp/machine-learning/preprocessing/categorical-data.html)\n",
    "\n",
    "> カテゴリが 4 つあるとき、4 つのダミー変数を用意する必要はない。例えば、sunny、cloudy および rainy に対応するダミー変数を用意して、この 3 つのダミー変数がすべて 0 のときは自動的に snowy を意味するようになる。このような置換手法を dummy encoding という。one-hot encoding に比べ、この dummy encoding の方が多重共線性を回避することができる。\n",
    "\n",
    "### 重大な欠点\n",
    "- 特徴量の数がカテゴリ変数の水準数に応じて増える：学習の計算時間・メモリ消費量が増え、モデルの性能が落ちる\n",
    "- カテゴリ変数が多すぎる場合は次のように対処する\n",
    "    - one-hot encoding 以外の encoding 手法を使う\n",
    "    - 何らかのルールでグルーピングして、カテゴリ変数の水準を減らす\n",
    "    - 頻度の少ないカテゴリをすべて「その他」にまとめる"
   ]
  },
  {
   "cell_type": "markdown",
   "metadata": {},
   "source": [
    "## 3.5.2 label encoding\n",
    "- scikit-learn 由来の命名のようで、label encoding という名前は Python コミュニティの外で通じないかもしれない\n",
    "    - ordinal encoding と呼ばれることもある\n",
    "- 各水準を単純に整数に置換\n",
    "- GBDT では基本的な手法\n",
    "- ふつう水準を文字列として辞書式に並べた順序のインデックスで置換：次のセルが例\n",
    "- 決定木ベースの手法以外ではふつう不適切\n",
    "- scikit-learn の LabelEncoder で対応可能"
   ]
  },
  {
   "cell_type": "markdown",
   "metadata": {},
   "source": [
    "### label encoding の例\n",
    "| 変換前 | 変換後 |\n",
    "|:--------|:--------|\n",
    "| A1     |      0 |\n",
    "| A2     |      1 |\n",
    "| A3     |      2 |\n",
    "| B1     |      3 |\n",
    "| B2     |      4 |\n",
    "| A1     |      0 |\n",
    "| A2     |      1 |\n",
    "| A1     |      0 |"
   ]
  },
  {
   "cell_type": "markdown",
   "metadata": {},
   "source": [
    "## 3.5.3 feature hashing\n",
    "- feature hashing では変換後の特徴量数をカテゴリの水準数より少なくする\n",
    "    - カテゴリの水準数が多く、one-hot encoding では生成される特徴量が多すぎる場合につかう\n",
    "    - 分析コンペだとあまり使わない：水準数が多くても label encoding -> GBDT 学習である程度対応できる\n",
    "    - cf: one-hot encoding での変換後の特徴量数はカテゴリの水準数と同じ\n",
    "- 変換後の特徴量数を最初に決めておき、ハッシュ関数を使って水準ごとにフラグを立てる場所を決める\n",
    "- scikit-learn.feature_extraction の FeatureHasher\n",
    "    - 変換後の特徴量は疎行列で返る"
   ]
  },
  {
   "cell_type": "markdown",
   "metadata": {},
   "source": [
    "## 3.5.4 frequency encoding\n",
    "- 各水準の出現回数・出現頻度でカテゴリ変数を置き換える\n",
    "    - これらに関連がある場合は役に立つ\n",
    "- label encoding の変形としても使える\n",
    "\n",
    "### 注意\n",
    "- 学習データとテストデータで別々に集計すると両者が違う意味の変数になってしまって意味がなくなる\n",
    "- 数値変数のスケーリングと同じ"
   ]
  },
  {
   "cell_type": "markdown",
   "metadata": {},
   "source": [
    "## 3.5.5 target encoding\n",
    "よくわからん\n",
    "\n",
    "- 目的変数を使ってカテゴリ変数を数値に変換する\n",
    "- カテゴリ変数の各水準での目的変数の平均値を学習データで集計し、その値で置換\n",
    "\n",
    "### 注意\n",
    "- 時系列性が強いデータではカテゴリの出現頻度が時間変化しうるため、カテゴリごとの値集計で時間変化を反映できないことがある\n",
    "- 目的変数をリークさせる可能性がある\n",
    "    - 単純にデータ全体から平均を取ると自身のレコードの目的変数をカテゴリ変数に取り込んでしまい、リークする\n",
    "\n",
    "### 手法・実装\n",
    "- 学習データを target encoding 用の fold に分割\n",
    "- 自身の目的変数の値を含めずに変換したい：各 fold ごとに自身の fold 以外のデータで計算する out-of-fold の方法で目的変数の平均値を計算\n",
    "- target encoding の fold 数は 4-10 程度\n",
    "\n",
    "### 手法・実装：クロスバリデーションする場合\n",
    "クロスバリデーションは 5.2.2 で議論。\n",
    "\n",
    "- クロスバリデーションごとに変換をかけ直す必要がある\n",
    "- バリデーションデータの目的変数を変数に含めてはいけない：変換をかけ直す必要がある\n",
    "- 各 fold ではバリデーションデータを除いた学習データについては target encoding 用の fold に分割し、図 3.14 のように変換する\n",
    "    - クロスバリデーションの fold 数だけくり返す\n",
    "\n",
    "### INFORMATION\n",
    "- クロスバリデーションの fold と target encoding の fold の分割を合わせて変換を 1 回で済ませる方法もある\n",
    "\n",
    "### 目的変数の平均の取り方\n",
    "- タスクに応じて次のように平均を取る\n",
    "    - 回帰：目的変数の平均\n",
    "    - 二値分類：正例は 1、負例は 0 として平均（正例の出現頻度を取ることになる）\n",
    "    - 多クラス分類：クラス数だけ二値分類があるとみなし、クラスの数だけ target encoding による特徴量を作る\n",
    "- 平均より中央値を取るべき場合、対数平均を取るべき場合など適宜工夫する\n",
    "\n",
    "### target encoding とリーク：全体データから平均を取る場合\n",
    "- 例：ある水準にあるレコードが 1 つしかない場合、その水準の target encoding の結果は目的変数の値そのものになってしまう。\n",
    "    - 極端な場合：各レコードでユニークな ID の列に対して適用した場合。\n",
    "    - 変換の結果は目的変数の列に完全一致する。\n",
    "- レコード数が少ない水準がある場合は似た問題が起きる：リーク・過学習につながる\n",
    "\n",
    "### target encoding とリーク：leave-one-out での問題\n",
    "- fold 数を多くしすぎても問題が起きる：直観的にはイメージしづらい\n",
    "- 二値分類でカテゴリ変数を leave-one-out （5.2.5 で議論）で target encoding する場合\n",
    "    - 自身の目的変数で変換結果が明確にわかれる。\n",
    "    - 自身のレコードだけを集計に含めないせいで、逆に自身の目的変数を強く反映する\n",
    "\n",
    "### ほかの工夫\n",
    "- リークを防ぐために変換値にノイズをのせる\n",
    "- データ数が少ない水準が極端な値を取らないようにデータ全体の平均と重みづけする"
   ]
  },
  {
   "cell_type": "markdown",
   "metadata": {},
   "source": [
    "## 3.5.6 embedding\n",
    "- 自然言語処理での単語やカテゴリ変数の離散的な表現をベクトルに変換する方法\n",
    "- 分散表現ともいう\n",
    "- 自然言語処理では単語数が大量：単語の特徴をモデルにどう反映させるか？\n",
    "- 意味・性質がよく表現されたベクトルに変換したい\n",
    "\n",
    "### 自然言語処理での word embedding\n",
    "- 単語について学習済みの embedding がいくつか公開されている\n",
    "- Word2Vec, GloVe, tastText...\n",
    "\n",
    "### embedding による学習\n",
    "- ニューラルネットでは embedding layer という層がある：単語やカテゴリ変数をベクトルに変換\n",
    "- 学習後にこの層のウェイト（各カテゴリ変数の変換法）を取り出せば、モデルが学習したカテゴリ変数の各水準が持つ意味・性質を抽出可能\n",
    "- embedding layer のウェイトは外からも設定できる：ある程度単語の意味を理解した状態でモデルの学習が始まる"
   ]
  },
  {
   "cell_type": "markdown",
   "metadata": {},
   "source": [
    "## 3.5.7 順序変数の扱い\n",
    "- 値の順序に意味はあるが間隔には意味がない変数\n",
    "- 決定木系モデル：序列をそのまま整数にして数値変数化\n",
    "- その他：数値変数でも、カテゴリ変数としてみてもいい"
   ]
  },
  {
   "cell_type": "markdown",
   "metadata": {},
   "source": [
    "## 3.5.8 カテゴリ変数の値の意味を抽出する\n",
    "- 型番などが典型的\n",
    "- 単純な encoding では意味が消える\n",
    "- 意味を抽出する処理をかけておく\n",
    "    - ABC-00123, XYZ-00200 のような型番：前半の英字 3 文字と後半の数字 5 文字に分割\n",
    "    - 英数交じりの文字列：数字か否かを特徴量化\n",
    "    - 文字数に違いがある：文字数を特徴量化"
   ]
  },
  {
   "cell_type": "markdown",
   "metadata": {},
   "source": [
    "## 3.6 日付・時刻を表す変数の変換"
   ]
  },
  {
   "cell_type": "markdown",
   "metadata": {},
   "source": [
    "## 3.6.1 日付・時刻を表す変数の変換のポイント\n",
    "- 年月日への分解\n",
    "- 曜日を変数に追加\n",
    "\n",
    "### 学習データとテストデータの分割\n",
    "- 学習データとテストデータが同じ期間なら問題はない\n",
    "- これらの期間が分かれている場合は注意がいる\n",
    "- 例：2017 年までが学習データ、2018 年からがテストデータ\n",
    "    - 年を特徴量にすると、予測は外挿になって手法によっては精度が出ない\n",
    "- 対応策\n",
    "    - 年の情報を含めずにモデルを作る\n",
    "    - テストデータにしかない年を学習データにある最新の年に置換：将来の目的変数の傾向が最直近の年の傾向と近いと仮定\n",
    "- 年の情報の使い方\n",
    "    - 過去 10 年分使えるとしても、3 年分しか使わないなど\n",
    "    - 古すぎるデータは逆にノイズになりうる\n",
    "- 時期データの難しさの例：冬に売り上げが落ちていて施策を打ってよくなったとき、それ以前のデータから学んだ月の特徴量は将来の予測で冬に売り上げが落ちる予測を導いてしまう\n",
    "\n",
    "### 周期的な動きをとらえるための十分なデータがあるか\n",
    "- 月を特徴量にする：年の中での月単位での周期的な変動をとらえようとしている\n",
    "- 学習データが 2 年未満：ある月で目的変数の傾向に動きがあっても、月の影響か別要因かはデータから判断できない\n",
    "- いろいろ考える必要がある\n",
    "    - 目的変数は月よりも気温に相関する\n",
    "    - データが不足してもあえて月を特徴量に含める\n",
    "    - 月を特徴量から排除する\n",
    "- より細かい日・時は十分な周期数があるため特徴量として使いやすい\n",
    "\n",
    "### 周期性を持つ変数の扱い\n",
    "- 月をそのまま数値として扱うと、1 月と 12 月は本来隣り合うのに数値的には最も遠い：手法によっては傾向がうまくとらえられない\n",
    "- 線型モデルの時の難しさ：目的変数が 6-7 月にピークを迎える左右対称な傾向を持つと、月の回帰係数が 0 に近くなってしまう\n",
    "- one-hot encoding を使う手もある：月同士の近さの概念はなくなる\n",
    "- target encoding：目的変数の値に相関するように月を並び替える扱い"
   ]
  },
  {
   "cell_type": "markdown",
   "metadata": {},
   "source": [
    "## 3.6.2 日付・時刻を表す変数変換による特徴量\n",
    "### 年\n",
    "- データの分割のされ方・性質に強く依存する\n",
    "- 年の特徴量を単純に追加\n",
    "- 年の特徴量を加えるが、テストデータにだけ存在する年を学習データの最新の年に置換する\n",
    "- 年を特徴量に含めない\n",
    "- 年や月の情報を使って学習データとして使う期間を制限する\n",
    "\n",
    "### 月\n",
    "- 1 年の間の季節性をとらえる\n",
    "- 2 年未満しかない場合は注意\n",
    "- 境目を季節変動の小さい月にシフトさせたり、one-hot encoding や target encoding したり\n",
    "\n",
    "### 日\n",
    "- 月の中で周期的な傾向があるときにそれを捕まられる\n",
    "- 1-31 まで連続的に変化するとは限らない\n",
    "- 月初・月末・給料日などの特定の日に特徴が表れるケースがある\n",
    "- one-hot encoding だと変数の数が増えすぎるので、「特徴のありそうな日かどうか」という二値変数を作るのも一手\n",
    "- 月末までの駆け込み需要をみたい、など\n",
    "\n",
    "### 年月・月日など\n",
    "- 時間的な情報を細かくとらえたり、丸めて過学習をおさえたり\n",
    "- 学習データとテストデータの期間が重なっていない時の効果は限定的\n",
    "\n",
    "### 曜日・祝日・休日\n",
    "- データが人の行動に関連しているとき、曜日に傾向が出ることがある\n",
    "- 土日か否か、祝日か否か、休日か否か\n",
    "- 翌日・翌々日が休日か、前日・前々日が休日か\n",
    "- 連休の何日目か\n",
    "\n",
    "### 特別な日\n",
    "- 正月、クリスマス、日本ならゴールデンウィークやその前後\n",
    "- ブラックフライデーやスーパーボウルなど年によって日付が変わることもある\n",
    "\n",
    "### 時・分・秒\n",
    "- 時\n",
    "    - 1 日の中での周期的な動きを反映できる\n",
    "    - 数時間単位で丸めたり、特定の時間帯かどうかの二値変数を作ったり\n",
    "- 分・秒\n",
    "    - よほど特別なデータでない限り、これだけを特徴量にしても意味がないことが多い\n",
    "\n",
    "### 時間差\n",
    "- 予測データとある時点での時間差を特徴量とする方法がある\n",
    "- 住宅価格の予測タスク：築年数が重要\n",
    "- 株価：前回の配当があってから何日経ったか、配当の権利確定日まであと何日か"
   ]
  },
  {
   "cell_type": "markdown",
   "metadata": {},
   "source": [
    "## 3.7 変数の組み合わせ\n",
    "- 複数の変数を組み合わせて変数同士の相互作用を表現する\n",
    "- 特徴量の重要度については 6.2.2 で説明\n",
    "\n",
    "### 数値変数×カテゴリ変数\n",
    "- 水準ごとに数値変数の平均・分散などの統計量を取る\n",
    "\n",
    "### 数値変数×数値変数\n",
    "- 数値変数の加減乗除やあまり、2 つの変数が同じかどうか\n",
    "\n",
    "### INFORMATION\n",
    "- GBDT は加減よりも乗除の関係性をとらえるのが難しい\n",
    "- 加減よりも乗除の特徴量を追加した方がモデルが反映できていない部分を補完しやすい\n",
    "\n",
    "### カテゴリ変数×カテゴリ変数\n",
    "- 注意：水準数が非常に多いカテゴリ変数になりうる\n",
    "- 操作：文字列として変数同士を連結し、3.5 で述べたカテゴリ変数を変換する\n",
    "\n",
    "### AUTHOR'S OPINION\n",
    "- カテゴリ変数同士の組み合わせで作った変数の変換は target encoding が有効：細分化されるため\n",
    "- 細分化されるほど平均を計算する母集団が減り、過学習のリスクは高まる\n",
    "\n",
    "### 行の統計量を取る\n",
    "- レコードごとに複数の変数を対象にする\n",
    "- 欠損値・ゼロ・負の値の数をカウントしたり、平均・分散・最大・最小などの統計量を計算する"
   ]
  }
 ],
 "metadata": {
  "jupytext": {
   "encoding": "# -*- coding: utf-8 -*-",
   "formats": "ipynb,md"
  },
  "kernelspec": {
   "display_name": "Python 3",
   "language": "python",
   "name": "python3"
  },
  "language_info": {
   "codemirror_mode": {
    "name": "ipython",
    "version": 3
   },
   "file_extension": ".py",
   "mimetype": "text/x-python",
   "name": "python",
   "nbconvert_exporter": "python",
   "pygments_lexer": "ipython3",
   "version": "3.8.1"
  }
 },
 "nbformat": 4,
 "nbformat_minor": 4
}
