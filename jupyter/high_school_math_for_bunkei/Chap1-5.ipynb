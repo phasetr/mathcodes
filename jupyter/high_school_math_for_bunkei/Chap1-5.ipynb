{
 "cells": [
  {
   "cell_type": "markdown",
   "metadata": {},
   "source": [
    "### リスト1-4　10進数から2進数に変換する（実数対応版）"
   ]
  },
  {
   "cell_type": "code",
   "execution_count": 1,
   "metadata": {},
   "outputs": [],
   "source": [
    "def dec2bin_ex(target):\n",
    "    # targetを整数部と小数部に分ける\n",
    "    i = int(target)  # 整数部\n",
    "    f = target - i   # 小数部\n",
    "    \n",
    "    # 整数部を2進数に変換\n",
    "    a = []  # 余りを入れるリスト\n",
    "\n",
    "    # 割り算の商が0になるまで\n",
    "    while i != 0:\n",
    "        a.append(i % 2)  # 余り\n",
    "        i = i // 2       # 商\n",
    "\n",
    "    # 要素を逆順にする\n",
    "    a.reverse()\n",
    "    \n",
    "    #小数部を2進数に変換\n",
    "    b = []  # 整数部を入れるリスト\n",
    "    n = 0   # 繰り返した回数\n",
    "\n",
    "    # 2を掛けた後の小数部が0になるまで\n",
    "    while (f != 0):\n",
    "        temp = f * 2          # 小数部×2\n",
    "        b.append(int(temp))   # 整数部\n",
    "        f = temp - int(temp)  # 小数部\n",
    "        n += 1 \n",
    "        if (n >= 10):\n",
    "            break\n",
    "    \n",
    "    # 2進数に変換した値\n",
    "    return a, b"
   ]
  },
  {
   "cell_type": "code",
   "execution_count": 2,
   "metadata": {},
   "outputs": [
    {
     "data": {
      "text/plain": [
       "([1, 0, 1, 0], [1, 0, 1])"
      ]
     },
     "execution_count": 2,
     "metadata": {},
     "output_type": "execute_result"
    }
   ],
   "source": [
    "dec2bin_ex(10.625)"
   ]
  },
  {
   "cell_type": "code",
   "execution_count": null,
   "metadata": {},
   "outputs": [],
   "source": []
  }
 ],
 "metadata": {
  "kernelspec": {
   "display_name": "Python 3",
   "language": "python",
   "name": "python3"
  },
  "language_info": {
   "codemirror_mode": {
    "name": "ipython",
    "version": 3
   },
   "file_extension": ".py",
   "mimetype": "text/x-python",
   "name": "python",
   "nbconvert_exporter": "python",
   "pygments_lexer": "ipython3",
   "version": "3.7.0"
  }
 },
 "nbformat": 4,
 "nbformat_minor": 2
}
