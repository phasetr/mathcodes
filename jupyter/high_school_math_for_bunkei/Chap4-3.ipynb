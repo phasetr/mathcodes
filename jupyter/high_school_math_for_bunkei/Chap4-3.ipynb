{
 "cells": [
  {
   "cell_type": "markdown",
   "metadata": {},
   "source": [
    "### 3.1　貢献度を計算する"
   ]
  },
  {
   "cell_type": "code",
   "execution_count": 1,
   "metadata": {},
   "outputs": [
    {
     "data": {
      "text/plain": [
       "5.000000000000001"
      ]
     },
     "execution_count": 1,
     "metadata": {},
     "output_type": "execute_result"
    }
   ],
   "source": [
    "import math\n",
    "10 * math.cos(math.radians(60)) "
   ]
  },
  {
   "cell_type": "markdown",
   "metadata": {},
   "source": [
    "### リスト4-1　直線AB、CDのなす角度"
   ]
  },
  {
   "cell_type": "code",
   "execution_count": 2,
   "metadata": {},
   "outputs": [
    {
     "name": "stdout",
     "output_type": "stream",
     "text": [
      "82.8749836510982\n"
     ]
    }
   ],
   "source": [
    "import math\n",
    "import numpy as np\n",
    "\n",
    "# 座標\n",
    "a = np.array([2, 7]) \n",
    "b = np.array([6, 1])\n",
    "c = np.array([2, 3])\n",
    "d = np.array([6, 5])\n",
    "\n",
    "# ベクトルaとベクトルbの成分\n",
    "va = b - a\n",
    "vb = d - c\n",
    "\n",
    "# ベクトルの大きさ\n",
    "norm_a = np.linalg.norm(va)\n",
    "norm_b = np.linalg.norm(vb)\n",
    "\n",
    "# ベクトルの内積\n",
    "dot_ab = np.dot(va, vb)\n",
    "\n",
    "# 角度を求める\n",
    "cos_th = dot_ab / (norm_a * norm_b)\n",
    "rad = math.acos(cos_th)\n",
    "deg = math.degrees(rad)\n",
    "print(deg)"
   ]
  },
  {
   "cell_type": "code",
   "execution_count": null,
   "metadata": {},
   "outputs": [],
   "source": []
  }
 ],
 "metadata": {
  "kernelspec": {
   "display_name": "Python 3",
   "language": "python",
   "name": "python3"
  },
  "language_info": {
   "codemirror_mode": {
    "name": "ipython",
    "version": 3
   },
   "file_extension": ".py",
   "mimetype": "text/x-python",
   "name": "python",
   "nbconvert_exporter": "python",
   "pygments_lexer": "ipython3",
   "version": "3.7.0"
  }
 },
 "nbformat": 4,
 "nbformat_minor": 2
}
