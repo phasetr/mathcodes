{
 "cells": [
  {
   "cell_type": "markdown",
   "metadata": {},
   "source": [
    "### リスト2-2　キャンディを持っているかどうかを判定する"
   ]
  },
  {
   "cell_type": "code",
   "execution_count": 1,
   "metadata": {},
   "outputs": [],
   "source": [
    "def check_candy(item):\n",
    "    if (item & 0b1000) != 0:   # キャンディフラグが立っているかどうか\n",
    "        print('持っている')\n",
    "    else:\n",
    "        print('持っていない')"
   ]
  },
  {
   "cell_type": "code",
   "execution_count": 2,
   "metadata": {},
   "outputs": [
    {
     "name": "stdout",
     "output_type": "stream",
     "text": [
      "持っている\n"
     ]
    }
   ],
   "source": [
    "taro_item = 9\n",
    "check_candy(taro_item)"
   ]
  },
  {
   "cell_type": "markdown",
   "metadata": {},
   "source": [
    "### リスト2-3　テストの点数で成績を判定する"
   ]
  },
  {
   "cell_type": "code",
   "execution_count": 3,
   "metadata": {},
   "outputs": [],
   "source": [
    "def func_and(score):\n",
    "    if score >= 80:                        # socore が 80以上\n",
    "        rank = 'A'\n",
    "    elif (score >= 60) and (score < 80):  # score が 60～79 の範囲内\n",
    "        rank = 'B'\n",
    "    elif (score >= 40) and (score < 60):  # score が 40～59 の範囲内\n",
    "        rank = 'C'\n",
    "    else:                                  # 上記以外（score が 40未満）\n",
    "        rank = '追試'\n",
    "    return rank"
   ]
  },
  {
   "cell_type": "code",
   "execution_count": 4,
   "metadata": {},
   "outputs": [
    {
     "data": {
      "text/plain": [
       "'B'"
      ]
     },
     "execution_count": 4,
     "metadata": {},
     "output_type": "execute_result"
    }
   ],
   "source": [
    "rank = func_and(78)\n",
    "rank"
   ]
  },
  {
   "cell_type": "markdown",
   "metadata": {},
   "source": [
    "### リスト2-4　Yまたはyが入力されたかどうかを調べる"
   ]
  },
  {
   "cell_type": "code",
   "execution_count": 5,
   "metadata": {},
   "outputs": [],
   "source": [
    "def func_or():\n",
    "    a = input('犬は好きですか？（Y/N）... ')   # キー入力を促すメッセージを表示\n",
    "    if (a == 'Y') or (a == 'y'):  # 「Y」または「y」が入力されたとき\n",
    "        print('はい')\n",
    "    else:                         # 上記以外が入力されたとき\n",
    "        print('いいえ')"
   ]
  },
  {
   "cell_type": "code",
   "execution_count": 6,
   "metadata": {},
   "outputs": [
    {
     "name": "stdout",
     "output_type": "stream",
     "text": [
      "犬は好きですか？（Y/N）... y\n",
      "はい\n"
     ]
    }
   ],
   "source": [
    "func_or()"
   ]
  },
  {
   "cell_type": "code",
   "execution_count": null,
   "metadata": {},
   "outputs": [],
   "source": []
  }
 ],
 "metadata": {
  "kernelspec": {
   "display_name": "Python 3",
   "language": "python",
   "name": "python3"
  },
  "language_info": {
   "codemirror_mode": {
    "name": "ipython",
    "version": 3
   },
   "file_extension": ".py",
   "mimetype": "text/x-python",
   "name": "python",
   "nbconvert_exporter": "python",
   "pygments_lexer": "ipython3",
   "version": "3.7.0"
  }
 },
 "nbformat": 4,
 "nbformat_minor": 2
}
