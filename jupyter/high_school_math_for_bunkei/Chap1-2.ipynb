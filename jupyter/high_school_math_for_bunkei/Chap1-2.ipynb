{
 "cells": [
  {
   "cell_type": "markdown",
   "metadata": {},
   "source": [
    "### リスト1-1　10進数から2進数に変換する"
   ]
  },
  {
   "cell_type": "code",
   "execution_count": 1,
   "metadata": {
    "collapsed": true
   },
   "outputs": [],
   "source": [
    "def dec2bin(target):\n",
    "    amari = []   # 余りを入れるリスト\n",
    "\n",
    "    # 割り算の商が0になるまで\n",
    "    while target != 0:\n",
    "        amari.append(target % 2) # 余り\n",
    "        target = target // 2     # 商\n",
    "\n",
    "    # リストの要素を逆順にして返す\n",
    "    amari.reverse()\n",
    "    return amari"
   ]
  },
  {
   "cell_type": "code",
   "execution_count": 2,
   "metadata": {},
   "outputs": [
    {
     "data": {
      "text/plain": [
       "[1, 1, 0, 1, 0]"
      ]
     },
     "execution_count": 2,
     "metadata": {},
     "output_type": "execute_result"
    }
   ],
   "source": [
    "dec2bin(26)"
   ]
  },
  {
   "cell_type": "markdown",
   "metadata": {},
   "source": [
    "### リスト1-2  10進数から16進数に変換する"
   ]
  },
  {
   "cell_type": "code",
   "execution_count": 3,
   "metadata": {
    "collapsed": true
   },
   "outputs": [],
   "source": [
    "def dec2hex(target):\n",
    "    amari = []  # 余りを入れるリスト\n",
    "\n",
    "    # 割り算の商が0になるまで\n",
    "    while target != 0:\n",
    "        amari.append(target % 16)  # 余り\n",
    "        target = target // 16      # 商\n",
    "\n",
    "    # 余りの10～15をA～Fに置換\n",
    "    for i in range(len(amari)):\n",
    "        if amari[i] == 10:     amari[i] = 'A'\n",
    "        elif amari[i] == 11:   amari[i] = 'B'\n",
    "        elif amari[i] == 12:   amari[i] = 'C'\n",
    "        elif amari[i] == 13:   amari[i] = 'D'\n",
    "        elif amari[i] == 14:   amari[i] = 'E'\n",
    "        elif amari[i] == 15:   amari[i] = 'F'\n",
    "        \n",
    "    # リストの要素を逆順にして返す\n",
    "    amari.reverse()\n",
    "    return amari"
   ]
  },
  {
   "cell_type": "code",
   "execution_count": 4,
   "metadata": {},
   "outputs": [
    {
     "data": {
      "text/plain": [
       "[1, 'A']"
      ]
     },
     "execution_count": 4,
     "metadata": {},
     "output_type": "execute_result"
    }
   ],
   "source": [
    "dec2hex(26)"
   ]
  },
  {
   "cell_type": "markdown",
   "metadata": {},
   "source": [
    "### リスト1-3  m進数から10進数に変換する"
   ]
  },
  {
   "cell_type": "code",
   "execution_count": 5,
   "metadata": {
    "collapsed": true
   },
   "outputs": [],
   "source": [
    "def any2dec(target, m):\n",
    "    n = len(target)-1 # 指数の最大値\n",
    "    sum = 0           # 10進数に変換した値\n",
    "    \n",
    "    # 文字数分の繰り返し\n",
    "    for i in range(len(target)):\n",
    "        if target[i] == 'A':     num = 10\n",
    "        elif target[i] == 'B':   num = 11\n",
    "        elif target[i] == 'C':   num = 12\n",
    "        elif target[i] == 'D':   num = 13\n",
    "        elif target[i] == 'E':   num = 14\n",
    "        elif target[i] == 'F':   num = 15\n",
    "        else:                    num = int(target[i])\n",
    "            \n",
    "        sum += (m ** n) * num  # 「mのn乗×各桁の値」を合計\n",
    "        n -= 1  # 重みを1つ減らす\n",
    "    return sum\n"
   ]
  },
  {
   "cell_type": "code",
   "execution_count": 6,
   "metadata": {},
   "outputs": [
    {
     "data": {
      "text/plain": [
       "26"
      ]
     },
     "execution_count": 6,
     "metadata": {},
     "output_type": "execute_result"
    }
   ],
   "source": [
    "any2dec('11010', 2)"
   ]
  },
  {
   "cell_type": "code",
   "execution_count": 7,
   "metadata": {},
   "outputs": [
    {
     "data": {
      "text/plain": [
       "26"
      ]
     },
     "execution_count": 7,
     "metadata": {},
     "output_type": "execute_result"
    }
   ],
   "source": [
    "any2dec('1A', 16)"
   ]
  },
  {
   "cell_type": "code",
   "execution_count": null,
   "metadata": {
    "collapsed": true
   },
   "outputs": [],
   "source": []
  }
 ],
 "metadata": {
  "kernelspec": {
   "display_name": "Python 3",
   "language": "python",
   "name": "python3"
  },
  "language_info": {
   "codemirror_mode": {
    "name": "ipython",
    "version": 3
   },
   "file_extension": ".py",
   "mimetype": "text/x-python",
   "name": "python",
   "nbconvert_exporter": "python",
   "pygments_lexer": "ipython3",
   "version": "3.6.3"
  }
 },
 "nbformat": 4,
 "nbformat_minor": 2
}
