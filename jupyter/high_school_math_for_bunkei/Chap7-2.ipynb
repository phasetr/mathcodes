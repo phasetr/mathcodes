{
 "cells": [
  {
   "cell_type": "markdown",
   "metadata": {},
   "source": [
    "### 2.1　分散と標準偏差"
   ]
  },
  {
   "cell_type": "code",
   "execution_count": 1,
   "metadata": {},
   "outputs": [
    {
     "data": {
      "text/plain": [
       "0.0"
      ]
     },
     "execution_count": 1,
     "metadata": {},
     "output_type": "execute_result"
    }
   ],
   "source": [
    "import numpy as np\n",
    "owner = [94, 105, 107, 106, 88]  # 店長のデータ\n",
    "mean = np.mean(owner)            # 平均\n",
    "sum = 0\n",
    "for d in owner:\n",
    "    sum = sum + (d - mean) #「データ－平均」の合計を求める\n",
    "sum"
   ]
  },
  {
   "cell_type": "code",
   "execution_count": 2,
   "metadata": {},
   "outputs": [
    {
     "data": {
      "text/plain": [
       "290.0"
      ]
     },
     "execution_count": 2,
     "metadata": {},
     "output_type": "execute_result"
    }
   ],
   "source": [
    "# 「データ－平均」の2乗\n",
    "sum = 0\n",
    "for d in owner:\n",
    "    sum = sum + (d - mean)**2  #「データ－平均」の2乗を合計\n",
    "sum"
   ]
  },
  {
   "cell_type": "code",
   "execution_count": 3,
   "metadata": {},
   "outputs": [
    {
     "data": {
      "text/plain": [
       "(58.0, 7.615773105863909)"
      ]
     },
     "execution_count": 3,
     "metadata": {},
     "output_type": "execute_result"
    }
   ],
   "source": [
    "# 分散と標準偏差\n",
    "import math\n",
    "variance = sum / 5          # 分散\n",
    "stdev = math.sqrt(variance) # 標準偏差\n",
    "variance, stdev"
   ]
  },
  {
   "cell_type": "markdown",
   "metadata": {},
   "source": [
    "### リスト7-4　度数分布図を描画する"
   ]
  },
  {
   "cell_type": "code",
   "execution_count": 4,
   "metadata": {},
   "outputs": [
    {
     "data": {
      "image/png": "[encoded data removed]",
      "text/plain": [
       "<Figure size 432x288 with 1 Axes>"
      ]
     },
     "metadata": {
      "needs_background": "light"
     },
     "output_type": "display_data"
    }
   ],
   "source": [
    "%matplotlib inline\n",
    "import matplotlib.pyplot as plt\n",
    "import pandas as pd\n",
    "\n",
    "# データ読み込み\n",
    "dat = pd.read_csv('onigiri.csv', encoding='SHIFT-JIS')\n",
    "\n",
    "# 度数分布図\n",
    "plt.hist(dat['店長'], bins=range(0, 200, 10), alpha=0.5)\n",
    "plt.hist(dat['太郎'], bins=range(0, 200, 10), alpha=0.5) \n",
    "plt.show()"
   ]
  },
  {
   "cell_type": "markdown",
   "metadata": {},
   "source": [
    "### リスト7-5　平均、分散、標準偏差を求める"
   ]
  },
  {
   "cell_type": "code",
   "execution_count": 5,
   "metadata": {},
   "outputs": [
    {
     "name": "stdout",
     "output_type": "stream",
     "text": [
      "店長---------\n",
      "平均: 98.29\n",
      "分散: 59.5859\n",
      "標準偏差: 7.719190372053276\n",
      "太郎---------\n",
      "平均: 101.23\n",
      "分散: 522.0771\n",
      "標準偏差: 22.849006542954992\n"
     ]
    }
   ],
   "source": [
    "import numpy as np\n",
    "print('店長---------')\n",
    "print('平均:', np.mean(dat['店長']))\n",
    "print('分散:', np.var(dat['店長']))\n",
    "print('標準偏差:', np.std(dat['店長']))\n",
    "\n",
    "print('太郎---------')\n",
    "print('平均:', np.mean(dat['太郎']))\n",
    "print('分散:', np.var(dat['太郎']))\n",
    "print('標準偏差:', np.std(dat['太郎']))"
   ]
  },
  {
   "cell_type": "markdown",
   "metadata": {},
   "source": [
    "### 2.2　偏差値"
   ]
  },
  {
   "cell_type": "code",
   "execution_count": 6,
   "metadata": {},
   "outputs": [
    {
     "data": {
      "text/plain": [
       "57.0"
      ]
     },
     "execution_count": 6,
     "metadata": {},
     "output_type": "execute_result"
    }
   ],
   "source": [
    "# 偏差値の計算\n",
    "def dev_value(score, mean, stdev):\n",
    "    return (score - mean) / stdev * 10 + 50\n",
    "\n",
    "# 4月の偏差値\n",
    "dev_value(320, 278, 60)"
   ]
  },
  {
   "cell_type": "code",
   "execution_count": 7,
   "metadata": {},
   "outputs": [
    {
     "data": {
      "text/plain": [
       "57.0"
      ]
     },
     "execution_count": 7,
     "metadata": {},
     "output_type": "execute_result"
    }
   ],
   "source": [
    "# 9月の偏差値\n",
    "dev_value(430, 388, 60)"
   ]
  },
  {
   "cell_type": "code",
   "execution_count": null,
   "metadata": {
    "collapsed": true
   },
   "outputs": [],
   "source": []
  }
 ],
 "metadata": {
  "kernelspec": {
   "display_name": "Python 3",
   "language": "python",
   "name": "python3"
  },
  "language_info": {
   "codemirror_mode": {
    "name": "ipython",
    "version": 3
   },
   "file_extension": ".py",
   "mimetype": "text/x-python",
   "name": "python",
   "nbconvert_exporter": "python",
   "pygments_lexer": "ipython3",
   "version": "3.6.3"
  }
 },
 "nbformat": 4,
 "nbformat_minor": 2
}
