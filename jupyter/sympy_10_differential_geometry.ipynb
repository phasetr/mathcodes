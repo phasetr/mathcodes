{
 "cells": [
  {
   "cell_type": "markdown",
   "metadata": {},
   "source": [
    "# この notebook を読み進める前に\n",
    "TeX 出力のためには次のコードを読み込ませること。"
   ]
  },
  {
   "cell_type": "code",
   "execution_count": 1,
   "metadata": {},
   "outputs": [],
   "source": [
    "from sympy import *\n",
    "from IPython.display import display\n",
    "init_printing()\n",
    "\n",
    "# シンボル定義\n",
    "x = Symbol('x')\n",
    "y = Symbol('y')\n",
    "z = Symbol('z')"
   ]
  },
  {
   "cell_type": "markdown",
   "metadata": {},
   "source": [
    "# Differential Geometry Module\n",
    "\n",
    "公式ページの抄訳的に.\n",
    "\n",
    "- [公式](http://docs.sympy.org/latest/modules/diffgeom.html)\n",
    "- [memo 英語での解説](https://krastanov.wordpress.com/diff-geometry-in-python/)"
   ]
  },
  {
   "cell_type": "markdown",
   "metadata": {},
   "source": [
    "## class sympy.diffgeom.Manifold\n",
    "\n",
    "多様体のオブジェクト。\n",
    "\n",
    "多様体のチャートのリストとして使う。\n",
    "多様体の位相を研究するための手段は提供しない。"
   ]
  },
  {
   "cell_type": "markdown",
   "metadata": {},
   "source": [
    " ## class sympy.diffgeom.Patch\n",
    "\n",
    "チャートのオブジェクト。"
   ]
  },
  {
   "cell_type": "code",
   "execution_count": 2,
   "metadata": {},
   "outputs": [
    {
     "data": {
      "text/plain": [
       "True"
      ]
     },
     "execution_count": 2,
     "metadata": {},
     "output_type": "execute_result"
    }
   ],
   "source": [
    "from sympy.diffgeom import Manifold, Patch\n",
    "m = Manifold('M', 3)\n",
    "p = Patch('P', m)\n",
    "p in m.patches"
   ]
  },
  {
   "cell_type": "markdown",
   "metadata": {},
   "source": [
    "##  class sympy.diffgeom.CoordSystem\n",
    "\n",
    "座標変換ルールを含む。"
   ]
  },
  {
   "cell_type": "markdown",
   "metadata": {},
   "source": [
    "多様体とチャートを定義し、チャート上に2つの座標系を定義する。"
   ]
  },
  {
   "cell_type": "code",
   "execution_count": 3,
   "metadata": {},
   "outputs": [
    {
     "data": {
      "text/plain": [
       "True"
      ]
     },
     "execution_count": 3,
     "metadata": {},
     "output_type": "execute_result"
    }
   ],
   "source": [
    "from sympy import symbols, sin, cos, pi\n",
    "from sympy.diffgeom import Manifold, Patch, CoordSystem\n",
    "from sympy.simplify import simplify\n",
    "r, theta = symbols('r, theta')\n",
    "m = Manifold('M', 2)\n",
    "patch = Patch('P', m)\n",
    "rect = CoordSystem('rect', patch)\n",
    "polar = CoordSystem('polar', patch)\n",
    "rect in patch.coord_systems"
   ]
  },
  {
   "cell_type": "markdown",
   "metadata": {},
   "source": [
    "2 つの座標系をつなぐ。\n",
    "できる場合は `solve` で逆変換を自動的に見つける。"
   ]
  },
  {
   "cell_type": "code",
   "execution_count": 5,
   "metadata": {
    "scrolled": true
   },
   "outputs": [
    {
     "data": {
      "image/png": "[encoded data removed]",
      "text/latex": [
       "$$\\left[\\begin{matrix}0\\\\0\\end{matrix}\\right]$$"
      ],
      "text/plain": [
       "⎡0⎤\n",
       "⎢ ⎥\n",
       "⎣0⎦"
      ]
     },
     "metadata": {},
     "output_type": "display_data"
    },
    {
     "data": {
      "image/png": "[encoded data removed]",
      "text/latex": [
       "$$\\left[\\begin{matrix}0\\\\2\\end{matrix}\\right]$$"
      ],
      "text/plain": [
       "⎡0⎤\n",
       "⎢ ⎥\n",
       "⎣2⎦"
      ]
     },
     "metadata": {},
     "output_type": "display_data"
    },
    {
     "data": {
      "image/png": "[encoded data removed]",
      "text/latex": [
       "$$\\left[\\begin{matrix}\\sqrt{2}\\\\\\frac{\\pi}{4}\\end{matrix}\\right]$$"
      ],
      "text/plain": [
       "⎡√2⎤\n",
       "⎢  ⎥\n",
       "⎢π ⎥\n",
       "⎢─ ⎥\n",
       "⎣4 ⎦"
      ]
     },
     "metadata": {},
     "output_type": "display_data"
    }
   ],
   "source": [
    "# 極座標に文字と関数を割り当てている\n",
    "polar.connect_to(rect, [r, theta], [r*cos(theta), r*sin(theta)])\n",
    "\n",
    "# 直交座標系に変換\n",
    "display(polar.coord_tuple_transform_to(rect, [0, 2]))\n",
    "display(polar.coord_tuple_transform_to(rect, [2, pi/2]))\n",
    "\n",
    "# 直交座標を極座標に変換\n",
    "display(rect.coord_tuple_transform_to(polar, [1, 1]).applyfunc(simplify))"
   ]
  },
  {
   "cell_type": "markdown",
   "metadata": {},
   "source": [
    "ある座標系の座標で点を定義する。\n",
    "\n",
    "具体的には極座標系で点を指定して、直交座標系での値を計算している。"
   ]
  },
  {
   "cell_type": "code",
   "execution_count": 6,
   "metadata": {},
   "outputs": [
    {
     "data": {
      "image/png": "[encoded data removed]",
      "text/latex": [
       "$$\\left[\\begin{matrix}- \\frac{\\sqrt{2}}{2}\\\\\\frac{\\sqrt{2}}{2}\\end{matrix}\\right]$$"
      ],
      "text/plain": [
       "⎡-√2 ⎤\n",
       "⎢────⎥\n",
       "⎢ 2  ⎥\n",
       "⎢    ⎥\n",
       "⎢ √2 ⎥\n",
       "⎢ ── ⎥\n",
       "⎣ 2  ⎦"
      ]
     },
     "execution_count": 6,
     "metadata": {},
     "output_type": "execute_result"
    }
   ],
   "source": [
    "p = polar.point([1, 3*pi/4])\n",
    "rect.point_to_coords(p)"
   ]
  },
  {
   "cell_type": "markdown",
   "metadata": {},
   "source": [
    "座標関数を定義する：点を取り、座標を返す。\n",
    "\n",
    "`BaseScalarField` のインスタンスになっている。"
   ]
  },
  {
   "cell_type": "code",
   "execution_count": 9,
   "metadata": {},
   "outputs": [
    {
     "data": {
      "image/png": "[encoded data removed]",
      "text/latex": [
       "$$- \\frac{\\sqrt{2}}{2}$$"
      ],
      "text/plain": [
       "-√2 \n",
       "────\n",
       " 2  "
      ]
     },
     "execution_count": 9,
     "metadata": {},
     "output_type": "execute_result"
    }
   ],
   "source": [
    "p = polar.point([1, 3*pi/4])\n",
    "rect.coord_function(0)(p)"
   ]
  },
  {
   "cell_type": "code",
   "execution_count": 10,
   "metadata": {},
   "outputs": [
    {
     "data": {
      "image/png": "[encoded data removed]",
      "text/latex": [
       "$$\\frac{\\sqrt{2}}{2}$$"
      ],
      "text/plain": [
       "√2\n",
       "──\n",
       "2 "
      ]
     },
     "execution_count": 10,
     "metadata": {},
     "output_type": "execute_result"
    }
   ],
   "source": [
    "p = polar.point([1, 3*pi/4])\n",
    "rect.coord_function(1)(p)"
   ]
  },
  {
   "cell_type": "markdown",
   "metadata": {},
   "source": [
    "座標軸に沿った単位ベクトル場を定義する。\n",
    "ベクトルはスカラー場に対する微分作用素で `BaseVectorField` のインスタンスになっている."
   ]
  },
  {
   "cell_type": "code",
   "execution_count": 11,
   "metadata": {},
   "outputs": [
    {
     "data": {
      "image/png": "[encoded data removed]",
      "text/latex": [
       "$$1$$"
      ],
      "text/plain": [
       "1"
      ]
     },
     "metadata": {},
     "output_type": "display_data"
    },
    {
     "data": {
      "image/png": "[encoded data removed]",
      "text/latex": [
       "$$0$$"
      ],
      "text/plain": [
       "0"
      ]
     },
     "metadata": {},
     "output_type": "display_data"
    }
   ],
   "source": [
    "v_x = rect.base_vector(0)\n",
    "x = rect.coord_function(0)\n",
    "display(v_x(x))\n",
    "display(v_x(v_x(x)))"
   ]
  }
 ],
 "metadata": {
  "kernelspec": {
   "display_name": "Python 3",
   "language": "python",
   "name": "python3"
  },
  "language_info": {
   "codemirror_mode": {
    "name": "ipython",
    "version": 3
   },
   "file_extension": ".py",
   "mimetype": "text/x-python",
   "name": "python",
   "nbconvert_exporter": "python",
   "pygments_lexer": "ipython3",
   "version": "3.6.4"
  }
 },
 "nbformat": 4,
 "nbformat_minor": 2
}
