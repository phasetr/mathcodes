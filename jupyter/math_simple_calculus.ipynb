{
 "cells": [
  {
   "cell_type": "markdown",
   "metadata": {},
   "source": [
    "# この notebook を読み進める前に\n",
    "TeX 出力のためには次のコードを読み込ませること。"
   ]
  },
  {
   "cell_type": "code",
   "execution_count": 2,
   "metadata": {},
   "outputs": [],
   "source": [
    "from sympy import *\n",
    "from IPython.display import display\n",
    "init_printing()\n",
    "\n",
    "# シンボル定義\n",
    "x = Symbol('x')\n",
    "y = Symbol('y')"
   ]
  },
  {
   "cell_type": "markdown",
   "metadata": {},
   "source": [
    "## display で出力すると mathjax 連携してくれて素敵"
   ]
  },
  {
   "cell_type": "code",
   "execution_count": 2,
   "metadata": {},
   "outputs": [
    {
     "data": {
      "image/png": "[encoded data removed]",
      "text/latex": [
       "$$2 x - 3 y$$"
      ],
      "text/plain": [
       "2⋅x - 3⋅y"
      ]
     },
     "metadata": {},
     "output_type": "display_data"
    }
   ],
   "source": [
    "display(x + y + x - 4 * y)"
   ]
  },
  {
   "cell_type": "code",
   "execution_count": 3,
   "metadata": {},
   "outputs": [
    {
     "data": {
      "image/png": "[encoded data removed]",
      "text/latex": [
       "$$\\int e^{x} \\cos{\\left (x \\right )}\\, dx = \\frac{e^{x}}{2} \\sin{\\left (x \\right )} + \\frac{e^{x}}{2} \\cos{\\left (x \\right )}$$"
      ],
      "text/plain": [
       "⌠                 x           x       \n",
       "⎮  x             ℯ ⋅sin(x)   ℯ ⋅cos(x)\n",
       "⎮ ℯ ⋅cos(x) dx = ───────── + ─────────\n",
       "⌡                    2           2    "
      ]
     },
     "metadata": {},
     "output_type": "display_data"
    }
   ],
   "source": [
    "a = Integral(cos(x)*exp(x), x)\n",
    "display(Eq(a, a.doit()))"
   ]
  },
  {
   "cell_type": "markdown",
   "metadata": {},
   "source": [
    "# Sympy との連携"
   ]
  },
  {
   "cell_type": "markdown",
   "metadata": {},
   "source": [
    "下記コードはエラーになる."
   ]
  },
  {
   "cell_type": "code",
   "execution_count": 2,
   "metadata": {},
   "outputs": [
    {
     "ename": "TypeError",
     "evalue": "can't convert expression to float",
     "output_type": "error",
     "traceback": [
      "\u001b[1;31m---------------------------------------------------------------------------\u001b[0m",
      "\u001b[1;31mTypeError\u001b[0m                                 Traceback (most recent call last)",
      "\u001b[1;32m<ipython-input-2-22c77e88d56f>\u001b[0m in \u001b[0;36m<module>\u001b[1;34m()\u001b[0m\n\u001b[0;32m      2\u001b[0m \u001b[1;32mimport\u001b[0m \u001b[0mmath\u001b[0m\u001b[1;33m\u001b[0m\u001b[0m\n\u001b[0;32m      3\u001b[0m \u001b[0mtheta\u001b[0m \u001b[1;33m=\u001b[0m \u001b[0mSymbol\u001b[0m\u001b[1;33m(\u001b[0m\u001b[1;34m'theta'\u001b[0m\u001b[1;33m)\u001b[0m\u001b[1;33m\u001b[0m\u001b[0m\n\u001b[1;32m----> 4\u001b[1;33m \u001b[0mmath\u001b[0m\u001b[1;33m.\u001b[0m\u001b[0msin\u001b[0m\u001b[1;33m(\u001b[0m\u001b[0mtheta\u001b[0m\u001b[1;33m)\u001b[0m \u001b[1;33m+\u001b[0m \u001b[0mmath\u001b[0m\u001b[1;33m.\u001b[0m\u001b[0msin\u001b[0m\u001b[1;33m(\u001b[0m\u001b[0mtheta\u001b[0m\u001b[1;33m)\u001b[0m\u001b[1;33m\u001b[0m\u001b[0m\n\u001b[0m",
      "\u001b[1;32mC:\\ap\\Anaconda3\\lib\\site-packages\\sympy\\core\\expr.py\u001b[0m in \u001b[0;36m__float__\u001b[1;34m(self)\u001b[0m\n\u001b[0;32m    224\u001b[0m         \u001b[1;32mif\u001b[0m \u001b[0mresult\u001b[0m\u001b[1;33m.\u001b[0m\u001b[0mis_number\u001b[0m \u001b[1;32mand\u001b[0m \u001b[0mresult\u001b[0m\u001b[1;33m.\u001b[0m\u001b[0mas_real_imag\u001b[0m\u001b[1;33m(\u001b[0m\u001b[1;33m)\u001b[0m\u001b[1;33m[\u001b[0m\u001b[1;36m1\u001b[0m\u001b[1;33m]\u001b[0m\u001b[1;33m:\u001b[0m\u001b[1;33m\u001b[0m\u001b[0m\n\u001b[0;32m    225\u001b[0m             \u001b[1;32mraise\u001b[0m \u001b[0mTypeError\u001b[0m\u001b[1;33m(\u001b[0m\u001b[1;34m\"can't convert complex to float\"\u001b[0m\u001b[1;33m)\u001b[0m\u001b[1;33m\u001b[0m\u001b[0m\n\u001b[1;32m--> 226\u001b[1;33m         \u001b[1;32mraise\u001b[0m \u001b[0mTypeError\u001b[0m\u001b[1;33m(\u001b[0m\u001b[1;34m\"can't convert expression to float\"\u001b[0m\u001b[1;33m)\u001b[0m\u001b[1;33m\u001b[0m\u001b[0m\n\u001b[0m\u001b[0;32m    227\u001b[0m \u001b[1;33m\u001b[0m\u001b[0m\n\u001b[0;32m    228\u001b[0m     \u001b[1;32mdef\u001b[0m \u001b[0m__complex__\u001b[0m\u001b[1;33m(\u001b[0m\u001b[0mself\u001b[0m\u001b[1;33m)\u001b[0m\u001b[1;33m:\u001b[0m\u001b[1;33m\u001b[0m\u001b[0m\n",
      "\u001b[1;31mTypeError\u001b[0m: can't convert expression to float"
     ]
    }
   ],
   "source": [
    "from sympy import Symbol\n",
    "import math\n",
    "theta = Symbol('theta')\n",
    "math.sin(theta) + math.sin(theta)"
   ]
  },
  {
   "cell_type": "markdown",
   "metadata": {},
   "source": [
    "sympy 内で処理すれば計算できる."
   ]
  },
  {
   "cell_type": "code",
   "execution_count": 2,
   "metadata": {},
   "outputs": [
    {
     "data": {
      "image/png": "[encoded data removed]",
      "text/latex": [
       "$$1.0$$"
      ],
      "text/plain": [
       "1.00000000000000"
      ]
     },
     "metadata": {},
     "output_type": "display_data"
    },
    {
     "data": {
      "image/png": "[encoded data removed]",
      "text/latex": [
       "$$2 \\sin{\\left (\\theta \\right )}$$"
      ],
      "text/plain": [
       "2⋅sin(θ)"
      ]
     },
     "metadata": {},
     "output_type": "display_data"
    }
   ],
   "source": [
    "from sympy import Symbol\n",
    "import sympy\n",
    "import math\n",
    "theta = Symbol('theta')\n",
    "\n",
    "display(sympy.sin(math.pi/2))\n",
    "display(sympy.sin(theta) + sympy.sin(theta))"
   ]
  },
  {
   "cell_type": "markdown",
   "metadata": {},
   "source": [
    "物体の投射の式も解けてすごい."
   ]
  },
  {
   "cell_type": "code",
   "execution_count": 3,
   "metadata": {},
   "outputs": [
    {
     "data": {
      "image/png": "[encoded data removed]",
      "text/latex": [
       "$$\\left [ \\frac{u}{g} \\sin{\\left (\\theta \\right )}\\right ]$$"
      ],
      "text/plain": [
       "⎡u⋅sin(θ)⎤\n",
       "⎢────────⎥\n",
       "⎣   g    ⎦"
      ]
     },
     "metadata": {},
     "output_type": "display_data"
    }
   ],
   "source": [
    "from sympy import sin, solve, Symbol\n",
    "u = Symbol('u')\n",
    "t = Symbol('t')\n",
    "g = Symbol('g')\n",
    "theta = Symbol('theta')\n",
    "display(solve(u*sin(theta)-g*t, t))"
   ]
  },
  {
   "cell_type": "markdown",
   "metadata": {},
   "source": [
    "## Sympy で条件指定\n",
    "\n",
    "文字に対して正負を指定できる."
   ]
  },
  {
   "cell_type": "code",
   "execution_count": 11,
   "metadata": {},
   "outputs": [
    {
     "name": "stdout",
     "output_type": "stream",
     "text": [
      "Do Something\n",
      "Do Something\n"
     ]
    }
   ],
   "source": [
    "x = Symbol('x', positive=True)\n",
    "\n",
    "if x > 0:\n",
    "    print('Do Something')\n",
    "else:\n",
    "    print('Do Something else')\n",
    "    \n",
    "if (x + 5) > 0:\n",
    "    print('Do Something')\n",
    "else:\n",
    "    print('Do Something else')"
   ]
  },
  {
   "cell_type": "markdown",
   "metadata": {},
   "source": [
    "# 極限"
   ]
  },
  {
   "cell_type": "markdown",
   "metadata": {},
   "source": [
    "まずはこれ。\n",
    "\n",
    "\\begin{align}\n",
    " \\lim_{x \\to \\infty} \\frac{1}{x} = 0.\n",
    "\\end{align}"
   ]
  },
  {
   "cell_type": "code",
   "execution_count": 4,
   "metadata": {},
   "outputs": [
    {
     "data": {
      "image/png": "[encoded data removed]",
      "text/latex": [
       "$$\\lim_{x \\to \\infty} \\frac{1}{x}$$"
      ],
      "text/plain": [
       "    1\n",
       "lim ─\n",
       "x─→∞x"
      ]
     },
     "metadata": {},
     "output_type": "display_data"
    }
   ],
   "source": [
    "from sympy import Limit, Symbol, S\n",
    "x = Symbol('x')\n",
    "\n",
    "# 未評価のオブジェクト\n",
    "l = Limit(1/x, x, S.Infinity)\n",
    "display(l)"
   ]
  },
  {
   "cell_type": "code",
   "execution_count": 5,
   "metadata": {},
   "outputs": [
    {
     "data": {
      "image/png": "[encoded data removed]",
      "text/latex": [
       "$$0$$"
      ],
      "text/plain": [
       "0"
      ]
     },
     "metadata": {},
     "output_type": "display_data"
    }
   ],
   "source": [
    "# 評価する\n",
    "display(l.doit())"
   ]
  },
  {
   "cell_type": "markdown",
   "metadata": {},
   "source": [
    "## 極限を取る方向の指定\n",
    "\n",
    "`Limit(1/x, x, oo, dir='-')` で `oo` は無限大, `dir='-'` はマイナスから近づくことを表す."
   ]
  },
  {
   "cell_type": "code",
   "execution_count": 6,
   "metadata": {},
   "outputs": [
    {
     "data": {
      "image/png": "[encoded data removed]",
      "text/latex": [
       "$$\\infty$$"
      ],
      "text/plain": [
       "∞"
      ]
     },
     "metadata": {},
     "output_type": "display_data"
    }
   ],
   "source": [
    "display(Limit(1/x, x, 0).doit())"
   ]
  },
  {
   "cell_type": "code",
   "execution_count": 7,
   "metadata": {},
   "outputs": [
    {
     "data": {
      "image/png": "[encoded data removed]",
      "text/latex": [
       "$$\\infty$$"
      ],
      "text/plain": [
       "∞"
      ]
     },
     "metadata": {},
     "output_type": "display_data"
    }
   ],
   "source": [
    "display(Limit(1/x, x, 0, dir='+').doit())"
   ]
  },
  {
   "cell_type": "code",
   "execution_count": 8,
   "metadata": {},
   "outputs": [
    {
     "data": {
      "image/png": "[encoded data removed]",
      "text/latex": [
       "$$-\\infty$$"
      ],
      "text/plain": [
       "-∞"
      ]
     },
     "metadata": {},
     "output_type": "display_data"
    }
   ],
   "source": [
    "display(Limit(1/x, x, 0, dir='-').doit())"
   ]
  },
  {
   "cell_type": "markdown",
   "metadata": {},
   "source": [
    "## 不定形\n",
    "不定形も扱える。\n",
    "\n",
    "次のコードでは $$\\lim_{x \\to 0} \\frac{\\sin x}{x}$$ を計算している."
   ]
  },
  {
   "cell_type": "code",
   "execution_count": 5,
   "metadata": {},
   "outputs": [
    {
     "data": {
      "image/png": "[encoded data removed]",
      "text/latex": [
       "$$1$$"
      ],
      "text/plain": [
       "1"
      ]
     },
     "metadata": {},
     "output_type": "display_data"
    }
   ],
   "source": [
    "from sympy import Symbol, sin\n",
    "display(Limit(sin(x) / x, x, 0).doit())"
   ]
  },
  {
   "cell_type": "markdown",
   "metadata": {},
   "source": [
    "# 自然対数の底"
   ]
  },
  {
   "cell_type": "code",
   "execution_count": 9,
   "metadata": {},
   "outputs": [
    {
     "data": {
      "image/png": "[encoded data removed]",
      "text/latex": [
       "$$e$$"
      ],
      "text/plain": [
       "ℯ"
      ]
     },
     "metadata": {},
     "output_type": "display_data"
    }
   ],
   "source": [
    "from sympy import Limit, Symbol, S\n",
    "n = Symbol('n')\n",
    "display(Limit((1 + 1 / n) ** n, n, S.Infinity).doit())"
   ]
  },
  {
   "cell_type": "markdown",
   "metadata": {},
   "source": [
    "## 別の式を評価\n",
    "\n",
    "\\begin{align}\n",
    " A\n",
    " =\n",
    " P (1 + \\frac{r}{n})^{nt}.\n",
    "\\end{align}"
   ]
  },
  {
   "cell_type": "code",
   "execution_count": 10,
   "metadata": {},
   "outputs": [
    {
     "data": {
      "image/png": "[encoded data removed]",
      "text/latex": [
       "$$p e^{r t}$$"
      ],
      "text/plain": [
       "   r⋅t\n",
       "p⋅ℯ   "
      ]
     },
     "metadata": {},
     "output_type": "display_data"
    }
   ],
   "source": [
    "from sympy import Symbol, Limit, S\n",
    "p = Symbol('p', positive  =True)\n",
    "r = Symbol('r', positive = True)\n",
    "t = Symbol('t', positive = True)\n",
    "display(Limit(p * (1 + r / n) ** (n * t), n, S.Infinity).doit())"
   ]
  },
  {
   "cell_type": "markdown",
   "metadata": {},
   "source": [
    "# 微分"
   ]
  },
  {
   "cell_type": "markdown",
   "metadata": {},
   "source": [
    "## 極限を取る\n",
    "次の関数を微分する.\n",
    "\n",
    "\\begin{align}\n",
    " S(t) =\n",
    " 5 t^2 + 2 t + 8.\n",
    "\\end{align}\n",
    "\n",
    "導関数は次の通り.\n",
    "\\begin{align}\n",
    " S'(t) =\n",
    " 10 t + 2.\n",
    "\\end{align}"
   ]
  },
  {
   "cell_type": "code",
   "execution_count": 11,
   "metadata": {},
   "outputs": [
    {
     "data": {
      "image/png": "[encoded data removed]",
      "text/latex": [
       "$$10 t_{1} + 2$$"
      ],
      "text/plain": [
       "10⋅t₁ + 2"
      ]
     },
     "metadata": {},
     "output_type": "display_data"
    }
   ],
   "source": [
    "from sympy import Symbol, Limit\n",
    "t = Symbol('t')\n",
    "St = 5 * t ** 2 + 2 * t + 8\n",
    "t1 = Symbol('t1')\n",
    "delta_t = Symbol('delta_t')\n",
    "St1 = St.subs({t: t1})\n",
    "St1_delta = St.subs({t: t1 + delta_t})\n",
    "\n",
    "display(Limit((St1_delta - St1) / delta_t, delta_t, 0).doit())"
   ]
  },
  {
   "cell_type": "markdown",
   "metadata": {},
   "source": [
    "## 微分するメソッド"
   ]
  },
  {
   "cell_type": "code",
   "execution_count": 18,
   "metadata": {},
   "outputs": [
    {
     "data": {
      "image/png": "[encoded data removed]",
      "text/latex": [
       "$$\\frac{d}{d t}\\left(5 t^{2} + 2 t + 8\\right)$$"
      ],
      "text/plain": [
       "d ⎛   2          ⎞\n",
       "──⎝5⋅t  + 2⋅t + 8⎠\n",
       "dt                "
      ]
     },
     "metadata": {},
     "output_type": "display_data"
    }
   ],
   "source": [
    "from sympy import Symbol, Derivative\n",
    "t = Symbol('t')\n",
    "St = 5*t**2 + 2*t + 8\n",
    "display(Derivative(St, t))"
   ]
  },
  {
   "cell_type": "code",
   "execution_count": 16,
   "metadata": {},
   "outputs": [
    {
     "data": {
      "image/png": "[encoded data removed]",
      "text/latex": [
       "$$10 t + 2$$"
      ],
      "text/plain": [
       "10⋅t + 2"
      ]
     },
     "metadata": {},
     "output_type": "display_data"
    }
   ],
   "source": [
    "d = Derivative(St, t)\n",
    "display(d.doit())"
   ]
  },
  {
   "cell_type": "markdown",
   "metadata": {},
   "source": [
    "### 導関数に代入もできる"
   ]
  },
  {
   "cell_type": "code",
   "execution_count": 19,
   "metadata": {},
   "outputs": [
    {
     "data": {
      "image/png": "[encoded data removed]",
      "text/latex": [
       "$$10 t_{1} + 2$$"
      ],
      "text/plain": [
       "10⋅t₁ + 2"
      ]
     },
     "metadata": {},
     "output_type": "display_data"
    }
   ],
   "source": [
    "t1 = Symbol('t1')\n",
    "display(d.doit().subs({t:t1}))"
   ]
  },
  {
   "cell_type": "code",
   "execution_count": 20,
   "metadata": {},
   "outputs": [
    {
     "data": {
      "image/png": "[encoded data removed]",
      "text/latex": [
       "$$12$$"
      ],
      "text/plain": [
       "12"
      ]
     },
     "metadata": {},
     "output_type": "display_data"
    }
   ],
   "source": [
    "display(d.doit().subs({t:1}))"
   ]
  },
  {
   "cell_type": "markdown",
   "metadata": {},
   "source": [
    "## 導関数を求めるプログラム"
   ]
  },
  {
   "cell_type": "code",
   "execution_count": 14,
   "metadata": {},
   "outputs": [
    {
     "name": "stdout",
     "output_type": "stream",
     "text": [
      "微分に使う変数: x\n",
      "関数を入力: べきは ^ ではなく ** で入力すること: e ** x + log(x)\n"
     ]
    },
    {
     "data": {
      "image/png": "[encoded data removed]",
      "text/latex": [
       "$$e^{x} \\log{\\left (e \\right )} + \\frac{1}{x}$$"
      ],
      "text/plain": [
       " x          1\n",
       "e ⋅log(e) + ─\n",
       "            x"
      ]
     },
     "metadata": {},
     "output_type": "display_data"
    }
   ],
   "source": [
    "from sympy import Symbol, Derivative, sympify, pprint\n",
    "from sympy.core.sympify import SympifyError\n",
    "\n",
    "def derivative(f, var):\n",
    "    var = Symbol(var)\n",
    "    d = Derivative(f, var).doit()\n",
    "    display(d)\n",
    "\n",
    "if __name__=='__main__':\n",
    "    var = input('微分に使う変数: ')\n",
    "    f = input('関数を入力: べきは ^ ではなく ** で入力すること: ')\n",
    "    try:\n",
    "        f = sympify(f)\n",
    "    except SympifyError:\n",
    "        display('Invalid input')\n",
    "    else:\n",
    "        derivative(f, var)"
   ]
  },
  {
   "cell_type": "markdown",
   "metadata": {},
   "source": [
    "# 高階の導関数や極大極小\n",
    "調べるのは次の関数.\n",
    "\\begin{align}\n",
    " f(x) =\n",
    " x^5 - 30 x^3 + 50 x.\n",
    "\\end{align}"
   ]
  },
  {
   "cell_type": "markdown",
   "metadata": {},
   "source": [
    "## 定義域の制限\n",
    "\n",
    "この例では区間 $[-5,5]$ で考えている."
   ]
  },
  {
   "cell_type": "code",
   "execution_count": 16,
   "metadata": {},
   "outputs": [
    {
     "data": {
      "image/png": "[encoded data removed]",
      "text/plain": [
       "<matplotlib.figure.Figure at 0x1192365c0>"
      ]
     },
     "metadata": {},
     "output_type": "display_data"
    },
    {
     "data": {
      "text/plain": [
       "<sympy.plotting.plot.Plot at 0x11692c9e8>"
      ]
     },
     "execution_count": 16,
     "metadata": {},
     "output_type": "execute_result"
    }
   ],
   "source": [
    "%matplotlib inline\n",
    "from sympy.plotting import plot\n",
    "from sympy import Symbol\n",
    "x = Symbol('x')\n",
    "plot(x ** 5 - 30 * x ** 3 + 50 * x, (x, -5, 5), title='A curve', xlabel='x', ylabel='y')"
   ]
  },
  {
   "cell_type": "markdown",
   "metadata": {},
   "source": [
    "## 導関数の評価"
   ]
  },
  {
   "cell_type": "code",
   "execution_count": 21,
   "metadata": {},
   "outputs": [
    {
     "data": {
      "image/png": "[encoded data removed]",
      "text/latex": [
       "$$5 x^{4} - 90 x^{2} + 50$$"
      ],
      "text/plain": [
       "   4       2     \n",
       "5⋅x  - 90⋅x  + 50"
      ]
     },
     "metadata": {},
     "output_type": "display_data"
    }
   ],
   "source": [
    "from sympy import Symbol, solve, Derivative, pprint\n",
    "x = Symbol('x')\n",
    "f = x**5 - 30*x**3 + 50*x\n",
    "d1 = Derivative(f, x).doit()\n",
    "display(d1)"
   ]
  },
  {
   "cell_type": "markdown",
   "metadata": {},
   "source": [
    "## 導関数（多項式）の解を求める"
   ]
  },
  {
   "cell_type": "code",
   "execution_count": 22,
   "metadata": {},
   "outputs": [
    {
     "data": {
      "image/png": "[encoded data removed]",
      "text/latex": [
       "$$\\left [ - \\sqrt{- \\sqrt{71} + 9}, \\quad \\sqrt{- \\sqrt{71} + 9}, \\quad - \\sqrt{\\sqrt{71} + 9}, \\quad \\sqrt{\\sqrt{71} + 9}\\right ]$$"
      ],
      "text/plain": [
       "⎡   __________    __________     _________    _________⎤\n",
       "⎣-╲╱ -√71 + 9 , ╲╱ -√71 + 9 , -╲╱ √71 + 9 , ╲╱ √71 + 9 ⎦"
      ]
     },
     "metadata": {},
     "output_type": "display_data"
    }
   ],
   "source": [
    "critical_points = solve(d1)\n",
    "display(critical_points)"
   ]
  },
  {
   "cell_type": "markdown",
   "metadata": {},
   "source": [
    "## 2 階の導関数の評価\n",
    "\n",
    "`doit()` では因数分解もしてくれている.\n",
    "ありがた迷惑という趣もある."
   ]
  },
  {
   "cell_type": "code",
   "execution_count": 23,
   "metadata": {},
   "outputs": [
    {
     "data": {
      "image/png": "[encoded data removed]",
      "text/latex": [
       "$$20 x \\left(x^{2} - 9\\right)$$"
      ],
      "text/plain": [
       "     ⎛ 2    ⎞\n",
       "20⋅x⋅⎝x  - 9⎠"
      ]
     },
     "metadata": {},
     "output_type": "display_data"
    }
   ],
   "source": [
    "d2 = Derivative(f, x, 2).doit()\n",
    "display(d2)"
   ]
  },
  {
   "cell_type": "markdown",
   "metadata": {},
   "source": [
    "## 極値を与える点"
   ]
  },
  {
   "cell_type": "code",
   "execution_count": 24,
   "metadata": {
    "collapsed": true
   },
   "outputs": [],
   "source": [
    "A = critical_points[2]\n",
    "B = critical_points[0]\n",
    "C = critical_points[1]\n",
    "D = critical_points[3]"
   ]
  },
  {
   "cell_type": "markdown",
   "metadata": {},
   "source": [
    "## 極値の評価"
   ]
  },
  {
   "cell_type": "code",
   "execution_count": 25,
   "metadata": {},
   "outputs": [
    {
     "name": "stdout",
     "output_type": "stream",
     "text": [
      "127.661060789073\n",
      "-127.661060789073\n",
      "-703.493179468151\n",
      "703.493179468151\n"
     ]
    }
   ],
   "source": [
    "print(d2.subs({x:B}).evalf())\n",
    "print(d2.subs({x:C}).evalf())\n",
    "print(d2.subs({x:A}).evalf())\n",
    "print(d2.subs({x:D}).evalf())"
   ]
  },
  {
   "cell_type": "markdown",
   "metadata": {},
   "source": [
    "## 端点との比較"
   ]
  },
  {
   "cell_type": "code",
   "execution_count": 26,
   "metadata": {},
   "outputs": [
    {
     "name": "stdout",
     "output_type": "stream",
     "text": [
      "705.959460380365\n",
      "25.0846626340294\n",
      "375.000000000000\n",
      "-375.000000000000\n"
     ]
    }
   ],
   "source": [
    "x_min = -5\n",
    "x_max = 5\n",
    "print(f.subs({x:A}).evalf())\n",
    "print(f.subs({x:C}).evalf())\n",
    "print(f.subs({x:x_min}).evalf())\n",
    "print(f.subs({x:x_max}).evalf())"
   ]
  },
  {
   "cell_type": "markdown",
   "metadata": {},
   "source": [
    "# 最急降下法 (gradient ascent method)\n"
   ]
  },
  {
   "cell_type": "code",
   "execution_count": 18,
   "metadata": {},
   "outputs": [
    {
     "data": {
      "text/plain": [
       "'Theta: 44.997815081691805'"
      ]
     },
     "metadata": {},
     "output_type": "display_data"
    },
    {
     "data": {
      "text/plain": [
       "'Maximum Range: 63.7755100185965'"
      ]
     },
     "metadata": {},
     "output_type": "display_data"
    }
   ],
   "source": [
    "import math\n",
    "from sympy import Derivative, Symbol, sin\n",
    "def grad_ascent(x0, f1x, x):\n",
    "    epsilon = 1e-6\n",
    "    step_size = 1e-4\n",
    "    x_old = x0\n",
    "    x_new = x_old + step_size * f1x.subs({x: x_old}).evalf()\n",
    "    while abs(x_old - x_new) > epsilon:\n",
    "        x_old = x_new\n",
    "        x_new = x_old + step_size * f1x.subs({x: x_old}).evalf()\n",
    "    return x_new\n",
    "\n",
    "def find_max_theta(R, theta):\n",
    "    # Calculate the first derivative\n",
    "    R1theta = Derivative(R, theta).doit()\n",
    "    theta0 = 1e-3\n",
    "    theta_max = grad_ascent(theta0, R1theta, theta)\n",
    "    return theta_max\n",
    "\n",
    "if __name__ == '__main__':\n",
    "    # 重力加速度\n",
    "    g = 9.8\n",
    "\n",
    "    # 初期速度\n",
    "    u = 25\n",
    "\n",
    "    # 範囲に関する式\n",
    "    theta = Symbol('theta')\n",
    "    R = u ** 2 * sin(2 * theta) / g\n",
    "\n",
    "    theta_max = find_max_theta(R, theta)\n",
    "    display('Theta: {0}'.format(math.degrees(theta_max)))\n",
    "    display('Maximum Range: {0}'.format(R.subs({theta:theta_max})))"
   ]
  },
  {
   "cell_type": "markdown",
   "metadata": {},
   "source": [
    "## 一般的な最急降下法"
   ]
  },
  {
   "cell_type": "code",
   "execution_count": 37,
   "metadata": {
    "scrolled": true
   },
   "outputs": [
    {
     "name": "stdout",
     "output_type": "stream",
     "text": [
      "Enter a function in one variable: cos(y)\n",
      "Enter the variable to differentiate with respect to: y\n",
      "Enter the initial value of the variable: 1\n",
      "y: 0.00999904956272288\n",
      "Maximum value: 0.999950009920428\n"
     ]
    }
   ],
   "source": [
    "from sympy import Derivative, Symbol, sympify\n",
    "def grad_ascent(x0, f1x, x):\n",
    "    epsilon = 1e-6\n",
    "    step_size = 1e-4\n",
    "    x_old = x0\n",
    "    x_new = x_old + step_size*f1x.subs({x:x_old}).evalf()\n",
    "    while abs(x_old - x_new) > epsilon:\n",
    "        x_old = x_new\n",
    "        x_new = x_old + step_size*f1x.subs({x:x_old}).evalf()\n",
    "    return x_new\n",
    "if __name__ == '__main__':\n",
    "    f = input('Enter a function in one variable: ')\n",
    "    var = input('Enter the variable to differentiate with respect to: ')\n",
    "    var0 = float(input('Enter the initial value of the variable: '))\n",
    "    try:\n",
    "        f = sympify(f)\n",
    "    except SympifyError:\n",
    "        print('Invalid function entered')\n",
    "    else:\n",
    "        var = Symbol(var)\n",
    "        d = Derivative(f, var).doit()\n",
    "        var_max = grad_ascent(var0, d, var)\n",
    "        print('{0}: {1}'.format(var.name, var_max))\n",
    "        print('Maximum value: {0}'.format(f.subs({var:var_max})))"
   ]
  },
  {
   "cell_type": "markdown",
   "metadata": {},
   "source": [
    "# 積分"
   ]
  },
  {
   "cell_type": "code",
   "execution_count": 29,
   "metadata": {
    "collapsed": true
   },
   "outputs": [],
   "source": [
    "from sympy import Integral, Symbol\n",
    "x = Symbol('x')\n",
    "k = Symbol('k')"
   ]
  },
  {
   "cell_type": "markdown",
   "metadata": {},
   "source": [
    "## 不定積分\n",
    "\n",
    "文字定数込みで計算してくれる。"
   ]
  },
  {
   "cell_type": "code",
   "execution_count": 30,
   "metadata": {},
   "outputs": [
    {
     "data": {
      "image/png": "[encoded data removed]",
      "text/latex": [
       "$$\\frac{k x^{2}}{2}$$"
      ],
      "text/plain": [
       "   2\n",
       "k⋅x \n",
       "────\n",
       " 2  "
      ]
     },
     "metadata": {},
     "output_type": "display_data"
    }
   ],
   "source": [
    "i = Integral(k*x, x)\n",
    "display(i.doit())"
   ]
  },
  {
   "cell_type": "markdown",
   "metadata": {},
   "source": [
    "## 定積分\n",
    "\n",
    "文字定数込みで計算してくれる。"
   ]
  },
  {
   "cell_type": "code",
   "execution_count": 31,
   "metadata": {},
   "outputs": [
    {
     "data": {
      "image/png": "[encoded data removed]",
      "text/latex": [
       "$$2 k$$"
      ],
      "text/plain": [
       "2⋅k"
      ]
     },
     "metadata": {},
     "output_type": "display_data"
    }
   ],
   "source": [
    "d = Integral(k*x, (x, 0, 2))\n",
    "display(d.doit())"
   ]
  },
  {
   "cell_type": "markdown",
   "metadata": {},
   "source": [
    "## いくつかの積分計算\n",
    "\n",
    "実行に少し時間がかかるコードあり."
   ]
  },
  {
   "cell_type": "code",
   "execution_count": 32,
   "metadata": {},
   "outputs": [
    {
     "data": {
      "image/png": "[encoded data removed]",
      "text/latex": [
       "$$6$$"
      ],
      "text/plain": [
       "6"
      ]
     },
     "metadata": {},
     "output_type": "display_data"
    }
   ],
   "source": [
    "from sympy import Integral, Symbol\n",
    "x = Symbol('x')\n",
    "display(Integral(x, (x, 2, 4)).doit())"
   ]
  },
  {
   "cell_type": "markdown",
   "metadata": {},
   "source": [
    "## 積分計算: 誤差関数"
   ]
  },
  {
   "cell_type": "code",
   "execution_count": 3,
   "metadata": {},
   "outputs": [
    {
     "data": {
      "image/png": "[encoded data removed]",
      "text/latex": [
       "$$\\frac{\\sqrt{2}}{2 \\sqrt{\\pi}} e^{- \\frac{1}{2} \\left(x - 10\\right)^{2}}$$"
      ],
      "text/plain": [
       "             2 \n",
       "    -(x - 10)  \n",
       "    ───────────\n",
       "         2     \n",
       "√2⋅ℯ           \n",
       "───────────────\n",
       "      2⋅√π     "
      ]
     },
     "metadata": {},
     "output_type": "display_data"
    },
    {
     "data": {
      "image/png": "[encoded data removed]",
      "text/latex": [
       "$$\\int_{11}^{12} \\frac{\\sqrt{2}}{2 \\sqrt{\\pi}} e^{- \\frac{1}{2} \\left(x - 10\\right)^{2}}\\, dx$$"
      ],
      "text/plain": [
       "12                   \n",
       "⌠                    \n",
       "⎮               2    \n",
       "⎮      -(x - 10)     \n",
       "⎮      ───────────   \n",
       "⎮           2        \n",
       "⎮  √2⋅ℯ              \n",
       "⎮  ─────────────── dx\n",
       "⎮        2⋅√π        \n",
       "⌡                    \n",
       "11                   "
      ]
     },
     "metadata": {},
     "output_type": "display_data"
    }
   ],
   "source": [
    "from sympy import Symbol, exp, sqrt, pi, Integral\n",
    "x = Symbol('x')\n",
    "p = exp(-(x - 10)**2/2)/sqrt(2*pi)\n",
    "display(p)\n",
    "i = Integral(p, (x, 11, 12))\n",
    "display(i)"
   ]
  },
  {
   "cell_type": "markdown",
   "metadata": {},
   "source": [
    "全然うれしくない誤差関数での結果になった。"
   ]
  },
  {
   "cell_type": "code",
   "execution_count": 4,
   "metadata": {
    "scrolled": true
   },
   "outputs": [
    {
     "data": {
      "image/png": "[encoded data removed]",
      "text/latex": [
       "$$- \\frac{1}{2} \\operatorname{erf}{\\left (\\frac{\\sqrt{2}}{2} \\right )} + \\frac{1}{2} \\operatorname{erf}{\\left (\\sqrt{2} \\right )}$$"
      ],
      "text/plain": [
       "     ⎛√2⎞          \n",
       "  erf⎜──⎟          \n",
       "     ⎝2 ⎠   erf(√2)\n",
       "- ─────── + ───────\n",
       "     2         2   "
      ]
     },
     "metadata": {},
     "output_type": "display_data"
    }
   ],
   "source": [
    "display(i.doit())"
   ]
  },
  {
   "cell_type": "markdown",
   "metadata": {},
   "source": [
    "### 誤差関数の値を具体的に評価"
   ]
  },
  {
   "cell_type": "code",
   "execution_count": 36,
   "metadata": {},
   "outputs": [
    {
     "data": {
      "image/png": "[encoded data removed]",
      "text/latex": [
       "$$0.135905121983278$$"
      ],
      "text/plain": [
       "0.135905121983278"
      ]
     },
     "metadata": {},
     "output_type": "display_data"
    }
   ],
   "source": [
    "display(Integral(p, (x, 11, 12)).doit().evalf())"
   ]
  },
  {
   "cell_type": "markdown",
   "metadata": {},
   "source": [
    "### ガウシアンを実軸上で定積分\n",
    "確率密度なので 1 になってくれないと困る。\n",
    "\n",
    "\\begin{align}\n",
    " \\frac{1}{\\sqrt{2 \\pi}} \\int_{\\mathbb{R}} e^{- (x-10)^2 / 2 \\pi} dx\n",
    " = 1.\n",
    "\\end{align}"
   ]
  },
  {
   "cell_type": "code",
   "execution_count": 5,
   "metadata": {},
   "outputs": [
    {
     "data": {
      "image/png": "[encoded data removed]",
      "text/latex": [
       "$$\\int_{-\\infty}^{\\infty} \\frac{\\sqrt{2}}{2 \\sqrt{\\pi}} e^{- \\frac{1}{2} \\left(x - 10\\right)^{2}}\\, dx$$"
      ],
      "text/plain": [
       "∞                    \n",
       "⌠                    \n",
       "⎮               2    \n",
       "⎮      -(x - 10)     \n",
       "⎮      ───────────   \n",
       "⎮           2        \n",
       "⎮  √2⋅ℯ              \n",
       "⎮  ─────────────── dx\n",
       "⎮        2⋅√π        \n",
       "⌡                    \n",
       "-∞                   "
      ]
     },
     "metadata": {},
     "output_type": "display_data"
    },
    {
     "data": {
      "image/png": "[encoded data removed]",
      "text/latex": [
       "$$1$$"
      ],
      "text/plain": [
       "1"
      ]
     },
     "metadata": {},
     "output_type": "display_data"
    },
    {
     "data": {
      "image/png": "[encoded data removed]",
      "text/latex": [
       "$$1.0$$"
      ],
      "text/plain": [
       "1.00000000000000"
      ]
     },
     "metadata": {},
     "output_type": "display_data"
    }
   ],
   "source": [
    "from sympy import Symbol, exp, sqrt, pi, Integral, S\n",
    "x = Symbol('x')\n",
    "p = exp(-(x - 10) ** 2 / 2) / sqrt(2 * pi)\n",
    "i = Integral(p, (x, S.NegativeInfinity, S.Infinity))\n",
    "display(i)\n",
    "display(i.doit())\n",
    "display(i.doit().evalf())"
   ]
  },
  {
   "cell_type": "markdown",
   "metadata": {},
   "source": [
    "### 一般形でやっても大丈夫\n",
    "\n",
    "全空間積分なら結果は文字定数に依存しないので。"
   ]
  },
  {
   "cell_type": "code",
   "execution_count": 6,
   "metadata": {
    "scrolled": true
   },
   "outputs": [
    {
     "data": {
      "image/png": "[encoded data removed]",
      "text/latex": [
       "$$\\int_{-\\infty}^{\\infty} \\frac{\\sqrt{2}}{2 \\sqrt{\\pi} \\sqrt{a}} e^{- \\frac{\\left(- m + x\\right)^{2}}{2 a}}\\, dx$$"
      ],
      "text/plain": [
       "∞                    \n",
       "⌠                    \n",
       "⎮               2    \n",
       "⎮      -(-m + x)     \n",
       "⎮      ───────────   \n",
       "⎮          2⋅a       \n",
       "⎮  √2⋅ℯ              \n",
       "⎮  ─────────────── dx\n",
       "⎮      2⋅√π⋅√a       \n",
       "⌡                    \n",
       "-∞                   "
      ]
     },
     "metadata": {},
     "output_type": "display_data"
    },
    {
     "data": {
      "image/png": "[encoded data removed]",
      "text/latex": [
       "$$1$$"
      ],
      "text/plain": [
       "1"
      ]
     },
     "metadata": {},
     "output_type": "display_data"
    },
    {
     "data": {
      "image/png": "[encoded data removed]",
      "text/latex": [
       "$$1.0$$"
      ],
      "text/plain": [
       "1.00000000000000"
      ]
     },
     "metadata": {},
     "output_type": "display_data"
    }
   ],
   "source": [
    "from sympy import Symbol, exp, sqrt, pi, Integral, S\n",
    "x,m = symbols('x,m')\n",
    "a = Symbol(\"a\", positive=True)\n",
    "p = exp(-(x - m) ** 2 / (2 * a)) / sqrt(2 * pi * a)\n",
    "i = Integral(p, (x, S.NegativeInfinity, S.Infinity))\n",
    "display(i)\n",
    "display(i.doit())\n",
    "display(i.doit().evalf())"
   ]
  },
  {
   "cell_type": "markdown",
   "metadata": {},
   "source": [
    "### 参考：`a` は正値にしなければならない\n",
    "\n",
    "要は `a = Symbol(\"a\", positive=True)` が必要。\n",
    "複素数と解釈されてしまう。"
   ]
  },
  {
   "cell_type": "code",
   "execution_count": 8,
   "metadata": {
    "scrolled": true
   },
   "outputs": [
    {
     "data": {
      "image/png": "[encoded data removed]",
      "text/latex": [
       "$$\\int_{-\\infty}^{\\infty} \\frac{\\sqrt{2}}{2 \\sqrt{\\pi} \\sqrt{a}} e^{- \\frac{\\left(- m + x\\right)^{2}}{2 a}}\\, dx$$"
      ],
      "text/plain": [
       "∞                    \n",
       "⌠                    \n",
       "⎮               2    \n",
       "⎮      -(-m + x)     \n",
       "⎮      ───────────   \n",
       "⎮          2⋅a       \n",
       "⎮  √2⋅ℯ              \n",
       "⎮  ─────────────── dx\n",
       "⎮      2⋅√π⋅√a       \n",
       "⌡                    \n",
       "-∞                   "
      ]
     },
     "metadata": {},
     "output_type": "display_data"
    },
    {
     "data": {
      "image/png": "[encoded data removed]",
      "text/latex": [
       "$$\\begin{cases} 1 & \\text{for}\\: \\left(\\left(\\left|{\\operatorname{periodic_{argument}}{\\left (\\frac{1}{\\operatorname{polar\\_lift}{\\left (a \\right )}},\\infty \\right )}}\\right| \\leq \\frac{\\pi}{2} \\wedge \\left|{\\operatorname{periodic_{argument}}{\\left (\\frac{\\operatorname{polar\\_lift}^{2}{\\left (m \\right )}}{\\operatorname{polar\\_lift}^{2}{\\left (a \\right )}},\\infty \\right )}}\\right| < \\pi\\right) \\vee \\left(\\left|{\\operatorname{periodic_{argument}}{\\left (\\frac{\\operatorname{polar\\_lift}^{2}{\\left (m \\right )}}{\\operatorname{polar\\_lift}^{2}{\\left (a \\right )}},\\infty \\right )}}\\right| \\leq \\pi \\wedge \\left|{\\operatorname{periodic_{argument}}{\\left (\\frac{1}{\\operatorname{polar\\_lift}{\\left (a \\right )}},\\infty \\right )}}\\right| < \\frac{\\pi}{2}\\right) \\vee \\left(\\left|{\\operatorname{periodic_{argument}}{\\left (\\frac{\\operatorname{polar\\_lift}^{2}{\\left (m \\right )}}{\\operatorname{polar\\_lift}^{2}{\\left (a \\right )}},\\infty \\right )}}\\right| < \\pi \\wedge \\left|{\\operatorname{periodic_{argument}}{\\left (\\frac{1}{\\operatorname{polar\\_lift}{\\left (a \\right )}},\\infty \\right )}}\\right| < \\frac{\\pi}{2}\\right) \\vee \\left|{\\operatorname{periodic_{argument}}{\\left (\\frac{1}{\\operatorname{polar\\_lift}{\\left (a \\right )}},\\infty \\right )}}\\right| < \\frac{\\pi}{2}\\right) \\wedge \\left(\\left(\\left|{\\operatorname{periodic_{argument}}{\\left (\\frac{1}{\\operatorname{polar\\_lift}{\\left (a \\right )}},\\infty \\right )}}\\right| \\leq \\frac{\\pi}{2} \\wedge \\left|{\\operatorname{periodic_{argument}}{\\left (\\frac{e^{2 i \\pi} \\operatorname{polar\\_lift}^{2}{\\left (m \\right )}}{\\operatorname{polar\\_lift}^{2}{\\left (a \\right )}},\\infty \\right )}}\\right| < \\pi\\right) \\vee \\left(\\left|{\\operatorname{periodic_{argument}}{\\left (\\frac{e^{2 i \\pi} \\operatorname{polar\\_lift}^{2}{\\left (m \\right )}}{\\operatorname{polar\\_lift}^{2}{\\left (a \\right )}},\\infty \\right )}}\\right| \\leq \\pi \\wedge \\left|{\\operatorname{periodic_{argument}}{\\left (\\frac{1}{\\operatorname{polar\\_lift}{\\left (a \\right )}},\\infty \\right )}}\\right| < \\frac{\\pi}{2}\\right) \\vee \\left(\\left|{\\operatorname{periodic_{argument}}{\\left (\\frac{e^{2 i \\pi} \\operatorname{polar\\_lift}^{2}{\\left (m \\right )}}{\\operatorname{polar\\_lift}^{2}{\\left (a \\right )}},\\infty \\right )}}\\right| < \\pi \\wedge \\left|{\\operatorname{periodic_{argument}}{\\left (\\frac{1}{\\operatorname{polar\\_lift}{\\left (a \\right )}},\\infty \\right )}}\\right| < \\frac{\\pi}{2}\\right) \\vee \\left|{\\operatorname{periodic_{argument}}{\\left (\\frac{1}{\\operatorname{polar\\_lift}{\\left (a \\right )}},\\infty \\right )}}\\right| < \\frac{\\pi}{2}\\right) \\\\\\int_{-\\infty}^{\\infty} \\frac{\\sqrt{2}}{2 \\sqrt{\\pi} \\sqrt{a}} e^{- \\frac{\\left(- m + x\\right)^{2}}{2 a}}\\, dx & \\text{otherwise} \\end{cases}$$"
      ],
      "text/plain": [
       "⎧                           ⎛⎛                                            │   \n",
       "⎪                           ⎜⎜│                 ⎛      1         ⎞│   π   │   \n",
       "⎪          1            for ⎜⎜│periodic_argument⎜─────────────, ∞⎟│ ≤ ─ ∧ │per\n",
       "⎪                           ⎜⎜│                 ⎝polar_lift(a)   ⎠│   2   │   \n",
       "⎪                           ⎝⎝                                            │   \n",
       "⎪                                                                             \n",
       "⎪∞                                                                            \n",
       "⎪⌠                                                                            \n",
       "⎨⎮               2                                                            \n",
       "⎪⎮      -(-m + x)                                                             \n",
       "⎪⎮      ───────────                                                           \n",
       "⎪⎮          2⋅a                                                               \n",
       "⎪⎮  √2⋅ℯ                                                                      \n",
       "⎪⎮  ─────────────── dx                                                        \n",
       "⎪⎮      2⋅√π⋅√a                                                               \n",
       "⎪⌡                                                                            \n",
       "⎩-∞                                                                           \n",
       "\n",
       "              ⎛          2      ⎞│    ⎞   ⎛│                 ⎛          2     \n",
       "              ⎜polar_lift (m)   ⎟│    ⎟   ⎜│                 ⎜polar_lift (m)  \n",
       "iodic_argument⎜──────────────, ∞⎟│ < π⎟ ∨ ⎜│periodic_argument⎜──────────────, \n",
       "              ⎜          2      ⎟│    ⎟   ⎜│                 ⎜          2     \n",
       "              ⎝polar_lift (a)   ⎠│    ⎠   ⎝│                 ⎝polar_lift (a)  \n",
       "                                                                              \n",
       "                                                                              \n",
       "                                                                              \n",
       "                                                                              \n",
       "                                                                              \n",
       "                                                                              \n",
       "                                                                              \n",
       "                                                                              \n",
       "                                                                              \n",
       "                                                                              \n",
       "                                                                              \n",
       "                                                                              \n",
       "\n",
       " ⎞│                                                ⎞   ⎛│                 ⎛   \n",
       " ⎟│       │                 ⎛      1         ⎞│   π⎟   ⎜│                 ⎜pol\n",
       "∞⎟│ ≤ π ∧ │periodic_argument⎜─────────────, ∞⎟│ < ─⎟ ∨ ⎜│periodic_argument⎜───\n",
       " ⎟│       │                 ⎝polar_lift(a)   ⎠│   2⎟   ⎜│                 ⎜   \n",
       " ⎠│                                                ⎠   ⎝│                 ⎝pol\n",
       "                                                                              \n",
       "                                                                              \n",
       "                                                                              \n",
       "                                                                              \n",
       "                                                                              \n",
       "                                                                              \n",
       "                                                                              \n",
       "                                                                              \n",
       "                                                                              \n",
       "                                                                              \n",
       "                                                                              \n",
       "                                                                              \n",
       "\n",
       "       2      ⎞│                                                ⎞             \n",
       "ar_lift (m)   ⎟│       │                 ⎛      1         ⎞│   π⎟   │         \n",
       "───────────, ∞⎟│ < π ∧ │periodic_argument⎜─────────────, ∞⎟│ < ─⎟ ∨ │periodic_\n",
       "       2      ⎟│       │                 ⎝polar_lift(a)   ⎠│   2⎟   │         \n",
       "ar_lift (a)   ⎠│                                                ⎠             \n",
       "                                                                              \n",
       "                                                                              \n",
       "                                                                              \n",
       "                                                                              \n",
       "                                                                              \n",
       "                                                                              \n",
       "                                                                              \n",
       "                                                                              \n",
       "                                                                              \n",
       "                                                                              \n",
       "                                                                              \n",
       "                                                                              \n",
       "\n",
       "                               ⎞   ⎛⎛                                         \n",
       "        ⎛      1         ⎞│   π⎟   ⎜⎜│                 ⎛      1         ⎞│   π\n",
       "argument⎜─────────────, ∞⎟│ < ─⎟ ∧ ⎜⎜│periodic_argument⎜─────────────, ∞⎟│ ≤ ─\n",
       "        ⎝polar_lift(a)   ⎠│   2⎟   ⎜⎜│                 ⎝polar_lift(a)   ⎠│   2\n",
       "                               ⎠   ⎝⎝                                         \n",
       "                                                                              \n",
       "                                                                              \n",
       "                                                                              \n",
       "                                                                              \n",
       "                                                                              \n",
       "                                                                              \n",
       "                                                                              \n",
       "                                                                              \n",
       "                                     otherwise                                \n",
       "                                                                              \n",
       "                                                                              \n",
       "                                                                              \n",
       "\n",
       "   │                 ⎛ 2⋅ⅈ⋅π           2      ⎞│    ⎞   ⎛│                 ⎛ 2\n",
       "   │                 ⎜ℯ     ⋅polar_lift (m)   ⎟│    ⎟   ⎜│                 ⎜ℯ \n",
       " ∧ │periodic_argument⎜─────────────────────, ∞⎟│ < π⎟ ∨ ⎜│periodic_argument⎜──\n",
       "   │                 ⎜              2         ⎟│    ⎟   ⎜│                 ⎜  \n",
       "   │                 ⎝    polar_lift (a)      ⎠│    ⎠   ⎝│                 ⎝  \n",
       "                                                                              \n",
       "                                                                              \n",
       "                                                                              \n",
       "                                                                              \n",
       "                                                                              \n",
       "                                                                              \n",
       "                                                                              \n",
       "                                                                              \n",
       "                                                                              \n",
       "                                                                              \n",
       "                                                                              \n",
       "                                                                              \n",
       "\n",
       "⋅ⅈ⋅π           2      ⎞│                                                ⎞   ⎛│\n",
       "    ⋅polar_lift (m)   ⎟│       │                 ⎛      1         ⎞│   π⎟   ⎜│\n",
       "───────────────────, ∞⎟│ ≤ π ∧ │periodic_argument⎜─────────────, ∞⎟│ < ─⎟ ∨ ⎜│\n",
       "            2         ⎟│       │                 ⎝polar_lift(a)   ⎠│   2⎟   ⎜│\n",
       "  polar_lift (a)      ⎠│                                                ⎠   ⎝│\n",
       "                                                                              \n",
       "                                                                              \n",
       "                                                                              \n",
       "                                                                              \n",
       "                                                                              \n",
       "                                                                              \n",
       "                                                                              \n",
       "                                                                              \n",
       "                                                                              \n",
       "                                                                              \n",
       "                                                                              \n",
       "                                                                              \n",
       "\n",
       "                 ⎛ 2⋅ⅈ⋅π           2      ⎞│                                  \n",
       "                 ⎜ℯ     ⋅polar_lift (m)   ⎟│       │                 ⎛      1 \n",
       "periodic_argument⎜─────────────────────, ∞⎟│ < π ∧ │periodic_argument⎜────────\n",
       "                 ⎜              2         ⎟│       │                 ⎝polar_li\n",
       "                 ⎝    polar_lift (a)      ⎠│                                  \n",
       "                                                                              \n",
       "                                                                              \n",
       "                                                                              \n",
       "                                                                              \n",
       "                                                                              \n",
       "                                                                              \n",
       "                                                                              \n",
       "                                                                              \n",
       "                                                                              \n",
       "                                                                              \n",
       "                                                                              \n",
       "                                                                              \n",
       "\n",
       "              ⎞                                            ⎞\n",
       "        ⎞│   π⎟   │                 ⎛      1         ⎞│   π⎟\n",
       "─────, ∞⎟│ < ─⎟ ∨ │periodic_argument⎜─────────────, ∞⎟│ < ─⎟\n",
       "ft(a)   ⎠│   2⎟   │                 ⎝polar_lift(a)   ⎠│   2⎟\n",
       "              ⎠                                            ⎠\n",
       "                                                            \n",
       "                                                            \n",
       "                                                            \n",
       "                                                            \n",
       "                                                            \n",
       "                                                            \n",
       "                                                            \n",
       "                                                            \n",
       "                                                            \n",
       "                                                            \n",
       "                                                            \n",
       "                                                            "
      ]
     },
     "metadata": {},
     "output_type": "display_data"
    },
    {
     "data": {
      "image/png": "[encoded data removed]",
      "text/latex": [
       "$$\\begin{cases} 1.0 & \\text{for}\\: \\left(\\left(\\left|{\\operatorname{periodic_{argument}}{\\left (\\frac{1}{\\operatorname{polar\\_lift}{\\left (a \\right )}},\\infty \\right )}}\\right| \\leq \\frac{\\pi}{2} \\wedge \\left|{\\operatorname{periodic_{argument}}{\\left (\\frac{\\operatorname{polar\\_lift}^{2}{\\left (m \\right )}}{\\operatorname{polar\\_lift}^{2}{\\left (a \\right )}},\\infty \\right )}}\\right| < \\pi\\right) \\vee \\left(\\left|{\\operatorname{periodic_{argument}}{\\left (\\frac{\\operatorname{polar\\_lift}^{2}{\\left (m \\right )}}{\\operatorname{polar\\_lift}^{2}{\\left (a \\right )}},\\infty \\right )}}\\right| \\leq \\pi \\wedge \\left|{\\operatorname{periodic_{argument}}{\\left (\\frac{1}{\\operatorname{polar\\_lift}{\\left (a \\right )}},\\infty \\right )}}\\right| < \\frac{\\pi}{2}\\right) \\vee \\left(\\left|{\\operatorname{periodic_{argument}}{\\left (\\frac{\\operatorname{polar\\_lift}^{2}{\\left (m \\right )}}{\\operatorname{polar\\_lift}^{2}{\\left (a \\right )}},\\infty \\right )}}\\right| < \\pi \\wedge \\left|{\\operatorname{periodic_{argument}}{\\left (\\frac{1}{\\operatorname{polar\\_lift}{\\left (a \\right )}},\\infty \\right )}}\\right| < \\frac{\\pi}{2}\\right) \\vee \\left|{\\operatorname{periodic_{argument}}{\\left (\\frac{1}{\\operatorname{polar\\_lift}{\\left (a \\right )}},\\infty \\right )}}\\right| < \\frac{\\pi}{2}\\right) \\wedge \\left(\\left(\\left|{\\operatorname{periodic_{argument}}{\\left (\\frac{1}{\\operatorname{polar\\_lift}{\\left (a \\right )}},\\infty \\right )}}\\right| \\leq \\frac{\\pi}{2} \\wedge \\left|{\\operatorname{periodic_{argument}}{\\left (\\frac{e^{2 i \\pi} \\operatorname{polar\\_lift}^{2}{\\left (m \\right )}}{\\operatorname{polar\\_lift}^{2}{\\left (a \\right )}},\\infty \\right )}}\\right| < \\pi\\right) \\vee \\left(\\left|{\\operatorname{periodic_{argument}}{\\left (\\frac{e^{2 i \\pi} \\operatorname{polar\\_lift}^{2}{\\left (m \\right )}}{\\operatorname{polar\\_lift}^{2}{\\left (a \\right )}},\\infty \\right )}}\\right| \\leq \\pi \\wedge \\left|{\\operatorname{periodic_{argument}}{\\left (\\frac{1}{\\operatorname{polar\\_lift}{\\left (a \\right )}},\\infty \\right )}}\\right| < \\frac{\\pi}{2}\\right) \\vee \\left(\\left|{\\operatorname{periodic_{argument}}{\\left (\\frac{e^{2 i \\pi} \\operatorname{polar\\_lift}^{2}{\\left (m \\right )}}{\\operatorname{polar\\_lift}^{2}{\\left (a \\right )}},\\infty \\right )}}\\right| < \\pi \\wedge \\left|{\\operatorname{periodic_{argument}}{\\left (\\frac{1}{\\operatorname{polar\\_lift}{\\left (a \\right )}},\\infty \\right )}}\\right| < \\frac{\\pi}{2}\\right) \\vee \\left|{\\operatorname{periodic_{argument}}{\\left (\\frac{1}{\\operatorname{polar\\_lift}{\\left (a \\right )}},\\infty \\right )}}\\right| < \\frac{\\pi}{2}\\right) \\\\\\int_{-\\infty}^{\\infty} \\frac{\\sqrt{2}}{2 \\sqrt{\\pi} \\sqrt{a}} e^{- \\frac{\\left(- m + x\\right)^{2}}{2 a}}\\, dx & \\text{otherwise} \\end{cases}$$"
      ],
      "text/plain": [
       "⎧                           ⎛⎛                                            │   \n",
       "⎪                           ⎜⎜│                 ⎛      1         ⎞│   π   │   \n",
       "⎪         1.0           for ⎜⎜│periodic_argument⎜─────────────, ∞⎟│ ≤ ─ ∧ │per\n",
       "⎪                           ⎜⎜│                 ⎝polar_lift(a)   ⎠│   2   │   \n",
       "⎪                           ⎝⎝                                            │   \n",
       "⎪                                                                             \n",
       "⎪∞                                                                            \n",
       "⎪⌠                                                                            \n",
       "⎨⎮               2                                                            \n",
       "⎪⎮      -(-m + x)                                                             \n",
       "⎪⎮      ───────────                                                           \n",
       "⎪⎮          2⋅a                                                               \n",
       "⎪⎮  √2⋅ℯ                                                                      \n",
       "⎪⎮  ─────────────── dx                                                        \n",
       "⎪⎮      2⋅√π⋅√a                                                               \n",
       "⎪⌡                                                                            \n",
       "⎩-∞                                                                           \n",
       "\n",
       "              ⎛          2      ⎞│    ⎞   ⎛│                 ⎛          2     \n",
       "              ⎜polar_lift (m)   ⎟│    ⎟   ⎜│                 ⎜polar_lift (m)  \n",
       "iodic_argument⎜──────────────, ∞⎟│ < π⎟ ∨ ⎜│periodic_argument⎜──────────────, \n",
       "              ⎜          2      ⎟│    ⎟   ⎜│                 ⎜          2     \n",
       "              ⎝polar_lift (a)   ⎠│    ⎠   ⎝│                 ⎝polar_lift (a)  \n",
       "                                                                              \n",
       "                                                                              \n",
       "                                                                              \n",
       "                                                                              \n",
       "                                                                              \n",
       "                                                                              \n",
       "                                                                              \n",
       "                                                                              \n",
       "                                                                              \n",
       "                                                                              \n",
       "                                                                              \n",
       "                                                                              \n",
       "\n",
       " ⎞│                                                ⎞   ⎛│                 ⎛   \n",
       " ⎟│       │                 ⎛      1         ⎞│   π⎟   ⎜│                 ⎜pol\n",
       "∞⎟│ ≤ π ∧ │periodic_argument⎜─────────────, ∞⎟│ < ─⎟ ∨ ⎜│periodic_argument⎜───\n",
       " ⎟│       │                 ⎝polar_lift(a)   ⎠│   2⎟   ⎜│                 ⎜   \n",
       " ⎠│                                                ⎠   ⎝│                 ⎝pol\n",
       "                                                                              \n",
       "                                                                              \n",
       "                                                                              \n",
       "                                                                              \n",
       "                                                                              \n",
       "                                                                              \n",
       "                                                                              \n",
       "                                                                              \n",
       "                                                                              \n",
       "                                                                              \n",
       "                                                                              \n",
       "                                                                              \n",
       "\n",
       "       2      ⎞│                                                ⎞             \n",
       "ar_lift (m)   ⎟│       │                 ⎛      1         ⎞│   π⎟   │         \n",
       "───────────, ∞⎟│ < π ∧ │periodic_argument⎜─────────────, ∞⎟│ < ─⎟ ∨ │periodic_\n",
       "       2      ⎟│       │                 ⎝polar_lift(a)   ⎠│   2⎟   │         \n",
       "ar_lift (a)   ⎠│                                                ⎠             \n",
       "                                                                              \n",
       "                                                                              \n",
       "                                                                              \n",
       "                                                                              \n",
       "                                                                              \n",
       "                                                                              \n",
       "                                                                              \n",
       "                                                                              \n",
       "                                                                              \n",
       "                                                                              \n",
       "                                                                              \n",
       "                                                                              \n",
       "\n",
       "                               ⎞   ⎛⎛                                         \n",
       "        ⎛      1         ⎞│   π⎟   ⎜⎜│                 ⎛      1         ⎞│   π\n",
       "argument⎜─────────────, ∞⎟│ < ─⎟ ∧ ⎜⎜│periodic_argument⎜─────────────, ∞⎟│ ≤ ─\n",
       "        ⎝polar_lift(a)   ⎠│   2⎟   ⎜⎜│                 ⎝polar_lift(a)   ⎠│   2\n",
       "                               ⎠   ⎝⎝                                         \n",
       "                                                                              \n",
       "                                                                              \n",
       "                                                                              \n",
       "                                                                              \n",
       "                                                                              \n",
       "                                                                              \n",
       "                                                                              \n",
       "                                                                              \n",
       "                                     otherwise                                \n",
       "                                                                              \n",
       "                                                                              \n",
       "                                                                              \n",
       "\n",
       "   │                 ⎛ 2⋅ⅈ⋅π           2      ⎞│    ⎞   ⎛│                 ⎛ 2\n",
       "   │                 ⎜ℯ     ⋅polar_lift (m)   ⎟│    ⎟   ⎜│                 ⎜ℯ \n",
       " ∧ │periodic_argument⎜─────────────────────, ∞⎟│ < π⎟ ∨ ⎜│periodic_argument⎜──\n",
       "   │                 ⎜              2         ⎟│    ⎟   ⎜│                 ⎜  \n",
       "   │                 ⎝    polar_lift (a)      ⎠│    ⎠   ⎝│                 ⎝  \n",
       "                                                                              \n",
       "                                                                              \n",
       "                                                                              \n",
       "                                                                              \n",
       "                                                                              \n",
       "                                                                              \n",
       "                                                                              \n",
       "                                                                              \n",
       "                                                                              \n",
       "                                                                              \n",
       "                                                                              \n",
       "                                                                              \n",
       "\n",
       "⋅ⅈ⋅π           2      ⎞│                                                ⎞   ⎛│\n",
       "    ⋅polar_lift (m)   ⎟│       │                 ⎛      1         ⎞│   π⎟   ⎜│\n",
       "───────────────────, ∞⎟│ ≤ π ∧ │periodic_argument⎜─────────────, ∞⎟│ < ─⎟ ∨ ⎜│\n",
       "            2         ⎟│       │                 ⎝polar_lift(a)   ⎠│   2⎟   ⎜│\n",
       "  polar_lift (a)      ⎠│                                                ⎠   ⎝│\n",
       "                                                                              \n",
       "                                                                              \n",
       "                                                                              \n",
       "                                                                              \n",
       "                                                                              \n",
       "                                                                              \n",
       "                                                                              \n",
       "                                                                              \n",
       "                                                                              \n",
       "                                                                              \n",
       "                                                                              \n",
       "                                                                              \n",
       "\n",
       "                 ⎛ 2⋅ⅈ⋅π           2      ⎞│                                  \n",
       "                 ⎜ℯ     ⋅polar_lift (m)   ⎟│       │                 ⎛      1 \n",
       "periodic_argument⎜─────────────────────, ∞⎟│ < π ∧ │periodic_argument⎜────────\n",
       "                 ⎜              2         ⎟│       │                 ⎝polar_li\n",
       "                 ⎝    polar_lift (a)      ⎠│                                  \n",
       "                                                                              \n",
       "                                                                              \n",
       "                                                                              \n",
       "                                                                              \n",
       "                                                                              \n",
       "                                                                              \n",
       "                                                                              \n",
       "                                                                              \n",
       "                                                                              \n",
       "                                                                              \n",
       "                                                                              \n",
       "                                                                              \n",
       "\n",
       "              ⎞                                            ⎞\n",
       "        ⎞│   π⎟   │                 ⎛      1         ⎞│   π⎟\n",
       "─────, ∞⎟│ < ─⎟ ∨ │periodic_argument⎜─────────────, ∞⎟│ < ─⎟\n",
       "ft(a)   ⎠│   2⎟   │                 ⎝polar_lift(a)   ⎠│   2⎟\n",
       "              ⎠                                            ⎠\n",
       "                                                            \n",
       "                                                            \n",
       "                                                            \n",
       "                                                            \n",
       "                                                            \n",
       "                                                            \n",
       "                                                            \n",
       "                                                            \n",
       "                                                            \n",
       "                                                            \n",
       "                                                            \n",
       "                                                            "
      ]
     },
     "metadata": {},
     "output_type": "display_data"
    }
   ],
   "source": [
    "from sympy import Symbol, exp, sqrt, pi, Integral, S\n",
    "x,m = symbols('x,m')\n",
    "a = Symbol(\"a\") # ここを修正\n",
    "p = exp(-(x - m) ** 2 / (2 * a)) / sqrt(2 * pi * a)\n",
    "i = Integral(p, (x, S.NegativeInfinity, S.Infinity))\n",
    "display(i)\n",
    "display(i.doit())\n",
    "display(i.doit().evalf())"
   ]
  },
  {
   "cell_type": "markdown",
   "metadata": {},
   "source": [
    "### 参考：文字定数込みでの有限区間積分"
   ]
  },
  {
   "cell_type": "code",
   "execution_count": 9,
   "metadata": {},
   "outputs": [
    {
     "data": {
      "image/png": "[encoded data removed]",
      "text/latex": [
       "$$\\int_{-2}^{3} \\frac{\\sqrt{2}}{2 \\sqrt{\\pi} \\sqrt{a}} e^{- \\frac{\\left(- m + x\\right)^{2}}{2 a}}\\, dx$$"
      ],
      "text/plain": [
       "3                    \n",
       "⌠                    \n",
       "⎮               2    \n",
       "⎮      -(-m + x)     \n",
       "⎮      ───────────   \n",
       "⎮          2⋅a       \n",
       "⎮  √2⋅ℯ              \n",
       "⎮  ─────────────── dx\n",
       "⎮      2⋅√π⋅√a       \n",
       "⌡                    \n",
       "-2                   "
      ]
     },
     "metadata": {},
     "output_type": "display_data"
    },
    {
     "data": {
      "image/png": "[encoded data removed]",
      "text/latex": [
       "$$\\frac{1}{2} \\operatorname{erf}{\\left (- \\frac{\\sqrt{2}}{2 \\sqrt{a}} \\left(- m - 2\\right) \\right )} + \\frac{1}{2} \\operatorname{erf}{\\left (\\frac{\\sqrt{2}}{2 \\sqrt{a}} \\left(- m + 3\\right) \\right )}$$"
      ],
      "text/plain": [
       "   ⎛-√2⋅(-m - 2) ⎞      ⎛√2⋅(-m + 3)⎞\n",
       "erf⎜─────────────⎟   erf⎜───────────⎟\n",
       "   ⎝     2⋅√a    ⎠      ⎝    2⋅√a   ⎠\n",
       "────────────────── + ────────────────\n",
       "        2                   2        "
      ]
     },
     "metadata": {},
     "output_type": "display_data"
    },
    {
     "data": {
      "image/png": "[encoded data removed]",
      "text/latex": [
       "$$0.5 \\operatorname{erf}{\\left (- \\frac{\\sqrt{2}}{2 \\sqrt{a}} \\left(- m - 2\\right) \\right )} + 0.5 \\operatorname{erf}{\\left (\\frac{\\sqrt{2}}{2 \\sqrt{a}} \\left(- m + 3\\right) \\right )}$$"
      ],
      "text/plain": [
       "       ⎛-√2⋅(-m - 2) ⎞          ⎛√2⋅(-m + 3)⎞\n",
       "0.5⋅erf⎜─────────────⎟ + 0.5⋅erf⎜───────────⎟\n",
       "       ⎝     2⋅√a    ⎠          ⎝    2⋅√a   ⎠"
      ]
     },
     "metadata": {},
     "output_type": "display_data"
    }
   ],
   "source": [
    "from sympy import Symbol, exp, sqrt, pi, Integral, S\n",
    "x,m = symbols('x,m')\n",
    "a = Symbol(\"a\", positive=True)\n",
    "p = exp(-(x - m) ** 2 / (2 * a)) / sqrt(2 * pi * a)\n",
    "i = Integral(p, (x, -2, 3))\n",
    "display(i)\n",
    "display(i.doit())\n",
    "display(i.doit().evalf())"
   ]
  }
 ],
 "metadata": {
  "anaconda-cloud": {},
  "kernelspec": {
   "display_name": "Python 3",
   "language": "python",
   "name": "python3"
  },
  "language_info": {
   "codemirror_mode": {
    "name": "ipython",
    "version": 3
   },
   "file_extension": ".py",
   "mimetype": "text/x-python",
   "name": "python",
   "nbconvert_exporter": "python",
   "pygments_lexer": "ipython3",
   "version": "3.6.6"
  }
 },
 "nbformat": 4,
 "nbformat_minor": 1
}
