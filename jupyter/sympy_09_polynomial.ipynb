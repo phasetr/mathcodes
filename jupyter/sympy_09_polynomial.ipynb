{
 "cells": [
  {
   "cell_type": "markdown",
   "metadata": {},
   "source": [
    "# この notebook を読み進める前に\n",
    "TeX 出力のためには次のコードを読み込ませること。"
   ]
  },
  {
   "cell_type": "code",
   "execution_count": 1,
   "metadata": {},
   "outputs": [],
   "source": [
    "from sympy import *\n",
    "from IPython.display import display\n",
    "init_printing()\n",
    "\n",
    "# シンボル定義\n",
    "x = Symbol('x')\n",
    "y = Symbol('y')\n",
    "z = Symbol('z')"
   ]
  },
  {
   "cell_type": "markdown",
   "metadata": {},
   "source": [
    "# 公式から\n",
    "\n",
    "適当に翻訳しつつ記録していく.\n",
    "ここでの「適当」は面倒だったら適当に省略したり、正確な訳語をつけるためにがんばったりしないという程度の意味。\n",
    "\n",
    "- [Basic functionality of the module](http://docs.sympy.org/latest/modules/polys/basics.html)\n",
    "- [Examples from Wester’s Article](http://docs.sympy.org/latest/modules/polys/wester.html)\n",
    "- [Polynomials Manipulation Module Reference](http://docs.sympy.org/latest/modules/polys/reference.html)"
   ]
  },
  {
   "cell_type": "markdown",
   "metadata": {},
   "source": [
    "# Basic functionality of the module"
   ]
  },
  {
   "cell_type": "markdown",
   "metadata": {},
   "source": [
    "## 有理数係数での商とあまり\n",
    "関数 `div()` で多項式の商とあまりが計算できる：\n",
    "多項式 $f$, $g$ に対して $f=gq + r$ として商 $q$ と $r$ が求められる。\n",
    "ここで $\\mathrm{deg}(r) < \\mathrm{deg} (q)$。\n",
    "\n",
    "体係数の多項式については次のように求められる。"
   ]
  },
  {
   "cell_type": "code",
   "execution_count": 2,
   "metadata": {},
   "outputs": [
    {
     "data": {
      "image/png": "[encoded data removed]",
      "text/latex": [
       "$$5 x^{2} + 10 x + 3$$"
      ],
      "text/plain": [
       "   2           \n",
       "5⋅x  + 10⋅x + 3"
      ]
     },
     "metadata": {},
     "output_type": "display_data"
    },
    {
     "data": {
      "image/png": "[encoded data removed]",
      "text/latex": [
       "$$2 x + 2$$"
      ],
      "text/plain": [
       "2⋅x + 2"
      ]
     },
     "metadata": {},
     "output_type": "display_data"
    }
   ],
   "source": [
    "f = 5*x**2 + 10*x + 3\n",
    "g = 2*x + 2\n",
    "\n",
    "display(f)\n",
    "display(g)"
   ]
  },
  {
   "cell_type": "markdown",
   "metadata": {},
   "source": [
    "多項式の割り算をしてみる.\n",
    "`domain = 'QQ'` は $\\mathbb{Q}$ （有理数体）を指定している."
   ]
  },
  {
   "cell_type": "code",
   "execution_count": 3,
   "metadata": {},
   "outputs": [
    {
     "data": {
      "image/png": "[encoded data removed]",
      "text/latex": [
       "$$\\frac{5 x}{2} + \\frac{5}{2}$$"
      ],
      "text/plain": [
       "5⋅x   5\n",
       "─── + ─\n",
       " 2    2"
      ]
     },
     "metadata": {},
     "output_type": "display_data"
    },
    {
     "data": {
      "image/png": "[encoded data removed]",
      "text/latex": [
       "$$-2$$"
      ],
      "text/plain": [
       "-2"
      ]
     },
     "metadata": {},
     "output_type": "display_data"
    }
   ],
   "source": [
    "q, r = div(f, g, domain='QQ')\n",
    "display(q)\n",
    "display(r)"
   ]
  },
  {
   "cell_type": "markdown",
   "metadata": {},
   "source": [
    "次のように書けば復元できる。"
   ]
  },
  {
   "cell_type": "code",
   "execution_count": 4,
   "metadata": {
    "scrolled": true
   },
   "outputs": [
    {
     "data": {
      "image/png": "[encoded data removed]",
      "text/latex": [
       "$$5 x^{2} + 10 x + 3$$"
      ],
      "text/plain": [
       "   2           \n",
       "5⋅x  + 10⋅x + 3"
      ]
     },
     "execution_count": 4,
     "metadata": {},
     "output_type": "execute_result"
    }
   ],
   "source": [
    "(q*g + r).expand()"
   ]
  },
  {
   "cell_type": "markdown",
   "metadata": {},
   "source": [
    "## 整数係数の多項式\n",
    "上の結果を見ればわかるように、商が有理数係数だから、`domain = 'ZZ'` で係数を有理整数環に指定すると割り算できないといわれる。"
   ]
  },
  {
   "cell_type": "code",
   "execution_count": 5,
   "metadata": {
    "scrolled": true
   },
   "outputs": [
    {
     "data": {
      "image/png": "[encoded data removed]",
      "text/latex": [
       "$$0$$"
      ],
      "text/plain": [
       "0"
      ]
     },
     "metadata": {},
     "output_type": "display_data"
    },
    {
     "data": {
      "image/png": "[encoded data removed]",
      "text/latex": [
       "$$5 x^{2} + 10 x + 3$$"
      ],
      "text/plain": [
       "   2           \n",
       "5⋅x  + 10⋅x + 3"
      ]
     },
     "metadata": {},
     "output_type": "display_data"
    }
   ],
   "source": [
    "q, r = div(f, g, domain='ZZ')\n",
    "display(q)\n",
    "display(r)"
   ]
  },
  {
   "cell_type": "markdown",
   "metadata": {},
   "source": [
    "整数の世界でも割れるように $g$ を取り換えてみる。"
   ]
  },
  {
   "cell_type": "code",
   "execution_count": 6,
   "metadata": {
    "scrolled": true
   },
   "outputs": [
    {
     "data": {
      "image/png": "[encoded data removed]",
      "text/latex": [
       "$$5 x^{2} + 10 x + 3$$"
      ],
      "text/plain": [
       "   2           \n",
       "5⋅x  + 10⋅x + 3"
      ]
     },
     "metadata": {},
     "output_type": "display_data"
    },
    {
     "data": {
      "image/png": "[encoded data removed]",
      "text/latex": [
       "$$5 x + 1$$"
      ],
      "text/plain": [
       "5⋅x + 1"
      ]
     },
     "metadata": {},
     "output_type": "display_data"
    }
   ],
   "source": [
    "f = 5*x**2 + 10*x + 3\n",
    "g = 5*x + 1\n",
    "display(f)\n",
    "display(g)"
   ]
  },
  {
   "cell_type": "code",
   "execution_count": 7,
   "metadata": {
    "scrolled": true
   },
   "outputs": [
    {
     "data": {
      "image/png": "[encoded data removed]",
      "text/latex": [
       "$$x$$"
      ],
      "text/plain": [
       "x"
      ]
     },
     "metadata": {},
     "output_type": "display_data"
    },
    {
     "data": {
      "image/png": "[encoded data removed]",
      "text/latex": [
       "$$9 x + 3$$"
      ],
      "text/plain": [
       "9⋅x + 3"
      ]
     },
     "metadata": {},
     "output_type": "display_data"
    }
   ],
   "source": [
    "q, r = div(f, g, domain='ZZ')\n",
    "display(q)\n",
    "display(r)"
   ]
  },
  {
   "cell_type": "markdown",
   "metadata": {},
   "source": [
    "復元できることを確認。"
   ]
  },
  {
   "cell_type": "code",
   "execution_count": 8,
   "metadata": {},
   "outputs": [
    {
     "data": {
      "image/png": "[encoded data removed]",
      "text/latex": [
       "$$5 x^{2} + 10 x + 3$$"
      ],
      "text/plain": [
       "   2           \n",
       "5⋅x  + 10⋅x + 3"
      ]
     },
     "execution_count": 8,
     "metadata": {},
     "output_type": "execute_result"
    }
   ],
   "source": [
    "(q*g + r).expand()"
   ]
  },
  {
   "cell_type": "markdown",
   "metadata": {},
   "source": [
    "## 多変数の多項式"
   ]
  },
  {
   "cell_type": "code",
   "execution_count": 11,
   "metadata": {
    "scrolled": true
   },
   "outputs": [
    {
     "data": {
      "image/png": "[encoded data removed]",
      "text/latex": [
       "$$x y + y z$$"
      ],
      "text/plain": [
       "x⋅y + y⋅z"
      ]
     },
     "metadata": {},
     "output_type": "display_data"
    },
    {
     "data": {
      "image/png": "[encoded data removed]",
      "text/latex": [
       "$$3 x + 3 z$$"
      ],
      "text/plain": [
       "3⋅x + 3⋅z"
      ]
     },
     "metadata": {},
     "output_type": "display_data"
    }
   ],
   "source": [
    "f = x*y + y*z\n",
    "g = 3*x + 3*z\n",
    "display(f)\n",
    "display(g)"
   ]
  },
  {
   "cell_type": "code",
   "execution_count": 13,
   "metadata": {},
   "outputs": [
    {
     "data": {
      "image/png": "[encoded data removed]",
      "text/latex": [
       "$$\\frac{y}{3}$$"
      ],
      "text/plain": [
       "y\n",
       "─\n",
       "3"
      ]
     },
     "metadata": {},
     "output_type": "display_data"
    },
    {
     "data": {
      "image/png": "[encoded data removed]",
      "text/latex": [
       "$$0$$"
      ],
      "text/plain": [
       "0"
      ]
     },
     "metadata": {},
     "output_type": "display_data"
    },
    {
     "data": {
      "image/png": "[encoded data removed]",
      "text/latex": [
       "$$x y + y z$$"
      ],
      "text/plain": [
       "x⋅y + y⋅z"
      ]
     },
     "metadata": {},
     "output_type": "display_data"
    }
   ],
   "source": [
    "q, r = div(f, g, domain='QQ')\n",
    "display(q)\n",
    "display(r)\n",
    "display(expand(g*q + r))"
   ]
  },
  {
   "cell_type": "markdown",
   "metadata": {},
   "source": [
    "## GCD と LCM\n",
    "GCD は greatest common divisor で最大公約元、\n",
    "LCM は least common multiple で最小公倍元。\n",
    "多項式にもある。"
   ]
  },
  {
   "cell_type": "code",
   "execution_count": 14,
   "metadata": {
    "scrolled": true
   },
   "outputs": [
    {
     "data": {
      "image/png": "[encoded data removed]",
      "text/latex": [
       "$$x \\left(12 x + 12\\right)$$"
      ],
      "text/plain": [
       "x⋅(12⋅x + 12)"
      ]
     },
     "metadata": {},
     "output_type": "display_data"
    },
    {
     "data": {
      "image/png": "[encoded data removed]",
      "text/latex": [
       "$$16 x^{2}$$"
      ],
      "text/plain": [
       "    2\n",
       "16⋅x "
      ]
     },
     "metadata": {},
     "output_type": "display_data"
    }
   ],
   "source": [
    "f = (12 * x + 12) * x\n",
    "g = 16 * x**2\n",
    "display(f)\n",
    "display(g)"
   ]
  },
  {
   "cell_type": "code",
   "execution_count": 15,
   "metadata": {},
   "outputs": [
    {
     "data": {
      "image/png": "[encoded data removed]",
      "text/latex": [
       "$$4 x$$"
      ],
      "text/plain": [
       "4⋅x"
      ]
     },
     "execution_count": 15,
     "metadata": {},
     "output_type": "execute_result"
    }
   ],
   "source": [
    "gcd(f,g)"
   ]
  },
  {
   "cell_type": "markdown",
   "metadata": {},
   "source": [
    "有理数係数の場合は（なぜか）モニックな多項式（最高次の係数が 1）を返す。"
   ]
  },
  {
   "cell_type": "code",
   "execution_count": 18,
   "metadata": {
    "scrolled": true
   },
   "outputs": [
    {
     "data": {
      "image/png": "[encoded data removed]",
      "text/latex": [
       "$$\\frac{3 x^{2}}{2}$$"
      ],
      "text/plain": [
       "   2\n",
       "3⋅x \n",
       "────\n",
       " 2  "
      ]
     },
     "metadata": {},
     "output_type": "display_data"
    },
    {
     "data": {
      "image/png": "[encoded data removed]",
      "text/latex": [
       "$$\\frac{9 x}{4}$$"
      ],
      "text/plain": [
       "9⋅x\n",
       "───\n",
       " 4 "
      ]
     },
     "metadata": {},
     "output_type": "display_data"
    },
    {
     "data": {
      "image/png": "[encoded data removed]",
      "text/latex": [
       "$$x$$"
      ],
      "text/plain": [
       "x"
      ]
     },
     "metadata": {},
     "output_type": "display_data"
    }
   ],
   "source": [
    "f = 3*x**2/2\n",
    "g = 9*x/4\n",
    "\n",
    "display(f)\n",
    "display(g)\n",
    "\n",
    "display(gcd(f, g))"
   ]
  },
  {
   "cell_type": "markdown",
   "metadata": {},
   "source": [
    "### 多変数の多項式に対する GCD\n",
    "\n",
    "デフォルトではアルファベット順に並ぶ。有理数係数ではやはりモニックになる。"
   ]
  },
  {
   "cell_type": "code",
   "execution_count": 19,
   "metadata": {
    "scrolled": false
   },
   "outputs": [
    {
     "data": {
      "image/png": "[encoded data removed]",
      "text/latex": [
       "$$\\frac{x y}{2} + y^{2}$$"
      ],
      "text/plain": [
       "x⋅y    2\n",
       "─── + y \n",
       " 2      "
      ]
     },
     "metadata": {},
     "output_type": "display_data"
    },
    {
     "data": {
      "image/png": "[encoded data removed]",
      "text/latex": [
       "$$3 x + 6 y$$"
      ],
      "text/plain": [
       "3⋅x + 6⋅y"
      ]
     },
     "metadata": {},
     "output_type": "display_data"
    },
    {
     "data": {
      "image/png": "[encoded data removed]",
      "text/latex": [
       "$$x + 2 y$$"
      ],
      "text/plain": [
       "x + 2⋅y"
      ]
     },
     "metadata": {},
     "output_type": "display_data"
    }
   ],
   "source": [
    "f = x*y/2 + y**2\n",
    "g = 3*x + 6*y\n",
    "\n",
    "display(f)\n",
    "display(g)\n",
    "\n",
    "display(gcd(f, g))"
   ]
  },
  {
   "cell_type": "markdown",
   "metadata": {},
   "source": [
    "GCD と LCM の性質もついでに確認：GCD と LCM の積は元の関数同士の積になる。"
   ]
  },
  {
   "cell_type": "code",
   "execution_count": 20,
   "metadata": {},
   "outputs": [
    {
     "data": {
      "image/png": "[encoded data removed]",
      "text/latex": [
       "$$x^{2} y + x y^{2}$$"
      ],
      "text/plain": [
       " 2        2\n",
       "x ⋅y + x⋅y "
      ]
     },
     "metadata": {},
     "output_type": "display_data"
    },
    {
     "data": {
      "image/png": "[encoded data removed]",
      "text/latex": [
       "$$x^{2} y^{2}$$"
      ],
      "text/plain": [
       " 2  2\n",
       "x ⋅y "
      ]
     },
     "metadata": {},
     "output_type": "display_data"
    }
   ],
   "source": [
    "f = x*y**2 + x**2*y\n",
    "g = x**2*y**2\n",
    "display(f)\n",
    "display(g)"
   ]
  },
  {
   "cell_type": "code",
   "execution_count": 22,
   "metadata": {},
   "outputs": [
    {
     "data": {
      "image/png": "[encoded data removed]",
      "text/latex": [
       "$$x y$$"
      ],
      "text/plain": [
       "x⋅y"
      ]
     },
     "metadata": {},
     "output_type": "display_data"
    },
    {
     "data": {
      "image/png": "[encoded data removed]",
      "text/latex": [
       "$$x^{3} y^{2} + x^{2} y^{3}$$"
      ],
      "text/plain": [
       " 3  2    2  3\n",
       "x ⋅y  + x ⋅y "
      ]
     },
     "metadata": {},
     "output_type": "display_data"
    }
   ],
   "source": [
    "display(gcd(f, g))\n",
    "display(lcm(f, g))"
   ]
  },
  {
   "cell_type": "code",
   "execution_count": 23,
   "metadata": {
    "scrolled": true
   },
   "outputs": [
    {
     "data": {
      "image/png": "[encoded data removed]",
      "text/latex": [
       "$$x^{4} y^{3} + x^{3} y^{4}$$"
      ],
      "text/plain": [
       " 4  3    3  4\n",
       "x ⋅y  + x ⋅y "
      ]
     },
     "metadata": {},
     "output_type": "display_data"
    },
    {
     "data": {
      "image/png": "[encoded data removed]",
      "text/latex": [
       "$$x^{4} y^{3} + x^{3} y^{4}$$"
      ],
      "text/plain": [
       " 4  3    3  4\n",
       "x ⋅y  + x ⋅y "
      ]
     },
     "metadata": {},
     "output_type": "display_data"
    }
   ],
   "source": [
    "display((f*g).expand())\n",
    "display((gcd(f, g, x, y)*lcm(f, g, x, y)).expand())"
   ]
  },
  {
   "cell_type": "markdown",
   "metadata": {},
   "source": [
    "## 無平方（square-free）の因数分解\n",
    "よくわからないが、一変数多項式の無平方分解は既約とは限らない因子の積。"
   ]
  },
  {
   "cell_type": "code",
   "execution_count": 25,
   "metadata": {},
   "outputs": [
    {
     "data": {
      "image/png": "[encoded data removed]",
      "text/latex": [
       "$$x^{5} + 4 x^{4} + 5 x^{3} + 2 x^{2}$$"
      ],
      "text/plain": [
       " 5      4      3      2\n",
       "x  + 4⋅x  + 5⋅x  + 2⋅x "
      ]
     },
     "metadata": {},
     "output_type": "display_data"
    }
   ],
   "source": [
    "f = 2*x**2 + 5*x**3 + 4*x**4 + x**5\n",
    "display(f)"
   ]
  },
  {
   "cell_type": "markdown",
   "metadata": {},
   "source": [
    "どの項が何回出てくるかリストでとれる。\n",
    "意味が分からないなら下の `sqf()` の結果と比較してみよう。"
   ]
  },
  {
   "cell_type": "code",
   "execution_count": 26,
   "metadata": {},
   "outputs": [
    {
     "data": {
      "image/png": "[encoded data removed]",
      "text/latex": [
       "$$\\left ( 1, \\quad \\left [ \\left ( x + 2, \\quad 1\\right ), \\quad \\left ( x, \\quad 2\\right ), \\quad \\left ( x + 1, \\quad 2\\right )\\right ]\\right )$$"
      ],
      "text/plain": [
       "(1, [(x + 2, 1), (x, 2), (x + 1, 2)])"
      ]
     },
     "metadata": {},
     "output_type": "display_data"
    }
   ],
   "source": [
    "display(sqf_list(f))"
   ]
  },
  {
   "cell_type": "code",
   "execution_count": 27,
   "metadata": {
    "scrolled": true
   },
   "outputs": [
    {
     "data": {
      "image/png": "[encoded data removed]",
      "text/latex": [
       "$$x^{2} \\left(x + 1\\right)^{2} \\left(x + 2\\right)$$"
      ],
      "text/plain": [
       " 2        2        \n",
       "x ⋅(x + 1) ⋅(x + 2)"
      ]
     },
     "metadata": {},
     "output_type": "display_data"
    }
   ],
   "source": [
    "display(sqf(f))"
   ]
  },
  {
   "cell_type": "markdown",
   "metadata": {},
   "source": [
    "## 有理数係数の多項式の因数分解\n",
    "`factor()` を使う。"
   ]
  },
  {
   "cell_type": "code",
   "execution_count": 28,
   "metadata": {
    "scrolled": true
   },
   "outputs": [
    {
     "data": {
      "image/png": "[encoded data removed]",
      "text/latex": [
       "$$\\frac{x^{2}}{12} \\left(2 x - 1\\right) \\left(3 x + 4\\right)$$"
      ],
      "text/plain": [
       " 2                    \n",
       "x ⋅(2⋅x - 1)⋅(3⋅x + 4)\n",
       "──────────────────────\n",
       "          12          "
      ]
     },
     "execution_count": 28,
     "metadata": {},
     "output_type": "execute_result"
    }
   ],
   "source": [
    "factor(x**4/2 + 5*x**3/12 - x**2/3)"
   ]
  },
  {
   "cell_type": "markdown",
   "metadata": {},
   "source": [
    "## グレブナー基底\n",
    "いくつか単項式の順序の指定法がある。\n",
    "（具体的にどうやって使えばまだよくわかっていない。公式の該当ページをもっと深く見ればわかるだろう。）"
   ]
  },
  {
   "cell_type": "code",
   "execution_count": 29,
   "metadata": {},
   "outputs": [
    {
     "data": {
      "image/png": "[encoded data removed]",
      "text/latex": [
       "$$GroebnerBasis([x**2 + 1, y**4 - 1], x, y, domain='ZZ', order='lex')$$"
      ],
      "text/plain": [
       "             ⎛⎡ 2       4    ⎤                           ⎞\n",
       "GroebnerBasis⎝⎣x  + 1, y  - 1⎦, x, y, domain=ℤ, order=lex⎠"
      ]
     },
     "metadata": {},
     "output_type": "display_data"
    }
   ],
   "source": [
    "f = groebner([x**2 + 1, y**4*x + x**3], x, y, order='lex')\n",
    "display(f)"
   ]
  },
  {
   "cell_type": "code",
   "execution_count": 30,
   "metadata": {
    "scrolled": true
   },
   "outputs": [
    {
     "data": {
      "image/png": "[encoded data removed]",
      "text/latex": [
       "$$GroebnerBasis([y**4 - 1, z**3, x**2 + 1], x, y, z, domain='ZZ', order='grevlex')$$"
      ],
      "text/plain": [
       "             ⎛⎡ 4       3   2    ⎤                                  ⎞\n",
       "GroebnerBasis⎝⎣y  - 1, z , x  + 1⎦, x, y, z, domain=ℤ, order=grevlex⎠"
      ]
     },
     "metadata": {},
     "output_type": "display_data"
    }
   ],
   "source": [
    "f = groebner([x**2 + 1, y**4*x + x**3, x*y*z**3], x, y, z, order='grevlex')\n",
    "display(f)"
   ]
  },
  {
   "cell_type": "markdown",
   "metadata": {},
   "source": [
    "## 代数方程式を解く"
   ]
  },
  {
   "cell_type": "code",
   "execution_count": 32,
   "metadata": {
    "scrolled": true
   },
   "outputs": [
    {
     "data": {
      "image/png": "[encoded data removed]",
      "text/latex": [
       "$$\\left [ -1, \\quad \\frac{1}{2} - \\frac{\\sqrt{11} i}{2}, \\quad \\frac{1}{2} + \\frac{\\sqrt{11} i}{2}\\right ]$$"
      ],
      "text/plain": [
       "⎡    1   √11⋅ⅈ  1   √11⋅ⅈ⎤\n",
       "⎢-1, ─ - ─────, ─ + ─────⎥\n",
       "⎣    2     2    2     2  ⎦"
      ]
     },
     "metadata": {},
     "output_type": "display_data"
    }
   ],
   "source": [
    "from sympy import roots, solve_poly_system\n",
    "display(solve(x**3 + 2*x + 3, x))"
   ]
  },
  {
   "cell_type": "markdown",
   "metadata": {},
   "source": [
    "変数係数でも解ける。"
   ]
  },
  {
   "cell_type": "code",
   "execution_count": 33,
   "metadata": {},
   "outputs": [
    {
     "data": {
      "image/png": "[encoded data removed]",
      "text/latex": [
       "$$\\left [ - \\frac{p}{2} - \\frac{1}{2} \\sqrt{p^{2} - 4 q}, \\quad - \\frac{p}{2} + \\frac{1}{2} \\sqrt{p^{2} - 4 q}\\right ]$$"
      ],
      "text/plain": [
       "⎡         __________           __________⎤\n",
       "⎢        ╱  2                 ╱  2       ⎥\n",
       "⎢  p   ╲╱  p  - 4⋅q     p   ╲╱  p  - 4⋅q ⎥\n",
       "⎢- ─ - ─────────────, - ─ + ─────────────⎥\n",
       "⎣  2         2          2         2      ⎦"
      ]
     },
     "execution_count": 33,
     "metadata": {},
     "output_type": "execute_result"
    }
   ],
   "source": [
    "p = Symbol('p')\n",
    "q = Symbol('q')\n",
    "solve(x**2 + p*x + q, x)"
   ]
  },
  {
   "cell_type": "markdown",
   "metadata": {},
   "source": [
    "連立多項式でも解ける。"
   ]
  },
  {
   "cell_type": "code",
   "execution_count": 34,
   "metadata": {
    "scrolled": true
   },
   "outputs": [
    {
     "data": {
      "image/png": "[encoded data removed]",
      "text/latex": [
       "$$\\left [ \\left ( 5, \\quad 5\\right )\\right ]$$"
      ],
      "text/plain": [
       "[(5, 5)]"
      ]
     },
     "execution_count": 34,
     "metadata": {},
     "output_type": "execute_result"
    }
   ],
   "source": [
    "solve_poly_system([y - x, x - 5], x, y)"
   ]
  },
  {
   "cell_type": "code",
   "execution_count": 35,
   "metadata": {},
   "outputs": [
    {
     "data": {
      "image/png": "[encoded data removed]",
      "text/latex": [
       "$$\\left [ \\left ( 0, \\quad - i\\right ), \\quad \\left ( 0, \\quad i\\right ), \\quad \\left ( 1, \\quad 0\\right ), \\quad \\left ( - \\frac{1}{2} - \\frac{\\sqrt{3} i}{2}, \\quad 0\\right ), \\quad \\left ( - \\frac{1}{2} + \\frac{\\sqrt{3} i}{2}, \\quad 0\\right )\\right ]$$"
      ],
      "text/plain": [
       "⎡                         ⎛  1   √3⋅ⅈ   ⎞  ⎛  1   √3⋅ⅈ   ⎞⎤\n",
       "⎢(0, -ⅈ), (0, ⅈ), (1, 0), ⎜- ─ - ────, 0⎟, ⎜- ─ + ────, 0⎟⎥\n",
       "⎣                         ⎝  2    2     ⎠  ⎝  2    2     ⎠⎦"
      ]
     },
     "execution_count": 35,
     "metadata": {},
     "output_type": "execute_result"
    }
   ],
   "source": [
    "solve_poly_system([y**2 - x**3 + 1, y*x], x, y)"
   ]
  },
  {
   "cell_type": "markdown",
   "metadata": {},
   "source": [
    "# Examples from Wester’s Article\n",
    "\n",
    "- [URL](http://docs.sympy.org/latest/modules/polys/wester.html)\n",
    "\n",
    "[ここ](http://docs.sympy.org/latest/modules/polys/wester.html#wester1999)も見るといいらしい。\n",
    "\n",
    "## 注意\n",
    "次のセルを実行しておくこと。"
   ]
  },
  {
   "cell_type": "code",
   "execution_count": 36,
   "metadata": {},
   "outputs": [
    {
     "data": {
      "image/png": "[encoded data removed]",
      "text/latex": [
       "$$\\left ( x, \\quad y, \\quad z, \\quad s, \\quad c, \\quad n\\right )$$"
      ],
      "text/plain": [
       "(x, y, z, s, c, n)"
      ]
     },
     "execution_count": 36,
     "metadata": {},
     "output_type": "execute_result"
    }
   ],
   "source": [
    "var('x,y,z,s,c,n')"
   ]
  },
  {
   "cell_type": "markdown",
   "metadata": {},
   "source": [
    "## 単純な一変数多項式の因数分解\n",
    "`factor()` が基本。"
   ]
  },
  {
   "cell_type": "code",
   "execution_count": 37,
   "metadata": {
    "scrolled": true
   },
   "outputs": [
    {
     "data": {
      "image/png": "[encoded data removed]",
      "text/latex": [
       "$$2 \\left(3 x - 5\\right)$$"
      ],
      "text/plain": [
       "2⋅(3⋅x - 5)"
      ]
     },
     "execution_count": 37,
     "metadata": {},
     "output_type": "execute_result"
    }
   ],
   "source": [
    "factor(6*x - 10)"
   ]
  },
  {
   "cell_type": "markdown",
   "metadata": {},
   "source": [
    "### `primitive()`\n",
    "因子を分けて取りたいなら `primitive()` を使おう。"
   ]
  },
  {
   "cell_type": "code",
   "execution_count": 38,
   "metadata": {
    "scrolled": true
   },
   "outputs": [
    {
     "data": {
      "image/png": "[encoded data removed]",
      "text/latex": [
       "$$\\left ( 2, \\quad 3 x - 5\\right )$$"
      ],
      "text/plain": [
       "(2, 3⋅x - 5)"
      ]
     },
     "execution_count": 38,
     "metadata": {},
     "output_type": "execute_result"
    }
   ],
   "source": [
    "primitive(6*x - 10)"
   ]
  },
  {
   "cell_type": "markdown",
   "metadata": {},
   "source": [
    "## 一変数での GCD、終結式（resultant）、因数分解\n",
    "整係数多項式を考える。"
   ]
  },
  {
   "cell_type": "code",
   "execution_count": 39,
   "metadata": {
    "scrolled": true
   },
   "outputs": [
    {
     "data": {
      "image/png": "[encoded data removed]",
      "text/latex": [
       "$$- 16 x^{60} - 21 x^{47} + 64 x^{34} - 126 x^{8} - 46 x^{5} - 81$$"
      ],
      "text/plain": [
       "      60       47       34        8       5     \n",
       "- 16⋅x   - 21⋅x   + 64⋅x   - 126⋅x  - 46⋅x  - 81"
      ]
     },
     "metadata": {},
     "output_type": "display_data"
    },
    {
     "data": {
      "image/png": "[encoded data removed]",
      "text/latex": [
       "$$72 x^{60} - 83 x^{52} - 22 x^{39} - 25 x^{25} - 19 x^{23} + 54 x^{10} + 81$$"
      ],
      "text/plain": [
       "    60       52       39       25       23       10     \n",
       "72⋅x   - 83⋅x   - 22⋅x   - 25⋅x   - 19⋅x   + 54⋅x   + 81"
      ]
     },
     "metadata": {},
     "output_type": "display_data"
    },
    {
     "data": {
      "image/png": "[encoded data removed]",
      "text/latex": [
       "$$34 x^{19} - 25 x^{16} + 70 x^{7} + 20 x^{3} - 91 x - 86$$"
      ],
      "text/plain": [
       "    19       16       7       3            \n",
       "34⋅x   - 25⋅x   + 70⋅x  + 20⋅x  - 91⋅x - 86"
      ]
     },
     "metadata": {},
     "output_type": "display_data"
    }
   ],
   "source": [
    "f = 64*x**34 - 21*x**47 - 126*x**8 - 46*x**5 - 16*x**60 - 81\n",
    "g = 72*x**60 - 25*x**25 - 19*x**23 - 22*x**39 - 83*x**52 + 54*x**10 + 81\n",
    "h = 34*x**19 - 25*x**16 + 70*x**7 + 20*x**3 - 91*x - 86\n",
    "\n",
    "display(f)\n",
    "display(g)\n",
    "display(h)"
   ]
  },
  {
   "cell_type": "markdown",
   "metadata": {},
   "source": [
    "### GCD"
   ]
  },
  {
   "cell_type": "code",
   "execution_count": 40,
   "metadata": {},
   "outputs": [
    {
     "data": {
      "image/png": "[encoded data removed]",
      "text/latex": [
       "$$1$$"
      ],
      "text/plain": [
       "1"
      ]
     },
     "execution_count": 40,
     "metadata": {},
     "output_type": "execute_result"
    }
   ],
   "source": [
    "gcd(f, g)"
   ]
  },
  {
   "cell_type": "markdown",
   "metadata": {},
   "source": [
    "$f*h$, $g*h$ は $h$ を共通因子に持つことを次のような形で確認してみる。"
   ]
  },
  {
   "cell_type": "code",
   "execution_count": 43,
   "metadata": {
    "scrolled": true
   },
   "outputs": [
    {
     "data": {
      "image/png": "[encoded data removed]",
      "text/latex": [
       "$$34 x^{19} - 25 x^{16} + 70 x^{7} + 20 x^{3} - 91 x - 86$$"
      ],
      "text/plain": [
       "    19       16       7       3            \n",
       "34⋅x   - 25⋅x   + 70⋅x  + 20⋅x  - 91⋅x - 86"
      ]
     },
     "metadata": {},
     "output_type": "display_data"
    },
    {
     "data": {
      "image/png": "[encoded data removed]",
      "text/latex": [
       "$$0$$"
      ],
      "text/plain": [
       "0"
      ]
     },
     "metadata": {},
     "output_type": "display_data"
    }
   ],
   "source": [
    "display(gcd(expand(f*h), expand(g*h)))\n",
    "display(gcd(expand(f*h), expand(g*h)) - h)"
   ]
  },
  {
   "cell_type": "markdown",
   "metadata": {},
   "source": [
    "同じことを終結式で確認。"
   ]
  },
  {
   "cell_type": "code",
   "execution_count": 44,
   "metadata": {
    "scrolled": true
   },
   "outputs": [
    {
     "data": {
      "image/png": "[encoded data removed]",
      "text/latex": [
       "$$0$$"
      ],
      "text/plain": [
       "0"
      ]
     },
     "execution_count": 44,
     "metadata": {},
     "output_type": "execute_result"
    }
   ],
   "source": [
    "resultant(expand(f*h), expand(g*h))"
   ]
  },
  {
   "cell_type": "markdown",
   "metadata": {},
   "source": [
    "巨大な次数の（一変数）多項式の因数分解もできる。"
   ]
  },
  {
   "cell_type": "code",
   "execution_count": 45,
   "metadata": {
    "scrolled": true
   },
   "outputs": [
    {
     "data": {
      "image/png": "[encoded data removed]",
      "text/latex": [
       "$$- \\left(16 x^{60} + 21 x^{47} - 64 x^{34} + 126 x^{8} + 46 x^{5} + 81\\right) \\left(72 x^{60} - 83 x^{52} - 22 x^{39} - 25 x^{25} - 19 x^{23} + 54 x^{10} + 81\\right)$$"
      ],
      "text/plain": [
       " ⎛    60       47       34        8       5     ⎞ ⎛    60       52       39   \n",
       "-⎝16⋅x   + 21⋅x   - 64⋅x   + 126⋅x  + 46⋅x  + 81⎠⋅⎝72⋅x   - 83⋅x   - 22⋅x   - \n",
       "\n",
       "    25       23       10     ⎞\n",
       "25⋅x   - 19⋅x   + 54⋅x   + 81⎠"
      ]
     },
     "metadata": {},
     "output_type": "display_data"
    }
   ],
   "source": [
    "display(factor(expand(f*g)))"
   ]
  },
  {
   "cell_type": "markdown",
   "metadata": {},
   "source": [
    "## 多変数での GCD と因数分解"
   ]
  },
  {
   "cell_type": "code",
   "execution_count": 46,
   "metadata": {
    "scrolled": true
   },
   "outputs": [
    {
     "data": {
      "image/png": "[encoded data removed]",
      "text/latex": [
       "$$- 3 x^{22} - 47 x^{17} y^{5} z^{8} + 6 x^{15} y^{9} z^{2} + 24 x y^{19} z^{8} + 5$$"
      ],
      "text/plain": [
       "     22       17  5  8      15  9  2         19  8    \n",
       "- 3⋅x   - 47⋅x  ⋅y ⋅z  + 6⋅x  ⋅y ⋅z  + 24⋅x⋅y  ⋅z  + 5"
      ]
     },
     "metadata": {},
     "output_type": "display_data"
    },
    {
     "data": {
      "image/png": "[encoded data removed]",
      "text/latex": [
       "$$12 x^{9} y^{16} z^{4} + 20 x^{7} y^{7} z^{7} + 34 x^{5} y^{8} z^{13} + 80 y^{14} z$$"
      ],
      "text/plain": [
       "    9  16  4       7  7  7       5  8  13       14  \n",
       "12⋅x ⋅y  ⋅z  + 20⋅x ⋅y ⋅z  + 34⋅x ⋅y ⋅z   + 80⋅y  ⋅z"
      ]
     },
     "metadata": {},
     "output_type": "display_data"
    },
    {
     "data": {
      "image/png": "[encoded data removed]",
      "text/latex": [
       "$$47 x^{17} y^{5} z^{8} + 11 x^{12} y^{7} z^{13} - 23 x^{2} y^{8} z^{10}$$"
      ],
      "text/plain": [
       "    17  5  8       12  7  13       2  8  10\n",
       "47⋅x  ⋅y ⋅z  + 11⋅x  ⋅y ⋅z   - 23⋅x ⋅y ⋅z  "
      ]
     },
     "metadata": {},
     "output_type": "display_data"
    }
   ],
   "source": [
    "f = 24*x*y**19*z**8 - 47*x**17*y**5*z**8 + 6*x**15*y**9*z**2 - 3*x**22 + 5\n",
    "g = 34*x**5*y**8*z**13 + 20*x**7*y**7*z**7 + 12*x**9*y**16*z**4 + 80*y**14*z\n",
    "h = 11*x**12*y**7*z**13 - 23*x**2*y**8*z**10 + 47*x**17*y**5*z**8\n",
    "display(f)\n",
    "display(g)\n",
    "display(h)"
   ]
  },
  {
   "cell_type": "code",
   "execution_count": 47,
   "metadata": {
    "scrolled": true
   },
   "outputs": [
    {
     "data": {
      "image/png": "[encoded data removed]",
      "text/latex": [
       "$$1$$"
      ],
      "text/plain": [
       "1"
      ]
     },
     "metadata": {},
     "output_type": "display_data"
    }
   ],
   "source": [
    "display(gcd(f, g))"
   ]
  },
  {
   "cell_type": "markdown",
   "metadata": {},
   "source": [
    "GCD の動きを見るために無理やり $h$ をかける。"
   ]
  },
  {
   "cell_type": "code",
   "execution_count": 49,
   "metadata": {
    "scrolled": true
   },
   "outputs": [
    {
     "data": {
      "image/png": "[encoded data removed]",
      "text/latex": [
       "$$0$$"
      ],
      "text/plain": [
       "0"
      ]
     },
     "metadata": {},
     "output_type": "display_data"
    }
   ],
   "source": [
    "display(gcd(f*h, g*h) - h)"
   ]
  },
  {
   "cell_type": "markdown",
   "metadata": {},
   "source": [
    "多変数でも因数分解をやってみよう。"
   ]
  },
  {
   "cell_type": "code",
   "execution_count": 51,
   "metadata": {},
   "outputs": [
    {
     "data": {
      "image/png": "[encoded data removed]",
      "text/latex": [
       "$$- 3 x^{22} - 47 x^{17} y^{5} z^{8} + 6 x^{15} y^{9} z^{2} + 24 x y^{19} z^{8} + 5$$"
      ],
      "text/plain": [
       "     22       17  5  8      15  9  2         19  8    \n",
       "- 3⋅x   - 47⋅x  ⋅y ⋅z  + 6⋅x  ⋅y ⋅z  + 24⋅x⋅y  ⋅z  + 5"
      ]
     },
     "metadata": {},
     "output_type": "display_data"
    },
    {
     "data": {
      "image/png": "[encoded data removed]",
      "text/latex": [
       "$$2 y^{7} z \\left(6 x^{9} y^{9} z^{3} + 10 x^{7} z^{6} + 17 x^{5} y z^{12} + 40 y^{7}\\right)$$"
      ],
      "text/plain": [
       "   7   ⎛   9  9  3       7  6       5    12       7⎞\n",
       "2⋅y ⋅z⋅⎝6⋅x ⋅y ⋅z  + 10⋅x ⋅z  + 17⋅x ⋅y⋅z   + 40⋅y ⎠"
      ]
     },
     "metadata": {},
     "output_type": "display_data"
    }
   ],
   "source": [
    "display(factor(f))\n",
    "display(factor(g))"
   ]
  },
  {
   "cell_type": "code",
   "execution_count": 52,
   "metadata": {
    "scrolled": true
   },
   "outputs": [
    {
     "data": {
      "image/png": "[encoded data removed]",
      "text/latex": [
       "$$- 2 y^{7} z \\left(6 x^{9} y^{9} z^{3} + 10 x^{7} z^{6} + 17 x^{5} y z^{12} + 40 y^{7}\\right) \\left(3 x^{22} + 47 x^{17} y^{5} z^{8} - 6 x^{15} y^{9} z^{2} - 24 x y^{19} z^{8} - 5\\right)$$"
      ],
      "text/plain": [
       "    7   ⎛   9  9  3       7  6       5    12       7⎞ ⎛   22       17  5  8   \n",
       "-2⋅y ⋅z⋅⎝6⋅x ⋅y ⋅z  + 10⋅x ⋅z  + 17⋅x ⋅y⋅z   + 40⋅y ⎠⋅⎝3⋅x   + 47⋅x  ⋅y ⋅z  - \n",
       "\n",
       "   15  9  2         19  8    ⎞\n",
       "6⋅x  ⋅y ⋅z  - 24⋅x⋅y  ⋅z  - 5⎠"
      ]
     },
     "metadata": {},
     "output_type": "display_data"
    }
   ],
   "source": [
    "display(factor(expand(f*g)))"
   ]
  },
  {
   "cell_type": "markdown",
   "metadata": {},
   "source": [
    "## 共通零点をもつかどうか\n",
    "終結式 (resultant) を使う：一般論によって共通零点を持っていると終結式が消える。"
   ]
  },
  {
   "cell_type": "code",
   "execution_count": 55,
   "metadata": {},
   "outputs": [
    {
     "data": {
      "image/png": "[encoded data removed]",
      "text/latex": [
       "$$3 x^{4} + 3 x^{3} + x^{2} - x - 2$$"
      ],
      "text/plain": [
       "   4      3    2        \n",
       "3⋅x  + 3⋅x  + x  - x - 2"
      ]
     },
     "metadata": {},
     "output_type": "display_data"
    },
    {
     "data": {
      "image/png": "[encoded data removed]",
      "text/latex": [
       "$$x^{3} - 3 x^{2} + x + 5$$"
      ],
      "text/plain": [
       " 3      2        \n",
       "x  - 3⋅x  + x + 5"
      ]
     },
     "metadata": {},
     "output_type": "display_data"
    }
   ],
   "source": [
    "p = 3*x**4 + 3*x**3 + x**2 - x - 2\n",
    "q = x**3 - 3*x**2 + x + 5\n",
    "\n",
    "display(p)\n",
    "display(q)"
   ]
  },
  {
   "cell_type": "code",
   "execution_count": 56,
   "metadata": {
    "scrolled": true
   },
   "outputs": [
    {
     "data": {
      "image/png": "[encoded data removed]",
      "text/latex": [
       "$$\\left(x + 1\\right) \\left(3 x^{3} + x - 2\\right)$$"
      ],
      "text/plain": [
       "        ⎛   3        ⎞\n",
       "(x + 1)⋅⎝3⋅x  + x - 2⎠"
      ]
     },
     "metadata": {},
     "output_type": "display_data"
    },
    {
     "data": {
      "image/png": "[encoded data removed]",
      "text/latex": [
       "$$\\left(x + 1\\right) \\left(x^{2} - 4 x + 5\\right)$$"
      ],
      "text/plain": [
       "        ⎛ 2          ⎞\n",
       "(x + 1)⋅⎝x  - 4⋅x + 5⎠"
      ]
     },
     "metadata": {},
     "output_type": "display_data"
    },
    {
     "data": {
      "image/png": "[encoded data removed]",
      "text/latex": [
       "$$x + 1$$"
      ],
      "text/plain": [
       "x + 1"
      ]
     },
     "metadata": {},
     "output_type": "display_data"
    },
    {
     "data": {
      "image/png": "[encoded data removed]",
      "text/latex": [
       "$$0$$"
      ],
      "text/plain": [
       "0"
      ]
     },
     "metadata": {},
     "output_type": "display_data"
    }
   ],
   "source": [
    "display(factor(p))\n",
    "display(factor(q))\n",
    "display(gcd(p,q))\n",
    "display(resultant(p, q))"
   ]
  },
  {
   "cell_type": "markdown",
   "metadata": {},
   "source": [
    "## 有理式の単純化\n",
    "\n",
    "`cancel()` を使う。"
   ]
  },
  {
   "cell_type": "code",
   "execution_count": 59,
   "metadata": {
    "scrolled": true
   },
   "outputs": [
    {
     "data": {
      "image/png": "[encoded data removed]",
      "text/latex": [
       "$$x^{2} - 4$$"
      ],
      "text/plain": [
       " 2    \n",
       "x  - 4"
      ]
     },
     "metadata": {},
     "output_type": "display_data"
    },
    {
     "data": {
      "image/png": "[encoded data removed]",
      "text/latex": [
       "$$x^{2} + 4 x + 4$$"
      ],
      "text/plain": [
       " 2          \n",
       "x  + 4⋅x + 4"
      ]
     },
     "metadata": {},
     "output_type": "display_data"
    },
    {
     "data": {
      "image/png": "[encoded data removed]",
      "text/latex": [
       "$$\\frac{x - 2}{x + 2}$$"
      ],
      "text/plain": [
       "x - 2\n",
       "─────\n",
       "x + 2"
      ]
     },
     "metadata": {},
     "output_type": "display_data"
    }
   ],
   "source": [
    "p = x**2 - 4\n",
    "q = x**2 + 4*x + 4\n",
    "\n",
    "display(p)\n",
    "display(q)\n",
    "display(cancel(p / q))"
   ]
  },
  {
   "cell_type": "markdown",
   "metadata": {},
   "source": [
    "##  多項式の展開と因数分解"
   ]
  },
  {
   "cell_type": "code",
   "execution_count": 62,
   "metadata": {},
   "outputs": [
    {
     "data": {
      "image/png": "[encoded data removed]",
      "text/latex": [
       "$$\\left(x + 1\\right)^{20}$$"
      ],
      "text/plain": [
       "       20\n",
       "(x + 1)  "
      ]
     },
     "metadata": {},
     "output_type": "display_data"
    }
   ],
   "source": [
    "f = (x+1)**20\n",
    "display(f)"
   ]
  },
  {
   "cell_type": "code",
   "execution_count": 63,
   "metadata": {},
   "outputs": [
    {
     "data": {
      "image/png": "[encoded data removed]",
      "text/latex": [
       "$$x^{20} + 20 x^{19} + 190 x^{18} + 1140 x^{17} + 4845 x^{16} + 15504 x^{15} + 38760 x^{14} + 77520 x^{13} + 125970 x^{12} + 167960 x^{11} + 184756 x^{10} + 167960 x^{9} + 125970 x^{8} + 77520 x^{7} + 38760 x^{6} + 15504 x^{5} + 4845 x^{4} + 1140 x^{3} + 190 x^{2} + 20 x + 1$$"
      ],
      "text/plain": [
       " 20       19        18         17         16          15          14          \n",
       "x   + 20⋅x   + 190⋅x   + 1140⋅x   + 4845⋅x   + 15504⋅x   + 38760⋅x   + 77520⋅x\n",
       "\n",
       "13           12           11           10           9           8          7  \n",
       "   + 125970⋅x   + 167960⋅x   + 184756⋅x   + 167960⋅x  + 125970⋅x  + 77520⋅x  +\n",
       "\n",
       "        6          5         4         3        2           \n",
       " 38760⋅x  + 15504⋅x  + 4845⋅x  + 1140⋅x  + 190⋅x  + 20⋅x + 1"
      ]
     },
     "metadata": {},
     "output_type": "display_data"
    }
   ],
   "source": [
    "g = expand(f)\n",
    "display(expand(g))"
   ]
  },
  {
   "cell_type": "code",
   "execution_count": 65,
   "metadata": {
    "scrolled": true
   },
   "outputs": [
    {
     "data": {
      "image/png": "[encoded data removed]",
      "text/latex": [
       "$$20 x^{19} + 380 x^{18} + 3420 x^{17} + 19380 x^{16} + 77520 x^{15} + 232560 x^{14} + 542640 x^{13} + 1007760 x^{12} + 1511640 x^{11} + 1847560 x^{10} + 1847560 x^{9} + 1511640 x^{8} + 1007760 x^{7} + 542640 x^{6} + 232560 x^{5} + 77520 x^{4} + 19380 x^{3} + 3420 x^{2} + 380 x + 20$$"
      ],
      "text/plain": [
       "    19        18         17          16          15           14           13 \n",
       "20⋅x   + 380⋅x   + 3420⋅x   + 19380⋅x   + 77520⋅x   + 232560⋅x   + 542640⋅x   \n",
       "\n",
       "           12            11            10            9            8           \n",
       "+ 1007760⋅x   + 1511640⋅x   + 1847560⋅x   + 1847560⋅x  + 1511640⋅x  + 1007760⋅\n",
       "\n",
       " 7           6           5          4          3         2             \n",
       "x  + 542640⋅x  + 232560⋅x  + 77520⋅x  + 19380⋅x  + 3420⋅x  + 380⋅x + 20"
      ]
     },
     "metadata": {},
     "output_type": "display_data"
    },
    {
     "data": {
      "image/png": "[encoded data removed]",
      "text/latex": [
       "$$20 \\left(x + 1\\right)^{19}$$"
      ],
      "text/plain": [
       "          19\n",
       "20⋅(x + 1)  "
      ]
     },
     "metadata": {},
     "output_type": "display_data"
    }
   ],
   "source": [
    "h = diff(g, x)\n",
    "display(h)\n",
    "display(factor(h))"
   ]
  },
  {
   "cell_type": "markdown",
   "metadata": {},
   "source": [
    "## （実係数での）円分多項式"
   ]
  },
  {
   "cell_type": "code",
   "execution_count": 66,
   "metadata": {
    "scrolled": true
   },
   "outputs": [
    {
     "data": {
      "image/png": "[encoded data removed]",
      "text/latex": [
       "$$x^{15} - 1$$"
      ],
      "text/plain": [
       " 15    \n",
       "x   - 1"
      ]
     },
     "metadata": {},
     "output_type": "display_data"
    },
    {
     "data": {
      "image/png": "[encoded data removed]",
      "text/latex": [
       "$$\\left(x - 1\\right) \\left(x^{2} + x + 1\\right) \\left(x^{4} + x^{3} + x^{2} + x + 1\\right) \\left(x^{8} - x^{7} + x^{5} - x^{4} + x^{3} - x + 1\\right)$$"
      ],
      "text/plain": [
       "        ⎛ 2        ⎞ ⎛ 4    3    2        ⎞ ⎛ 8    7    5    4    3        ⎞\n",
       "(x - 1)⋅⎝x  + x + 1⎠⋅⎝x  + x  + x  + x + 1⎠⋅⎝x  - x  + x  - x  + x  - x + 1⎠"
      ]
     },
     "metadata": {},
     "output_type": "display_data"
    }
   ],
   "source": [
    "p = x**15 - 1\n",
    "display(p)\n",
    "display(factor(p))"
   ]
  },
  {
   "cell_type": "markdown",
   "metadata": {},
   "source": [
    "## ガウスの整数上で一変数多項式を因数分解"
   ]
  },
  {
   "cell_type": "code",
   "execution_count": 67,
   "metadata": {},
   "outputs": [
    {
     "data": {
      "image/png": "[encoded data removed]",
      "text/latex": [
       "$$4 x^{4} + 8 x^{3} + 77 x^{2} + 18 x + 153$$"
      ],
      "text/plain": [
       "   4      3       2             \n",
       "4⋅x  + 8⋅x  + 77⋅x  + 18⋅x + 153"
      ]
     },
     "metadata": {},
     "output_type": "display_data"
    }
   ],
   "source": [
    "f = 4*x**4 + 8*x**3 + 77*x**2 + 18*x + 153\n",
    "display(f)"
   ]
  },
  {
   "cell_type": "code",
   "execution_count": 68,
   "metadata": {
    "scrolled": true
   },
   "outputs": [
    {
     "data": {
      "image/png": "[encoded data removed]",
      "text/latex": [
       "$$\\left(4 x^{2} + 9\\right) \\left(x^{2} + 2 x + 17\\right)$$"
      ],
      "text/plain": [
       "⎛   2    ⎞ ⎛ 2           ⎞\n",
       "⎝4⋅x  + 9⎠⋅⎝x  + 2⋅x + 17⎠"
      ]
     },
     "metadata": {},
     "output_type": "display_data"
    },
    {
     "data": {
      "image/png": "[encoded data removed]",
      "text/latex": [
       "$$4 \\left(x - \\frac{3 i}{2}\\right) \\left(x + \\frac{3 i}{2}\\right) \\left(x + 1 - 4 i\\right) \\left(x + 1 + 4 i\\right)$$"
      ],
      "text/plain": [
       "  ⎛    3⋅ⅈ⎞ ⎛    3⋅ⅈ⎞                            \n",
       "4⋅⎜x - ───⎟⋅⎜x + ───⎟⋅(x + 1 - 4⋅ⅈ)⋅(x + 1 + 4⋅ⅈ)\n",
       "  ⎝     2 ⎠ ⎝     2 ⎠                            "
      ]
     },
     "metadata": {},
     "output_type": "display_data"
    }
   ],
   "source": [
    "display(factor(f))\n",
    "display(factor(f, gaussian=True))"
   ]
  },
  {
   "cell_type": "markdown",
   "metadata": {},
   "source": [
    "`gaussian` 以外のシンタックスでも同じことができる。"
   ]
  },
  {
   "cell_type": "code",
   "execution_count": 69,
   "metadata": {
    "scrolled": true
   },
   "outputs": [
    {
     "data": {
      "image/png": "[encoded data removed]",
      "text/latex": [
       "$$4 \\left(x - \\frac{3 i}{2}\\right) \\left(x + \\frac{3 i}{2}\\right) \\left(x + 1 - 4 i\\right) \\left(x + 1 + 4 i\\right)$$"
      ],
      "text/plain": [
       "  ⎛    3⋅ⅈ⎞ ⎛    3⋅ⅈ⎞                            \n",
       "4⋅⎜x - ───⎟⋅⎜x + ───⎟⋅(x + 1 - 4⋅ⅈ)⋅(x + 1 + 4⋅ⅈ)\n",
       "  ⎝     2 ⎠ ⎝     2 ⎠                            "
      ]
     },
     "metadata": {},
     "output_type": "display_data"
    }
   ],
   "source": [
    "display(factor(f, extension=I))"
   ]
  },
  {
   "cell_type": "markdown",
   "metadata": {},
   "source": [
    "## 体を拡大して因数分解"
   ]
  },
  {
   "cell_type": "code",
   "execution_count": 70,
   "metadata": {
    "scrolled": true
   },
   "outputs": [
    {
     "data": {
      "image/png": "[encoded data removed]",
      "text/latex": [
       "$$x^{3} + x^{2} \\left(-2 + \\sqrt{2}\\right) - x \\left(2 \\sqrt{2} + 3\\right) - 3 \\sqrt{2}$$"
      ],
      "text/plain": [
       " 3    2                                \n",
       "x  + x ⋅(-2 + √2) - x⋅(2⋅√2 + 3) - 3⋅√2"
      ]
     },
     "metadata": {},
     "output_type": "display_data"
    },
    {
     "data": {
      "image/png": "[encoded data removed]",
      "text/latex": [
       "$$x^{2} - 2$$"
      ],
      "text/plain": [
       " 2    \n",
       "x  - 2"
      ]
     },
     "metadata": {},
     "output_type": "display_data"
    }
   ],
   "source": [
    "f = x**3 + (sqrt(2) - 2)*x**2 - (2*sqrt(2) + 3)*x - 3*sqrt(2)\n",
    "g = x**2 - 2\n",
    "display(f)\n",
    "display(g)"
   ]
  },
  {
   "cell_type": "markdown",
   "metadata": {},
   "source": [
    "有理式 $f/g$ を約分したいが、$\\sqrt{2}$ は有理数ではないところで問題が起きる。"
   ]
  },
  {
   "cell_type": "code",
   "execution_count": 71,
   "metadata": {
    "scrolled": true
   },
   "outputs": [
    {
     "data": {
      "image/png": "[encoded data removed]",
      "text/latex": [
       "$$\\frac{1}{x^{2} - 2} \\left(x^{3} - 2 x^{2} + \\sqrt{2} x^{2} - 3 x - 2 \\sqrt{2} x - 3 \\sqrt{2}\\right)$$"
      ],
      "text/plain": [
       " 3      2       2                      \n",
       "x  - 2⋅x  + √2⋅x  - 3⋅x - 2⋅√2⋅x - 3⋅√2\n",
       "───────────────────────────────────────\n",
       "                  2                    \n",
       "                 x  - 2                "
      ]
     },
     "metadata": {},
     "output_type": "display_data"
    }
   ],
   "source": [
    "display(cancel(f/g))"
   ]
  },
  {
   "cell_type": "markdown",
   "metadata": {},
   "source": [
    "実数を含んでいても約分させるためには `extension=True` を入れる。\n",
    "\n",
    "実際には $f/g$ の係数に対して最小の代数拡大を考えている：今は $\\mathbb{Q} (\\sqrt{2})$ をとっている。"
   ]
  },
  {
   "cell_type": "code",
   "execution_count": 73,
   "metadata": {
    "scrolled": true
   },
   "outputs": [
    {
     "data": {
      "image/png": "[encoded data removed]",
      "text/latex": [
       "$$\\frac{x^{2} - 2 x - 3}{x - \\sqrt{2}}$$"
      ],
      "text/plain": [
       " 2          \n",
       "x  - 2⋅x - 3\n",
       "────────────\n",
       "   x - √2   "
      ]
     },
     "metadata": {},
     "output_type": "display_data"
    }
   ],
   "source": [
    "display(cancel(f/g, extension=True))"
   ]
  },
  {
   "cell_type": "markdown",
   "metadata": {},
   "source": [
    "explicit に書いてみよう。"
   ]
  },
  {
   "cell_type": "code",
   "execution_count": 75,
   "metadata": {},
   "outputs": [
    {
     "data": {
      "image/png": "[encoded data removed]",
      "text/latex": [
       "$$\\frac{x^{2} - 2 x - 3}{x - \\sqrt{2}}$$"
      ],
      "text/plain": [
       " 2          \n",
       "x  - 2⋅x - 3\n",
       "────────────\n",
       "   x - √2   "
      ]
     },
     "metadata": {},
     "output_type": "display_data"
    },
    {
     "data": {
      "image/png": "[encoded data removed]",
      "text/latex": [
       "$$\\frac{1}{x^{2} - 2} \\left(x^{3} - 2 x^{2} + \\sqrt{2} x^{2} - 3 x - 2 \\sqrt{2} x - 3 \\sqrt{2}\\right)$$"
      ],
      "text/plain": [
       " 3      2       2                      \n",
       "x  - 2⋅x  + √2⋅x  - 3⋅x - 2⋅√2⋅x - 3⋅√2\n",
       "───────────────────────────────────────\n",
       "                  2                    \n",
       "                 x  - 2                "
      ]
     },
     "metadata": {},
     "output_type": "display_data"
    }
   ],
   "source": [
    "display(cancel(f/g, extension=sqrt(2)))\n",
    "display(cancel(f/g, extension=sqrt(3)))"
   ]
  },
  {
   "cell_type": "markdown",
   "metadata": {},
   "source": [
    "## いろいろな係数での一変数多項式の因数分解"
   ]
  },
  {
   "cell_type": "code",
   "execution_count": 87,
   "metadata": {},
   "outputs": [
    {
     "data": {
      "image/png": "[encoded data removed]",
      "text/latex": [
       "$$x^{4} - 3 x^{2} + 1$$"
      ],
      "text/plain": [
       " 4      2    \n",
       "x  - 3⋅x  + 1"
      ]
     },
     "metadata": {},
     "output_type": "display_data"
    },
    {
     "data": {
      "image/png": "[encoded data removed]",
      "text/latex": [
       "$$\\left(x^{2} - x - 1\\right) \\left(x^{2} + x - 1\\right)$$"
      ],
      "text/plain": [
       "⎛ 2        ⎞ ⎛ 2        ⎞\n",
       "⎝x  - x - 1⎠⋅⎝x  + x - 1⎠"
      ]
     },
     "metadata": {},
     "output_type": "display_data"
    }
   ],
   "source": [
    "f = x**4 - 3*x**2 + 1\n",
    "display(f)\n",
    "display(factor(f, extension=[I]))"
   ]
  },
  {
   "cell_type": "markdown",
   "metadata": {},
   "source": [
    "## 複素数\n",
    "\n",
    "- [参考](https://stackoverflow.com/questions/22089150/factor-to-complex-roots-using-sympy)"
   ]
  },
  {
   "cell_type": "code",
   "execution_count": 88,
   "metadata": {},
   "outputs": [
    {
     "data": {
      "image/png": "[encoded data removed]",
      "text/latex": [
       "$$\\left(x - \\frac{1}{2} + \\frac{\\sqrt{5}}{2}\\right) \\left(x + \\frac{1}{2} + \\frac{\\sqrt{5}}{2}\\right) \\left(x - \\frac{\\sqrt{5}}{2} - \\frac{1}{2}\\right) \\left(x - \\frac{\\sqrt{5}}{2} + \\frac{1}{2}\\right)$$"
      ],
      "text/plain": [
       "⎛    1   √5⎞ ⎛    1   √5⎞ ⎛    √5   1⎞ ⎛    √5   1⎞\n",
       "⎜x - ─ + ──⎟⋅⎜x + ─ + ──⎟⋅⎜x - ── - ─⎟⋅⎜x - ── + ─⎟\n",
       "⎝    2   2 ⎠ ⎝    2   2 ⎠ ⎝    2    2⎠ ⎝    2    2⎠"
      ]
     },
     "execution_count": 88,
     "metadata": {},
     "output_type": "execute_result"
    }
   ],
   "source": [
    "r = roots(f, x)\n",
    "LC(f, x) * Mul(*[(x - a)**r[a] for a in r])"
   ]
  },
  {
   "cell_type": "markdown",
   "metadata": {},
   "source": [
    "### 有理数"
   ]
  },
  {
   "cell_type": "code",
   "execution_count": 77,
   "metadata": {},
   "outputs": [
    {
     "data": {
      "image/png": "[encoded data removed]",
      "text/latex": [
       "$$\\left(x^{2} - x - 1\\right) \\left(x^{2} + x - 1\\right)$$"
      ],
      "text/plain": [
       "⎛ 2        ⎞ ⎛ 2        ⎞\n",
       "⎝x  - x - 1⎠⋅⎝x  + x - 1⎠"
      ]
     },
     "metadata": {},
     "output_type": "display_data"
    }
   ],
   "source": [
    "display(factor(f))"
   ]
  },
  {
   "cell_type": "markdown",
   "metadata": {},
   "source": [
    "### 有限体\n",
    "`modulus` で指定する。"
   ]
  },
  {
   "cell_type": "code",
   "execution_count": 81,
   "metadata": {
    "scrolled": true
   },
   "outputs": [
    {
     "data": {
      "image/png": "[encoded data removed]",
      "text/latex": [
       "$$\\left(x^{2} - x - 1\\right) \\left(x^{2} + x - 1\\right)$$"
      ],
      "text/plain": [
       "⎛ 2        ⎞ ⎛ 2        ⎞\n",
       "⎝x  - x - 1⎠⋅⎝x  + x - 1⎠"
      ]
     },
     "metadata": {},
     "output_type": "display_data"
    },
    {
     "data": {
      "image/png": "[encoded data removed]",
      "text/latex": [
       "$$\\left(x - 2\\right)^{2} \\left(x + 2\\right)^{2}$$"
      ],
      "text/plain": [
       "       2        2\n",
       "(x - 2) ⋅(x + 2) "
      ]
     },
     "metadata": {},
     "output_type": "display_data"
    }
   ],
   "source": [
    "display(factor(f, modulus=3))\n",
    "display(factor(f, modulus=5))"
   ]
  },
  {
   "cell_type": "markdown",
   "metadata": {},
   "source": [
    "### 代数的数\n",
    "$\\alpha = (\\sqrt{5} - 1)/2$ とする."
   ]
  },
  {
   "cell_type": "code",
   "execution_count": 85,
   "metadata": {
    "scrolled": true
   },
   "outputs": [
    {
     "data": {
      "image/png": "[encoded data removed]",
      "text/latex": [
       "$$\\left(x - alpha\\right) \\left(x + alpha\\right) \\left(x - 1 - alpha\\right) \\left(x + alpha + 1\\right)$$"
      ],
      "text/plain": [
       "(x - α)⋅(x + α)⋅(x - 1 - α)⋅(x + α + 1)"
      ]
     },
     "metadata": {},
     "output_type": "display_data"
    }
   ],
   "source": [
    "alg = AlgebraicNumber((sqrt(5) - 1)/2, alias='alpha')\n",
    "display(factor(f, extension=alg))"
   ]
  },
  {
   "cell_type": "markdown",
   "metadata": {},
   "source": [
    "### 一次式への分解\n",
    "[ここ](http://docs.sympy.org/latest/modules/polys/wester.html#factoring-polynomials-into-linear-factors)によると、将来的には `split` というオプション（？）をつける予定があるようだ。"
   ]
  },
  {
   "cell_type": "markdown",
   "metadata": {},
   "source": [
    "### 有限体上の議論"
   ]
  },
  {
   "cell_type": "code",
   "execution_count": 89,
   "metadata": {
    "scrolled": true
   },
   "outputs": [
    {
     "data": {
      "image/png": "[encoded data removed]",
      "text/latex": [
       "$$x^{11} + x + 1$$"
      ],
      "text/plain": [
       " 11        \n",
       "x   + x + 1"
      ]
     },
     "metadata": {},
     "output_type": "display_data"
    }
   ],
   "source": [
    "f = x**11 + x + 1\n",
    "display(f)"
   ]
  },
  {
   "cell_type": "markdown",
   "metadata": {},
   "source": [
    "$\\mathbb{F}_{65537}$ で因数分解してみる：これは対称多項式（？）を使った表現になっている。"
   ]
  },
  {
   "cell_type": "code",
   "execution_count": 92,
   "metadata": {},
   "outputs": [
    {
     "data": {
      "image/png": "[encoded data removed]",
      "text/latex": [
       "$$\\left(x^{2} + x + 1\\right) \\left(x^{9} - x^{8} + x^{6} - x^{5} + x^{3} - x^{2} + 1\\right)$$"
      ],
      "text/plain": [
       "⎛ 2        ⎞ ⎛ 9    8    6    5    3    2    ⎞\n",
       "⎝x  + x + 1⎠⋅⎝x  - x  + x  - x  + x  - x  + 1⎠"
      ]
     },
     "metadata": {},
     "output_type": "display_data"
    },
    {
     "data": {
      "image/png": "[encoded data removed]",
      "text/latex": [
       "$$x^{11} + x + 1$$"
      ],
      "text/plain": [
       " 11        \n",
       "x   + x + 1"
      ]
     },
     "metadata": {},
     "output_type": "display_data"
    }
   ],
   "source": [
    "g = factor(f, modulus=65537)\n",
    "display(g)\n",
    "display(expand(g))"
   ]
  },
  {
   "cell_type": "markdown",
   "metadata": {},
   "source": [
    "非対称表現（？）は次のようになっている。"
   ]
  },
  {
   "cell_type": "code",
   "execution_count": 93,
   "metadata": {
    "scrolled": true
   },
   "outputs": [
    {
     "data": {
      "image/png": "[encoded data removed]",
      "text/latex": [
       "$$\\left(x^{2} + x + 1\\right) \\left(x^{9} + 65536 x^{8} + x^{6} + 65536 x^{5} + x^{3} + 65536 x^{2} + 1\\right)$$"
      ],
      "text/plain": [
       "⎛ 2        ⎞ ⎛ 9          8    6          5    3          2    ⎞\n",
       "⎝x  + x + 1⎠⋅⎝x  + 65536⋅x  + x  + 65536⋅x  + x  + 65536⋅x  + 1⎠"
      ]
     },
     "metadata": {},
     "output_type": "display_data"
    }
   ],
   "source": [
    "g = factor(f, modulus=65537, symmetric=False)\n",
    "display(g)"
   ]
  },
  {
   "cell_type": "code",
   "execution_count": 96,
   "metadata": {
    "scrolled": true
   },
   "outputs": [
    {
     "data": {
      "image/png": "[encoded data removed]",
      "text/latex": [
       "$$x^{11} + 65537 x^{10} + 65537 x^{9} + 65537 x^{8} + 65537 x^{7} + 65537 x^{6} + 65537 x^{5} + 65537 x^{4} + 65537 x^{3} + 65537 x^{2} + x + 1$$"
      ],
      "text/plain": [
       " 11          10          9          8          7          6          5        \n",
       "x   + 65537⋅x   + 65537⋅x  + 65537⋅x  + 65537⋅x  + 65537⋅x  + 65537⋅x  + 65537\n",
       "\n",
       "  4          3          2        \n",
       "⋅x  + 65537⋅x  + 65537⋅x  + x + 1"
      ]
     },
     "metadata": {},
     "output_type": "display_data"
    },
    {
     "data": {
      "image/png": "[encoded data removed]",
      "text/latex": [
       "$$x^{11} + x + 1$$"
      ],
      "text/plain": [
       " 11        \n",
       "x   + x + 1"
      ]
     },
     "metadata": {},
     "output_type": "display_data"
    }
   ],
   "source": [
    "g = factor(f, modulus=65537, symmetric=False)\n",
    "display(expand(g, 65537))\n",
    "display(trunc(expand(g), 65537))"
   ]
  },
  {
   "cell_type": "markdown",
   "metadata": {},
   "source": [
    "## 多項式表現\n",
    "\n",
    "「Working with expressions as polynomials」の部分なのだが、このときの「Working with」は何と訳すといいのだろう。"
   ]
  },
  {
   "cell_type": "code",
   "execution_count": 97,
   "metadata": {
    "scrolled": true
   },
   "outputs": [
    {
     "data": {
      "image/png": "[encoded data removed]",
      "text/latex": [
       "$$x^{20} - 40 x^{19} y^{2} + 60 x^{19} z^{3} + 760 x^{18} y^{4} - 2280 x^{18} y^{2} z^{3} + 1710 x^{18} z^{6} - 9120 x^{17} y^{6} + 41040 x^{17} y^{4} z^{3} - 61560 x^{17} y^{2} z^{6} + 30780 x^{17} z^{9} + 77520 x^{16} y^{8} - 465120 x^{16} y^{6} z^{3} + 1046520 x^{16} y^{4} z^{6} - 1046520 x^{16} y^{2} z^{9} + 392445 x^{16} z^{12} - 496128 x^{15} y^{10} + 3720960 x^{15} y^{8} z^{3} - 11162880 x^{15} y^{6} z^{6} + 16744320 x^{15} y^{4} z^{9} - 12558240 x^{15} y^{2} z^{12} + 3767472 x^{15} z^{15} + 2480640 x^{14} y^{12} - 22325760 x^{14} y^{10} z^{3} + 83721600 x^{14} y^{8} z^{6} - 167443200 x^{14} y^{6} z^{9} + 188373600 x^{14} y^{4} z^{12} - 113024160 x^{14} y^{2} z^{15} + 28256040 x^{14} z^{18} - 9922560 x^{13} y^{14} + 104186880 x^{13} y^{12} z^{3} - 468840960 x^{13} y^{10} z^{6} + 1172102400 x^{13} y^{8} z^{9} - 1758153600 x^{13} y^{6} z^{12} + 1582338240 x^{13} y^{4} z^{15} - 791169120 x^{13} y^{2} z^{18} + 169536240 x^{13} z^{21} + 32248320 x^{12} y^{16} - 386979840 x^{12} y^{14} z^{3} + 2031644160 x^{12} y^{12} z^{6} - 6094932480 x^{12} y^{10} z^{9} + 11427998400 x^{12} y^{8} z^{12} - 13713598080 x^{12} y^{6} z^{15} + 10285198560 x^{12} y^{4} z^{18} - 4407942240 x^{12} y^{2} z^{21} + 826489170 x^{12} z^{24} - 85995520 x^{11} y^{18} + 1160939520 x^{11} y^{16} z^{3} - 6965637120 x^{11} y^{14} z^{6} + 24379729920 x^{11} y^{12} z^{9} - 54854392320 x^{11} y^{10} z^{12} + 82281588480 x^{11} y^{8} z^{15} - 82281588480 x^{11} y^{6} z^{18} + 52895306880 x^{11} y^{4} z^{21} - 19835740080 x^{11} y^{2} z^{24} + 3305956680 x^{11} z^{27} + 189190144 x^{10} y^{20} - 2837852160 x^{10} y^{18} z^{3} + 19155502080 x^{10} y^{16} z^{6} - 76622008320 x^{10} y^{14} z^{9} + 201132771840 x^{10} y^{12} z^{12} - 362038989312 x^{10} y^{10} z^{15} + 452548736640 x^{10} y^{8} z^{18} - 387898917120 x^{10} y^{6} z^{21} + 218193140880 x^{10} y^{4} z^{24} - 72731046960 x^{10} y^{2} z^{27} + 10909657044 x^{10} z^{30} - 343982080 x^{9} y^{22} + 5675704320 x^{9} y^{20} z^{3} - 42567782400 x^{9} y^{18} z^{6} + 191555020800 x^{9} y^{16} z^{9} - 574665062400 x^{9} y^{14} z^{12} + 1206796631040 x^{9} y^{12} z^{15} - 1810194946560 x^{9} y^{10} z^{18} + 1939494585600 x^{9} y^{8} z^{21} - 1454620939200 x^{9} y^{6} z^{24} + 727310469600 x^{9} y^{4} z^{27} - 218193140880 x^{9} y^{2} z^{30} + 29753610120 x^{9} z^{33} + 515973120 x^{8} y^{24} - 9287516160 x^{8} y^{22} z^{3} + 76622008320 x^{8} y^{20} z^{6} - 383110041600 x^{8} y^{18} z^{9} + 1292996390400 x^{8} y^{16} z^{12} - 3103191336960 x^{8} y^{14} z^{15} + 5430584839680 x^{8} y^{12} z^{18} - 6982180508160 x^{8} y^{10} z^{21} + 6545794226400 x^{8} y^{8} z^{24} - 4363862817600 x^{8} y^{6} z^{27} + 1963738267920 x^{8} y^{4} z^{30} - 535564982160 x^{8} y^{2} z^{33} + 66945622770 x^{8} z^{36} - 635043840 x^{7} y^{26} + 12383354880 x^{7} y^{24} z^{3} - 111450193920 x^{7} y^{22} z^{6} + 612976066560 x^{7} y^{20} z^{9} - 2298660249600 x^{7} y^{18} z^{12} + 6206382673920 x^{7} y^{16} z^{15} - 12412765347840 x^{7} y^{14} z^{18} + 18619148021760 x^{7} y^{12} z^{21} - 20946541524480 x^{7} y^{10} z^{24} + 17455451270400 x^{7} y^{8} z^{27} - 10473270762240 x^{7} y^{6} z^{30} + 4284519857280 x^{7} y^{4} z^{33} - 1071129964320 x^{7} y^{2} z^{36} + 123591918960 x^{7} z^{39} + 635043840 x^{6} y^{28} - 13335920640 x^{6} y^{26} z^{3} + 130025226240 x^{6} y^{24} z^{6} - 780151357440 x^{6} y^{22} z^{9} + 3218124349440 x^{6} y^{20} z^{12} - 9654373048320 x^{6} y^{18} z^{15} + 21722339358720 x^{6} y^{16} z^{18} - 37238296043520 x^{6} y^{14} z^{21} + 48875263557120 x^{6} y^{12} z^{24} - 48875263557120 x^{6} y^{10} z^{27} + 36656447667840 x^{6} y^{8} z^{30} - 19994426000640 x^{6} y^{6} z^{33} + 7497909750240 x^{6} y^{4} z^{36} - 1730286865440 x^{6} y^{2} z^{39} + 185387878440 x^{6} z^{42} - 508035072 x^{5} y^{30} + 11430789120 x^{5} y^{28} z^{3} - 120023285760 x^{5} y^{26} z^{6} + 780151357440 x^{5} y^{24} z^{9} - 3510681108480 x^{5} y^{22} z^{12} + 11585247657984 x^{5} y^{20} z^{15} - 28963119144960 x^{5} y^{18} z^{18} + 55857444065280 x^{5} y^{16} z^{21} - 83786166097920 x^{5} y^{14} z^{24} + 97750527114240 x^{5} y^{12} z^{27} - 87975474402816 x^{5} y^{10} z^{30} + 59983278001920 x^{5} y^{8} z^{33} - 29991639000960 x^{5} y^{6} z^{36} + 10381721192640 x^{5} y^{4} z^{39} - 2224654541280 x^{5} y^{2} z^{42} + 222465454128 x^{5} z^{45} + 317521920 x^{4} y^{32} - 7620526080 x^{4} y^{30} z^{3} + 85730918400 x^{4} y^{28} z^{6} - 600116428800 x^{4} y^{26} z^{9} + 2925567590400 x^{4} y^{24} z^{12} - 10532043325440 x^{4} y^{22} z^{15} + 28963119144960 x^{4} y^{20} z^{18} - 62063826739200 x^{4} y^{18} z^{21} + 104732707622400 x^{4} y^{16} z^{24} - 139643610163200 x^{4} y^{14} z^{27} + 146625790671360 x^{4} y^{12} z^{30} - 119966556003840 x^{4} y^{10} z^{33} + 74979097502400 x^{4} y^{8} z^{36} - 34605737308800 x^{4} y^{6} z^{39} + 11123272706400 x^{4} y^{4} z^{42} - 2224654541280 x^{4} y^{2} z^{45} + 208561363245 x^{4} z^{48} - 149422080 x^{3} y^{34} + 3810263040 x^{3} y^{32} z^{3} - 45723156480 x^{3} y^{30} z^{6} + 342923673600 x^{3} y^{28} z^{9} - 1800349286400 x^{3} y^{26} z^{12} + 7021362216960 x^{3} y^{24} z^{15} - 21064086650880 x^{3} y^{22} z^{18} + 49651061391360 x^{3} y^{20} z^{21} - 93095740108800 x^{3} y^{18} z^{24} + 139643610163200 x^{3} y^{16} z^{27} - 167572332195840 x^{3} y^{14} z^{30} + 159955408005120 x^{3} y^{12} z^{33} - 119966556003840 x^{3} y^{10} z^{36} + 69211474617600 x^{3} y^{8} z^{39} - 29662060550400 x^{3} y^{6} z^{42} + 8898618165120 x^{3} y^{4} z^{45} - 1668490905960 x^{3} y^{2} z^{48} + 147219785820 x^{3} z^{51} + 49807360 x^{2} y^{36} - 1344798720 x^{2} y^{34} z^{3} + 17146183680 x^{2} y^{32} z^{6} - 137169469440 x^{2} y^{30} z^{9} + 771578265600 x^{2} y^{28} z^{12} - 3240628715520 x^{2} y^{26} z^{15} + 10532043325440 x^{2} y^{24} z^{18} - 27082397122560 x^{2} y^{22} z^{21} + 55857444065280 x^{2} y^{20} z^{24} - 93095740108800 x^{2} y^{18} z^{27} + 125679249146880 x^{2} y^{16} z^{30} - 137104635432960 x^{2} y^{14} z^{33} + 119966556003840 x^{2} y^{12} z^{36} - 83053769541120 x^{2} y^{10} z^{39} + 44493090825600 x^{2} y^{8} z^{42} - 17797236330240 x^{2} y^{6} z^{45} + 5005472717880 x^{2} y^{4} z^{48} - 883318714920 x^{2} y^{2} z^{51} + 73609892910 x^{2} z^{54} - 10485760 x y^{38} + 298844160 x y^{36} z^{3} - 4034396160 x y^{34} z^{6} + 34292367360 x y^{32} z^{9} - 205754204160 x y^{30} z^{12} + 925893918720 x y^{28} z^{15} - 3240628715520 x y^{26} z^{18} + 9027465707520 x y^{24} z^{21} - 20311797841920 x y^{22} z^{24} + 37238296043520 x y^{20} z^{27} - 55857444065280 x y^{18} z^{30} + 68552317716480 x y^{16} z^{33} - 68552317716480 x y^{14} z^{36} + 55369179694080 x y^{12} z^{39} - 35594472660480 x y^{10} z^{42} + 17797236330240 x y^{8} z^{45} - 6673963623840 x y^{6} z^{48} + 1766637429840 x y^{4} z^{51} - 294439571640 x y^{2} z^{54} + 23245229340 x z^{57} + 1048576 y^{40} - 31457280 y^{38} z^{3} + 448266240 y^{36} z^{6} - 4034396160 y^{34} z^{9} + 25719275520 y^{32} z^{12} - 123452522496 y^{30} z^{15} + 462946959360 y^{28} z^{18} - 1388840878080 y^{26} z^{21} + 3385299640320 y^{24} z^{24} - 6770599280640 y^{22} z^{27} + 11171488813056 y^{20} z^{30} - 15233848381440 y^{18} z^{33} + 17138079429120 y^{16} z^{36} - 15819765626880 y^{14} z^{39} + 11864824220160 y^{12} z^{42} - 7118894532096 y^{10} z^{45} + 3336981811920 y^{8} z^{48} - 1177758286560 y^{6} z^{51} + 294439571640 y^{4} z^{54} - 46490458680 y^{2} z^{57} + 3486784401 z^{60}$$"
      ],
      "text/plain": [
       " 20       19  2       19  3        18  4         18  2  3         18  6       \n",
       "x   - 40⋅x  ⋅y  + 60⋅x  ⋅z  + 760⋅x  ⋅y  - 2280⋅x  ⋅y ⋅z  + 1710⋅x  ⋅z  - 9120\n",
       "\n",
       "  17  6          17  4  3          17  2  6          17  9          16  8     \n",
       "⋅x  ⋅y  + 41040⋅x  ⋅y ⋅z  - 61560⋅x  ⋅y ⋅z  + 30780⋅x  ⋅z  + 77520⋅x  ⋅y  - 46\n",
       "\n",
       "      16  6  3            16  4  6            16  2  9           16  12       \n",
       "5120⋅x  ⋅y ⋅z  + 1046520⋅x  ⋅y ⋅z  - 1046520⋅x  ⋅y ⋅z  + 392445⋅x  ⋅z   - 4961\n",
       "\n",
       "    15  10            15  8  3             15  6  6             15  4  9      \n",
       "28⋅x  ⋅y   + 3720960⋅x  ⋅y ⋅z  - 11162880⋅x  ⋅y ⋅z  + 16744320⋅x  ⋅y ⋅z  - 125\n",
       "\n",
       "       15  2  12            15  15            14  12             14  10  3    \n",
       "58240⋅x  ⋅y ⋅z   + 3767472⋅x  ⋅z   + 2480640⋅x  ⋅y   - 22325760⋅x  ⋅y  ⋅z  + 8\n",
       "\n",
       "         14  8  6              14  6  9              14  4  12              14\n",
       "3721600⋅x  ⋅y ⋅z  - 167443200⋅x  ⋅y ⋅z  + 188373600⋅x  ⋅y ⋅z   - 113024160⋅x  \n",
       "\n",
       "  2  15             14  18            13  14              13  12  3           \n",
       "⋅y ⋅z   + 28256040⋅x  ⋅z   - 9922560⋅x  ⋅y   + 104186880⋅x  ⋅y  ⋅z  - 46884096\n",
       "\n",
       "   13  10  6               13  8  9               13  6  12               13  \n",
       "0⋅x  ⋅y  ⋅z  + 1172102400⋅x  ⋅y ⋅z  - 1758153600⋅x  ⋅y ⋅z   + 1582338240⋅x  ⋅y\n",
       "\n",
       "4  15              13  2  18              13  21             12  16           \n",
       " ⋅z   - 791169120⋅x  ⋅y ⋅z   + 169536240⋅x  ⋅z   + 32248320⋅x  ⋅y   - 38697984\n",
       "\n",
       "   12  14  3               12  12  6               12  10  9                12\n",
       "0⋅x  ⋅y  ⋅z  + 2031644160⋅x  ⋅y  ⋅z  - 6094932480⋅x  ⋅y  ⋅z  + 11427998400⋅x  \n",
       "\n",
       "  8  12                12  6  15                12  4  18               12  2 \n",
       "⋅y ⋅z   - 13713598080⋅x  ⋅y ⋅z   + 10285198560⋅x  ⋅y ⋅z   - 4407942240⋅x  ⋅y ⋅\n",
       "\n",
       " 21              12  24             11  18               11  16  3            \n",
       "z   + 826489170⋅x  ⋅z   - 85995520⋅x  ⋅y   + 1160939520⋅x  ⋅y  ⋅z  - 696563712\n",
       "\n",
       "   11  14  6                11  12  9                11  10  12               \n",
       "0⋅x  ⋅y  ⋅z  + 24379729920⋅x  ⋅y  ⋅z  - 54854392320⋅x  ⋅y  ⋅z   + 82281588480⋅\n",
       "\n",
       " 11  8  15                11  6  18                11  4  21                11\n",
       "x  ⋅y ⋅z   - 82281588480⋅x  ⋅y ⋅z   + 52895306880⋅x  ⋅y ⋅z   - 19835740080⋅x  \n",
       "\n",
       "  2  24               11  27              10  20               10  18  3      \n",
       "⋅y ⋅z   + 3305956680⋅x  ⋅z   + 189190144⋅x  ⋅y   - 2837852160⋅x  ⋅y  ⋅z  + 191\n",
       "\n",
       "          10  16  6                10  14  9                 10  12  12       \n",
       "55502080⋅x  ⋅y  ⋅z  - 76622008320⋅x  ⋅y  ⋅z  + 201132771840⋅x  ⋅y  ⋅z   - 3620\n",
       "\n",
       "          10  10  15                 10  8  18                 10  6  21      \n",
       "38989312⋅x  ⋅y  ⋅z   + 452548736640⋅x  ⋅y ⋅z   - 387898917120⋅x  ⋅y ⋅z   + 218\n",
       "\n",
       "           10  4  24                10  2  27                10  30           \n",
       "193140880⋅x  ⋅y ⋅z   - 72731046960⋅x  ⋅y ⋅z   + 10909657044⋅x  ⋅z   - 34398208\n",
       "\n",
       "   9  22               9  20  3                9  18  6                 9  16 \n",
       "0⋅x ⋅y   + 5675704320⋅x ⋅y  ⋅z  - 42567782400⋅x ⋅y  ⋅z  + 191555020800⋅x ⋅y  ⋅\n",
       "\n",
       " 9                 9  14  12                  9  12  15                  9  10\n",
       "z  - 574665062400⋅x ⋅y  ⋅z   + 1206796631040⋅x ⋅y  ⋅z   - 1810194946560⋅x ⋅y  \n",
       "\n",
       "  18                  9  8  21                  9  6  24                 9  4 \n",
       "⋅z   + 1939494585600⋅x ⋅y ⋅z   - 1454620939200⋅x ⋅y ⋅z   + 727310469600⋅x ⋅y ⋅\n",
       "\n",
       " 27                 9  2  30                9  33              8  24          \n",
       "z   - 218193140880⋅x ⋅y ⋅z   + 29753610120⋅x ⋅z   + 515973120⋅x ⋅y   - 9287516\n",
       "\n",
       "     8  22  3                8  20  6                 8  18  9                \n",
       "160⋅x ⋅y  ⋅z  + 76622008320⋅x ⋅y  ⋅z  - 383110041600⋅x ⋅y  ⋅z  + 1292996390400\n",
       "\n",
       "  8  16  12                  8  14  15                  8  12  18             \n",
       "⋅x ⋅y  ⋅z   - 3103191336960⋅x ⋅y  ⋅z   + 5430584839680⋅x ⋅y  ⋅z   - 6982180508\n",
       "\n",
       "     8  10  21                  8  8  24                  8  6  27            \n",
       "160⋅x ⋅y  ⋅z   + 6545794226400⋅x ⋅y ⋅z   - 4363862817600⋅x ⋅y ⋅z   + 196373826\n",
       "\n",
       "      8  4  30                 8  2  33                8  36              7  2\n",
       "7920⋅x ⋅y ⋅z   - 535564982160⋅x ⋅y ⋅z   + 66945622770⋅x ⋅z   - 635043840⋅x ⋅y \n",
       "\n",
       "6                7  24  3                 7  22  6                 7  20  9   \n",
       "  + 12383354880⋅x ⋅y  ⋅z  - 111450193920⋅x ⋅y  ⋅z  + 612976066560⋅x ⋅y  ⋅z  - \n",
       "\n",
       "               7  18  12                  7  16  15                   7  14  1\n",
       "2298660249600⋅x ⋅y  ⋅z   + 6206382673920⋅x ⋅y  ⋅z   - 12412765347840⋅x ⋅y  ⋅z \n",
       "\n",
       "8                   7  12  21                   7  10  24                   7 \n",
       "  + 18619148021760⋅x ⋅y  ⋅z   - 20946541524480⋅x ⋅y  ⋅z   + 17455451270400⋅x ⋅\n",
       "\n",
       " 8  27                   7  6  30                  7  4  33                  7\n",
       "y ⋅z   - 10473270762240⋅x ⋅y ⋅z   + 4284519857280⋅x ⋅y ⋅z   - 1071129964320⋅x \n",
       "\n",
       "  2  36                 7  39              6  28                6  26  3      \n",
       "⋅y ⋅z   + 123591918960⋅x ⋅z   + 635043840⋅x ⋅y   - 13335920640⋅x ⋅y  ⋅z  + 130\n",
       "\n",
       "           6  24  6                 6  22  9                  6  20  12       \n",
       "025226240⋅x ⋅y  ⋅z  - 780151357440⋅x ⋅y  ⋅z  + 3218124349440⋅x ⋅y  ⋅z   - 9654\n",
       "\n",
       "           6  18  15                   6  16  18                   6  14  21  \n",
       "373048320⋅x ⋅y  ⋅z   + 21722339358720⋅x ⋅y  ⋅z   - 37238296043520⋅x ⋅y  ⋅z   +\n",
       "\n",
       "                 6  12  24                   6  10  27                   6  8 \n",
       " 48875263557120⋅x ⋅y  ⋅z   - 48875263557120⋅x ⋅y  ⋅z   + 36656447667840⋅x ⋅y ⋅\n",
       "\n",
       " 30                   6  6  33                  6  4  36                  6  2\n",
       "z   - 19994426000640⋅x ⋅y ⋅z   + 7497909750240⋅x ⋅y ⋅z   - 1730286865440⋅x ⋅y \n",
       "\n",
       "  39                 6  42              5  30                5  28  3         \n",
       "⋅z   + 185387878440⋅x ⋅z   - 508035072⋅x ⋅y   + 11430789120⋅x ⋅y  ⋅z  - 120023\n",
       "\n",
       "        5  26  6                 5  24  9                  5  22  12          \n",
       "285760⋅x ⋅y  ⋅z  + 780151357440⋅x ⋅y  ⋅z  - 3510681108480⋅x ⋅y  ⋅z   + 1158524\n",
       "\n",
       "         5  20  15                   5  18  18                   5  16  21    \n",
       "7657984⋅x ⋅y  ⋅z   - 28963119144960⋅x ⋅y  ⋅z   + 55857444065280⋅x ⋅y  ⋅z   - 8\n",
       "\n",
       "               5  14  24                   5  12  27                   5  10  \n",
       "3786166097920⋅x ⋅y  ⋅z   + 97750527114240⋅x ⋅y  ⋅z   - 87975474402816⋅x ⋅y  ⋅z\n",
       "\n",
       "30                   5  8  33                   5  6  36                   5  \n",
       "   + 59983278001920⋅x ⋅y ⋅z   - 29991639000960⋅x ⋅y ⋅z   + 10381721192640⋅x ⋅y\n",
       "\n",
       "4  39                  5  2  42                 5  45              4  32      \n",
       " ⋅z   - 2224654541280⋅x ⋅y ⋅z   + 222465454128⋅x ⋅z   + 317521920⋅x ⋅y   - 762\n",
       "\n",
       "         4  30  3                4  28  6                 4  26  9            \n",
       "0526080⋅x ⋅y  ⋅z  + 85730918400⋅x ⋅y  ⋅z  - 600116428800⋅x ⋅y  ⋅z  + 292556759\n",
       "\n",
       "      4  24  12                   4  22  15                   4  20  18       \n",
       "0400⋅x ⋅y  ⋅z   - 10532043325440⋅x ⋅y  ⋅z   + 28963119144960⋅x ⋅y  ⋅z   - 6206\n",
       "\n",
       "            4  18  21                    4  16  24                    4  14  2\n",
       "3826739200⋅x ⋅y  ⋅z   + 104732707622400⋅x ⋅y  ⋅z   - 139643610163200⋅x ⋅y  ⋅z \n",
       "\n",
       "7                    4  12  30                    4  10  33                   \n",
       "  + 146625790671360⋅x ⋅y  ⋅z   - 119966556003840⋅x ⋅y  ⋅z   + 74979097502400⋅x\n",
       "\n",
       "4  8  36                   4  6  39                   4  4  42                \n",
       " ⋅y ⋅z   - 34605737308800⋅x ⋅y ⋅z   + 11123272706400⋅x ⋅y ⋅z   - 2224654541280\n",
       "\n",
       "  4  2  45                 4  48              3  34               3  32  3    \n",
       "⋅x ⋅y ⋅z   + 208561363245⋅x ⋅z   - 149422080⋅x ⋅y   + 3810263040⋅x ⋅y  ⋅z  - 4\n",
       "\n",
       "            3  30  6                 3  28  9                  3  26  12      \n",
       "5723156480⋅x ⋅y  ⋅z  + 342923673600⋅x ⋅y  ⋅z  - 1800349286400⋅x ⋅y  ⋅z   + 702\n",
       "\n",
       "            3  24  15                   3  22  18                   3  20  21 \n",
       "1362216960⋅x ⋅y  ⋅z   - 21064086650880⋅x ⋅y  ⋅z   + 49651061391360⋅x ⋅y  ⋅z   \n",
       "\n",
       "                  3  18  24                    3  16  27                    3 \n",
       "- 93095740108800⋅x ⋅y  ⋅z   + 139643610163200⋅x ⋅y  ⋅z   - 167572332195840⋅x ⋅\n",
       "\n",
       " 14  30                    3  12  33                    3  10  36             \n",
       "y  ⋅z   + 159955408005120⋅x ⋅y  ⋅z   - 119966556003840⋅x ⋅y  ⋅z   + 6921147461\n",
       "\n",
       "      3  8  39                   3  6  42                  3  4  45           \n",
       "7600⋅x ⋅y ⋅z   - 29662060550400⋅x ⋅y ⋅z   + 8898618165120⋅x ⋅y ⋅z   - 16684909\n",
       "\n",
       "       3  2  48                 3  51             2  36               2  34  3\n",
       "05960⋅x ⋅y ⋅z   + 147219785820⋅x ⋅z   + 49807360⋅x ⋅y   - 1344798720⋅x ⋅y  ⋅z \n",
       "\n",
       "                2  32  6                 2  30  9                 2  28  12   \n",
       " + 17146183680⋅x ⋅y  ⋅z  - 137169469440⋅x ⋅y  ⋅z  + 771578265600⋅x ⋅y  ⋅z   - \n",
       "\n",
       "               2  26  15                   2  24  18                   2  22  \n",
       "3240628715520⋅x ⋅y  ⋅z   + 10532043325440⋅x ⋅y  ⋅z   - 27082397122560⋅x ⋅y  ⋅z\n",
       "\n",
       "21                   2  20  24                   2  18  27                    \n",
       "   + 55857444065280⋅x ⋅y  ⋅z   - 93095740108800⋅x ⋅y  ⋅z   + 125679249146880⋅x\n",
       "\n",
       "2  16  30                    2  14  33                    2  12  36           \n",
       " ⋅y  ⋅z   - 137104635432960⋅x ⋅y  ⋅z   + 119966556003840⋅x ⋅y  ⋅z   - 83053769\n",
       "\n",
       "        2  10  39                   2  8  42                   2  6  45       \n",
       "541120⋅x ⋅y  ⋅z   + 44493090825600⋅x ⋅y ⋅z   - 17797236330240⋅x ⋅y ⋅z   + 5005\n",
       "\n",
       "           2  4  48                 2  2  51                2  54             \n",
       "472717880⋅x ⋅y ⋅z   - 883318714920⋅x ⋅y ⋅z   + 73609892910⋅x ⋅z   - 10485760⋅x\n",
       "\n",
       "  38                36  3                 34  6                  32  9        \n",
       "⋅y   + 298844160⋅x⋅y  ⋅z  - 4034396160⋅x⋅y  ⋅z  + 34292367360⋅x⋅y  ⋅z  - 20575\n",
       "\n",
       "           30  12                   28  15                    26  18          \n",
       "4204160⋅x⋅y  ⋅z   + 925893918720⋅x⋅y  ⋅z   - 3240628715520⋅x⋅y  ⋅z   + 9027465\n",
       "\n",
       "          24  21                     22  24                     20  27        \n",
       "707520⋅x⋅y  ⋅z   - 20311797841920⋅x⋅y  ⋅z   + 37238296043520⋅x⋅y  ⋅z   - 55857\n",
       "\n",
       "             18  30                     16  33                     14  36     \n",
       "444065280⋅x⋅y  ⋅z   + 68552317716480⋅x⋅y  ⋅z   - 68552317716480⋅x⋅y  ⋅z   + 55\n",
       "\n",
       "                12  39                     10  42                     8  45   \n",
       "369179694080⋅x⋅y  ⋅z   - 35594472660480⋅x⋅y  ⋅z   + 17797236330240⋅x⋅y ⋅z   - \n",
       "\n",
       "                 6  48                    4  51                   2  54       \n",
       "6673963623840⋅x⋅y ⋅z   + 1766637429840⋅x⋅y ⋅z   - 294439571640⋅x⋅y ⋅z   + 2324\n",
       "\n",
       "           57            40             38  3              36  6              \n",
       "5229340⋅x⋅z   + 1048576⋅y   - 31457280⋅y  ⋅z  + 448266240⋅y  ⋅z  - 4034396160⋅\n",
       "\n",
       " 34  9                32  12                 30  15                 28  18    \n",
       "y  ⋅z  + 25719275520⋅y  ⋅z   - 123452522496⋅y  ⋅z   + 462946959360⋅y  ⋅z   - 1\n",
       "\n",
       "              26  21                  24  24                  22  27          \n",
       "388840878080⋅y  ⋅z   + 3385299640320⋅y  ⋅z   - 6770599280640⋅y  ⋅z   + 1117148\n",
       "\n",
       "         20  30                   18  33                   16  36             \n",
       "8813056⋅y  ⋅z   - 15233848381440⋅y  ⋅z   + 17138079429120⋅y  ⋅z   - 1581976562\n",
       "\n",
       "      14  39                   12  42                  10  45                 \n",
       "6880⋅y  ⋅z   + 11864824220160⋅y  ⋅z   - 7118894532096⋅y  ⋅z   + 3336981811920⋅\n",
       "\n",
       " 8  48                  6  51                 4  54                2  57      \n",
       "y ⋅z   - 1177758286560⋅y ⋅z   + 294439571640⋅y ⋅z   - 46490458680⋅y ⋅z   + 348\n",
       "\n",
       "         60\n",
       "6784401⋅z  "
      ]
     },
     "metadata": {},
     "output_type": "display_data"
    }
   ],
   "source": [
    "f = expand((x - 2*y**2 + 3*z**3)**20)\n",
    "display(f)"
   ]
  },
  {
   "cell_type": "code",
   "execution_count": 98,
   "metadata": {
    "scrolled": true
   },
   "outputs": [
    {
     "data": {
      "image/png": "[encoded data removed]",
      "text/latex": [
       "$$\\left(x - 2 y^{2} + 3 z^{3}\\right)^{20}$$"
      ],
      "text/plain": [
       "                 20\n",
       "⎛       2      3⎞  \n",
       "⎝x - 2⋅y  + 3⋅z ⎠  "
      ]
     },
     "metadata": {},
     "output_type": "display_data"
    }
   ],
   "source": [
    "display(factor(f, expand=False))"
   ]
  },
  {
   "cell_type": "code",
   "execution_count": 101,
   "metadata": {
    "scrolled": true
   },
   "outputs": [
    {
     "data": {
      "image/png": "[encoded data removed]",
      "text/latex": [
       "$$\\left(- \\sin{\\left (x \\right )} + 2 \\cos^{2}{\\left (y \\right )} - 3 \\tan^{3}{\\left (z \\right )}\\right)^{20}$$"
      ],
      "text/plain": [
       "                                 20\n",
       "⎛               2           3   ⎞  \n",
       "⎝-sin(x) + 2⋅cos (y) - 3⋅tan (z)⎠  "
      ]
     },
     "metadata": {},
     "output_type": "display_data"
    },
    {
     "data": {
      "image/png": "[encoded data removed]",
      "text/latex": [
       "$$\\left(- \\sin{\\left (x \\right )} + 2 \\cos^{2}{\\left (y \\right )} - 3 \\tan^{3}{\\left (z \\right )}\\right)^{20}$$"
      ],
      "text/plain": [
       "                                 20\n",
       "⎛               2           3   ⎞  \n",
       "⎝-sin(x) + 2⋅cos (y) - 3⋅tan (z)⎠  "
      ]
     },
     "metadata": {},
     "output_type": "display_data"
    }
   ],
   "source": [
    "g = expand((sin(x) - 2*cos(y)**2 + 3*tan(z)**3)**20)\n",
    "display(factor(g, expand=True))\n",
    "display(factor(g, expand=False))"
   ]
  },
  {
   "cell_type": "markdown",
   "metadata": {},
   "source": [
    "## 簡約グレブナー基底の計算\n",
    "\n",
    "タイトルは「Computing reduced Gröbner bases」の訳なのだが、正しいだろうか？"
   ]
  },
  {
   "cell_type": "code",
   "execution_count": null,
   "metadata": {},
   "outputs": [],
   "source": [
    "f = expand((1 - c**2)**5 * (1 - s**2)**5 * (c**2 + s**2)**10)\n",
    "display(f)"
   ]
  },
  {
   "cell_type": "code",
   "execution_count": 105,
   "metadata": {
    "scrolled": true
   },
   "outputs": [
    {
     "data": {
      "image/png": "[encoded data removed]",
      "text/latex": [
       "$$GroebnerBasis([c**2 + s**2 - 1, c**20 - 5*c**18 + 10*c**16 - 10*c**14 + 5*c**12 - c**10], s, c, domain='ZZ', order='lex')$$"
      ],
      "text/plain": [
       "             ⎛⎡ 2    2       20      18       16       14      12    10⎤      \n",
       "GroebnerBasis⎝⎣c  + s  - 1, c   - 5⋅c   + 10⋅c   - 10⋅c   + 5⋅c   - c  ⎦, s, c\n",
       "\n",
       "                     ⎞\n",
       ", domain=ℤ, order=lex⎠"
      ]
     },
     "metadata": {},
     "output_type": "display_data"
    }
   ],
   "source": [
    "g = groebner([f, c**2 + s**2 - 1])\n",
    "display(g)"
   ]
  },
  {
   "cell_type": "code",
   "execution_count": 106,
   "metadata": {
    "scrolled": true
   },
   "outputs": [
    {
     "data": {
      "image/png": "[encoded data removed]",
      "text/latex": [
       "$$\\left [ c^{2} + s^{2} - 1, \\quad c^{10} \\left(c - 1\\right)^{5} \\left(c + 1\\right)^{5}\\right ]$$"
      ],
      "text/plain": [
       "⎡ 2    2       10        5        5⎤\n",
       "⎣c  + s  - 1, c  ⋅(c - 1) ⋅(c + 1) ⎦"
      ]
     },
     "metadata": {},
     "output_type": "display_data"
    }
   ],
   "source": [
    "display(list(map(factor, g)))"
   ]
  },
  {
   "cell_type": "code",
   "execution_count": 107,
   "metadata": {
    "scrolled": true
   },
   "outputs": [
    {
     "data": {
      "image/png": "[encoded data removed]",
      "text/latex": [
       "$$\\left [ \\left ( -1, \\quad 0\\right ), \\quad \\left ( 0, \\quad -1\\right ), \\quad \\left ( 0, \\quad 1\\right ), \\quad \\left ( 1, \\quad 0\\right )\\right ]$$"
      ],
      "text/plain": [
       "[(-1, 0), (0, -1), (0, 1), (1, 0)]"
      ]
     },
     "metadata": {},
     "output_type": "display_data"
    }
   ],
   "source": [
    "display(solve([f, s**2 + c**2 - 1], c, s))"
   ]
  },
  {
   "cell_type": "markdown",
   "metadata": {},
   "source": [
    "## 多変数多項式の代数的数の上での因数分解\n",
    "\n",
    "$\\mathbb{Q}(\\sqrt{3})$ 上で議論してみる。\n",
    "\n",
    "注：2018/06 時点では有限体係数の多変数多項式の因数分解はサポートされていない。"
   ]
  },
  {
   "cell_type": "code",
   "execution_count": 108,
   "metadata": {
    "scrolled": true
   },
   "outputs": [
    {
     "data": {
      "image/png": "[encoded data removed]",
      "text/latex": [
       "$$\\left(x + y\\right) \\left(x + y \\left(- \\frac{1}{2} - \\frac{\\sqrt{3} i}{2}\\right)\\right) \\left(x + y \\left(- \\frac{1}{2} + \\frac{\\sqrt{3} i}{2}\\right)\\right)$$"
      ],
      "text/plain": [
       "        ⎛      ⎛  1   √3⋅ⅈ⎞⎞ ⎛      ⎛  1   √3⋅ⅈ⎞⎞\n",
       "(x + y)⋅⎜x + y⋅⎜- ─ - ────⎟⎟⋅⎜x + y⋅⎜- ─ + ────⎟⎟\n",
       "        ⎝      ⎝  2    2  ⎠⎠ ⎝      ⎝  2    2  ⎠⎠"
      ]
     },
     "metadata": {},
     "output_type": "display_data"
    }
   ],
   "source": [
    " display(factor(x**3 + y**3, extension=sqrt(-3)))"
   ]
  },
  {
   "cell_type": "markdown",
   "metadata": {},
   "source": [
    "### 部分分数分解\n",
    "\n",
    "`apart()` を使う。"
   ]
  },
  {
   "cell_type": "code",
   "execution_count": 109,
   "metadata": {},
   "outputs": [
    {
     "data": {
      "image/png": "[encoded data removed]",
      "text/latex": [
       "$$\\frac{x^{2} + 2 x + 3}{x^{3} + 4 x^{2} + 5 x + 2}$$"
      ],
      "text/plain": [
       "     2             \n",
       "    x  + 2⋅x + 3   \n",
       "───────────────────\n",
       " 3      2          \n",
       "x  + 4⋅x  + 5⋅x + 2"
      ]
     },
     "metadata": {},
     "output_type": "display_data"
    }
   ],
   "source": [
    "f = (x**2 + 2*x + 3)/(x**3 + 4*x**2 + 5*x + 2)\n",
    "display(f)"
   ]
  },
  {
   "cell_type": "code",
   "execution_count": 110,
   "metadata": {
    "scrolled": true
   },
   "outputs": [
    {
     "data": {
      "image/png": "[encoded data removed]",
      "text/latex": [
       "$$\\frac{3}{x + 2} - \\frac{2}{x + 1} + \\frac{2}{\\left(x + 1\\right)^{2}}$$"
      ],
      "text/plain": [
       "  3       2        2    \n",
       "───── - ───── + ────────\n",
       "x + 2   x + 1          2\n",
       "                (x + 1) "
      ]
     },
     "metadata": {},
     "output_type": "display_data"
    }
   ],
   "source": [
    "display(apart(f))"
   ]
  },
  {
   "cell_type": "markdown",
   "metadata": {},
   "source": [
    "まとめたいときは `together()` を使う。"
   ]
  },
  {
   "cell_type": "code",
   "execution_count": 112,
   "metadata": {
    "scrolled": true
   },
   "outputs": [
    {
     "data": {
      "image/png": "[encoded data removed]",
      "text/latex": [
       "$$\\frac{x^{2} + 2 x + 3}{x^{3} + 4 x^{2} + 5 x + 2}$$"
      ],
      "text/plain": [
       "     2             \n",
       "    x  + 2⋅x + 3   \n",
       "───────────────────\n",
       " 3      2          \n",
       "x  + 4⋅x  + 5⋅x + 2"
      ]
     },
     "metadata": {},
     "output_type": "display_data"
    }
   ],
   "source": [
    "display(cancel(together(apart(f))))"
   ]
  },
  {
   "cell_type": "markdown",
   "metadata": {},
   "source": [
    "# 公式のリファレンス\n",
    "\n",
    "- [Polynomials Manipulation Module Reference](http://docs.sympy.org/latest/modules/polys/reference.html)"
   ]
  },
  {
   "cell_type": "markdown",
   "metadata": {},
   "source": [
    "## `sympy.polys.polytools.poly(expr, *gens, **args)`\n",
    "表現を多項式に変換する。"
   ]
  },
  {
   "cell_type": "code",
   "execution_count": 113,
   "metadata": {
    "scrolled": true
   },
   "outputs": [
    {
     "data": {
      "image/png": "[encoded data removed]",
      "text/latex": [
       "$$\\operatorname{Poly}{\\left( x^{5} + 2 x^{4} - x^{3} - 2 x^{2} + x, x, domain=\\mathbb{Z} \\right)}$$"
      ],
      "text/plain": [
       "Poly(x**5 + 2*x**4 - x**3 - 2*x**2 + x, x, domain='ZZ')"
      ]
     },
     "execution_count": 113,
     "metadata": {},
     "output_type": "execute_result"
    }
   ],
   "source": [
    "from sympy import poly\n",
    "from sympy.abc import x\n",
    "poly(x*(x**2 + x - 1)**2)"
   ]
  },
  {
   "cell_type": "markdown",
   "metadata": {},
   "source": [
    "`sympy.polys.polytools.poly_from_expr(expr, *gens, **args)`\n",
    "\n",
    "    Construct a polynomial from an expression.\n",
    "\n",
    "`sympy.polys.polytools.parallel_poly_from_expr(exprs, *gens, **args)`\n",
    "\n",
    "    Construct polynomials from expressions.\n"
   ]
  },
  {
   "cell_type": "markdown",
   "metadata": {},
   "source": [
    "## `sympy.polys.polytools.degree(f, *gens, **args)`\n",
    "指定した変数に対する $f$ の次数を返す。\n",
    "$0$ の次数は $- \\infty$ としている。"
   ]
  },
  {
   "cell_type": "code",
   "execution_count": 116,
   "metadata": {
    "scrolled": true
   },
   "outputs": [
    {
     "data": {
      "image/png": "[encoded data removed]",
      "text/latex": [
       "$$x^{2} + x y + 1$$"
      ],
      "text/plain": [
       " 2          \n",
       "x  + x⋅y + 1"
      ]
     },
     "metadata": {},
     "output_type": "display_data"
    },
    {
     "data": {
      "image/png": "[encoded data removed]",
      "text/latex": [
       "$$2$$"
      ],
      "text/plain": [
       "2"
      ]
     },
     "metadata": {},
     "output_type": "display_data"
    },
    {
     "data": {
      "image/png": "[encoded data removed]",
      "text/latex": [
       "$$1$$"
      ],
      "text/plain": [
       "1"
      ]
     },
     "metadata": {},
     "output_type": "display_data"
    },
    {
     "data": {
      "image/png": "[encoded data removed]",
      "text/latex": [
       "$$-\\infty$$"
      ],
      "text/plain": [
       "-∞"
      ]
     },
     "metadata": {},
     "output_type": "display_data"
    }
   ],
   "source": [
    "from sympy import degree\n",
    "from sympy.abc import x, y\n",
    "\n",
    "p = x**2 + y * x + 1\n",
    "display(p)\n",
    "display(degree(p, gen=x))\n",
    "display(degree(p, gen=y))\n",
    "display(degree(0, x))"
   ]
  },
  {
   "cell_type": "markdown",
   "metadata": {},
   "source": [
    "## `sympy.polys.polytools.degree_list(f, *gens, **args)`\n",
    "\n",
    "$f$ の全ての変数の対する実数のリストを返す。"
   ]
  },
  {
   "cell_type": "code",
   "execution_count": 2,
   "metadata": {},
   "outputs": [
    {
     "data": {
      "image/png": "[encoded data removed]",
      "text/latex": [
       "$$x^{2} + x y + 1$$"
      ],
      "text/plain": [
       " 2          \n",
       "x  + x⋅y + 1"
      ]
     },
     "metadata": {},
     "output_type": "display_data"
    },
    {
     "data": {
      "image/png": "[encoded data removed]",
      "text/latex": [
       "$$\\left ( 2, \\quad 1\\right )$$"
      ],
      "text/plain": [
       "(2, 1)"
      ]
     },
     "metadata": {},
     "output_type": "display_data"
    }
   ],
   "source": [
    "from sympy import degree_list\n",
    "from sympy.abc import x, y\n",
    "f = x**2 + y*x + 1\n",
    "display(f)\n",
    "display(degree_list(f))"
   ]
  },
  {
   "cell_type": "markdown",
   "metadata": {},
   "source": [
    " ## `sympy.polys.polytools.LC(f, *gens, **args)`\n",
    "\n",
    "多項式 $f$ の最高次の係数を返す。"
   ]
  },
  {
   "cell_type": "code",
   "execution_count": 3,
   "metadata": {
    "scrolled": true
   },
   "outputs": [
    {
     "data": {
      "image/png": "[encoded data removed]",
      "text/latex": [
       "$$4 x^{2} + 2 x y^{2} + x y + 3 y$$"
      ],
      "text/plain": [
       "   2        2            \n",
       "4⋅x  + 2⋅x⋅y  + x⋅y + 3⋅y"
      ]
     },
     "metadata": {},
     "output_type": "display_data"
    },
    {
     "data": {
      "image/png": "[encoded data removed]",
      "text/latex": [
       "$$4$$"
      ],
      "text/plain": [
       "4"
      ]
     },
     "metadata": {},
     "output_type": "display_data"
    }
   ],
   "source": [
    "from sympy import LC\n",
    "from sympy.abc import x, y\n",
    "p = 4*x**2 + 2*x*y**2 + x*y + 3*y\n",
    "display(p)\n",
    "display(LC(p))"
   ]
  },
  {
   "cell_type": "markdown",
   "metadata": {},
   "source": [
    "## `sympy.polys.polytools.LM(f, *gens, **args)[source]`\n",
    "\n",
    "$f$ の最高階の単項式を返す."
   ]
  },
  {
   "cell_type": "code",
   "execution_count": 4,
   "metadata": {},
   "outputs": [
    {
     "data": {
      "image/png": "[encoded data removed]",
      "text/latex": [
       "$$4 x^{2} + 2 x y^{2} + x y + 3 y$$"
      ],
      "text/plain": [
       "   2        2            \n",
       "4⋅x  + 2⋅x⋅y  + x⋅y + 3⋅y"
      ]
     },
     "metadata": {},
     "output_type": "display_data"
    },
    {
     "data": {
      "image/png": "[encoded data removed]",
      "text/latex": [
       "$$x^{2}$$"
      ],
      "text/plain": [
       " 2\n",
       "x "
      ]
     },
     "metadata": {},
     "output_type": "display_data"
    }
   ],
   "source": [
    "from sympy import LM\n",
    "from sympy.abc import x, y\n",
    "p = 4*x**2 + 2*x*y**2 + x*y + 3*y\n",
    "display(p)\n",
    "display(LM(p))"
   ]
  },
  {
   "cell_type": "markdown",
   "metadata": {},
   "source": [
    "## `sympy.polys.polytools.LT(f, *gens, **args)`\n",
    "\n",
    "$f$ の最高次の項を返す."
   ]
  },
  {
   "cell_type": "code",
   "execution_count": 6,
   "metadata": {},
   "outputs": [
    {
     "data": {
      "image/png": "[encoded data removed]",
      "text/latex": [
       "$$4 x^{2} + 2 x y^{2} + x y + 3 y$$"
      ],
      "text/plain": [
       "   2        2            \n",
       "4⋅x  + 2⋅x⋅y  + x⋅y + 3⋅y"
      ]
     },
     "metadata": {},
     "output_type": "display_data"
    },
    {
     "data": {
      "image/png": "[encoded data removed]",
      "text/latex": [
       "$$4 x^{2}$$"
      ],
      "text/plain": [
       "   2\n",
       "4⋅x "
      ]
     },
     "metadata": {},
     "output_type": "display_data"
    }
   ],
   "source": [
    "from sympy import LT\n",
    "from sympy.abc import x, y\n",
    "p = 4*x**2 + 2*x*y**2 + x*y + 3*y\n",
    "display(p)\n",
    "display(LT(p))"
   ]
  },
  {
   "cell_type": "markdown",
   "metadata": {},
   "source": [
    "## `sympy.polys.polytools.pdiv(f, g, *gens, **args)`\n",
    "\n",
    "多項式 $f$, $g$ の擬除算 (pseudo-division) を計算する.\n",
    "\n",
    "(pseudo-division というのが何なのかよくわからない.)"
   ]
  },
  {
   "cell_type": "code",
   "execution_count": 9,
   "metadata": {
    "scrolled": true
   },
   "outputs": [
    {
     "data": {
      "image/png": "[encoded data removed]",
      "text/latex": [
       "$$x^{2} + 1$$"
      ],
      "text/plain": [
       " 2    \n",
       "x  + 1"
      ]
     },
     "metadata": {},
     "output_type": "display_data"
    },
    {
     "data": {
      "image/png": "[encoded data removed]",
      "text/latex": [
       "$$2 x - 4$$"
      ],
      "text/plain": [
       "2⋅x - 4"
      ]
     },
     "metadata": {},
     "output_type": "display_data"
    },
    {
     "data": {
      "image/png": "[encoded data removed]",
      "text/latex": [
       "$$\\left ( 2 x + 4, \\quad 20\\right )$$"
      ],
      "text/plain": [
       "(2⋅x + 4, 20)"
      ]
     },
     "metadata": {},
     "output_type": "display_data"
    }
   ],
   "source": [
    "from sympy import pdiv\n",
    "from sympy.abc import x\n",
    "p = x**2 + 1\n",
    "q = 2*x - 4\n",
    "display(p)\n",
    "display(q)\n",
    "display(pdiv(p, q))"
   ]
  },
  {
   "cell_type": "markdown",
   "metadata": {},
   "source": [
    "## `sympy.polys.polytools.prem(f, g, *gens, **args)`\n",
    "\n",
    "多項式 $f,g$ の擬剰余 (pseudo-remainder) を計算する."
   ]
  },
  {
   "cell_type": "code",
   "execution_count": 11,
   "metadata": {},
   "outputs": [
    {
     "data": {
      "image/png": "[encoded data removed]",
      "text/latex": [
       "$$x^{2} + 1$$"
      ],
      "text/plain": [
       " 2    \n",
       "x  + 1"
      ]
     },
     "metadata": {},
     "output_type": "display_data"
    },
    {
     "data": {
      "image/png": "[encoded data removed]",
      "text/latex": [
       "$$2 x - 4$$"
      ],
      "text/plain": [
       "2⋅x - 4"
      ]
     },
     "metadata": {},
     "output_type": "display_data"
    },
    {
     "data": {
      "image/png": "[encoded data removed]",
      "text/latex": [
       "$$20$$"
      ],
      "text/plain": [
       "20"
      ]
     },
     "metadata": {},
     "output_type": "display_data"
    }
   ],
   "source": [
    "from sympy import prem\n",
    "from sympy.abc import x\n",
    "p = x**2 + 1\n",
    "q = 2*x - 4\n",
    "display(p)\n",
    "display(q)\n",
    "display(prem(p, q))"
   ]
  },
  {
   "cell_type": "markdown",
   "metadata": {},
   "source": [
    "## `sympy.polys.polytools.pquo(f, g, *gens, **args)`\n",
    "\n",
    "多項式 $f,g$ の擬商 (pseudo-quotient) を計算する"
   ]
  },
  {
   "cell_type": "code",
   "execution_count": 13,
   "metadata": {},
   "outputs": [
    {
     "data": {
      "image/png": "[encoded data removed]",
      "text/latex": [
       "$$x^{2} + 1$$"
      ],
      "text/plain": [
       " 2    \n",
       "x  + 1"
      ]
     },
     "metadata": {},
     "output_type": "display_data"
    },
    {
     "data": {
      "image/png": "[encoded data removed]",
      "text/latex": [
       "$$2 x - 4$$"
      ],
      "text/plain": [
       "2⋅x - 4"
      ]
     },
     "metadata": {},
     "output_type": "display_data"
    },
    {
     "data": {
      "image/png": "[encoded data removed]",
      "text/latex": [
       "$$2 x + 4$$"
      ],
      "text/plain": [
       "2⋅x + 4"
      ]
     },
     "metadata": {},
     "output_type": "display_data"
    }
   ],
   "source": [
    "from sympy import pquo\n",
    "from sympy.abc import x\n",
    "p = x**2 + 1\n",
    "q = 2*x - 4\n",
    "display(p)\n",
    "display(q)\n",
    "display(pquo(p, q))"
   ]
  },
  {
   "cell_type": "markdown",
   "metadata": {},
   "source": [
    "## `sympy.polys.polytools.pexquo(f, g, *gens, **args)`\n",
    "\n",
    "多項式の厳密な擬商 (pseudo-quotient) を計算する."
   ]
  },
  {
   "cell_type": "code",
   "execution_count": 14,
   "metadata": {},
   "outputs": [
    {
     "data": {
      "image/png": "[encoded data removed]",
      "text/latex": [
       "$$x^{2} - 1$$"
      ],
      "text/plain": [
       " 2    \n",
       "x  - 1"
      ]
     },
     "metadata": {},
     "output_type": "display_data"
    },
    {
     "data": {
      "image/png": "[encoded data removed]",
      "text/latex": [
       "$$2 x - 2$$"
      ],
      "text/plain": [
       "2⋅x - 2"
      ]
     },
     "metadata": {},
     "output_type": "display_data"
    },
    {
     "data": {
      "image/png": "[encoded data removed]",
      "text/latex": [
       "$$2 x + 2$$"
      ],
      "text/plain": [
       "2⋅x + 2"
      ]
     },
     "metadata": {},
     "output_type": "display_data"
    }
   ],
   "source": [
    "from sympy import pexquo\n",
    "from sympy.abc import x\n",
    "p = x**2 - 1\n",
    "q = 2*x - 2\n",
    "display(p)\n",
    "display(q)\n",
    "display(pexquo(p, q))"
   ]
  },
  {
   "cell_type": "code",
   "execution_count": 15,
   "metadata": {
    "scrolled": true
   },
   "outputs": [
    {
     "ename": "ExactQuotientFailed",
     "evalue": "2*x - 4 does not divide x**2 - 1",
     "output_type": "error",
     "traceback": [
      "\u001b[1;31m---------------------------------------------------------------------------\u001b[0m",
      "\u001b[1;31mExactQuotientFailed\u001b[0m                       Traceback (most recent call last)",
      "\u001b[1;31mExactQuotientFailed\u001b[0m: [2, -4] does not divide [1, 0, -1]",
      "\nDuring handling of the above exception, another exception occurred:\n",
      "\u001b[1;31mExactQuotientFailed\u001b[0m                       Traceback (most recent call last)",
      "\u001b[1;32m<ipython-input-15-db2d40378d64>\u001b[0m in \u001b[0;36m<module>\u001b[1;34m()\u001b[0m\n\u001b[1;32m----> 1\u001b[1;33m \u001b[0mdisplay\u001b[0m\u001b[1;33m(\u001b[0m\u001b[0mpexquo\u001b[0m\u001b[1;33m(\u001b[0m\u001b[0mp\u001b[0m\u001b[1;33m,\u001b[0m \u001b[1;36m2\u001b[0m\u001b[1;33m*\u001b[0m\u001b[0mx\u001b[0m \u001b[1;33m-\u001b[0m \u001b[1;36m4\u001b[0m\u001b[1;33m)\u001b[0m\u001b[1;33m)\u001b[0m\u001b[1;33m\u001b[0m\u001b[0m\n\u001b[0m",
      "\u001b[1;31mExactQuotientFailed\u001b[0m: 2*x - 4 does not divide x**2 - 1"
     ]
    }
   ],
   "source": [
    "display(pexquo(p, 2*x - 4))"
   ]
  },
  {
   "cell_type": "markdown",
   "metadata": {},
   "source": [
    "## `sympy.polys.polytools.div(f, g, *gens, **args)`\n",
    "\n",
    "多項式 $f,g $ の割り算を計算する."
   ]
  },
  {
   "cell_type": "code",
   "execution_count": 17,
   "metadata": {},
   "outputs": [
    {
     "data": {
      "image/png": "[encoded data removed]",
      "text/latex": [
       "$$\\left ( 0, \\quad x^{2} + 1\\right )$$"
      ],
      "text/plain": [
       "⎛    2    ⎞\n",
       "⎝0, x  + 1⎠"
      ]
     },
     "metadata": {},
     "output_type": "display_data"
    },
    {
     "data": {
      "image/png": "[encoded data removed]",
      "text/latex": [
       "$$\\left ( \\frac{x}{2} + 1, \\quad 5\\right )$$"
      ],
      "text/plain": [
       "⎛x       ⎞\n",
       "⎜─ + 1, 5⎟\n",
       "⎝2       ⎠"
      ]
     },
     "metadata": {},
     "output_type": "display_data"
    }
   ],
   "source": [
    "from sympy import div, ZZ, QQ\n",
    "from sympy.abc import x\n",
    "p = x**2 + 1\n",
    "q = 2*x - 4\n",
    "display(div(p, q, domain=ZZ))\n",
    "display(div(p, q, domain=QQ))"
   ]
  },
  {
   "cell_type": "markdown",
   "metadata": {},
   "source": [
    "## `sympy.polys.polytools.rem(f, g, *gens, **args)`\n",
    "\n",
    "多項式 $f,g$ の割り算のあまりを計算する."
   ]
  },
  {
   "cell_type": "code",
   "execution_count": 18,
   "metadata": {},
   "outputs": [
    {
     "data": {
      "image/png": "[encoded data removed]",
      "text/latex": [
       "$$x^{2} + 1$$"
      ],
      "text/plain": [
       " 2    \n",
       "x  + 1"
      ]
     },
     "metadata": {},
     "output_type": "display_data"
    },
    {
     "data": {
      "image/png": "[encoded data removed]",
      "text/latex": [
       "$$5$$"
      ],
      "text/plain": [
       "5"
      ]
     },
     "metadata": {},
     "output_type": "display_data"
    }
   ],
   "source": [
    "from sympy import rem, ZZ, QQ\n",
    "from sympy.abc import x\n",
    "\n",
    "display(rem(x**2 + 1, 2*x - 4, domain=ZZ))\n",
    "display(rem(x**2 + 1, 2*x - 4, domain=QQ))"
   ]
  },
  {
   "cell_type": "markdown",
   "metadata": {},
   "source": [
    "## `sympy.polys.polytools.quo(f, g, *gens, **args)`\n",
    "\n",
    "多項式 $f,g$ の割り算のあまりを計算する."
   ]
  },
  {
   "cell_type": "code",
   "execution_count": 19,
   "metadata": {},
   "outputs": [
    {
     "data": {
      "image/png": "[encoded data removed]",
      "text/latex": [
       "$$\\frac{x}{2} + 1$$"
      ],
      "text/plain": [
       "x    \n",
       "─ + 1\n",
       "2    "
      ]
     },
     "metadata": {},
     "output_type": "display_data"
    },
    {
     "data": {
      "image/png": "[encoded data removed]",
      "text/latex": [
       "$$x + 1$$"
      ],
      "text/plain": [
       "x + 1"
      ]
     },
     "metadata": {},
     "output_type": "display_data"
    }
   ],
   "source": [
    "from sympy import quo\n",
    "from sympy.abc import x\n",
    "\n",
    "display(quo(x**2 + 1, 2*x - 4))\n",
    "display(quo(x**2 - 1, x - 1))"
   ]
  },
  {
   "cell_type": "markdown",
   "metadata": {},
   "source": [
    "## `sympy.polys.polytools.exquo(f, g, *gens, **args)`\n",
    "\n",
    "多項式 $f,g$ の厳密な割り算の商とあまりを計算する."
   ]
  },
  {
   "cell_type": "code",
   "execution_count": 21,
   "metadata": {},
   "outputs": [
    {
     "data": {
      "image/png": "[encoded data removed]",
      "text/latex": [
       "$$x + 1$$"
      ],
      "text/plain": [
       "x + 1"
      ]
     },
     "metadata": {},
     "output_type": "display_data"
    }
   ],
   "source": [
    "from sympy import exquo\n",
    "from sympy.abc import x\n",
    "display(exquo(x**2 - 1, x - 1))"
   ]
  },
  {
   "cell_type": "code",
   "execution_count": 22,
   "metadata": {},
   "outputs": [
    {
     "ename": "ExactQuotientFailed",
     "evalue": "2*x - 4 does not divide x**2 + 1",
     "output_type": "error",
     "traceback": [
      "\u001b[1;31m---------------------------------------------------------------------------\u001b[0m",
      "\u001b[1;31mExactQuotientFailed\u001b[0m                       Traceback (most recent call last)",
      "\u001b[1;31mExactQuotientFailed\u001b[0m: [2, -4] does not divide [1, 0, 1]",
      "\nDuring handling of the above exception, another exception occurred:\n",
      "\u001b[1;31mExactQuotientFailed\u001b[0m                       Traceback (most recent call last)",
      "\u001b[1;32m<ipython-input-22-b752641c2ffd>\u001b[0m in \u001b[0;36m<module>\u001b[1;34m()\u001b[0m\n\u001b[1;32m----> 1\u001b[1;33m \u001b[0mdisplay\u001b[0m\u001b[1;33m(\u001b[0m\u001b[0mexquo\u001b[0m\u001b[1;33m(\u001b[0m\u001b[0mx\u001b[0m\u001b[1;33m**\u001b[0m\u001b[1;36m2\u001b[0m \u001b[1;33m+\u001b[0m \u001b[1;36m1\u001b[0m\u001b[1;33m,\u001b[0m \u001b[1;36m2\u001b[0m\u001b[1;33m*\u001b[0m\u001b[0mx\u001b[0m \u001b[1;33m-\u001b[0m \u001b[1;36m4\u001b[0m\u001b[1;33m)\u001b[0m\u001b[1;33m)\u001b[0m\u001b[1;33m\u001b[0m\u001b[0m\n\u001b[0m",
      "\u001b[1;31mExactQuotientFailed\u001b[0m: 2*x - 4 does not divide x**2 + 1"
     ]
    }
   ],
   "source": [
    "display(exquo(x**2 + 1, 2*x - 4))"
   ]
  },
  {
   "cell_type": "markdown",
   "metadata": {},
   "source": [
    "## `sympy.polys.polytools.half_gcdex(f, g, *gens, **args)`\n",
    "\n",
    "$f,g$ に対するユークリッドの互除法の半拡張 (half extended).\n",
    "$h = gcd(f,g)$, $s*f = h (\\mod g)$ としたとき,\n",
    "$(s,h)$ を返す."
   ]
  },
  {
   "cell_type": "code",
   "execution_count": 23,
   "metadata": {},
   "outputs": [
    {
     "data": {
      "image/png": "[encoded data removed]",
      "text/latex": [
       "$$x^{4} - 2 x^{3} - 6 x^{2} + 12 x + 15$$"
      ],
      "text/plain": [
       " 4      3      2            \n",
       "x  - 2⋅x  - 6⋅x  + 12⋅x + 15"
      ]
     },
     "metadata": {},
     "output_type": "display_data"
    },
    {
     "data": {
      "image/png": "[encoded data removed]",
      "text/latex": [
       "$$x^{3} + x^{2} - 4 x - 4$$"
      ],
      "text/plain": [
       " 3    2          \n",
       "x  + x  - 4⋅x - 4"
      ]
     },
     "metadata": {},
     "output_type": "display_data"
    },
    {
     "data": {
      "image/png": "[encoded data removed]",
      "text/latex": [
       "$$\\left ( - \\frac{x}{5} + \\frac{3}{5}, \\quad x + 1\\right )$$"
      ],
      "text/plain": [
       "⎛  x   3       ⎞\n",
       "⎜- ─ + ─, x + 1⎟\n",
       "⎝  5   5       ⎠"
      ]
     },
     "metadata": {},
     "output_type": "display_data"
    }
   ],
   "source": [
    "from sympy import half_gcdex\n",
    "from sympy.abc import x\n",
    "p = x**4 - 2*x**3 - 6*x**2 + 12*x + 15\n",
    "q = x**3 + x**2 - 4*x - 4\n",
    "display(p)\n",
    "display(q)\n",
    "display(half_gcdex(p, q))"
   ]
  },
  {
   "cell_type": "markdown",
   "metadata": {},
   "source": [
    "## `sympy.polys.polytools.gcdex(f, g, *gens, **args)`\n",
    "\n",
    "$f,g$ に対する拡張されたユークリッドの互除法.\n",
    "$h = gcd(f, g)$ と $s*f + t*g = h$ に対して $(s,t,h)$ を返す."
   ]
  },
  {
   "cell_type": "code",
   "execution_count": 24,
   "metadata": {},
   "outputs": [
    {
     "data": {
      "image/png": "[encoded data removed]",
      "text/latex": [
       "$$x^{4} - 2 x^{3} - 6 x^{2} + 12 x + 15$$"
      ],
      "text/plain": [
       " 4      3      2            \n",
       "x  - 2⋅x  - 6⋅x  + 12⋅x + 15"
      ]
     },
     "metadata": {},
     "output_type": "display_data"
    },
    {
     "data": {
      "image/png": "[encoded data removed]",
      "text/latex": [
       "$$x^{3} + x^{2} - 4 x - 4$$"
      ],
      "text/plain": [
       " 3    2          \n",
       "x  + x  - 4⋅x - 4"
      ]
     },
     "metadata": {},
     "output_type": "display_data"
    },
    {
     "data": {
      "image/png": "[encoded data removed]",
      "text/latex": [
       "$$\\left ( - \\frac{x}{5} + \\frac{3}{5}, \\quad \\frac{x^{2}}{5} - \\frac{6 x}{5} + 2, \\quad x + 1\\right )$$"
      ],
      "text/plain": [
       "⎛          2                 ⎞\n",
       "⎜  x   3  x    6⋅x           ⎟\n",
       "⎜- ─ + ─, ── - ─── + 2, x + 1⎟\n",
       "⎝  5   5  5     5            ⎠"
      ]
     },
     "metadata": {},
     "output_type": "display_data"
    }
   ],
   "source": [
    "from sympy import gcdex\n",
    "from sympy.abc import x\n",
    "p = x**4 - 2*x**3 - 6*x**2 + 12*x + 15\n",
    "q = x**3 + x**2 - 4*x - 4\n",
    "display(p)\n",
    "display(q)\n",
    "display(gcdex(p, q))"
   ]
  }
 ],
 "metadata": {
  "kernelspec": {
   "display_name": "Python 3",
   "language": "python",
   "name": "python3"
  },
  "language_info": {
   "codemirror_mode": {
    "name": "ipython",
    "version": 3
   },
   "file_extension": ".py",
   "mimetype": "text/x-python",
   "name": "python",
   "nbconvert_exporter": "python",
   "pygments_lexer": "ipython3",
   "version": "3.6.4"
  }
 },
 "nbformat": 4,
 "nbformat_minor": 2
}
